{
 "cells": [
  {
   "cell_type": "code",
   "execution_count": 1,
   "metadata": {},
   "outputs": [
    {
     "name": "stdout",
     "output_type": "stream",
     "text": [
      "Requirement already satisfied: nbconvert[webpdf] in c:\\users\\beemu\\anaconda3\\lib\\site-packages (6.1.0)\n",
      "Requirement already satisfied: pandocfilters>=1.4.1 in c:\\users\\beemu\\anaconda3\\lib\\site-packages (from nbconvert[webpdf]) (1.4.3)\n",
      "Requirement already satisfied: testpath in c:\\users\\beemu\\anaconda3\\lib\\site-packages (from nbconvert[webpdf]) (0.5.0)\n",
      "Requirement already satisfied: jupyterlab-pygments in c:\\users\\beemu\\anaconda3\\lib\\site-packages (from nbconvert[webpdf]) (0.1.2)\n",
      "Requirement already satisfied: pygments>=2.4.1 in c:\\users\\beemu\\anaconda3\\lib\\site-packages (from nbconvert[webpdf]) (2.10.0)\n",
      "Requirement already satisfied: nbformat>=4.4 in c:\\users\\beemu\\anaconda3\\lib\\site-packages (from nbconvert[webpdf]) (5.1.3)\n",
      "Requirement already satisfied: entrypoints>=0.2.2 in c:\\users\\beemu\\anaconda3\\lib\\site-packages (from nbconvert[webpdf]) (0.3)\n",
      "Requirement already satisfied: bleach in c:\\users\\beemu\\anaconda3\\lib\\site-packages (from nbconvert[webpdf]) (4.0.0)\n",
      "Requirement already satisfied: defusedxml in c:\\users\\beemu\\anaconda3\\lib\\site-packages (from nbconvert[webpdf]) (0.7.1)\n",
      "Requirement already satisfied: jupyter-core in c:\\users\\beemu\\anaconda3\\lib\\site-packages (from nbconvert[webpdf]) (4.8.1)\n",
      "Requirement already satisfied: traitlets>=5.0 in c:\\users\\beemu\\anaconda3\\lib\\site-packages (from nbconvert[webpdf]) (5.1.0)\n",
      "Requirement already satisfied: mistune<2,>=0.8.1 in c:\\users\\beemu\\anaconda3\\lib\\site-packages (from nbconvert[webpdf]) (0.8.4)\n",
      "Requirement already satisfied: jinja2>=2.4 in c:\\users\\beemu\\anaconda3\\lib\\site-packages (from nbconvert[webpdf]) (2.11.3)\n",
      "Requirement already satisfied: nbclient<0.6.0,>=0.5.0 in c:\\users\\beemu\\anaconda3\\lib\\site-packages (from nbconvert[webpdf]) (0.5.3)\n",
      "Requirement already satisfied: pyppeteer==0.2.2 in c:\\users\\beemu\\anaconda3\\lib\\site-packages (from nbconvert[webpdf]) (0.2.2)\n",
      "Requirement already satisfied: pyee<8.0.0,>=7.0.1 in c:\\users\\beemu\\anaconda3\\lib\\site-packages (from pyppeteer==0.2.2->nbconvert[webpdf]) (7.0.4)\n",
      "Requirement already satisfied: websockets<9.0,>=8.1 in c:\\users\\beemu\\anaconda3\\lib\\site-packages (from pyppeteer==0.2.2->nbconvert[webpdf]) (8.1)\n",
      "Requirement already satisfied: urllib3<2.0.0,>=1.25.8 in c:\\users\\beemu\\anaconda3\\lib\\site-packages (from pyppeteer==0.2.2->nbconvert[webpdf]) (1.26.7)\n",
      "Requirement already satisfied: appdirs<2.0.0,>=1.4.3 in c:\\users\\beemu\\anaconda3\\lib\\site-packages (from pyppeteer==0.2.2->nbconvert[webpdf]) (1.4.4)\n",
      "Requirement already satisfied: tqdm<5.0.0,>=4.42.1 in c:\\users\\beemu\\anaconda3\\lib\\site-packages (from pyppeteer==0.2.2->nbconvert[webpdf]) (4.62.3)\n",
      "Requirement already satisfied: MarkupSafe>=0.23 in c:\\users\\beemu\\anaconda3\\lib\\site-packages (from jinja2>=2.4->nbconvert[webpdf]) (1.1.1)\n",
      "Requirement already satisfied: nest-asyncio in c:\\users\\beemu\\anaconda3\\lib\\site-packages (from nbclient<0.6.0,>=0.5.0->nbconvert[webpdf]) (1.5.1)\n",
      "Requirement already satisfied: async-generator in c:\\users\\beemu\\anaconda3\\lib\\site-packages (from nbclient<0.6.0,>=0.5.0->nbconvert[webpdf]) (1.10)\n",
      "Requirement already satisfied: jupyter-client>=6.1.5 in c:\\users\\beemu\\anaconda3\\lib\\site-packages (from nbclient<0.6.0,>=0.5.0->nbconvert[webpdf]) (6.1.12)\n",
      "Requirement already satisfied: python-dateutil>=2.1 in c:\\users\\beemu\\anaconda3\\lib\\site-packages (from jupyter-client>=6.1.5->nbclient<0.6.0,>=0.5.0->nbconvert[webpdf]) (2.8.2)\n",
      "Requirement already satisfied: tornado>=4.1 in c:\\users\\beemu\\anaconda3\\lib\\site-packages (from jupyter-client>=6.1.5->nbclient<0.6.0,>=0.5.0->nbconvert[webpdf]) (6.1)\n",
      "Requirement already satisfied: pyzmq>=13 in c:\\users\\beemu\\anaconda3\\lib\\site-packages (from jupyter-client>=6.1.5->nbclient<0.6.0,>=0.5.0->nbconvert[webpdf]) (22.2.1)\n",
      "Requirement already satisfied: pywin32>=1.0 in c:\\users\\beemu\\anaconda3\\lib\\site-packages (from jupyter-core->nbconvert[webpdf]) (228)\n",
      "Requirement already satisfied: jsonschema!=2.5.0,>=2.4 in c:\\users\\beemu\\anaconda3\\lib\\site-packages (from nbformat>=4.4->nbconvert[webpdf]) (3.2.0)\n",
      "Requirement already satisfied: ipython-genutils in c:\\users\\beemu\\anaconda3\\lib\\site-packages (from nbformat>=4.4->nbconvert[webpdf]) (0.2.0)\n",
      "Requirement already satisfied: six>=1.11.0 in c:\\users\\beemu\\anaconda3\\lib\\site-packages (from jsonschema!=2.5.0,>=2.4->nbformat>=4.4->nbconvert[webpdf]) (1.16.0)\n",
      "Requirement already satisfied: attrs>=17.4.0 in c:\\users\\beemu\\anaconda3\\lib\\site-packages (from jsonschema!=2.5.0,>=2.4->nbformat>=4.4->nbconvert[webpdf]) (21.2.0)\n",
      "Requirement already satisfied: pyrsistent>=0.14.0 in c:\\users\\beemu\\anaconda3\\lib\\site-packages (from jsonschema!=2.5.0,>=2.4->nbformat>=4.4->nbconvert[webpdf]) (0.18.0)\n",
      "Requirement already satisfied: setuptools in c:\\users\\beemu\\anaconda3\\lib\\site-packages (from jsonschema!=2.5.0,>=2.4->nbformat>=4.4->nbconvert[webpdf]) (58.0.4)\n",
      "Requirement already satisfied: colorama in c:\\users\\beemu\\anaconda3\\lib\\site-packages (from tqdm<5.0.0,>=4.42.1->pyppeteer==0.2.2->nbconvert[webpdf]) (0.4.4)\n",
      "Requirement already satisfied: packaging in c:\\users\\beemu\\anaconda3\\lib\\site-packages (from bleach->nbconvert[webpdf]) (21.0)\n",
      "Requirement already satisfied: webencodings in c:\\users\\beemu\\anaconda3\\lib\\site-packages (from bleach->nbconvert[webpdf]) (0.5.1)\n",
      "Requirement already satisfied: pyparsing>=2.0.2 in c:\\users\\beemu\\anaconda3\\lib\\site-packages (from packaging->bleach->nbconvert[webpdf]) (3.0.4)\n"
     ]
    }
   ],
   "source": [
    "# !pip install nbconvert[webpdf]"
   ]
  },
  {
   "cell_type": "code",
   "execution_count": 2,
   "metadata": {},
   "outputs": [],
   "source": [
    "import numpy as np\n",
    "import pandas as pd\n",
    "import matplotlib.pyplot as plt\n",
    "import plotly\n",
    "import plotly.graph_objs as go\n",
    "import plotly.tools as tls\n",
    "import seaborn as sns\n",
    "import time\n",
    "import warnings\n",
    "warnings.filterwarnings('ignore')"
   ]
  },
  {
   "cell_type": "code",
   "execution_count": 3,
   "metadata": {},
   "outputs": [
    {
     "data": {
      "text/html": [
       "<div>\n",
       "<style scoped>\n",
       "    .dataframe tbody tr th:only-of-type {\n",
       "        vertical-align: middle;\n",
       "    }\n",
       "\n",
       "    .dataframe tbody tr th {\n",
       "        vertical-align: top;\n",
       "    }\n",
       "\n",
       "    .dataframe thead th {\n",
       "        text-align: right;\n",
       "    }\n",
       "</style>\n",
       "<table border=\"1\" class=\"dataframe\">\n",
       "  <thead>\n",
       "    <tr style=\"text-align: right;\">\n",
       "      <th></th>\n",
       "      <th>dt</th>\n",
       "      <th>AverageTemperature</th>\n",
       "      <th>AverageTemperatureUncertainty</th>\n",
       "      <th>Country</th>\n",
       "    </tr>\n",
       "  </thead>\n",
       "  <tbody>\n",
       "    <tr>\n",
       "      <th>0</th>\n",
       "      <td>1743-11-01</td>\n",
       "      <td>4.384</td>\n",
       "      <td>2.294</td>\n",
       "      <td>Åland</td>\n",
       "    </tr>\n",
       "    <tr>\n",
       "      <th>1</th>\n",
       "      <td>1743-12-01</td>\n",
       "      <td>NaN</td>\n",
       "      <td>NaN</td>\n",
       "      <td>Åland</td>\n",
       "    </tr>\n",
       "    <tr>\n",
       "      <th>2</th>\n",
       "      <td>1744-01-01</td>\n",
       "      <td>NaN</td>\n",
       "      <td>NaN</td>\n",
       "      <td>Åland</td>\n",
       "    </tr>\n",
       "    <tr>\n",
       "      <th>3</th>\n",
       "      <td>1744-02-01</td>\n",
       "      <td>NaN</td>\n",
       "      <td>NaN</td>\n",
       "      <td>Åland</td>\n",
       "    </tr>\n",
       "    <tr>\n",
       "      <th>4</th>\n",
       "      <td>1744-03-01</td>\n",
       "      <td>NaN</td>\n",
       "      <td>NaN</td>\n",
       "      <td>Åland</td>\n",
       "    </tr>\n",
       "  </tbody>\n",
       "</table>\n",
       "</div>"
      ],
      "text/plain": [
       "           dt  AverageTemperature  AverageTemperatureUncertainty Country\n",
       "0  1743-11-01               4.384                          2.294   Åland\n",
       "1  1743-12-01                 NaN                            NaN   Åland\n",
       "2  1744-01-01                 NaN                            NaN   Åland\n",
       "3  1744-02-01                 NaN                            NaN   Åland\n",
       "4  1744-03-01                 NaN                            NaN   Åland"
      ]
     },
     "execution_count": 3,
     "metadata": {},
     "output_type": "execute_result"
    }
   ],
   "source": [
    "global_temp_country = pd.read_csv('C:/Users/beemu/Downloads/GlobalLandTemperaturesByCountry.csv')\n",
    "global_temp_country.head()"
   ]
  },
  {
   "cell_type": "code",
   "execution_count": 4,
   "metadata": {},
   "outputs": [
    {
     "data": {
      "text/plain": [
       "(577462, 4)"
      ]
     },
     "execution_count": 4,
     "metadata": {},
     "output_type": "execute_result"
    }
   ],
   "source": [
    "global_temp_country.shape"
   ]
  },
  {
   "cell_type": "markdown",
   "metadata": {},
   "source": [
    "### Cleaning the data set"
   ]
  },
  {
   "cell_type": "code",
   "execution_count": 5,
   "metadata": {},
   "outputs": [
    {
     "data": {
      "text/plain": [
       "dt                                   0\n",
       "AverageTemperature               32651\n",
       "AverageTemperatureUncertainty    31912\n",
       "Country                              0\n",
       "dtype: int64"
      ]
     },
     "execution_count": 5,
     "metadata": {},
     "output_type": "execute_result"
    }
   ],
   "source": [
    "global_temp_country.isna().sum()"
   ]
  },
  {
   "cell_type": "code",
   "execution_count": 6,
   "metadata": {},
   "outputs": [
    {
     "data": {
      "text/plain": [
       "dt                               0\n",
       "AverageTemperature               0\n",
       "AverageTemperatureUncertainty    0\n",
       "Country                          0\n",
       "dtype: int64"
      ]
     },
     "execution_count": 6,
     "metadata": {},
     "output_type": "execute_result"
    }
   ],
   "source": [
    "# Drop the missing data\n",
    "global_temp_country.dropna(axis='index',how='any', subset=['AverageTemperature'],inplace=True)\n",
    "global_temp_country.isna().sum()"
   ]
  },
  {
   "cell_type": "code",
   "execution_count": 7,
   "metadata": {},
   "outputs": [
    {
     "data": {
      "text/plain": [
       "Country\n",
       "Afghanistan                                  14.045007\n",
       "Africa                                       24.074203\n",
       "Albania                                      12.610646\n",
       "Algeria                                      22.985112\n",
       "American Samoa                               26.611965\n",
       "Andorra                                      11.201553\n",
       "Angola                                       21.824549\n",
       "Anguilla                                     26.610492\n",
       "Antigua And Barbuda                          26.437924\n",
       "Argentina                                    14.621194\n",
       "Armenia                                       8.551648\n",
       "Aruba                                        27.920390\n",
       "Asia                                          7.347892\n",
       "Australia                                    21.624697\n",
       "Austria                                       6.210732\n",
       "Azerbaijan                                   11.175936\n",
       "Bahamas                                      25.128220\n",
       "Bahrain                                      25.930809\n",
       "Baker Island                                 25.372350\n",
       "Bangladesh                                   24.820243\n",
       "Barbados                                     26.458548\n",
       "Belarus                                       5.819288\n",
       "Belgium                                       9.483378\n",
       "Belize                                       25.052100\n",
       "Benin                                        27.171999\n",
       "Bhutan                                       11.811879\n",
       "Bolivia                                      20.877231\n",
       "Bonaire, Saint Eustatius And Saba            27.173295\n",
       "Bosnia And Herzegovina                       10.421284\n",
       "Botswana                                     21.879297\n",
       "Brazil                                       24.699256\n",
       "British Virgin Islands                       26.336523\n",
       "Bulgaria                                     10.482968\n",
       "Burkina Faso                                 28.083507\n",
       "Burma                                        23.706197\n",
       "Burundi                                      20.070990\n",
       "Cambodia                                     26.656854\n",
       "Cameroon                                     24.352586\n",
       "Canada                                       -5.216659\n",
       "Cape Verde                                   24.185564\n",
       "Cayman Islands                               26.722504\n",
       "Central African Republic                     25.280407\n",
       "Chad                                         27.120466\n",
       "Chile                                         9.383474\n",
       "China                                         6.612731\n",
       "Christmas Island                             25.784654\n",
       "Colombia                                     24.716871\n",
       "Comoros                                      25.702209\n",
       "Congo                                        24.462932\n",
       "Congo (Democratic Republic Of The)           23.773665\n",
       "Costa Rica                                   25.615784\n",
       "Croatia                                      11.342400\n",
       "Cuba                                         25.407426\n",
       "Curaçao                                      27.353415\n",
       "Cyprus                                       18.787746\n",
       "Czech Republic                                7.626019\n",
       "Côte D'Ivoire                                25.948536\n",
       "Denmark                                     -18.053051\n",
       "Denmark (Europe)                              7.832859\n",
       "Djibouti                                     28.816603\n",
       "Dominica                                     26.110151\n",
       "Dominican Republic                           25.547511\n",
       "Ecuador                                      21.869970\n",
       "Egypt                                        22.620693\n",
       "El Salvador                                  24.906705\n",
       "Equatorial Guinea                            24.921678\n",
       "Eritrea                                      26.802653\n",
       "Estonia                                       4.819806\n",
       "Ethiopia                                     23.012357\n",
       "Europe                                        7.830064\n",
       "Falkland Islands (Islas Malvinas)             6.076773\n",
       "Faroe Islands                                 6.619002\n",
       "Federated States Of Micronesia               26.944358\n",
       "Fiji                                         25.038672\n",
       "Finland                                       1.244742\n",
       "France                                       12.772446\n",
       "France (Europe)                              10.416046\n",
       "French Guiana                                25.718151\n",
       "French Polynesia                             26.107096\n",
       "French Southern And Antarctic Lands           4.983111\n",
       "Gabon                                        24.254726\n",
       "Gambia                                       27.538552\n",
       "Gaza Strip                                   19.192637\n",
       "Georgia                                       8.106882\n",
       "Germany                                       8.152496\n",
       "Ghana                                        26.711014\n",
       "Greece                                       14.773012\n",
       "Greenland                                   -18.587458\n",
       "Grenada                                      26.741952\n",
       "Guadeloupe                                   26.329561\n",
       "Guam                                         26.996834\n",
       "Guatemala                                    23.111650\n",
       "Guernsey                                     10.928409\n",
       "Guinea                                       25.452353\n",
       "Guinea Bissau                                26.761367\n",
       "Guyana                                       25.930920\n",
       "Haiti                                        26.295838\n",
       "Heard Island And Mcdonald Islands             2.562115\n",
       "Honduras                                     24.695548\n",
       "Hong Kong                                    22.659895\n",
       "Hungary                                       9.722423\n",
       "Iceland                                       1.405065\n",
       "India                                        23.873789\n",
       "Indonesia                                    25.684484\n",
       "Iran                                         17.607076\n",
       "Iraq                                         21.775629\n",
       "Ireland                                       9.419558\n",
       "Isle Of Man                                   9.365805\n",
       "Israel                                       19.626577\n",
       "Italy                                        12.737122\n",
       "Jamaica                                      26.096340\n",
       "Japan                                        11.951907\n",
       "Jersey                                       10.928409\n",
       "Jordan                                       19.346513\n",
       "Kazakhstan                                    5.202145\n",
       "Kenya                                        24.102428\n",
       "Kingman Reef                                 27.133034\n",
       "Kiribati                                     26.736865\n",
       "Kuwait                                       25.098140\n",
       "Kyrgyzstan                                    3.220498\n",
       "Laos                                         23.574696\n",
       "Latvia                                        5.320545\n",
       "Lebanon                                      17.631618\n",
       "Lesotho                                      13.726682\n",
       "Liberia                                      25.377738\n",
       "Libya                                        22.268254\n",
       "Liechtenstein                                 4.642939\n",
       "Lithuania                                     5.907992\n",
       "Luxembourg                                    9.165196\n",
       "Macau                                        22.418375\n",
       "Macedonia                                    10.375551\n",
       "Madagascar                                   22.749046\n",
       "Malawi                                       21.431086\n",
       "Malaysia                                     25.805442\n",
       "Mali                                         28.441977\n",
       "Malta                                        18.494875\n",
       "Martinique                                   26.110151\n",
       "Mauritania                                   27.620256\n",
       "Mauritius                                    23.522654\n",
       "Mayotte                                      26.340961\n",
       "Mexico                                       20.567558\n",
       "Moldova                                       8.931717\n",
       "Monaco                                        9.024702\n",
       "Mongolia                                     -0.820671\n",
       "Montenegro                                   10.214630\n",
       "Montserrat                                   26.383128\n",
       "Morocco                                      17.627497\n",
       "Mozambique                                   23.596195\n",
       "Namibia                                      20.484495\n",
       "Nepal                                        14.807391\n",
       "Netherlands                                   9.504605\n",
       "Netherlands (Europe)                          9.112799\n",
       "New Caledonia                                22.700108\n",
       "New Zealand                                  10.371239\n",
       "Nicaragua                                    25.957509\n",
       "Niger                                        27.458973\n",
       "Nigeria                                      26.744708\n",
       "Niue                                         25.094878\n",
       "North America                                 2.028374\n",
       "North Korea                                   6.748337\n",
       "Northern Mariana Islands                     26.996834\n",
       "Norway                                        0.095804\n",
       "Oceania                                      21.452989\n",
       "Oman                                         26.916863\n",
       "Pakistan                                     20.615513\n",
       "Palau                                        27.216379\n",
       "Palestina                                    23.125663\n",
       "Palmyra Atoll                                27.163456\n",
       "Panama                                       26.291621\n",
       "Papua New Guinea                             24.450802\n",
       "Paraguay                                     23.237968\n",
       "Peru                                         19.935974\n",
       "Philippines                                  26.440472\n",
       "Poland                                        7.460206\n",
       "Portugal                                     14.688180\n",
       "Puerto Rico                                  25.451962\n",
       "Qatar                                        26.784996\n",
       "Reunion                                      23.301403\n",
       "Romania                                       8.760902\n",
       "Russia                                       -5.521882\n",
       "Rwanda                                       19.244422\n",
       "Saint Barthélemy                             26.610492\n",
       "Saint Kitts And Nevis                        25.852186\n",
       "Saint Lucia                                  26.646838\n",
       "Saint Martin                                 26.610492\n",
       "Saint Pierre And Miquelon                     4.223060\n",
       "Saint Vincent And The Grenadines             26.789449\n",
       "Samoa                                        26.331862\n",
       "San Marino                                   13.831422\n",
       "Sao Tome And Principe                        25.794386\n",
       "Saudi Arabia                                 25.546408\n",
       "Senegal                                      27.967375\n",
       "Serbia                                        9.986563\n",
       "Seychelles                                   26.738423\n",
       "Sierra Leone                                 26.022571\n",
       "Singapore                                    26.523103\n",
       "Sint Maarten                                 26.610492\n",
       "Slovakia                                      7.527217\n",
       "Slovenia                                      9.659701\n",
       "Solomon Islands                              26.625037\n",
       "Somalia                                      26.877085\n",
       "South Africa                                 17.270983\n",
       "South America                                21.823920\n",
       "South Georgia And The South Sandwich Isla     1.401025\n",
       "South Korea                                  11.849049\n",
       "Spain                                        13.612834\n",
       "Sri Lanka                                    26.947687\n",
       "Sudan                                        27.093359\n",
       "Suriname                                     26.171663\n",
       "Svalbard And Jan Mayen                       -7.448028\n",
       "Swaziland                                    18.839807\n",
       "Sweden                                        2.386332\n",
       "Switzerland                                   6.992051\n",
       "Syria                                        17.917549\n",
       "Taiwan                                       21.937428\n",
       "Tajikistan                                    4.016035\n",
       "Tanzania                                     22.347911\n",
       "Thailand                                     25.986801\n",
       "Timor Leste                                  25.966333\n",
       "Togo                                         26.871783\n",
       "Tonga                                        23.236248\n",
       "Trinidad And Tobago                          26.118751\n",
       "Tunisia                                      19.970590\n",
       "Turkey                                       11.631567\n",
       "Turkmenistan                                 14.781998\n",
       "Turks And Caicas Islands                     26.662734\n",
       "Uganda                                       23.032969\n",
       "Ukraine                                       7.653507\n",
       "United Arab Emirates                         27.693995\n",
       "United Kingdom                                8.489325\n",
       "United Kingdom (Europe)                       8.655788\n",
       "United States                                 8.603573\n",
       "Uruguay                                      17.149307\n",
       "Uzbekistan                                   12.278016\n",
       "Venezuela                                    25.025686\n",
       "Vietnam                                      23.688366\n",
       "Virgin Islands                               26.336523\n",
       "Western Sahara                               22.319818\n",
       "Yemen                                        26.253597\n",
       "Zambia                                       21.282956\n",
       "Zimbabwe                                     21.117547\n",
       "Åland                                         5.291383\n",
       "Name: AverageTemperature, dtype: float64"
      ]
     },
     "execution_count": 7,
     "metadata": {},
     "output_type": "execute_result"
    }
   ],
   "source": [
    "pd.set_option('display.max_rows',243)\n",
    "global_temp_country.groupby(['Country'])['AverageTemperature'].mean()"
   ]
  },
  {
   "cell_type": "markdown",
   "metadata": {},
   "source": [
    "###  checking whether there is a duplicate value in country or not"
   ]
  },
  {
   "cell_type": "code",
   "execution_count": 8,
   "metadata": {},
   "outputs": [
    {
     "data": {
      "text/plain": [
       "array(['Åland', 'Afghanistan', 'Africa', 'Albania', 'Algeria',\n",
       "       'American Samoa', 'Andorra', 'Angola', 'Anguilla',\n",
       "       'Antigua And Barbuda', 'Argentina', 'Armenia', 'Aruba', 'Asia',\n",
       "       'Australia', 'Austria', 'Azerbaijan', 'Bahamas', 'Bahrain',\n",
       "       'Baker Island', 'Bangladesh', 'Barbados', 'Belarus', 'Belgium',\n",
       "       'Belize', 'Benin', 'Bhutan', 'Bolivia',\n",
       "       'Bonaire, Saint Eustatius And Saba', 'Bosnia And Herzegovina',\n",
       "       'Botswana', 'Brazil', 'British Virgin Islands', 'Bulgaria',\n",
       "       'Burkina Faso', 'Burma', 'Burundi', \"Côte D'Ivoire\", 'Cambodia',\n",
       "       'Cameroon', 'Canada', 'Cape Verde', 'Cayman Islands',\n",
       "       'Central African Republic', 'Chad', 'Chile', 'China',\n",
       "       'Christmas Island', 'Colombia', 'Comoros',\n",
       "       'Congo (Democratic Republic Of The)', 'Congo', 'Costa Rica',\n",
       "       'Croatia', 'Cuba', 'Curaçao', 'Cyprus', 'Czech Republic',\n",
       "       'Denmark (Europe)', 'Denmark', 'Djibouti', 'Dominica',\n",
       "       'Dominican Republic', 'Ecuador', 'Egypt', 'El Salvador',\n",
       "       'Equatorial Guinea', 'Eritrea', 'Estonia', 'Ethiopia', 'Europe',\n",
       "       'Falkland Islands (Islas Malvinas)', 'Faroe Islands',\n",
       "       'Federated States Of Micronesia', 'Fiji', 'Finland',\n",
       "       'France (Europe)', 'France', 'French Guiana', 'French Polynesia',\n",
       "       'French Southern And Antarctic Lands', 'Gabon', 'Gambia',\n",
       "       'Gaza Strip', 'Georgia', 'Germany', 'Ghana', 'Greece', 'Greenland',\n",
       "       'Grenada', 'Guadeloupe', 'Guam', 'Guatemala', 'Guernsey',\n",
       "       'Guinea Bissau', 'Guinea', 'Guyana', 'Haiti',\n",
       "       'Heard Island And Mcdonald Islands', 'Honduras', 'Hong Kong',\n",
       "       'Hungary', 'Iceland', 'India', 'Indonesia', 'Iran', 'Iraq',\n",
       "       'Ireland', 'Isle Of Man', 'Israel', 'Italy', 'Jamaica', 'Japan',\n",
       "       'Jersey', 'Jordan', 'Kazakhstan', 'Kenya', 'Kingman Reef',\n",
       "       'Kiribati', 'Kuwait', 'Kyrgyzstan', 'Laos', 'Latvia', 'Lebanon',\n",
       "       'Lesotho', 'Liberia', 'Libya', 'Liechtenstein', 'Lithuania',\n",
       "       'Luxembourg', 'Macau', 'Macedonia', 'Madagascar', 'Malawi',\n",
       "       'Malaysia', 'Mali', 'Malta', 'Martinique', 'Mauritania',\n",
       "       'Mauritius', 'Mayotte', 'Mexico', 'Moldova', 'Monaco', 'Mongolia',\n",
       "       'Montenegro', 'Montserrat', 'Morocco', 'Mozambique', 'Namibia',\n",
       "       'Nepal', 'Netherlands (Europe)', 'Netherlands', 'New Caledonia',\n",
       "       'New Zealand', 'Nicaragua', 'Niger', 'Nigeria', 'Niue',\n",
       "       'North America', 'North Korea', 'Northern Mariana Islands',\n",
       "       'Norway', 'Oceania', 'Oman', 'Pakistan', 'Palau', 'Palestina',\n",
       "       'Palmyra Atoll', 'Panama', 'Papua New Guinea', 'Paraguay', 'Peru',\n",
       "       'Philippines', 'Poland', 'Portugal', 'Puerto Rico', 'Qatar',\n",
       "       'Reunion', 'Romania', 'Russia', 'Rwanda', 'Saint Barthélemy',\n",
       "       'Saint Kitts And Nevis', 'Saint Lucia', 'Saint Martin',\n",
       "       'Saint Pierre And Miquelon', 'Saint Vincent And The Grenadines',\n",
       "       'Samoa', 'San Marino', 'Sao Tome And Principe', 'Saudi Arabia',\n",
       "       'Senegal', 'Serbia', 'Seychelles', 'Sierra Leone', 'Singapore',\n",
       "       'Sint Maarten', 'Slovakia', 'Slovenia', 'Solomon Islands',\n",
       "       'Somalia', 'South Africa', 'South America',\n",
       "       'South Georgia And The South Sandwich Isla', 'South Korea',\n",
       "       'Spain', 'Sri Lanka', 'Sudan', 'Suriname',\n",
       "       'Svalbard And Jan Mayen', 'Swaziland', 'Sweden', 'Switzerland',\n",
       "       'Syria', 'Taiwan', 'Tajikistan', 'Tanzania', 'Thailand',\n",
       "       'Timor Leste', 'Togo', 'Tonga', 'Trinidad And Tobago', 'Tunisia',\n",
       "       'Turkey', 'Turkmenistan', 'Turks And Caicas Islands', 'Uganda',\n",
       "       'Ukraine', 'United Arab Emirates', 'United Kingdom (Europe)',\n",
       "       'United Kingdom', 'United States', 'Uruguay', 'Uzbekistan',\n",
       "       'Venezuela', 'Vietnam', 'Virgin Islands', 'Western Sahara',\n",
       "       'Yemen', 'Zambia', 'Zimbabwe'], dtype=object)"
      ]
     },
     "execution_count": 8,
     "metadata": {},
     "output_type": "execute_result"
    }
   ],
   "source": [
    "global_temp_country['Country'].unique()"
   ]
  },
  {
   "cell_type": "code",
   "execution_count": null,
   "metadata": {},
   "outputs": [],
   "source": []
  },
  {
   "cell_type": "code",
   "execution_count": 9,
   "metadata": {},
   "outputs": [],
   "source": [
    "dict={'Denmark (Europe)':'Denmark',\n",
    "      'France (Europe)':'France',\n",
    "      'Netherlands (Europe)':'Netherlands',\n",
    "      'United Kingdom (Europe)':'United Kingdom',\n",
    "     'Congo (Democratic Republic Of The)':'Congo'}"
   ]
  },
  {
   "cell_type": "code",
   "execution_count": 10,
   "metadata": {},
   "outputs": [],
   "source": [
    "global_temp_country['Country']=global_temp_country['Country'].replace(dict)"
   ]
  },
  {
   "cell_type": "code",
   "execution_count": 11,
   "metadata": {},
   "outputs": [
    {
     "data": {
      "text/plain": [
       "237"
      ]
     },
     "execution_count": 11,
     "metadata": {},
     "output_type": "execute_result"
    }
   ],
   "source": [
    "global_temp_country['Country'].nunique()"
   ]
  },
  {
   "cell_type": "markdown",
   "metadata": {},
   "source": [
    "### Calculating the average temperature for each country"
   ]
  },
  {
   "cell_type": "code",
   "execution_count": 12,
   "metadata": {},
   "outputs": [
    {
     "data": {
      "text/html": [
       "<div>\n",
       "<style scoped>\n",
       "    .dataframe tbody tr th:only-of-type {\n",
       "        vertical-align: middle;\n",
       "    }\n",
       "\n",
       "    .dataframe tbody tr th {\n",
       "        vertical-align: top;\n",
       "    }\n",
       "\n",
       "    .dataframe thead th {\n",
       "        text-align: right;\n",
       "    }\n",
       "</style>\n",
       "<table border=\"1\" class=\"dataframe\">\n",
       "  <thead>\n",
       "    <tr style=\"text-align: right;\">\n",
       "      <th></th>\n",
       "      <th>Country</th>\n",
       "      <th>AverageTemperature</th>\n",
       "    </tr>\n",
       "  </thead>\n",
       "  <tbody>\n",
       "    <tr>\n",
       "      <th>0</th>\n",
       "      <td>Afghanistan</td>\n",
       "      <td>14.045007</td>\n",
       "    </tr>\n",
       "    <tr>\n",
       "      <th>1</th>\n",
       "      <td>Africa</td>\n",
       "      <td>24.074203</td>\n",
       "    </tr>\n",
       "    <tr>\n",
       "      <th>2</th>\n",
       "      <td>Albania</td>\n",
       "      <td>12.610646</td>\n",
       "    </tr>\n",
       "    <tr>\n",
       "      <th>3</th>\n",
       "      <td>Algeria</td>\n",
       "      <td>22.985112</td>\n",
       "    </tr>\n",
       "    <tr>\n",
       "      <th>4</th>\n",
       "      <td>American Samoa</td>\n",
       "      <td>26.611965</td>\n",
       "    </tr>\n",
       "  </tbody>\n",
       "</table>\n",
       "</div>"
      ],
      "text/plain": [
       "          Country  AverageTemperature\n",
       "0     Afghanistan           14.045007\n",
       "1          Africa           24.074203\n",
       "2         Albania           12.610646\n",
       "3         Algeria           22.985112\n",
       "4  American Samoa           26.611965"
      ]
     },
     "execution_count": 12,
     "metadata": {},
     "output_type": "execute_result"
    }
   ],
   "source": [
    "pd.set_option('display.max_rows',243)\n",
    "avg_temp=global_temp_country.groupby(['Country'])['AverageTemperature'].mean().to_frame().reset_index()\n",
    "avg_temp.head()"
   ]
  },
  {
   "cell_type": "code",
   "execution_count": 13,
   "metadata": {},
   "outputs": [],
   "source": [
    "#!pip install plotly\n",
    "#!pip install chart_studio"
   ]
  },
  {
   "cell_type": "code",
   "execution_count": 14,
   "metadata": {},
   "outputs": [
    {
     "data": {
      "text/html": [
       "        <script type=\"text/javascript\">\n",
       "        window.PlotlyConfig = {MathJaxConfig: 'local'};\n",
       "        if (window.MathJax) {MathJax.Hub.Config({SVG: {font: \"STIX-Web\"}});}\n",
       "        if (typeof require !== 'undefined') {\n",
       "        require.undef(\"plotly\");\n",
       "        requirejs.config({\n",
       "            paths: {\n",
       "                'plotly': ['https://cdn.plot.ly/plotly-2.9.0.min']\n",
       "            }\n",
       "        });\n",
       "        require(['plotly'], function(Plotly) {\n",
       "            window._Plotly = Plotly;\n",
       "        });\n",
       "        }\n",
       "        </script>\n",
       "        "
      ]
     },
     "metadata": {},
     "output_type": "display_data"
    }
   ],
   "source": [
    "import plotly.express as px\n",
    "import chart_studio.plotly as py\n",
    "import plotly.graph_objs as go\n",
    "import pandas as pd\n",
    "\n",
    "from plotly.offline import download_plotlyjs, init_notebook_mode, iplot, plot\n",
    "init_notebook_mode(connected = True)\n"
   ]
  },
  {
   "cell_type": "code",
   "execution_count": 15,
   "metadata": {},
   "outputs": [
    {
     "data": {
      "application/vnd.plotly.v1+json": {
       "config": {
        "plotlyServerURL": "https://plot.ly"
       },
       "data": [
        {
         "coloraxis": "coloraxis",
         "geo": "geo",
         "hovertemplate": "Country=%{location}<br>AverageTemperature=%{z}<extra></extra>",
         "locationmode": "country names",
         "locations": [
          "Afghanistan",
          "Africa",
          "Albania",
          "Algeria",
          "American Samoa",
          "Andorra",
          "Angola",
          "Anguilla",
          "Antigua And Barbuda",
          "Argentina",
          "Armenia",
          "Aruba",
          "Asia",
          "Australia",
          "Austria",
          "Azerbaijan",
          "Bahamas",
          "Bahrain",
          "Baker Island",
          "Bangladesh",
          "Barbados",
          "Belarus",
          "Belgium",
          "Belize",
          "Benin",
          "Bhutan",
          "Bolivia",
          "Bonaire, Saint Eustatius And Saba",
          "Bosnia And Herzegovina",
          "Botswana",
          "Brazil",
          "British Virgin Islands",
          "Bulgaria",
          "Burkina Faso",
          "Burma",
          "Burundi",
          "Cambodia",
          "Cameroon",
          "Canada",
          "Cape Verde",
          "Cayman Islands",
          "Central African Republic",
          "Chad",
          "Chile",
          "China",
          "Christmas Island",
          "Colombia",
          "Comoros",
          "Congo",
          "Costa Rica",
          "Croatia",
          "Cuba",
          "Curaçao",
          "Cyprus",
          "Czech Republic",
          "Côte D'Ivoire",
          "Denmark",
          "Djibouti",
          "Dominica",
          "Dominican Republic",
          "Ecuador",
          "Egypt",
          "El Salvador",
          "Equatorial Guinea",
          "Eritrea",
          "Estonia",
          "Ethiopia",
          "Europe",
          "Falkland Islands (Islas Malvinas)",
          "Faroe Islands",
          "Federated States Of Micronesia",
          "Fiji",
          "Finland",
          "France",
          "French Guiana",
          "French Polynesia",
          "French Southern And Antarctic Lands",
          "Gabon",
          "Gambia",
          "Gaza Strip",
          "Georgia",
          "Germany",
          "Ghana",
          "Greece",
          "Greenland",
          "Grenada",
          "Guadeloupe",
          "Guam",
          "Guatemala",
          "Guernsey",
          "Guinea",
          "Guinea Bissau",
          "Guyana",
          "Haiti",
          "Heard Island And Mcdonald Islands",
          "Honduras",
          "Hong Kong",
          "Hungary",
          "Iceland",
          "India",
          "Indonesia",
          "Iran",
          "Iraq",
          "Ireland",
          "Isle Of Man",
          "Israel",
          "Italy",
          "Jamaica",
          "Japan",
          "Jersey",
          "Jordan",
          "Kazakhstan",
          "Kenya",
          "Kingman Reef",
          "Kiribati",
          "Kuwait",
          "Kyrgyzstan",
          "Laos",
          "Latvia",
          "Lebanon",
          "Lesotho",
          "Liberia",
          "Libya",
          "Liechtenstein",
          "Lithuania",
          "Luxembourg",
          "Macau",
          "Macedonia",
          "Madagascar",
          "Malawi",
          "Malaysia",
          "Mali",
          "Malta",
          "Martinique",
          "Mauritania",
          "Mauritius",
          "Mayotte",
          "Mexico",
          "Moldova",
          "Monaco",
          "Mongolia",
          "Montenegro",
          "Montserrat",
          "Morocco",
          "Mozambique",
          "Namibia",
          "Nepal",
          "Netherlands",
          "New Caledonia",
          "New Zealand",
          "Nicaragua",
          "Niger",
          "Nigeria",
          "Niue",
          "North America",
          "North Korea",
          "Northern Mariana Islands",
          "Norway",
          "Oceania",
          "Oman",
          "Pakistan",
          "Palau",
          "Palestina",
          "Palmyra Atoll",
          "Panama",
          "Papua New Guinea",
          "Paraguay",
          "Peru",
          "Philippines",
          "Poland",
          "Portugal",
          "Puerto Rico",
          "Qatar",
          "Reunion",
          "Romania",
          "Russia",
          "Rwanda",
          "Saint Barthélemy",
          "Saint Kitts And Nevis",
          "Saint Lucia",
          "Saint Martin",
          "Saint Pierre And Miquelon",
          "Saint Vincent And The Grenadines",
          "Samoa",
          "San Marino",
          "Sao Tome And Principe",
          "Saudi Arabia",
          "Senegal",
          "Serbia",
          "Seychelles",
          "Sierra Leone",
          "Singapore",
          "Sint Maarten",
          "Slovakia",
          "Slovenia",
          "Solomon Islands",
          "Somalia",
          "South Africa",
          "South America",
          "South Georgia And The South Sandwich Isla",
          "South Korea",
          "Spain",
          "Sri Lanka",
          "Sudan",
          "Suriname",
          "Svalbard And Jan Mayen",
          "Swaziland",
          "Sweden",
          "Switzerland",
          "Syria",
          "Taiwan",
          "Tajikistan",
          "Tanzania",
          "Thailand",
          "Timor Leste",
          "Togo",
          "Tonga",
          "Trinidad And Tobago",
          "Tunisia",
          "Turkey",
          "Turkmenistan",
          "Turks And Caicas Islands",
          "Uganda",
          "Ukraine",
          "United Arab Emirates",
          "United Kingdom",
          "United States",
          "Uruguay",
          "Uzbekistan",
          "Venezuela",
          "Vietnam",
          "Virgin Islands",
          "Western Sahara",
          "Yemen",
          "Zambia",
          "Zimbabwe",
          "Åland"
         ],
         "name": "",
         "type": "choropleth",
         "z": [
          14.045007194244604,
          24.074202745512142,
          12.610645925457991,
          22.98511176905996,
          26.611965009208106,
          11.201553063802905,
          21.824549189814817,
          26.61049185043145,
          26.437924256951103,
          14.621194210526316,
          8.551647926634768,
          27.92039022051774,
          7.3478922231614545,
          21.62469689119171,
          6.210731838281744,
          11.175936074918567,
          25.12822004008016,
          25.9308093346574,
          25.37235023279876,
          24.820242783708977,
          26.458547938638542,
          5.819288060644346,
          9.483378395451673,
          25.052099776286354,
          27.17199943181818,
          11.811878969957082,
          20.87723052631579,
          27.17329482262704,
          10.421283954516742,
          21.87929669156884,
          24.699255545286505,
          26.336523239099186,
          10.482968414403032,
          28.083506760411034,
          23.706197239536955,
          20.07099012775842,
          26.65685403576607,
          24.352585590778098,
          -5.216658945686901,
          24.185563568376068,
          26.722504150283967,
          25.280406916426514,
          27.120466282420747,
          9.383473684210525,
          6.612731031349386,
          25.784654071314527,
          24.716870967741936,
          25.70220930232558,
          24.118099942396316,
          25.61578443420379,
          11.342399873657612,
          25.40742638706859,
          27.353414669223397,
          18.787745686421605,
          7.62601926721415,
          25.94853606027987,
          -3.0265029336266958,
          28.8166025331725,
          26.110151486097795,
          25.547511210762334,
          21.869970347003154,
          22.620693031209917,
          24.906704545454545,
          24.921677809798272,
          26.802653110047846,
          4.819805748578648,
          23.01235675997618,
          7.830063802905875,
          6.076773492667029,
          6.619001579279849,
          26.944357771260997,
          25.038671779141108,
          1.244742261528743,
          11.594245735944408,
          25.718151106833492,
          26.10709611829945,
          4.9831111111111115,
          24.254725648414986,
          27.538551816239316,
          19.192636960985627,
          8.106881895881896,
          8.152496209728364,
          26.711013551665726,
          14.773012002526848,
          -18.58745804195804,
          26.741952061361456,
          26.32956088207095,
          26.996834337349398,
          23.111650494159928,
          10.928408717624762,
          25.452353098290597,
          26.76136664885088,
          25.930920115495667,
          26.295837740923353,
          2.5621149425287357,
          24.69554799459216,
          22.65989491362764,
          9.722423246999368,
          1.4050650663297535,
          23.873789473684212,
          25.684483767961684,
          17.607076451156207,
          21.775628879310347,
          9.419558433354391,
          9.365805432722679,
          19.62657730263158,
          12.737121920404297,
          26.096339563862927,
          11.951907335907336,
          10.928408717624762,
          19.346512587701195,
          5.202144758735441,
          24.102428231089934,
          27.13303443877551,
          26.73686534779834,
          25.098140232108317,
          3.2204981651376143,
          23.574696349065007,
          5.320545167403664,
          17.63161773078487,
          13.726681793913508,
          25.37773793103448,
          22.268253938484623,
          4.642939039797852,
          5.9079917877447885,
          9.165196462413139,
          22.418374760076777,
          10.375550852811118,
          22.74904594441293,
          21.431086144578316,
          25.80544200779727,
          28.44197657082002,
          18.494875319693094,
          26.110151486097795,
          27.62025550435228,
          23.522653983353152,
          26.340961429381736,
          20.567558041958044,
          8.9317166771952,
          9.024701831964624,
          -0.8206709844559585,
          10.214629500947568,
          26.383128475551292,
          17.627497409326423,
          23.59619475878499,
          20.484495197438637,
          14.8073906122449,
          9.308701831964624,
          22.700108194965186,
          10.371239107883817,
          25.957508780036967,
          27.458972540045767,
          26.744708309122604,
          25.094878453038675,
          2.0283738920225622,
          6.748336832061068,
          26.996834337349398,
          0.09580385344283004,
          21.452989119170983,
          26.91686266589729,
          20.615513304305757,
          27.216379332477533,
          23.125663223140496,
          27.16345599489796,
          26.291620638085742,
          24.450801898734177,
          23.237967557251906,
          19.935974230044,
          26.44047248677249,
          7.46020593809223,
          14.688179987212276,
          25.45196166746526,
          26.784996015936255,
          23.30140309155767,
          8.76090176879343,
          -5.521881912681913,
          19.244422183507552,
          26.61049185043145,
          25.85218600191755,
          26.646838446788113,
          26.61049185043145,
          4.223059955113818,
          26.78944870565676,
          26.33186249232658,
          13.83142229943146,
          25.794386167146975,
          25.546407835258666,
          27.967375,
          9.986563171193936,
          26.738423142370962,
          26.022571277159514,
          26.52310282651072,
          26.61049185043145,
          7.527216993051168,
          9.659700568540746,
          26.62503698979592,
          26.877085169743896,
          17.27098291510945,
          21.823920081967213,
          1.4010251017639077,
          11.849048745173745,
          13.61283417561592,
          26.947687001594897,
          27.09335942857143,
          26.17166313763234,
          -7.448027925531916,
          18.839807261078484,
          2.3863319646241314,
          6.992051484523057,
          17.917548596990645,
          21.937427536231883,
          4.016035217794253,
          22.34791097178683,
          25.986800979519145,
          25.96633271832718,
          26.87178275666478,
          23.236247852760737,
          26.118751198465965,
          19.97059047314578,
          11.631567300916139,
          14.781998181818182,
          26.662733508082134,
          23.03296871378911,
          7.653507264687303,
          27.693994700582934,
          8.572556696146558,
          8.60357252215955,
          17.149306774809162,
          12.278015938069217,
          25.025685522531163,
          23.688365504061156,
          26.336523239099186,
          22.319817823343847,
          26.253596725288055,
          21.282955621301774,
          21.117547246376812,
          5.291383449147189
         ]
        }
       ],
       "layout": {
        "coloraxis": {
         "colorbar": {
          "title": {
           "text": "AverageTemperature"
          }
         },
         "colorscale": [
          [
           0,
           "#0d0887"
          ],
          [
           0.1111111111111111,
           "#46039f"
          ],
          [
           0.2222222222222222,
           "#7201a8"
          ],
          [
           0.3333333333333333,
           "#9c179e"
          ],
          [
           0.4444444444444444,
           "#bd3786"
          ],
          [
           0.5555555555555556,
           "#d8576b"
          ],
          [
           0.6666666666666666,
           "#ed7953"
          ],
          [
           0.7777777777777778,
           "#fb9f3a"
          ],
          [
           0.8888888888888888,
           "#fdca26"
          ],
          [
           1,
           "#f0f921"
          ]
         ]
        },
        "geo": {
         "center": {},
         "domain": {
          "x": [
           0,
           1
          ],
          "y": [
           0,
           1
          ]
         }
        },
        "legend": {
         "tracegroupgap": 0
        },
        "margin": {
         "t": 60
        },
        "template": {
         "data": {
          "bar": [
           {
            "error_x": {
             "color": "#f2f5fa"
            },
            "error_y": {
             "color": "#f2f5fa"
            },
            "marker": {
             "line": {
              "color": "rgb(17,17,17)",
              "width": 0.5
             },
             "pattern": {
              "fillmode": "overlay",
              "size": 10,
              "solidity": 0.2
             }
            },
            "type": "bar"
           }
          ],
          "barpolar": [
           {
            "marker": {
             "line": {
              "color": "rgb(17,17,17)",
              "width": 0.5
             },
             "pattern": {
              "fillmode": "overlay",
              "size": 10,
              "solidity": 0.2
             }
            },
            "type": "barpolar"
           }
          ],
          "carpet": [
           {
            "aaxis": {
             "endlinecolor": "#A2B1C6",
             "gridcolor": "#506784",
             "linecolor": "#506784",
             "minorgridcolor": "#506784",
             "startlinecolor": "#A2B1C6"
            },
            "baxis": {
             "endlinecolor": "#A2B1C6",
             "gridcolor": "#506784",
             "linecolor": "#506784",
             "minorgridcolor": "#506784",
             "startlinecolor": "#A2B1C6"
            },
            "type": "carpet"
           }
          ],
          "choropleth": [
           {
            "colorbar": {
             "outlinewidth": 0,
             "ticks": ""
            },
            "type": "choropleth"
           }
          ],
          "contour": [
           {
            "colorbar": {
             "outlinewidth": 0,
             "ticks": ""
            },
            "colorscale": [
             [
              0,
              "#0d0887"
             ],
             [
              0.1111111111111111,
              "#46039f"
             ],
             [
              0.2222222222222222,
              "#7201a8"
             ],
             [
              0.3333333333333333,
              "#9c179e"
             ],
             [
              0.4444444444444444,
              "#bd3786"
             ],
             [
              0.5555555555555556,
              "#d8576b"
             ],
             [
              0.6666666666666666,
              "#ed7953"
             ],
             [
              0.7777777777777778,
              "#fb9f3a"
             ],
             [
              0.8888888888888888,
              "#fdca26"
             ],
             [
              1,
              "#f0f921"
             ]
            ],
            "type": "contour"
           }
          ],
          "contourcarpet": [
           {
            "colorbar": {
             "outlinewidth": 0,
             "ticks": ""
            },
            "type": "contourcarpet"
           }
          ],
          "heatmap": [
           {
            "colorbar": {
             "outlinewidth": 0,
             "ticks": ""
            },
            "colorscale": [
             [
              0,
              "#0d0887"
             ],
             [
              0.1111111111111111,
              "#46039f"
             ],
             [
              0.2222222222222222,
              "#7201a8"
             ],
             [
              0.3333333333333333,
              "#9c179e"
             ],
             [
              0.4444444444444444,
              "#bd3786"
             ],
             [
              0.5555555555555556,
              "#d8576b"
             ],
             [
              0.6666666666666666,
              "#ed7953"
             ],
             [
              0.7777777777777778,
              "#fb9f3a"
             ],
             [
              0.8888888888888888,
              "#fdca26"
             ],
             [
              1,
              "#f0f921"
             ]
            ],
            "type": "heatmap"
           }
          ],
          "heatmapgl": [
           {
            "colorbar": {
             "outlinewidth": 0,
             "ticks": ""
            },
            "colorscale": [
             [
              0,
              "#0d0887"
             ],
             [
              0.1111111111111111,
              "#46039f"
             ],
             [
              0.2222222222222222,
              "#7201a8"
             ],
             [
              0.3333333333333333,
              "#9c179e"
             ],
             [
              0.4444444444444444,
              "#bd3786"
             ],
             [
              0.5555555555555556,
              "#d8576b"
             ],
             [
              0.6666666666666666,
              "#ed7953"
             ],
             [
              0.7777777777777778,
              "#fb9f3a"
             ],
             [
              0.8888888888888888,
              "#fdca26"
             ],
             [
              1,
              "#f0f921"
             ]
            ],
            "type": "heatmapgl"
           }
          ],
          "histogram": [
           {
            "marker": {
             "pattern": {
              "fillmode": "overlay",
              "size": 10,
              "solidity": 0.2
             }
            },
            "type": "histogram"
           }
          ],
          "histogram2d": [
           {
            "colorbar": {
             "outlinewidth": 0,
             "ticks": ""
            },
            "colorscale": [
             [
              0,
              "#0d0887"
             ],
             [
              0.1111111111111111,
              "#46039f"
             ],
             [
              0.2222222222222222,
              "#7201a8"
             ],
             [
              0.3333333333333333,
              "#9c179e"
             ],
             [
              0.4444444444444444,
              "#bd3786"
             ],
             [
              0.5555555555555556,
              "#d8576b"
             ],
             [
              0.6666666666666666,
              "#ed7953"
             ],
             [
              0.7777777777777778,
              "#fb9f3a"
             ],
             [
              0.8888888888888888,
              "#fdca26"
             ],
             [
              1,
              "#f0f921"
             ]
            ],
            "type": "histogram2d"
           }
          ],
          "histogram2dcontour": [
           {
            "colorbar": {
             "outlinewidth": 0,
             "ticks": ""
            },
            "colorscale": [
             [
              0,
              "#0d0887"
             ],
             [
              0.1111111111111111,
              "#46039f"
             ],
             [
              0.2222222222222222,
              "#7201a8"
             ],
             [
              0.3333333333333333,
              "#9c179e"
             ],
             [
              0.4444444444444444,
              "#bd3786"
             ],
             [
              0.5555555555555556,
              "#d8576b"
             ],
             [
              0.6666666666666666,
              "#ed7953"
             ],
             [
              0.7777777777777778,
              "#fb9f3a"
             ],
             [
              0.8888888888888888,
              "#fdca26"
             ],
             [
              1,
              "#f0f921"
             ]
            ],
            "type": "histogram2dcontour"
           }
          ],
          "mesh3d": [
           {
            "colorbar": {
             "outlinewidth": 0,
             "ticks": ""
            },
            "type": "mesh3d"
           }
          ],
          "parcoords": [
           {
            "line": {
             "colorbar": {
              "outlinewidth": 0,
              "ticks": ""
             }
            },
            "type": "parcoords"
           }
          ],
          "pie": [
           {
            "automargin": true,
            "type": "pie"
           }
          ],
          "scatter": [
           {
            "marker": {
             "line": {
              "color": "#283442"
             }
            },
            "type": "scatter"
           }
          ],
          "scatter3d": [
           {
            "line": {
             "colorbar": {
              "outlinewidth": 0,
              "ticks": ""
             }
            },
            "marker": {
             "colorbar": {
              "outlinewidth": 0,
              "ticks": ""
             }
            },
            "type": "scatter3d"
           }
          ],
          "scattercarpet": [
           {
            "marker": {
             "colorbar": {
              "outlinewidth": 0,
              "ticks": ""
             }
            },
            "type": "scattercarpet"
           }
          ],
          "scattergeo": [
           {
            "marker": {
             "colorbar": {
              "outlinewidth": 0,
              "ticks": ""
             }
            },
            "type": "scattergeo"
           }
          ],
          "scattergl": [
           {
            "marker": {
             "line": {
              "color": "#283442"
             }
            },
            "type": "scattergl"
           }
          ],
          "scattermapbox": [
           {
            "marker": {
             "colorbar": {
              "outlinewidth": 0,
              "ticks": ""
             }
            },
            "type": "scattermapbox"
           }
          ],
          "scatterpolar": [
           {
            "marker": {
             "colorbar": {
              "outlinewidth": 0,
              "ticks": ""
             }
            },
            "type": "scatterpolar"
           }
          ],
          "scatterpolargl": [
           {
            "marker": {
             "colorbar": {
              "outlinewidth": 0,
              "ticks": ""
             }
            },
            "type": "scatterpolargl"
           }
          ],
          "scatterternary": [
           {
            "marker": {
             "colorbar": {
              "outlinewidth": 0,
              "ticks": ""
             }
            },
            "type": "scatterternary"
           }
          ],
          "surface": [
           {
            "colorbar": {
             "outlinewidth": 0,
             "ticks": ""
            },
            "colorscale": [
             [
              0,
              "#0d0887"
             ],
             [
              0.1111111111111111,
              "#46039f"
             ],
             [
              0.2222222222222222,
              "#7201a8"
             ],
             [
              0.3333333333333333,
              "#9c179e"
             ],
             [
              0.4444444444444444,
              "#bd3786"
             ],
             [
              0.5555555555555556,
              "#d8576b"
             ],
             [
              0.6666666666666666,
              "#ed7953"
             ],
             [
              0.7777777777777778,
              "#fb9f3a"
             ],
             [
              0.8888888888888888,
              "#fdca26"
             ],
             [
              1,
              "#f0f921"
             ]
            ],
            "type": "surface"
           }
          ],
          "table": [
           {
            "cells": {
             "fill": {
              "color": "#506784"
             },
             "line": {
              "color": "rgb(17,17,17)"
             }
            },
            "header": {
             "fill": {
              "color": "#2a3f5f"
             },
             "line": {
              "color": "rgb(17,17,17)"
             }
            },
            "type": "table"
           }
          ]
         },
         "layout": {
          "annotationdefaults": {
           "arrowcolor": "#f2f5fa",
           "arrowhead": 0,
           "arrowwidth": 1
          },
          "autotypenumbers": "strict",
          "coloraxis": {
           "colorbar": {
            "outlinewidth": 0,
            "ticks": ""
           }
          },
          "colorscale": {
           "diverging": [
            [
             0,
             "#8e0152"
            ],
            [
             0.1,
             "#c51b7d"
            ],
            [
             0.2,
             "#de77ae"
            ],
            [
             0.3,
             "#f1b6da"
            ],
            [
             0.4,
             "#fde0ef"
            ],
            [
             0.5,
             "#f7f7f7"
            ],
            [
             0.6,
             "#e6f5d0"
            ],
            [
             0.7,
             "#b8e186"
            ],
            [
             0.8,
             "#7fbc41"
            ],
            [
             0.9,
             "#4d9221"
            ],
            [
             1,
             "#276419"
            ]
           ],
           "sequential": [
            [
             0,
             "#0d0887"
            ],
            [
             0.1111111111111111,
             "#46039f"
            ],
            [
             0.2222222222222222,
             "#7201a8"
            ],
            [
             0.3333333333333333,
             "#9c179e"
            ],
            [
             0.4444444444444444,
             "#bd3786"
            ],
            [
             0.5555555555555556,
             "#d8576b"
            ],
            [
             0.6666666666666666,
             "#ed7953"
            ],
            [
             0.7777777777777778,
             "#fb9f3a"
            ],
            [
             0.8888888888888888,
             "#fdca26"
            ],
            [
             1,
             "#f0f921"
            ]
           ],
           "sequentialminus": [
            [
             0,
             "#0d0887"
            ],
            [
             0.1111111111111111,
             "#46039f"
            ],
            [
             0.2222222222222222,
             "#7201a8"
            ],
            [
             0.3333333333333333,
             "#9c179e"
            ],
            [
             0.4444444444444444,
             "#bd3786"
            ],
            [
             0.5555555555555556,
             "#d8576b"
            ],
            [
             0.6666666666666666,
             "#ed7953"
            ],
            [
             0.7777777777777778,
             "#fb9f3a"
            ],
            [
             0.8888888888888888,
             "#fdca26"
            ],
            [
             1,
             "#f0f921"
            ]
           ]
          },
          "colorway": [
           "#636efa",
           "#EF553B",
           "#00cc96",
           "#ab63fa",
           "#FFA15A",
           "#19d3f3",
           "#FF6692",
           "#B6E880",
           "#FF97FF",
           "#FECB52"
          ],
          "font": {
           "color": "#f2f5fa"
          },
          "geo": {
           "bgcolor": "rgb(17,17,17)",
           "lakecolor": "rgb(17,17,17)",
           "landcolor": "rgb(17,17,17)",
           "showlakes": true,
           "showland": true,
           "subunitcolor": "#506784"
          },
          "hoverlabel": {
           "align": "left"
          },
          "hovermode": "closest",
          "mapbox": {
           "style": "dark"
          },
          "paper_bgcolor": "rgb(17,17,17)",
          "plot_bgcolor": "rgb(17,17,17)",
          "polar": {
           "angularaxis": {
            "gridcolor": "#506784",
            "linecolor": "#506784",
            "ticks": ""
           },
           "bgcolor": "rgb(17,17,17)",
           "radialaxis": {
            "gridcolor": "#506784",
            "linecolor": "#506784",
            "ticks": ""
           }
          },
          "scene": {
           "xaxis": {
            "backgroundcolor": "rgb(17,17,17)",
            "gridcolor": "#506784",
            "gridwidth": 2,
            "linecolor": "#506784",
            "showbackground": true,
            "ticks": "",
            "zerolinecolor": "#C8D4E3"
           },
           "yaxis": {
            "backgroundcolor": "rgb(17,17,17)",
            "gridcolor": "#506784",
            "gridwidth": 2,
            "linecolor": "#506784",
            "showbackground": true,
            "ticks": "",
            "zerolinecolor": "#C8D4E3"
           },
           "zaxis": {
            "backgroundcolor": "rgb(17,17,17)",
            "gridcolor": "#506784",
            "gridwidth": 2,
            "linecolor": "#506784",
            "showbackground": true,
            "ticks": "",
            "zerolinecolor": "#C8D4E3"
           }
          },
          "shapedefaults": {
           "line": {
            "color": "#f2f5fa"
           }
          },
          "sliderdefaults": {
           "bgcolor": "#C8D4E3",
           "bordercolor": "rgb(17,17,17)",
           "borderwidth": 1,
           "tickwidth": 0
          },
          "ternary": {
           "aaxis": {
            "gridcolor": "#506784",
            "linecolor": "#506784",
            "ticks": ""
           },
           "baxis": {
            "gridcolor": "#506784",
            "linecolor": "#506784",
            "ticks": ""
           },
           "bgcolor": "rgb(17,17,17)",
           "caxis": {
            "gridcolor": "#506784",
            "linecolor": "#506784",
            "ticks": ""
           }
          },
          "title": {
           "x": 0.05
          },
          "updatemenudefaults": {
           "bgcolor": "#506784",
           "borderwidth": 0
          },
          "xaxis": {
           "automargin": true,
           "gridcolor": "#283442",
           "linecolor": "#506784",
           "ticks": "",
           "title": {
            "standoff": 15
           },
           "zerolinecolor": "#283442",
           "zerolinewidth": 2
          },
          "yaxis": {
           "automargin": true,
           "gridcolor": "#283442",
           "linecolor": "#506784",
           "ticks": "",
           "title": {
            "standoff": 15
           },
           "zerolinecolor": "#283442",
           "zerolinewidth": 2
          }
         }
        },
        "title": {
         "text": "Choropleth Map of AverageTemperature "
        }
       }
      },
      "text/html": [
       "<div>                            <div id=\"95158e09-86d1-431d-9e47-4c11ca772388\" class=\"plotly-graph-div\" style=\"height:525px; width:100%;\"></div>            <script type=\"text/javascript\">                require([\"plotly\"], function(Plotly) {                    window.PLOTLYENV=window.PLOTLYENV || {};                                    if (document.getElementById(\"95158e09-86d1-431d-9e47-4c11ca772388\")) {                    Plotly.newPlot(                        \"95158e09-86d1-431d-9e47-4c11ca772388\",                        [{\"coloraxis\":\"coloraxis\",\"geo\":\"geo\",\"hovertemplate\":\"Country=%{location}<br>AverageTemperature=%{z}<extra></extra>\",\"locationmode\":\"country names\",\"locations\":[\"Afghanistan\",\"Africa\",\"Albania\",\"Algeria\",\"American Samoa\",\"Andorra\",\"Angola\",\"Anguilla\",\"Antigua And Barbuda\",\"Argentina\",\"Armenia\",\"Aruba\",\"Asia\",\"Australia\",\"Austria\",\"Azerbaijan\",\"Bahamas\",\"Bahrain\",\"Baker Island\",\"Bangladesh\",\"Barbados\",\"Belarus\",\"Belgium\",\"Belize\",\"Benin\",\"Bhutan\",\"Bolivia\",\"Bonaire, Saint Eustatius And Saba\",\"Bosnia And Herzegovina\",\"Botswana\",\"Brazil\",\"British Virgin Islands\",\"Bulgaria\",\"Burkina Faso\",\"Burma\",\"Burundi\",\"Cambodia\",\"Cameroon\",\"Canada\",\"Cape Verde\",\"Cayman Islands\",\"Central African Republic\",\"Chad\",\"Chile\",\"China\",\"Christmas Island\",\"Colombia\",\"Comoros\",\"Congo\",\"Costa Rica\",\"Croatia\",\"Cuba\",\"Cura\\u00e7ao\",\"Cyprus\",\"Czech Republic\",\"C\\u00f4te D'Ivoire\",\"Denmark\",\"Djibouti\",\"Dominica\",\"Dominican Republic\",\"Ecuador\",\"Egypt\",\"El Salvador\",\"Equatorial Guinea\",\"Eritrea\",\"Estonia\",\"Ethiopia\",\"Europe\",\"Falkland Islands (Islas Malvinas)\",\"Faroe Islands\",\"Federated States Of Micronesia\",\"Fiji\",\"Finland\",\"France\",\"French Guiana\",\"French Polynesia\",\"French Southern And Antarctic Lands\",\"Gabon\",\"Gambia\",\"Gaza Strip\",\"Georgia\",\"Germany\",\"Ghana\",\"Greece\",\"Greenland\",\"Grenada\",\"Guadeloupe\",\"Guam\",\"Guatemala\",\"Guernsey\",\"Guinea\",\"Guinea Bissau\",\"Guyana\",\"Haiti\",\"Heard Island And Mcdonald Islands\",\"Honduras\",\"Hong Kong\",\"Hungary\",\"Iceland\",\"India\",\"Indonesia\",\"Iran\",\"Iraq\",\"Ireland\",\"Isle Of Man\",\"Israel\",\"Italy\",\"Jamaica\",\"Japan\",\"Jersey\",\"Jordan\",\"Kazakhstan\",\"Kenya\",\"Kingman Reef\",\"Kiribati\",\"Kuwait\",\"Kyrgyzstan\",\"Laos\",\"Latvia\",\"Lebanon\",\"Lesotho\",\"Liberia\",\"Libya\",\"Liechtenstein\",\"Lithuania\",\"Luxembourg\",\"Macau\",\"Macedonia\",\"Madagascar\",\"Malawi\",\"Malaysia\",\"Mali\",\"Malta\",\"Martinique\",\"Mauritania\",\"Mauritius\",\"Mayotte\",\"Mexico\",\"Moldova\",\"Monaco\",\"Mongolia\",\"Montenegro\",\"Montserrat\",\"Morocco\",\"Mozambique\",\"Namibia\",\"Nepal\",\"Netherlands\",\"New Caledonia\",\"New Zealand\",\"Nicaragua\",\"Niger\",\"Nigeria\",\"Niue\",\"North America\",\"North Korea\",\"Northern Mariana Islands\",\"Norway\",\"Oceania\",\"Oman\",\"Pakistan\",\"Palau\",\"Palestina\",\"Palmyra Atoll\",\"Panama\",\"Papua New Guinea\",\"Paraguay\",\"Peru\",\"Philippines\",\"Poland\",\"Portugal\",\"Puerto Rico\",\"Qatar\",\"Reunion\",\"Romania\",\"Russia\",\"Rwanda\",\"Saint Barth\\u00e9lemy\",\"Saint Kitts And Nevis\",\"Saint Lucia\",\"Saint Martin\",\"Saint Pierre And Miquelon\",\"Saint Vincent And The Grenadines\",\"Samoa\",\"San Marino\",\"Sao Tome And Principe\",\"Saudi Arabia\",\"Senegal\",\"Serbia\",\"Seychelles\",\"Sierra Leone\",\"Singapore\",\"Sint Maarten\",\"Slovakia\",\"Slovenia\",\"Solomon Islands\",\"Somalia\",\"South Africa\",\"South America\",\"South Georgia And The South Sandwich Isla\",\"South Korea\",\"Spain\",\"Sri Lanka\",\"Sudan\",\"Suriname\",\"Svalbard And Jan Mayen\",\"Swaziland\",\"Sweden\",\"Switzerland\",\"Syria\",\"Taiwan\",\"Tajikistan\",\"Tanzania\",\"Thailand\",\"Timor Leste\",\"Togo\",\"Tonga\",\"Trinidad And Tobago\",\"Tunisia\",\"Turkey\",\"Turkmenistan\",\"Turks And Caicas Islands\",\"Uganda\",\"Ukraine\",\"United Arab Emirates\",\"United Kingdom\",\"United States\",\"Uruguay\",\"Uzbekistan\",\"Venezuela\",\"Vietnam\",\"Virgin Islands\",\"Western Sahara\",\"Yemen\",\"Zambia\",\"Zimbabwe\",\"\\u00c5land\"],\"name\":\"\",\"z\":[14.045007194244604,24.074202745512142,12.610645925457991,22.98511176905996,26.611965009208106,11.201553063802905,21.824549189814817,26.61049185043145,26.437924256951103,14.621194210526316,8.551647926634768,27.92039022051774,7.3478922231614545,21.62469689119171,6.210731838281744,11.175936074918567,25.12822004008016,25.9308093346574,25.37235023279876,24.820242783708977,26.458547938638542,5.819288060644346,9.483378395451673,25.052099776286354,27.17199943181818,11.811878969957082,20.87723052631579,27.17329482262704,10.421283954516742,21.87929669156884,24.699255545286505,26.336523239099186,10.482968414403032,28.083506760411034,23.706197239536955,20.07099012775842,26.65685403576607,24.352585590778098,-5.216658945686901,24.185563568376068,26.722504150283967,25.280406916426514,27.120466282420747,9.383473684210525,6.612731031349386,25.784654071314527,24.716870967741936,25.70220930232558,24.118099942396316,25.61578443420379,11.342399873657612,25.40742638706859,27.353414669223397,18.787745686421605,7.62601926721415,25.94853606027987,-3.0265029336266958,28.8166025331725,26.110151486097795,25.547511210762334,21.869970347003154,22.620693031209917,24.906704545454545,24.921677809798272,26.802653110047846,4.819805748578648,23.01235675997618,7.830063802905875,6.076773492667029,6.619001579279849,26.944357771260997,25.038671779141108,1.244742261528743,11.594245735944408,25.718151106833492,26.10709611829945,4.9831111111111115,24.254725648414986,27.538551816239316,19.192636960985627,8.106881895881896,8.152496209728364,26.711013551665726,14.773012002526848,-18.58745804195804,26.741952061361456,26.32956088207095,26.996834337349398,23.111650494159928,10.928408717624762,25.452353098290597,26.76136664885088,25.930920115495667,26.295837740923353,2.5621149425287357,24.69554799459216,22.65989491362764,9.722423246999368,1.4050650663297535,23.873789473684212,25.684483767961684,17.607076451156207,21.775628879310347,9.419558433354391,9.365805432722679,19.62657730263158,12.737121920404297,26.096339563862927,11.951907335907336,10.928408717624762,19.346512587701195,5.202144758735441,24.102428231089934,27.13303443877551,26.73686534779834,25.098140232108317,3.2204981651376143,23.574696349065007,5.320545167403664,17.63161773078487,13.726681793913508,25.37773793103448,22.268253938484623,4.642939039797852,5.9079917877447885,9.165196462413139,22.418374760076777,10.375550852811118,22.74904594441293,21.431086144578316,25.80544200779727,28.44197657082002,18.494875319693094,26.110151486097795,27.62025550435228,23.522653983353152,26.340961429381736,20.567558041958044,8.9317166771952,9.024701831964624,-0.8206709844559585,10.214629500947568,26.383128475551292,17.627497409326423,23.59619475878499,20.484495197438637,14.8073906122449,9.308701831964624,22.700108194965186,10.371239107883817,25.957508780036967,27.458972540045767,26.744708309122604,25.094878453038675,2.0283738920225622,6.748336832061068,26.996834337349398,0.09580385344283004,21.452989119170983,26.91686266589729,20.615513304305757,27.216379332477533,23.125663223140496,27.16345599489796,26.291620638085742,24.450801898734177,23.237967557251906,19.935974230044,26.44047248677249,7.46020593809223,14.688179987212276,25.45196166746526,26.784996015936255,23.30140309155767,8.76090176879343,-5.521881912681913,19.244422183507552,26.61049185043145,25.85218600191755,26.646838446788113,26.61049185043145,4.223059955113818,26.78944870565676,26.33186249232658,13.83142229943146,25.794386167146975,25.546407835258666,27.967375,9.986563171193936,26.738423142370962,26.022571277159514,26.52310282651072,26.61049185043145,7.527216993051168,9.659700568540746,26.62503698979592,26.877085169743896,17.27098291510945,21.823920081967213,1.4010251017639077,11.849048745173745,13.61283417561592,26.947687001594897,27.09335942857143,26.17166313763234,-7.448027925531916,18.839807261078484,2.3863319646241314,6.992051484523057,17.917548596990645,21.937427536231883,4.016035217794253,22.34791097178683,25.986800979519145,25.96633271832718,26.87178275666478,23.236247852760737,26.118751198465965,19.97059047314578,11.631567300916139,14.781998181818182,26.662733508082134,23.03296871378911,7.653507264687303,27.693994700582934,8.572556696146558,8.60357252215955,17.149306774809162,12.278015938069217,25.025685522531163,23.688365504061156,26.336523239099186,22.319817823343847,26.253596725288055,21.282955621301774,21.117547246376812,5.291383449147189],\"type\":\"choropleth\"}],                        {\"template\":{\"data\":{\"barpolar\":[{\"marker\":{\"line\":{\"color\":\"rgb(17,17,17)\",\"width\":0.5},\"pattern\":{\"fillmode\":\"overlay\",\"size\":10,\"solidity\":0.2}},\"type\":\"barpolar\"}],\"bar\":[{\"error_x\":{\"color\":\"#f2f5fa\"},\"error_y\":{\"color\":\"#f2f5fa\"},\"marker\":{\"line\":{\"color\":\"rgb(17,17,17)\",\"width\":0.5},\"pattern\":{\"fillmode\":\"overlay\",\"size\":10,\"solidity\":0.2}},\"type\":\"bar\"}],\"carpet\":[{\"aaxis\":{\"endlinecolor\":\"#A2B1C6\",\"gridcolor\":\"#506784\",\"linecolor\":\"#506784\",\"minorgridcolor\":\"#506784\",\"startlinecolor\":\"#A2B1C6\"},\"baxis\":{\"endlinecolor\":\"#A2B1C6\",\"gridcolor\":\"#506784\",\"linecolor\":\"#506784\",\"minorgridcolor\":\"#506784\",\"startlinecolor\":\"#A2B1C6\"},\"type\":\"carpet\"}],\"choropleth\":[{\"colorbar\":{\"outlinewidth\":0,\"ticks\":\"\"},\"type\":\"choropleth\"}],\"contourcarpet\":[{\"colorbar\":{\"outlinewidth\":0,\"ticks\":\"\"},\"type\":\"contourcarpet\"}],\"contour\":[{\"colorbar\":{\"outlinewidth\":0,\"ticks\":\"\"},\"colorscale\":[[0.0,\"#0d0887\"],[0.1111111111111111,\"#46039f\"],[0.2222222222222222,\"#7201a8\"],[0.3333333333333333,\"#9c179e\"],[0.4444444444444444,\"#bd3786\"],[0.5555555555555556,\"#d8576b\"],[0.6666666666666666,\"#ed7953\"],[0.7777777777777778,\"#fb9f3a\"],[0.8888888888888888,\"#fdca26\"],[1.0,\"#f0f921\"]],\"type\":\"contour\"}],\"heatmapgl\":[{\"colorbar\":{\"outlinewidth\":0,\"ticks\":\"\"},\"colorscale\":[[0.0,\"#0d0887\"],[0.1111111111111111,\"#46039f\"],[0.2222222222222222,\"#7201a8\"],[0.3333333333333333,\"#9c179e\"],[0.4444444444444444,\"#bd3786\"],[0.5555555555555556,\"#d8576b\"],[0.6666666666666666,\"#ed7953\"],[0.7777777777777778,\"#fb9f3a\"],[0.8888888888888888,\"#fdca26\"],[1.0,\"#f0f921\"]],\"type\":\"heatmapgl\"}],\"heatmap\":[{\"colorbar\":{\"outlinewidth\":0,\"ticks\":\"\"},\"colorscale\":[[0.0,\"#0d0887\"],[0.1111111111111111,\"#46039f\"],[0.2222222222222222,\"#7201a8\"],[0.3333333333333333,\"#9c179e\"],[0.4444444444444444,\"#bd3786\"],[0.5555555555555556,\"#d8576b\"],[0.6666666666666666,\"#ed7953\"],[0.7777777777777778,\"#fb9f3a\"],[0.8888888888888888,\"#fdca26\"],[1.0,\"#f0f921\"]],\"type\":\"heatmap\"}],\"histogram2dcontour\":[{\"colorbar\":{\"outlinewidth\":0,\"ticks\":\"\"},\"colorscale\":[[0.0,\"#0d0887\"],[0.1111111111111111,\"#46039f\"],[0.2222222222222222,\"#7201a8\"],[0.3333333333333333,\"#9c179e\"],[0.4444444444444444,\"#bd3786\"],[0.5555555555555556,\"#d8576b\"],[0.6666666666666666,\"#ed7953\"],[0.7777777777777778,\"#fb9f3a\"],[0.8888888888888888,\"#fdca26\"],[1.0,\"#f0f921\"]],\"type\":\"histogram2dcontour\"}],\"histogram2d\":[{\"colorbar\":{\"outlinewidth\":0,\"ticks\":\"\"},\"colorscale\":[[0.0,\"#0d0887\"],[0.1111111111111111,\"#46039f\"],[0.2222222222222222,\"#7201a8\"],[0.3333333333333333,\"#9c179e\"],[0.4444444444444444,\"#bd3786\"],[0.5555555555555556,\"#d8576b\"],[0.6666666666666666,\"#ed7953\"],[0.7777777777777778,\"#fb9f3a\"],[0.8888888888888888,\"#fdca26\"],[1.0,\"#f0f921\"]],\"type\":\"histogram2d\"}],\"histogram\":[{\"marker\":{\"pattern\":{\"fillmode\":\"overlay\",\"size\":10,\"solidity\":0.2}},\"type\":\"histogram\"}],\"mesh3d\":[{\"colorbar\":{\"outlinewidth\":0,\"ticks\":\"\"},\"type\":\"mesh3d\"}],\"parcoords\":[{\"line\":{\"colorbar\":{\"outlinewidth\":0,\"ticks\":\"\"}},\"type\":\"parcoords\"}],\"pie\":[{\"automargin\":true,\"type\":\"pie\"}],\"scatter3d\":[{\"line\":{\"colorbar\":{\"outlinewidth\":0,\"ticks\":\"\"}},\"marker\":{\"colorbar\":{\"outlinewidth\":0,\"ticks\":\"\"}},\"type\":\"scatter3d\"}],\"scattercarpet\":[{\"marker\":{\"colorbar\":{\"outlinewidth\":0,\"ticks\":\"\"}},\"type\":\"scattercarpet\"}],\"scattergeo\":[{\"marker\":{\"colorbar\":{\"outlinewidth\":0,\"ticks\":\"\"}},\"type\":\"scattergeo\"}],\"scattergl\":[{\"marker\":{\"line\":{\"color\":\"#283442\"}},\"type\":\"scattergl\"}],\"scattermapbox\":[{\"marker\":{\"colorbar\":{\"outlinewidth\":0,\"ticks\":\"\"}},\"type\":\"scattermapbox\"}],\"scatterpolargl\":[{\"marker\":{\"colorbar\":{\"outlinewidth\":0,\"ticks\":\"\"}},\"type\":\"scatterpolargl\"}],\"scatterpolar\":[{\"marker\":{\"colorbar\":{\"outlinewidth\":0,\"ticks\":\"\"}},\"type\":\"scatterpolar\"}],\"scatter\":[{\"marker\":{\"line\":{\"color\":\"#283442\"}},\"type\":\"scatter\"}],\"scatterternary\":[{\"marker\":{\"colorbar\":{\"outlinewidth\":0,\"ticks\":\"\"}},\"type\":\"scatterternary\"}],\"surface\":[{\"colorbar\":{\"outlinewidth\":0,\"ticks\":\"\"},\"colorscale\":[[0.0,\"#0d0887\"],[0.1111111111111111,\"#46039f\"],[0.2222222222222222,\"#7201a8\"],[0.3333333333333333,\"#9c179e\"],[0.4444444444444444,\"#bd3786\"],[0.5555555555555556,\"#d8576b\"],[0.6666666666666666,\"#ed7953\"],[0.7777777777777778,\"#fb9f3a\"],[0.8888888888888888,\"#fdca26\"],[1.0,\"#f0f921\"]],\"type\":\"surface\"}],\"table\":[{\"cells\":{\"fill\":{\"color\":\"#506784\"},\"line\":{\"color\":\"rgb(17,17,17)\"}},\"header\":{\"fill\":{\"color\":\"#2a3f5f\"},\"line\":{\"color\":\"rgb(17,17,17)\"}},\"type\":\"table\"}]},\"layout\":{\"annotationdefaults\":{\"arrowcolor\":\"#f2f5fa\",\"arrowhead\":0,\"arrowwidth\":1},\"autotypenumbers\":\"strict\",\"coloraxis\":{\"colorbar\":{\"outlinewidth\":0,\"ticks\":\"\"}},\"colorscale\":{\"diverging\":[[0,\"#8e0152\"],[0.1,\"#c51b7d\"],[0.2,\"#de77ae\"],[0.3,\"#f1b6da\"],[0.4,\"#fde0ef\"],[0.5,\"#f7f7f7\"],[0.6,\"#e6f5d0\"],[0.7,\"#b8e186\"],[0.8,\"#7fbc41\"],[0.9,\"#4d9221\"],[1,\"#276419\"]],\"sequential\":[[0.0,\"#0d0887\"],[0.1111111111111111,\"#46039f\"],[0.2222222222222222,\"#7201a8\"],[0.3333333333333333,\"#9c179e\"],[0.4444444444444444,\"#bd3786\"],[0.5555555555555556,\"#d8576b\"],[0.6666666666666666,\"#ed7953\"],[0.7777777777777778,\"#fb9f3a\"],[0.8888888888888888,\"#fdca26\"],[1.0,\"#f0f921\"]],\"sequentialminus\":[[0.0,\"#0d0887\"],[0.1111111111111111,\"#46039f\"],[0.2222222222222222,\"#7201a8\"],[0.3333333333333333,\"#9c179e\"],[0.4444444444444444,\"#bd3786\"],[0.5555555555555556,\"#d8576b\"],[0.6666666666666666,\"#ed7953\"],[0.7777777777777778,\"#fb9f3a\"],[0.8888888888888888,\"#fdca26\"],[1.0,\"#f0f921\"]]},\"colorway\":[\"#636efa\",\"#EF553B\",\"#00cc96\",\"#ab63fa\",\"#FFA15A\",\"#19d3f3\",\"#FF6692\",\"#B6E880\",\"#FF97FF\",\"#FECB52\"],\"font\":{\"color\":\"#f2f5fa\"},\"geo\":{\"bgcolor\":\"rgb(17,17,17)\",\"lakecolor\":\"rgb(17,17,17)\",\"landcolor\":\"rgb(17,17,17)\",\"showlakes\":true,\"showland\":true,\"subunitcolor\":\"#506784\"},\"hoverlabel\":{\"align\":\"left\"},\"hovermode\":\"closest\",\"mapbox\":{\"style\":\"dark\"},\"paper_bgcolor\":\"rgb(17,17,17)\",\"plot_bgcolor\":\"rgb(17,17,17)\",\"polar\":{\"angularaxis\":{\"gridcolor\":\"#506784\",\"linecolor\":\"#506784\",\"ticks\":\"\"},\"bgcolor\":\"rgb(17,17,17)\",\"radialaxis\":{\"gridcolor\":\"#506784\",\"linecolor\":\"#506784\",\"ticks\":\"\"}},\"scene\":{\"xaxis\":{\"backgroundcolor\":\"rgb(17,17,17)\",\"gridcolor\":\"#506784\",\"gridwidth\":2,\"linecolor\":\"#506784\",\"showbackground\":true,\"ticks\":\"\",\"zerolinecolor\":\"#C8D4E3\"},\"yaxis\":{\"backgroundcolor\":\"rgb(17,17,17)\",\"gridcolor\":\"#506784\",\"gridwidth\":2,\"linecolor\":\"#506784\",\"showbackground\":true,\"ticks\":\"\",\"zerolinecolor\":\"#C8D4E3\"},\"zaxis\":{\"backgroundcolor\":\"rgb(17,17,17)\",\"gridcolor\":\"#506784\",\"gridwidth\":2,\"linecolor\":\"#506784\",\"showbackground\":true,\"ticks\":\"\",\"zerolinecolor\":\"#C8D4E3\"}},\"shapedefaults\":{\"line\":{\"color\":\"#f2f5fa\"}},\"sliderdefaults\":{\"bgcolor\":\"#C8D4E3\",\"bordercolor\":\"rgb(17,17,17)\",\"borderwidth\":1,\"tickwidth\":0},\"ternary\":{\"aaxis\":{\"gridcolor\":\"#506784\",\"linecolor\":\"#506784\",\"ticks\":\"\"},\"baxis\":{\"gridcolor\":\"#506784\",\"linecolor\":\"#506784\",\"ticks\":\"\"},\"bgcolor\":\"rgb(17,17,17)\",\"caxis\":{\"gridcolor\":\"#506784\",\"linecolor\":\"#506784\",\"ticks\":\"\"}},\"title\":{\"x\":0.05},\"updatemenudefaults\":{\"bgcolor\":\"#506784\",\"borderwidth\":0},\"xaxis\":{\"automargin\":true,\"gridcolor\":\"#283442\",\"linecolor\":\"#506784\",\"ticks\":\"\",\"title\":{\"standoff\":15},\"zerolinecolor\":\"#283442\",\"zerolinewidth\":2},\"yaxis\":{\"automargin\":true,\"gridcolor\":\"#283442\",\"linecolor\":\"#506784\",\"ticks\":\"\",\"title\":{\"standoff\":15},\"zerolinecolor\":\"#283442\",\"zerolinewidth\":2}}},\"geo\":{\"domain\":{\"x\":[0.0,1.0],\"y\":[0.0,1.0]},\"center\":{}},\"coloraxis\":{\"colorbar\":{\"title\":{\"text\":\"AverageTemperature\"}},\"colorscale\":[[0.0,\"#0d0887\"],[0.1111111111111111,\"#46039f\"],[0.2222222222222222,\"#7201a8\"],[0.3333333333333333,\"#9c179e\"],[0.4444444444444444,\"#bd3786\"],[0.5555555555555556,\"#d8576b\"],[0.6666666666666666,\"#ed7953\"],[0.7777777777777778,\"#fb9f3a\"],[0.8888888888888888,\"#fdca26\"],[1.0,\"#f0f921\"]]},\"legend\":{\"tracegroupgap\":0},\"margin\":{\"t\":60},\"title\":{\"text\":\"Choropleth Map of AverageTemperature \"}},                        {\"responsive\": true}                    ).then(function(){\n",
       "                            \n",
       "var gd = document.getElementById('95158e09-86d1-431d-9e47-4c11ca772388');\n",
       "var x = new MutationObserver(function (mutations, observer) {{\n",
       "        var display = window.getComputedStyle(gd).display;\n",
       "        if (!display || display === 'none') {{\n",
       "            console.log([gd, 'removed!']);\n",
       "            Plotly.purge(gd);\n",
       "            observer.disconnect();\n",
       "        }}\n",
       "}});\n",
       "\n",
       "// Listen for the removal of the full notebook cells\n",
       "var notebookContainer = gd.closest('#notebook-container');\n",
       "if (notebookContainer) {{\n",
       "    x.observe(notebookContainer, {childList: true});\n",
       "}}\n",
       "\n",
       "// Listen for the clearing of the current output cell\n",
       "var outputEl = gd.closest('.output');\n",
       "if (outputEl) {{\n",
       "    x.observe(outputEl, {childList: true});\n",
       "}}\n",
       "\n",
       "                        })                };                });            </script>        </div>"
      ]
     },
     "metadata": {},
     "output_type": "display_data"
    }
   ],
   "source": [
    "fig = px.choropleth(avg_temp,locations='Country',locationmode='country names',color='AverageTemperature')\n",
    "fig.update_layout(title='Choropleth Map of AverageTemperature ',template=\"plotly_dark\")\n",
    "fig.show()"
   ]
  },
  {
   "cell_type": "code",
   "execution_count": null,
   "metadata": {},
   "outputs": [],
   "source": []
  },
  {
   "cell_type": "markdown",
   "metadata": {},
   "source": [
    "###  Sorting the countries by the average temperature and plot Horizontal Bar"
   ]
  },
  {
   "cell_type": "code",
   "execution_count": 16,
   "metadata": {},
   "outputs": [
    {
     "data": {
      "text/plain": [
       "<AxesSubplot:xlabel='AverageTemperature', ylabel='Country'>"
      ]
     },
     "execution_count": 16,
     "metadata": {},
     "output_type": "execute_result"
    },
    {
     "data": {
      "image/png": "[encoded data removed]",
      "text/plain": [
       "<Figure size 432x288 with 1 Axes>"
      ]
     },
     "metadata": {
      "needs_background": "light"
     },
     "output_type": "display_data"
    }
   ],
   "source": [
    "sns.barplot(x=avg_temp.sort_values(by='AverageTemperature',ascending=False)['AverageTemperature'][0:20],y=avg_temp.sort_values(by='AverageTemperature',ascending=False)['Country'][0:20])"
   ]
  },
  {
   "cell_type": "code",
   "execution_count": null,
   "metadata": {},
   "outputs": [],
   "source": []
  },
  {
   "cell_type": "markdown",
   "metadata": {},
   "source": [
    "## 3) Is there a global warming?"
   ]
  },
  {
   "cell_type": "markdown",
   "metadata": {},
   "source": [
    "    Let's read the data from the \"GlobalTemperatures.csv\" file, which has a monthly Earth’s temperature and plot it on the chart."
   ]
  },
  {
   "cell_type": "code",
   "execution_count": 17,
   "metadata": {},
   "outputs": [
    {
     "data": {
      "text/html": [
       "<div>\n",
       "<style scoped>\n",
       "    .dataframe tbody tr th:only-of-type {\n",
       "        vertical-align: middle;\n",
       "    }\n",
       "\n",
       "    .dataframe tbody tr th {\n",
       "        vertical-align: top;\n",
       "    }\n",
       "\n",
       "    .dataframe thead th {\n",
       "        text-align: right;\n",
       "    }\n",
       "</style>\n",
       "<table border=\"1\" class=\"dataframe\">\n",
       "  <thead>\n",
       "    <tr style=\"text-align: right;\">\n",
       "      <th></th>\n",
       "      <th>dt</th>\n",
       "      <th>LandAverageTemperature</th>\n",
       "      <th>LandAverageTemperatureUncertainty</th>\n",
       "      <th>LandMaxTemperature</th>\n",
       "      <th>LandMaxTemperatureUncertainty</th>\n",
       "      <th>LandMinTemperature</th>\n",
       "      <th>LandMinTemperatureUncertainty</th>\n",
       "      <th>LandAndOceanAverageTemperature</th>\n",
       "      <th>LandAndOceanAverageTemperatureUncertainty</th>\n",
       "    </tr>\n",
       "  </thead>\n",
       "  <tbody>\n",
       "    <tr>\n",
       "      <th>0</th>\n",
       "      <td>1750-01-01</td>\n",
       "      <td>3.034</td>\n",
       "      <td>3.574</td>\n",
       "      <td>NaN</td>\n",
       "      <td>NaN</td>\n",
       "      <td>NaN</td>\n",
       "      <td>NaN</td>\n",
       "      <td>NaN</td>\n",
       "      <td>NaN</td>\n",
       "    </tr>\n",
       "    <tr>\n",
       "      <th>1</th>\n",
       "      <td>1750-02-01</td>\n",
       "      <td>3.083</td>\n",
       "      <td>3.702</td>\n",
       "      <td>NaN</td>\n",
       "      <td>NaN</td>\n",
       "      <td>NaN</td>\n",
       "      <td>NaN</td>\n",
       "      <td>NaN</td>\n",
       "      <td>NaN</td>\n",
       "    </tr>\n",
       "    <tr>\n",
       "      <th>2</th>\n",
       "      <td>1750-03-01</td>\n",
       "      <td>5.626</td>\n",
       "      <td>3.076</td>\n",
       "      <td>NaN</td>\n",
       "      <td>NaN</td>\n",
       "      <td>NaN</td>\n",
       "      <td>NaN</td>\n",
       "      <td>NaN</td>\n",
       "      <td>NaN</td>\n",
       "    </tr>\n",
       "    <tr>\n",
       "      <th>3</th>\n",
       "      <td>1750-04-01</td>\n",
       "      <td>8.490</td>\n",
       "      <td>2.451</td>\n",
       "      <td>NaN</td>\n",
       "      <td>NaN</td>\n",
       "      <td>NaN</td>\n",
       "      <td>NaN</td>\n",
       "      <td>NaN</td>\n",
       "      <td>NaN</td>\n",
       "    </tr>\n",
       "    <tr>\n",
       "      <th>4</th>\n",
       "      <td>1750-05-01</td>\n",
       "      <td>11.573</td>\n",
       "      <td>2.072</td>\n",
       "      <td>NaN</td>\n",
       "      <td>NaN</td>\n",
       "      <td>NaN</td>\n",
       "      <td>NaN</td>\n",
       "      <td>NaN</td>\n",
       "      <td>NaN</td>\n",
       "    </tr>\n",
       "  </tbody>\n",
       "</table>\n",
       "</div>"
      ],
      "text/plain": [
       "           dt  LandAverageTemperature  LandAverageTemperatureUncertainty  \\\n",
       "0  1750-01-01                   3.034                              3.574   \n",
       "1  1750-02-01                   3.083                              3.702   \n",
       "2  1750-03-01                   5.626                              3.076   \n",
       "3  1750-04-01                   8.490                              2.451   \n",
       "4  1750-05-01                  11.573                              2.072   \n",
       "\n",
       "   LandMaxTemperature  LandMaxTemperatureUncertainty  LandMinTemperature  \\\n",
       "0                 NaN                            NaN                 NaN   \n",
       "1                 NaN                            NaN                 NaN   \n",
       "2                 NaN                            NaN                 NaN   \n",
       "3                 NaN                            NaN                 NaN   \n",
       "4                 NaN                            NaN                 NaN   \n",
       "\n",
       "   LandMinTemperatureUncertainty  LandAndOceanAverageTemperature  \\\n",
       "0                            NaN                             NaN   \n",
       "1                            NaN                             NaN   \n",
       "2                            NaN                             NaN   \n",
       "3                            NaN                             NaN   \n",
       "4                            NaN                             NaN   \n",
       "\n",
       "   LandAndOceanAverageTemperatureUncertainty  \n",
       "0                                        NaN  \n",
       "1                                        NaN  \n",
       "2                                        NaN  \n",
       "3                                        NaN  \n",
       "4                                        NaN  "
      ]
     },
     "execution_count": 17,
     "metadata": {},
     "output_type": "execute_result"
    }
   ],
   "source": [
    "global_temp = pd.read_csv('C:/Users/beemu/Downloads/GlobalTemperatures.csv')\n",
    "global_temp.head()"
   ]
  },
  {
   "cell_type": "code",
   "execution_count": 18,
   "metadata": {},
   "outputs": [
    {
     "data": {
      "text/plain": [
       "'1750'"
      ]
     },
     "execution_count": 18,
     "metadata": {},
     "output_type": "execute_result"
    }
   ],
   "source": [
    "global_temp['dt'][0].split('-')[0]"
   ]
  },
  {
   "cell_type": "code",
   "execution_count": 19,
   "metadata": {},
   "outputs": [],
   "source": [
    "def fetch_year(date):\n",
    "    return date.split('-')[0]"
   ]
  },
  {
   "cell_type": "code",
   "execution_count": 20,
   "metadata": {},
   "outputs": [],
   "source": [
    "global_temp['years']=global_temp['dt'].apply(fetch_year)"
   ]
  },
  {
   "cell_type": "code",
   "execution_count": 21,
   "metadata": {},
   "outputs": [
    {
     "data": {
      "text/html": [
       "<div>\n",
       "<style scoped>\n",
       "    .dataframe tbody tr th:only-of-type {\n",
       "        vertical-align: middle;\n",
       "    }\n",
       "\n",
       "    .dataframe tbody tr th {\n",
       "        vertical-align: top;\n",
       "    }\n",
       "\n",
       "    .dataframe thead th {\n",
       "        text-align: right;\n",
       "    }\n",
       "</style>\n",
       "<table border=\"1\" class=\"dataframe\">\n",
       "  <thead>\n",
       "    <tr style=\"text-align: right;\">\n",
       "      <th></th>\n",
       "      <th>LandAverageTemperature</th>\n",
       "      <th>LandAverageTemperatureUncertainty</th>\n",
       "    </tr>\n",
       "    <tr>\n",
       "      <th>years</th>\n",
       "      <th></th>\n",
       "      <th></th>\n",
       "    </tr>\n",
       "  </thead>\n",
       "  <tbody>\n",
       "    <tr>\n",
       "      <th>1750</th>\n",
       "      <td>8.719364</td>\n",
       "      <td>2.637818</td>\n",
       "    </tr>\n",
       "    <tr>\n",
       "      <th>1751</th>\n",
       "      <td>7.976143</td>\n",
       "      <td>2.781143</td>\n",
       "    </tr>\n",
       "    <tr>\n",
       "      <th>1752</th>\n",
       "      <td>5.779833</td>\n",
       "      <td>2.977000</td>\n",
       "    </tr>\n",
       "    <tr>\n",
       "      <th>1753</th>\n",
       "      <td>8.388083</td>\n",
       "      <td>3.176000</td>\n",
       "    </tr>\n",
       "    <tr>\n",
       "      <th>1754</th>\n",
       "      <td>8.469333</td>\n",
       "      <td>3.494250</td>\n",
       "    </tr>\n",
       "    <tr>\n",
       "      <th>...</th>\n",
       "      <td>...</td>\n",
       "      <td>...</td>\n",
       "    </tr>\n",
       "    <tr>\n",
       "      <th>2011</th>\n",
       "      <td>9.516000</td>\n",
       "      <td>0.082000</td>\n",
       "    </tr>\n",
       "    <tr>\n",
       "      <th>2012</th>\n",
       "      <td>9.507333</td>\n",
       "      <td>0.083417</td>\n",
       "    </tr>\n",
       "    <tr>\n",
       "      <th>2013</th>\n",
       "      <td>9.606500</td>\n",
       "      <td>0.097667</td>\n",
       "    </tr>\n",
       "    <tr>\n",
       "      <th>2014</th>\n",
       "      <td>9.570667</td>\n",
       "      <td>0.090167</td>\n",
       "    </tr>\n",
       "    <tr>\n",
       "      <th>2015</th>\n",
       "      <td>9.831000</td>\n",
       "      <td>0.092167</td>\n",
       "    </tr>\n",
       "  </tbody>\n",
       "</table>\n",
       "<p>266 rows × 2 columns</p>\n",
       "</div>"
      ],
      "text/plain": [
       "       LandAverageTemperature  LandAverageTemperatureUncertainty\n",
       "years                                                           \n",
       "1750                 8.719364                           2.637818\n",
       "1751                 7.976143                           2.781143\n",
       "1752                 5.779833                           2.977000\n",
       "1753                 8.388083                           3.176000\n",
       "1754                 8.469333                           3.494250\n",
       "...                       ...                                ...\n",
       "2011                 9.516000                           0.082000\n",
       "2012                 9.507333                           0.083417\n",
       "2013                 9.606500                           0.097667\n",
       "2014                 9.570667                           0.090167\n",
       "2015                 9.831000                           0.092167\n",
       "\n",
       "[266 rows x 2 columns]"
      ]
     },
     "execution_count": 21,
     "metadata": {},
     "output_type": "execute_result"
    }
   ],
   "source": [
    "global_temp.groupby('years').agg({'LandAverageTemperature':'mean','LandAverageTemperatureUncertainty':'mean'})"
   ]
  },
  {
   "cell_type": "code",
   "execution_count": 22,
   "metadata": {},
   "outputs": [
    {
     "data": {
      "text/html": [
       "<div>\n",
       "<style scoped>\n",
       "    .dataframe tbody tr th:only-of-type {\n",
       "        vertical-align: middle;\n",
       "    }\n",
       "\n",
       "    .dataframe tbody tr th {\n",
       "        vertical-align: top;\n",
       "    }\n",
       "\n",
       "    .dataframe thead th {\n",
       "        text-align: right;\n",
       "    }\n",
       "</style>\n",
       "<table border=\"1\" class=\"dataframe\">\n",
       "  <thead>\n",
       "    <tr style=\"text-align: right;\">\n",
       "      <th></th>\n",
       "      <th>years</th>\n",
       "      <th>LandAverageTemperature</th>\n",
       "      <th>LandAverageTemperatureUncertainty</th>\n",
       "    </tr>\n",
       "  </thead>\n",
       "  <tbody>\n",
       "    <tr>\n",
       "      <th>0</th>\n",
       "      <td>1750</td>\n",
       "      <td>8.719364</td>\n",
       "      <td>2.637818</td>\n",
       "    </tr>\n",
       "    <tr>\n",
       "      <th>1</th>\n",
       "      <td>1751</td>\n",
       "      <td>7.976143</td>\n",
       "      <td>2.781143</td>\n",
       "    </tr>\n",
       "    <tr>\n",
       "      <th>2</th>\n",
       "      <td>1752</td>\n",
       "      <td>5.779833</td>\n",
       "      <td>2.977000</td>\n",
       "    </tr>\n",
       "    <tr>\n",
       "      <th>3</th>\n",
       "      <td>1753</td>\n",
       "      <td>8.388083</td>\n",
       "      <td>3.176000</td>\n",
       "    </tr>\n",
       "    <tr>\n",
       "      <th>4</th>\n",
       "      <td>1754</td>\n",
       "      <td>8.469333</td>\n",
       "      <td>3.494250</td>\n",
       "    </tr>\n",
       "  </tbody>\n",
       "</table>\n",
       "</div>"
      ],
      "text/plain": [
       "  years  LandAverageTemperature  LandAverageTemperatureUncertainty\n",
       "0  1750                8.719364                           2.637818\n",
       "1  1751                7.976143                           2.781143\n",
       "2  1752                5.779833                           2.977000\n",
       "3  1753                8.388083                           3.176000\n",
       "4  1754                8.469333                           3.494250"
      ]
     },
     "execution_count": 22,
     "metadata": {},
     "output_type": "execute_result"
    }
   ],
   "source": [
    "data=global_temp.groupby('years').agg({'LandAverageTemperature':'mean','LandAverageTemperatureUncertainty':'mean'}).reset_index()\n",
    "data.head()"
   ]
  },
  {
   "cell_type": "code",
   "execution_count": 23,
   "metadata": {},
   "outputs": [],
   "source": [
    "data['Uncertainty top']=data['LandAverageTemperature']+data['LandAverageTemperatureUncertainty']\n",
    "data['Uncertainty bottom']=data['LandAverageTemperature']- data['LandAverageTemperatureUncertainty']"
   ]
  },
  {
   "cell_type": "code",
   "execution_count": 24,
   "metadata": {},
   "outputs": [
    {
     "data": {
      "text/html": [
       "<div>\n",
       "<style scoped>\n",
       "    .dataframe tbody tr th:only-of-type {\n",
       "        vertical-align: middle;\n",
       "    }\n",
       "\n",
       "    .dataframe tbody tr th {\n",
       "        vertical-align: top;\n",
       "    }\n",
       "\n",
       "    .dataframe thead th {\n",
       "        text-align: right;\n",
       "    }\n",
       "</style>\n",
       "<table border=\"1\" class=\"dataframe\">\n",
       "  <thead>\n",
       "    <tr style=\"text-align: right;\">\n",
       "      <th></th>\n",
       "      <th>years</th>\n",
       "      <th>LandAverageTemperature</th>\n",
       "      <th>LandAverageTemperatureUncertainty</th>\n",
       "      <th>Uncertainty top</th>\n",
       "      <th>Uncertainty bottom</th>\n",
       "    </tr>\n",
       "  </thead>\n",
       "  <tbody>\n",
       "    <tr>\n",
       "      <th>0</th>\n",
       "      <td>1750</td>\n",
       "      <td>8.719364</td>\n",
       "      <td>2.637818</td>\n",
       "      <td>11.357182</td>\n",
       "      <td>6.081545</td>\n",
       "    </tr>\n",
       "    <tr>\n",
       "      <th>1</th>\n",
       "      <td>1751</td>\n",
       "      <td>7.976143</td>\n",
       "      <td>2.781143</td>\n",
       "      <td>10.757286</td>\n",
       "      <td>5.195000</td>\n",
       "    </tr>\n",
       "    <tr>\n",
       "      <th>2</th>\n",
       "      <td>1752</td>\n",
       "      <td>5.779833</td>\n",
       "      <td>2.977000</td>\n",
       "      <td>8.756833</td>\n",
       "      <td>2.802833</td>\n",
       "    </tr>\n",
       "    <tr>\n",
       "      <th>3</th>\n",
       "      <td>1753</td>\n",
       "      <td>8.388083</td>\n",
       "      <td>3.176000</td>\n",
       "      <td>11.564083</td>\n",
       "      <td>5.212083</td>\n",
       "    </tr>\n",
       "    <tr>\n",
       "      <th>4</th>\n",
       "      <td>1754</td>\n",
       "      <td>8.469333</td>\n",
       "      <td>3.494250</td>\n",
       "      <td>11.963583</td>\n",
       "      <td>4.975083</td>\n",
       "    </tr>\n",
       "  </tbody>\n",
       "</table>\n",
       "</div>"
      ],
      "text/plain": [
       "  years  LandAverageTemperature  LandAverageTemperatureUncertainty  \\\n",
       "0  1750                8.719364                           2.637818   \n",
       "1  1751                7.976143                           2.781143   \n",
       "2  1752                5.779833                           2.977000   \n",
       "3  1753                8.388083                           3.176000   \n",
       "4  1754                8.469333                           3.494250   \n",
       "\n",
       "   Uncertainty top  Uncertainty bottom  \n",
       "0        11.357182            6.081545  \n",
       "1        10.757286            5.195000  \n",
       "2         8.756833            2.802833  \n",
       "3        11.564083            5.212083  \n",
       "4        11.963583            4.975083  "
      ]
     },
     "execution_count": 24,
     "metadata": {},
     "output_type": "execute_result"
    }
   ],
   "source": [
    "data.head()"
   ]
  },
  {
   "cell_type": "code",
   "execution_count": 25,
   "metadata": {},
   "outputs": [
    {
     "data": {
      "application/vnd.plotly.v1+json": {
       "config": {
        "plotlyServerURL": "https://plot.ly"
       },
       "data": [
        {
         "hovertemplate": "variable=Uncertainty top<br>years=%{x}<br>value=%{y}<extra></extra>",
         "legendgroup": "Uncertainty top",
         "line": {
          "color": "#636efa",
          "dash": "solid"
         },
         "marker": {
          "symbol": "circle"
         },
         "mode": "lines",
         "name": "Uncertainty top",
         "orientation": "v",
         "showlegend": true,
         "type": "scatter",
         "x": [
          "1750",
          "1751",
          "1752",
          "1753",
          "1754",
          "1755",
          "1756",
          "1757",
          "1758",
          "1759",
          "1760",
          "1761",
          "1762",
          "1763",
          "1764",
          "1765",
          "1766",
          "1767",
          "1768",
          "1769",
          "1770",
          "1771",
          "1772",
          "1773",
          "1774",
          "1775",
          "1776",
          "1777",
          "1778",
          "1779",
          "1780",
          "1781",
          "1782",
          "1783",
          "1784",
          "1785",
          "1786",
          "1787",
          "1788",
          "1789",
          "1790",
          "1791",
          "1792",
          "1793",
          "1794",
          "1795",
          "1796",
          "1797",
          "1798",
          "1799",
          "1800",
          "1801",
          "1802",
          "1803",
          "1804",
          "1805",
          "1806",
          "1807",
          "1808",
          "1809",
          "1810",
          "1811",
          "1812",
          "1813",
          "1814",
          "1815",
          "1816",
          "1817",
          "1818",
          "1819",
          "1820",
          "1821",
          "1822",
          "1823",
          "1824",
          "1825",
          "1826",
          "1827",
          "1828",
          "1829",
          "1830",
          "1831",
          "1832",
          "1833",
          "1834",
          "1835",
          "1836",
          "1837",
          "1838",
          "1839",
          "1840",
          "1841",
          "1842",
          "1843",
          "1844",
          "1845",
          "1846",
          "1847",
          "1848",
          "1849",
          "1850",
          "1851",
          "1852",
          "1853",
          "1854",
          "1855",
          "1856",
          "1857",
          "1858",
          "1859",
          "1860",
          "1861",
          "1862",
          "1863",
          "1864",
          "1865",
          "1866",
          "1867",
          "1868",
          "1869",
          "1870",
          "1871",
          "1872",
          "1873",
          "1874",
          "1875",
          "1876",
          "1877",
          "1878",
          "1879",
          "1880",
          "1881",
          "1882",
          "1883",
          "1884",
          "1885",
          "1886",
          "1887",
          "1888",
          "1889",
          "1890",
          "1891",
          "1892",
          "1893",
          "1894",
          "1895",
          "1896",
          "1897",
          "1898",
          "1899",
          "1900",
          "1901",
          "1902",
          "1903",
          "1904",
          "1905",
          "1906",
          "1907",
          "1908",
          "1909",
          "1910",
          "1911",
          "1912",
          "1913",
          "1914",
          "1915",
          "1916",
          "1917",
          "1918",
          "1919",
          "1920",
          "1921",
          "1922",
          "1923",
          "1924",
          "1925",
          "1926",
          "1927",
          "1928",
          "1929",
          "1930",
          "1931",
          "1932",
          "1933",
          "1934",
          "1935",
          "1936",
          "1937",
          "1938",
          "1939",
          "1940",
          "1941",
          "1942",
          "1943",
          "1944",
          "1945",
          "1946",
          "1947",
          "1948",
          "1949",
          "1950",
          "1951",
          "1952",
          "1953",
          "1954",
          "1955",
          "1956",
          "1957",
          "1958",
          "1959",
          "1960",
          "1961",
          "1962",
          "1963",
          "1964",
          "1965",
          "1966",
          "1967",
          "1968",
          "1969",
          "1970",
          "1971",
          "1972",
          "1973",
          "1974",
          "1975",
          "1976",
          "1977",
          "1978",
          "1979",
          "1980",
          "1981",
          "1982",
          "1983",
          "1984",
          "1985",
          "1986",
          "1987",
          "1988",
          "1989",
          "1990",
          "1991",
          "1992",
          "1993",
          "1994",
          "1995",
          "1996",
          "1997",
          "1998",
          "1999",
          "2000",
          "2001",
          "2002",
          "2003",
          "2004",
          "2005",
          "2006",
          "2007",
          "2008",
          "2009",
          "2010",
          "2011",
          "2012",
          "2013",
          "2014",
          "2015"
         ],
         "xaxis": "x",
         "y": [
          11.357181818181818,
          10.757285714285715,
          8.756833333333333,
          11.564083333333333,
          11.963583333333332,
          12.205916666666667,
          12.111916666666666,
          13.048,
          10.1065,
          11.664,
          10.274083333333333,
          11.917333333333332,
          12.13075,
          10.648333333333333,
          11.175583333333334,
          10.679666666666666,
          11.2415,
          11.184166666666668,
          9.047333333333334,
          10.104666666666667,
          10.472583333333333,
          10.45775,
          10.657333333333334,
          10.58225,
          12.187333333333333,
          11.503666666666668,
          11.168166666666666,
          10.699083333333332,
          11.414750000000002,
          11.489083333333333,
          12.01775,
          10.606416666666666,
          10.451833333333333,
          10.17525,
          10.117666666666665,
          9.6025,
          10.783583333333333,
          10.393583333333334,
          11.004999999999999,
          10.202833333333333,
          9.754,
          10.018,
          9.789416666666668,
          10.503583333333333,
          10.505000000000003,
          10.393666666666666,
          10.191666666666666,
          10.55625,
          10.573583333333335,
          10.244166666666668,
          10.202916666666669,
          10.171333333333333,
          10.427166666666666,
          10.136166666666666,
          10.686666666666666,
          10.251666666666665,
          10.004166666666666,
          9.873666666666667,
          9.623666666666667,
          9.211833333333333,
          9.233666666666668,
          8.955250000000001,
          9.181833333333334,
          9.44875,
          9.76025,
          9.205833333333334,
          9.130416666666667,
          8.684,
          9.658000000000001,
          8.951083333333333,
          9.235,
          9.465916666666669,
          9.563583333333334,
          9.080916666666667,
          9.995000000000001,
          9.897166666666667,
          9.916166666666665,
          10.252333333333333,
          9.813749999999999,
          9.261583333333332,
          9.948166666666667,
          9.170666666666667,
          8.990583333333333,
          9.2465,
          9.299,
          8.667833333333332,
          8.86525,
          8.666583333333334,
          8.67725,
          8.811666666666667,
          8.787416666666667,
          8.640166666666666,
          8.92025,
          8.9235,
          8.572333333333333,
          8.732666666666667,
          9.6045,
          8.986666666666666,
          8.850833333333332,
          8.898,
          8.777083333333334,
          9.060500000000001,
          9.018416666666667,
          8.876833333333334,
          9.036166666666666,
          8.997916666666667,
          8.756666666666666,
          8.50925,
          8.8,
          8.926666666666668,
          8.586833333333333,
          8.499916666666666,
          8.2475,
          8.859833333333333,
          8.66,
          8.84,
          8.898166666666667,
          9.071166666666667,
          8.79425,
          9.02775,
          8.7515,
          8.685333333333332,
          8.782916666666665,
          8.901583333333333,
          8.951416666666667,
          8.311083333333332,
          8.513583333333333,
          8.9955,
          9.254666666666665,
          8.62925,
          8.533666666666667,
          8.690249999999999,
          8.508833333333333,
          8.347583333333333,
          8.169916666666666,
          8.344666666666667,
          8.3405,
          8.307,
          8.472916666666666,
          8.688833333333335,
          8.314666666666668,
          8.354666666666667,
          8.404666666666666,
          8.402,
          8.47825,
          8.446250000000001,
          8.523750000000001,
          8.607166666666666,
          8.503666666666666,
          8.721083333333333,
          8.816333333333334,
          8.848166666666668,
          8.597166666666666,
          8.510166666666665,
          8.377333333333333,
          8.503916666666667,
          8.653999999999998,
          8.204333333333334,
          8.460833333333333,
          8.441,
          8.483083333333335,
          8.424833333333332,
          8.423833333333334,
          8.56,
          8.842416666666667,
          8.839333333333334,
          8.485666666666667,
          8.284,
          8.399083333333333,
          8.649000000000001,
          8.621416666666665,
          8.827833333333333,
          8.666583333333334,
          8.67525,
          8.763666666666667,
          8.775166666666667,
          8.971499999999999,
          8.770999999999999,
          8.880749999999999,
          8.494166666666667,
          8.873249999999999,
          8.957,
          8.954166666666666,
          8.580916666666667,
          8.868416666666667,
          8.751666666666667,
          8.797083333333333,
          8.938416666666665,
          9.104166666666668,
          8.997666666666667,
          8.995750000000001,
          8.9965,
          8.957916666666666,
          8.981666666666667,
          9.070166666666667,
          8.805166666666667,
          8.899333333333333,
          9.014166666666666,
          8.956333333333333,
          8.795,
          8.551583333333335,
          8.809833333333334,
          8.847000000000001,
          9.085833333333333,
          8.747833333333332,
          8.779833333333334,
          8.400416666666667,
          8.8905,
          8.878083333333333,
          8.839833333333333,
          8.67725,
          8.894666666666666,
          8.878833333333333,
          8.948333333333332,
          8.502166666666666,
          8.636249999999999,
          8.691583333333332,
          8.78375,
          8.628,
          8.68025,
          8.776499999999999,
          8.697166666666666,
          8.594916666666666,
          9.049,
          8.572,
          8.841916666666668,
          8.447833333333334,
          8.934916666666668,
          8.796583333333334,
          8.819833333333333,
          9.087,
          9.253083333333333,
          8.721833333333333,
          9.122166666666665,
          8.794416666666667,
          8.751249999999999,
          8.918583333333334,
          9.079583333333332,
          9.281666666666666,
          9.009999999999998,
          9.320500000000001,
          9.2415,
          8.919916666666667,
          8.947916666666666,
          9.109666666666667,
          9.4235,
          9.123666666666667,
          9.291166666666667,
          9.596583333333335,
          9.364333333333335,
          9.284666666666668,
          9.501999999999999,
          9.642833333333334,
          9.61625,
          9.408,
          9.776083333333332,
          9.6225,
          9.821666666666665,
          9.510666666666665,
          9.591166666666666,
          9.7865,
          9.598,
          9.59075,
          9.704166666666667,
          9.660833333333333,
          9.923166666666667
         ],
         "yaxis": "y"
        },
        {
         "hovertemplate": "variable=Uncertainty bottom<br>years=%{x}<br>value=%{y}<extra></extra>",
         "legendgroup": "Uncertainty bottom",
         "line": {
          "color": "#EF553B",
          "dash": "solid"
         },
         "marker": {
          "symbol": "circle"
         },
         "mode": "lines",
         "name": "Uncertainty bottom",
         "orientation": "v",
         "showlegend": true,
         "type": "scatter",
         "x": [
          "1750",
          "1751",
          "1752",
          "1753",
          "1754",
          "1755",
          "1756",
          "1757",
          "1758",
          "1759",
          "1760",
          "1761",
          "1762",
          "1763",
          "1764",
          "1765",
          "1766",
          "1767",
          "1768",
          "1769",
          "1770",
          "1771",
          "1772",
          "1773",
          "1774",
          "1775",
          "1776",
          "1777",
          "1778",
          "1779",
          "1780",
          "1781",
          "1782",
          "1783",
          "1784",
          "1785",
          "1786",
          "1787",
          "1788",
          "1789",
          "1790",
          "1791",
          "1792",
          "1793",
          "1794",
          "1795",
          "1796",
          "1797",
          "1798",
          "1799",
          "1800",
          "1801",
          "1802",
          "1803",
          "1804",
          "1805",
          "1806",
          "1807",
          "1808",
          "1809",
          "1810",
          "1811",
          "1812",
          "1813",
          "1814",
          "1815",
          "1816",
          "1817",
          "1818",
          "1819",
          "1820",
          "1821",
          "1822",
          "1823",
          "1824",
          "1825",
          "1826",
          "1827",
          "1828",
          "1829",
          "1830",
          "1831",
          "1832",
          "1833",
          "1834",
          "1835",
          "1836",
          "1837",
          "1838",
          "1839",
          "1840",
          "1841",
          "1842",
          "1843",
          "1844",
          "1845",
          "1846",
          "1847",
          "1848",
          "1849",
          "1850",
          "1851",
          "1852",
          "1853",
          "1854",
          "1855",
          "1856",
          "1857",
          "1858",
          "1859",
          "1860",
          "1861",
          "1862",
          "1863",
          "1864",
          "1865",
          "1866",
          "1867",
          "1868",
          "1869",
          "1870",
          "1871",
          "1872",
          "1873",
          "1874",
          "1875",
          "1876",
          "1877",
          "1878",
          "1879",
          "1880",
          "1881",
          "1882",
          "1883",
          "1884",
          "1885",
          "1886",
          "1887",
          "1888",
          "1889",
          "1890",
          "1891",
          "1892",
          "1893",
          "1894",
          "1895",
          "1896",
          "1897",
          "1898",
          "1899",
          "1900",
          "1901",
          "1902",
          "1903",
          "1904",
          "1905",
          "1906",
          "1907",
          "1908",
          "1909",
          "1910",
          "1911",
          "1912",
          "1913",
          "1914",
          "1915",
          "1916",
          "1917",
          "1918",
          "1919",
          "1920",
          "1921",
          "1922",
          "1923",
          "1924",
          "1925",
          "1926",
          "1927",
          "1928",
          "1929",
          "1930",
          "1931",
          "1932",
          "1933",
          "1934",
          "1935",
          "1936",
          "1937",
          "1938",
          "1939",
          "1940",
          "1941",
          "1942",
          "1943",
          "1944",
          "1945",
          "1946",
          "1947",
          "1948",
          "1949",
          "1950",
          "1951",
          "1952",
          "1953",
          "1954",
          "1955",
          "1956",
          "1957",
          "1958",
          "1959",
          "1960",
          "1961",
          "1962",
          "1963",
          "1964",
          "1965",
          "1966",
          "1967",
          "1968",
          "1969",
          "1970",
          "1971",
          "1972",
          "1973",
          "1974",
          "1975",
          "1976",
          "1977",
          "1978",
          "1979",
          "1980",
          "1981",
          "1982",
          "1983",
          "1984",
          "1985",
          "1986",
          "1987",
          "1988",
          "1989",
          "1990",
          "1991",
          "1992",
          "1993",
          "1994",
          "1995",
          "1996",
          "1997",
          "1998",
          "1999",
          "2000",
          "2001",
          "2002",
          "2003",
          "2004",
          "2005",
          "2006",
          "2007",
          "2008",
          "2009",
          "2010",
          "2011",
          "2012",
          "2013",
          "2014",
          "2015"
         ],
         "xaxis": "x",
         "y": [
          6.081545454545456,
          5.194999999999999,
          2.802833333333333,
          5.212083333333332,
          4.975083333333334,
          4.50525,
          5.587250000000001,
          4.996,
          3.3806666666666665,
          4.306166666666666,
          4.0962499999999995,
          5.627666666666666,
          5.08225,
          4.345166666666666,
          5.625083333333334,
          5.824166666666667,
          5.569833333333333,
          5.2588333333333335,
          4.515333333333333,
          5.2844999999999995,
          4.91125,
          5.248583333333333,
          5.729666666666667,
          5.860750000000001,
          5.357000000000001,
          6.862500000000001,
          5.439833333333334,
          5.813416666666667,
          5.6697500000000005,
          6.477416666666667,
          6.8480833333333315,
          5.598750000000001,
          5.350666666666667,
          5.186416666666666,
          5.606333333333333,
          5.1235,
          5.732749999999999,
          5.6700833333333325,
          5.889333333333333,
          6.4655,
          6.210666666666667,
          6.450500000000001,
          6.388583333333334,
          5.954749999999999,
          6.5470000000000015,
          6.307,
          6.3503333333333325,
          6.4649166666666655,
          6.766916666666668,
          6.767333333333334,
          6.765583333333335,
          7.007999999999999,
          6.729166666666666,
          6.869833333333333,
          7.002999999999998,
          6.873833333333333,
          6.864,
          6.689166666666667,
          5.63,
          4.941000000000001,
          4.611666666666667,
          4.76375,
          4.910666666666666,
          6.031083333333333,
          5.42325,
          5.272833333333334,
          4.744583333333333,
          5.267333333333333,
          5.999833333333334,
          5.787249999999999,
          5.9975,
          6.714250000000001,
          6.813083333333334,
          6.356416666666666,
          7.099333333333334,
          6.8815,
          6.797,
          7.365166666666666,
          6.516916666666666,
          6.622083333333332,
          7.085333333333334,
          6.107666666666667,
          5.909750000000001,
          6.7795,
          6.994499999999999,
          6.117166666666666,
          6.526416666666667,
          6.08475,
          6.3525833333333335,
          6.452833333333333,
          6.805083333333334,
          6.736166666666667,
          7.12525,
          7.423833333333334,
          6.7203333333333335,
          6.969666666666667,
          7.5009999999999994,
          7.185333333333333,
          7.108166666666666,
          7.070833333333334,
          7.02425,
          7.296666666666667,
          7.181916666666666,
          7.206833333333333,
          7.384833333333333,
          7.223583333333333,
          7.235166666666666,
          7.007083333333334,
          7.400500000000001,
          7.577333333333334,
          7.334833333333333,
          7.193083333333333,
          6.869666666666667,
          7.363833333333333,
          7.307166666666666,
          7.515666666666667,
          7.686166666666667,
          7.801500000000001,
          7.701583333333334,
          7.836416666666667,
          7.651166666666666,
          7.544833333333333,
          7.604749999999999,
          7.800583333333334,
          7.915583333333334,
          7.408083333333333,
          7.646583333333332,
          8.083666666666666,
          8.404833333333332,
          7.702416666666667,
          7.703833333333334,
          7.851583333333333,
          7.7490000000000006,
          7.60625,
          7.377416666666666,
          7.494666666666667,
          7.5685,
          7.522833333333333,
          7.708083333333334,
          7.949166666666668,
          7.628666666666667,
          7.684,
          7.7269999999999985,
          7.711499999999999,
          7.84375,
          7.8477500000000004,
          7.906083333333334,
          7.9795,
          7.852333333333332,
          8.071583333333333,
          8.186833333333334,
          8.235666666666667,
          8.011666666666667,
          7.930166666666666,
          7.8045,
          7.946416666666667,
          8.104166666666666,
          7.69,
          7.911333333333334,
          7.915500000000001,
          7.9629166666666675,
          7.929166666666666,
          7.907000000000001,
          8.0355,
          8.338583333333334,
          8.347,
          7.964833333333334,
          7.762666666666667,
          7.862583333333333,
          8.1155,
          8.096083333333333,
          8.314166666666667,
          8.149416666666665,
          8.169083333333335,
          8.250000000000002,
          8.293666666666667,
          8.486166666666666,
          8.273166666666667,
          8.383583333333334,
          7.990666666666667,
          8.393916666666666,
          8.4815,
          8.456333333333333,
          8.095583333333334,
          8.388250000000001,
          8.279833333333334,
          8.310916666666667,
          8.45825,
          8.623166666666666,
          8.523,
          8.533583333333333,
          8.540833333333333,
          8.498916666666666,
          8.5285,
          8.619833333333334,
          8.364500000000001,
          8.454500000000001,
          8.58,
          8.537166666666668,
          8.3785,
          8.178916666666668,
          8.441500000000001,
          8.4295,
          8.661666666666665,
          8.3735,
          8.472666666666667,
          8.15875,
          8.5745,
          8.669416666666667,
          8.6255,
          8.49025,
          8.700666666666667,
          8.613,
          8.763666666666667,
          8.317166666666667,
          8.418583333333332,
          8.507083333333332,
          8.616416666666668,
          8.404666666666667,
          8.509916666666667,
          8.625333333333334,
          8.501333333333333,
          8.404250000000001,
          8.8475,
          8.363,
          8.64775,
          8.246666666666668,
          8.765583333333334,
          8.588916666666666,
          8.647,
          8.873666666666665,
          9.078583333333334,
          8.5565,
          8.934166666666666,
          8.58925,
          8.56475,
          8.748583333333332,
          8.90925,
          9.121500000000001,
          8.834,
          9.147833333333333,
          9.117333333333333,
          8.75325,
          8.78525,
          8.967833333333333,
          9.270666666666667,
          8.954166666666667,
          9.113999999999999,
          9.44875,
          9.205833333333334,
          9.117666666666667,
          9.327166666666667,
          9.498,
          9.434916666666666,
          9.241166666666667,
          9.62575,
          9.4425,
          9.642666666666667,
          9.352833333333333,
          9.419333333333334,
          9.619666666666667,
          9.434,
          9.423916666666667,
          9.508833333333333,
          9.4805,
          9.738833333333332
         ],
         "yaxis": "y"
        },
        {
         "hovertemplate": "variable=LandAverageTemperature<br>years=%{x}<br>value=%{y}<extra></extra>",
         "legendgroup": "LandAverageTemperature",
         "line": {
          "color": "#00cc96",
          "dash": "solid"
         },
         "marker": {
          "symbol": "circle"
         },
         "mode": "lines",
         "name": "LandAverageTemperature",
         "orientation": "v",
         "showlegend": true,
         "type": "scatter",
         "x": [
          "1750",
          "1751",
          "1752",
          "1753",
          "1754",
          "1755",
          "1756",
          "1757",
          "1758",
          "1759",
          "1760",
          "1761",
          "1762",
          "1763",
          "1764",
          "1765",
          "1766",
          "1767",
          "1768",
          "1769",
          "1770",
          "1771",
          "1772",
          "1773",
          "1774",
          "1775",
          "1776",
          "1777",
          "1778",
          "1779",
          "1780",
          "1781",
          "1782",
          "1783",
          "1784",
          "1785",
          "1786",
          "1787",
          "1788",
          "1789",
          "1790",
          "1791",
          "1792",
          "1793",
          "1794",
          "1795",
          "1796",
          "1797",
          "1798",
          "1799",
          "1800",
          "1801",
          "1802",
          "1803",
          "1804",
          "1805",
          "1806",
          "1807",
          "1808",
          "1809",
          "1810",
          "1811",
          "1812",
          "1813",
          "1814",
          "1815",
          "1816",
          "1817",
          "1818",
          "1819",
          "1820",
          "1821",
          "1822",
          "1823",
          "1824",
          "1825",
          "1826",
          "1827",
          "1828",
          "1829",
          "1830",
          "1831",
          "1832",
          "1833",
          "1834",
          "1835",
          "1836",
          "1837",
          "1838",
          "1839",
          "1840",
          "1841",
          "1842",
          "1843",
          "1844",
          "1845",
          "1846",
          "1847",
          "1848",
          "1849",
          "1850",
          "1851",
          "1852",
          "1853",
          "1854",
          "1855",
          "1856",
          "1857",
          "1858",
          "1859",
          "1860",
          "1861",
          "1862",
          "1863",
          "1864",
          "1865",
          "1866",
          "1867",
          "1868",
          "1869",
          "1870",
          "1871",
          "1872",
          "1873",
          "1874",
          "1875",
          "1876",
          "1877",
          "1878",
          "1879",
          "1880",
          "1881",
          "1882",
          "1883",
          "1884",
          "1885",
          "1886",
          "1887",
          "1888",
          "1889",
          "1890",
          "1891",
          "1892",
          "1893",
          "1894",
          "1895",
          "1896",
          "1897",
          "1898",
          "1899",
          "1900",
          "1901",
          "1902",
          "1903",
          "1904",
          "1905",
          "1906",
          "1907",
          "1908",
          "1909",
          "1910",
          "1911",
          "1912",
          "1913",
          "1914",
          "1915",
          "1916",
          "1917",
          "1918",
          "1919",
          "1920",
          "1921",
          "1922",
          "1923",
          "1924",
          "1925",
          "1926",
          "1927",
          "1928",
          "1929",
          "1930",
          "1931",
          "1932",
          "1933",
          "1934",
          "1935",
          "1936",
          "1937",
          "1938",
          "1939",
          "1940",
          "1941",
          "1942",
          "1943",
          "1944",
          "1945",
          "1946",
          "1947",
          "1948",
          "1949",
          "1950",
          "1951",
          "1952",
          "1953",
          "1954",
          "1955",
          "1956",
          "1957",
          "1958",
          "1959",
          "1960",
          "1961",
          "1962",
          "1963",
          "1964",
          "1965",
          "1966",
          "1967",
          "1968",
          "1969",
          "1970",
          "1971",
          "1972",
          "1973",
          "1974",
          "1975",
          "1976",
          "1977",
          "1978",
          "1979",
          "1980",
          "1981",
          "1982",
          "1983",
          "1984",
          "1985",
          "1986",
          "1987",
          "1988",
          "1989",
          "1990",
          "1991",
          "1992",
          "1993",
          "1994",
          "1995",
          "1996",
          "1997",
          "1998",
          "1999",
          "2000",
          "2001",
          "2002",
          "2003",
          "2004",
          "2005",
          "2006",
          "2007",
          "2008",
          "2009",
          "2010",
          "2011",
          "2012",
          "2013",
          "2014",
          "2015"
         ],
         "xaxis": "x",
         "y": [
          8.719363636363637,
          7.9761428571428565,
          5.779833333333333,
          8.388083333333332,
          8.469333333333333,
          8.355583333333334,
          8.849583333333333,
          9.022,
          6.7435833333333335,
          7.985083333333333,
          7.1851666666666665,
          8.772499999999999,
          8.6065,
          7.49675,
          8.400333333333334,
          8.251916666666666,
          8.405666666666667,
          8.2215,
          6.781333333333333,
          7.694583333333333,
          7.691916666666667,
          7.853166666666667,
          8.1935,
          8.2215,
          8.772166666666667,
          9.183083333333334,
          8.304,
          8.25625,
          8.542250000000001,
          8.98325,
          9.432916666666666,
          8.102583333333333,
          7.90125,
          7.680833333333333,
          7.861999999999999,
          7.3629999999999995,
          8.258166666666666,
          8.031833333333333,
          8.447166666666666,
          8.334166666666667,
          7.982333333333333,
          8.234250000000001,
          8.089,
          8.229166666666666,
          8.526000000000002,
          8.350333333333333,
          8.270999999999999,
          8.510583333333333,
          8.670250000000001,
          8.50575,
          8.484250000000001,
          8.589666666666666,
          8.578166666666666,
          8.503,
          8.844833333333332,
          8.56275,
          8.434083333333334,
          8.281416666666667,
          7.626833333333333,
          7.076416666666667,
          6.922666666666667,
          6.859500000000001,
          7.04625,
          7.739916666666667,
          7.59175,
          7.239333333333334,
          6.9375,
          6.975666666666666,
          7.828916666666667,
          7.369166666666666,
          7.61625,
          8.090083333333334,
          8.188333333333334,
          7.718666666666667,
          8.547166666666667,
          8.389333333333333,
          8.356583333333333,
          8.80875,
          8.165333333333333,
          7.941833333333332,
          8.51675,
          7.639166666666667,
          7.450166666666667,
          8.013,
          8.146749999999999,
          7.392499999999999,
          7.695833333333334,
          7.375666666666667,
          7.514916666666667,
          7.63225,
          7.796250000000001,
          7.688166666666667,
          8.02275,
          8.173666666666668,
          7.646333333333334,
          7.851166666666667,
          8.55275,
          8.086,
          7.979499999999999,
          7.984416666666667,
          7.900666666666667,
          8.178583333333334,
          8.100166666666667,
          8.041833333333333,
          8.2105,
          8.11075,
          7.995916666666666,
          7.758166666666667,
          8.10025,
          8.252,
          7.960833333333333,
          7.8465,
          7.558583333333334,
          8.111833333333333,
          7.983583333333333,
          8.177833333333334,
          8.292166666666667,
          8.436333333333334,
          8.247916666666667,
          8.432083333333333,
          8.201333333333332,
          8.115083333333333,
          8.193833333333332,
          8.351083333333333,
          8.4335,
          7.859583333333333,
          8.080083333333333,
          8.539583333333333,
          8.829749999999999,
          8.165833333333333,
          8.11875,
          8.270916666666666,
          8.128916666666667,
          7.976916666666667,
          7.773666666666666,
          7.919666666666667,
          7.9545,
          7.914916666666667,
          8.0905,
          8.319,
          7.971666666666667,
          8.019333333333334,
          8.065833333333332,
          8.05675,
          8.161,
          8.147,
          8.214916666666667,
          8.293333333333333,
          8.177999999999999,
          8.396333333333333,
          8.501583333333334,
          8.541916666666667,
          8.304416666666667,
          8.220166666666666,
          8.090916666666667,
          8.225166666666667,
          8.379083333333332,
          7.947166666666667,
          8.186083333333334,
          8.17825,
          8.223,
          8.177,
          8.165416666666667,
          8.29775,
          8.5905,
          8.593166666666667,
          8.22525,
          8.023333333333333,
          8.130833333333333,
          8.38225,
          8.358749999999999,
          8.571,
          8.408,
          8.422166666666667,
          8.506833333333335,
          8.534416666666667,
          8.728833333333332,
          8.522083333333333,
          8.632166666666667,
          8.242416666666667,
          8.633583333333332,
          8.71925,
          8.70525,
          8.33825,
          8.628333333333334,
          8.51575,
          8.554,
          8.698333333333332,
          8.863666666666667,
          8.760333333333334,
          8.764666666666667,
          8.768666666666666,
          8.728416666666666,
          8.755083333333333,
          8.845,
          8.584833333333334,
          8.676916666666667,
          8.797083333333333,
          8.74675,
          8.58675,
          8.365250000000001,
          8.625666666666667,
          8.638250000000001,
          8.87375,
          8.560666666666666,
          8.62625,
          8.279583333333333,
          8.7325,
          8.77375,
          8.732666666666667,
          8.58375,
          8.797666666666666,
          8.745916666666666,
          8.856,
          8.409666666666666,
          8.527416666666666,
          8.599333333333332,
          8.700083333333334,
          8.516333333333334,
          8.595083333333333,
          8.700916666666666,
          8.59925,
          8.499583333333334,
          8.94825,
          8.4675,
          8.744833333333334,
          8.34725,
          8.85025,
          8.69275,
          8.733416666666667,
          8.980333333333332,
          9.165833333333333,
          8.639166666666666,
          9.028166666666666,
          8.691833333333333,
          8.658,
          8.833583333333333,
          8.994416666666666,
          9.201583333333334,
          8.921999999999999,
          9.234166666666667,
          9.179416666666667,
          8.836583333333333,
          8.866583333333333,
          9.03875,
          9.347083333333334,
          9.038916666666667,
          9.202583333333333,
          9.522666666666668,
          9.285083333333334,
          9.201166666666667,
          9.414583333333333,
          9.570416666666667,
          9.525583333333334,
          9.324583333333333,
          9.700916666666666,
          9.5325,
          9.732166666666666,
          9.43175,
          9.50525,
          9.703083333333334,
          9.516,
          9.507333333333333,
          9.6065,
          9.570666666666666,
          9.831
         ],
         "yaxis": "y"
        }
       ],
       "layout": {
        "legend": {
         "title": {
          "text": "variable"
         },
         "tracegroupgap": 0
        },
        "template": {
         "data": {
          "bar": [
           {
            "error_x": {
             "color": "#f2f5fa"
            },
            "error_y": {
             "color": "#f2f5fa"
            },
            "marker": {
             "line": {
              "color": "rgb(17,17,17)",
              "width": 0.5
             },
             "pattern": {
              "fillmode": "overlay",
              "size": 10,
              "solidity": 0.2
             }
            },
            "type": "bar"
           }
          ],
          "barpolar": [
           {
            "marker": {
             "line": {
              "color": "rgb(17,17,17)",
              "width": 0.5
             },
             "pattern": {
              "fillmode": "overlay",
              "size": 10,
              "solidity": 0.2
             }
            },
            "type": "barpolar"
           }
          ],
          "carpet": [
           {
            "aaxis": {
             "endlinecolor": "#A2B1C6",
             "gridcolor": "#506784",
             "linecolor": "#506784",
             "minorgridcolor": "#506784",
             "startlinecolor": "#A2B1C6"
            },
            "baxis": {
             "endlinecolor": "#A2B1C6",
             "gridcolor": "#506784",
             "linecolor": "#506784",
             "minorgridcolor": "#506784",
             "startlinecolor": "#A2B1C6"
            },
            "type": "carpet"
           }
          ],
          "choropleth": [
           {
            "colorbar": {
             "outlinewidth": 0,
             "ticks": ""
            },
            "type": "choropleth"
           }
          ],
          "contour": [
           {
            "colorbar": {
             "outlinewidth": 0,
             "ticks": ""
            },
            "colorscale": [
             [
              0,
              "#0d0887"
             ],
             [
              0.1111111111111111,
              "#46039f"
             ],
             [
              0.2222222222222222,
              "#7201a8"
             ],
             [
              0.3333333333333333,
              "#9c179e"
             ],
             [
              0.4444444444444444,
              "#bd3786"
             ],
             [
              0.5555555555555556,
              "#d8576b"
             ],
             [
              0.6666666666666666,
              "#ed7953"
             ],
             [
              0.7777777777777778,
              "#fb9f3a"
             ],
             [
              0.8888888888888888,
              "#fdca26"
             ],
             [
              1,
              "#f0f921"
             ]
            ],
            "type": "contour"
           }
          ],
          "contourcarpet": [
           {
            "colorbar": {
             "outlinewidth": 0,
             "ticks": ""
            },
            "type": "contourcarpet"
           }
          ],
          "heatmap": [
           {
            "colorbar": {
             "outlinewidth": 0,
             "ticks": ""
            },
            "colorscale": [
             [
              0,
              "#0d0887"
             ],
             [
              0.1111111111111111,
              "#46039f"
             ],
             [
              0.2222222222222222,
              "#7201a8"
             ],
             [
              0.3333333333333333,
              "#9c179e"
             ],
             [
              0.4444444444444444,
              "#bd3786"
             ],
             [
              0.5555555555555556,
              "#d8576b"
             ],
             [
              0.6666666666666666,
              "#ed7953"
             ],
             [
              0.7777777777777778,
              "#fb9f3a"
             ],
             [
              0.8888888888888888,
              "#fdca26"
             ],
             [
              1,
              "#f0f921"
             ]
            ],
            "type": "heatmap"
           }
          ],
          "heatmapgl": [
           {
            "colorbar": {
             "outlinewidth": 0,
             "ticks": ""
            },
            "colorscale": [
             [
              0,
              "#0d0887"
             ],
             [
              0.1111111111111111,
              "#46039f"
             ],
             [
              0.2222222222222222,
              "#7201a8"
             ],
             [
              0.3333333333333333,
              "#9c179e"
             ],
             [
              0.4444444444444444,
              "#bd3786"
             ],
             [
              0.5555555555555556,
              "#d8576b"
             ],
             [
              0.6666666666666666,
              "#ed7953"
             ],
             [
              0.7777777777777778,
              "#fb9f3a"
             ],
             [
              0.8888888888888888,
              "#fdca26"
             ],
             [
              1,
              "#f0f921"
             ]
            ],
            "type": "heatmapgl"
           }
          ],
          "histogram": [
           {
            "marker": {
             "pattern": {
              "fillmode": "overlay",
              "size": 10,
              "solidity": 0.2
             }
            },
            "type": "histogram"
           }
          ],
          "histogram2d": [
           {
            "colorbar": {
             "outlinewidth": 0,
             "ticks": ""
            },
            "colorscale": [
             [
              0,
              "#0d0887"
             ],
             [
              0.1111111111111111,
              "#46039f"
             ],
             [
              0.2222222222222222,
              "#7201a8"
             ],
             [
              0.3333333333333333,
              "#9c179e"
             ],
             [
              0.4444444444444444,
              "#bd3786"
             ],
             [
              0.5555555555555556,
              "#d8576b"
             ],
             [
              0.6666666666666666,
              "#ed7953"
             ],
             [
              0.7777777777777778,
              "#fb9f3a"
             ],
             [
              0.8888888888888888,
              "#fdca26"
             ],
             [
              1,
              "#f0f921"
             ]
            ],
            "type": "histogram2d"
           }
          ],
          "histogram2dcontour": [
           {
            "colorbar": {
             "outlinewidth": 0,
             "ticks": ""
            },
            "colorscale": [
             [
              0,
              "#0d0887"
             ],
             [
              0.1111111111111111,
              "#46039f"
             ],
             [
              0.2222222222222222,
              "#7201a8"
             ],
             [
              0.3333333333333333,
              "#9c179e"
             ],
             [
              0.4444444444444444,
              "#bd3786"
             ],
             [
              0.5555555555555556,
              "#d8576b"
             ],
             [
              0.6666666666666666,
              "#ed7953"
             ],
             [
              0.7777777777777778,
              "#fb9f3a"
             ],
             [
              0.8888888888888888,
              "#fdca26"
             ],
             [
              1,
              "#f0f921"
             ]
            ],
            "type": "histogram2dcontour"
           }
          ],
          "mesh3d": [
           {
            "colorbar": {
             "outlinewidth": 0,
             "ticks": ""
            },
            "type": "mesh3d"
           }
          ],
          "parcoords": [
           {
            "line": {
             "colorbar": {
              "outlinewidth": 0,
              "ticks": ""
             }
            },
            "type": "parcoords"
           }
          ],
          "pie": [
           {
            "automargin": true,
            "type": "pie"
           }
          ],
          "scatter": [
           {
            "marker": {
             "line": {
              "color": "#283442"
             }
            },
            "type": "scatter"
           }
          ],
          "scatter3d": [
           {
            "line": {
             "colorbar": {
              "outlinewidth": 0,
              "ticks": ""
             }
            },
            "marker": {
             "colorbar": {
              "outlinewidth": 0,
              "ticks": ""
             }
            },
            "type": "scatter3d"
           }
          ],
          "scattercarpet": [
           {
            "marker": {
             "colorbar": {
              "outlinewidth": 0,
              "ticks": ""
             }
            },
            "type": "scattercarpet"
           }
          ],
          "scattergeo": [
           {
            "marker": {
             "colorbar": {
              "outlinewidth": 0,
              "ticks": ""
             }
            },
            "type": "scattergeo"
           }
          ],
          "scattergl": [
           {
            "marker": {
             "line": {
              "color": "#283442"
             }
            },
            "type": "scattergl"
           }
          ],
          "scattermapbox": [
           {
            "marker": {
             "colorbar": {
              "outlinewidth": 0,
              "ticks": ""
             }
            },
            "type": "scattermapbox"
           }
          ],
          "scatterpolar": [
           {
            "marker": {
             "colorbar": {
              "outlinewidth": 0,
              "ticks": ""
             }
            },
            "type": "scatterpolar"
           }
          ],
          "scatterpolargl": [
           {
            "marker": {
             "colorbar": {
              "outlinewidth": 0,
              "ticks": ""
             }
            },
            "type": "scatterpolargl"
           }
          ],
          "scatterternary": [
           {
            "marker": {
             "colorbar": {
              "outlinewidth": 0,
              "ticks": ""
             }
            },
            "type": "scatterternary"
           }
          ],
          "surface": [
           {
            "colorbar": {
             "outlinewidth": 0,
             "ticks": ""
            },
            "colorscale": [
             [
              0,
              "#0d0887"
             ],
             [
              0.1111111111111111,
              "#46039f"
             ],
             [
              0.2222222222222222,
              "#7201a8"
             ],
             [
              0.3333333333333333,
              "#9c179e"
             ],
             [
              0.4444444444444444,
              "#bd3786"
             ],
             [
              0.5555555555555556,
              "#d8576b"
             ],
             [
              0.6666666666666666,
              "#ed7953"
             ],
             [
              0.7777777777777778,
              "#fb9f3a"
             ],
             [
              0.8888888888888888,
              "#fdca26"
             ],
             [
              1,
              "#f0f921"
             ]
            ],
            "type": "surface"
           }
          ],
          "table": [
           {
            "cells": {
             "fill": {
              "color": "#506784"
             },
             "line": {
              "color": "rgb(17,17,17)"
             }
            },
            "header": {
             "fill": {
              "color": "#2a3f5f"
             },
             "line": {
              "color": "rgb(17,17,17)"
             }
            },
            "type": "table"
           }
          ]
         },
         "layout": {
          "annotationdefaults": {
           "arrowcolor": "#f2f5fa",
           "arrowhead": 0,
           "arrowwidth": 1
          },
          "autotypenumbers": "strict",
          "coloraxis": {
           "colorbar": {
            "outlinewidth": 0,
            "ticks": ""
           }
          },
          "colorscale": {
           "diverging": [
            [
             0,
             "#8e0152"
            ],
            [
             0.1,
             "#c51b7d"
            ],
            [
             0.2,
             "#de77ae"
            ],
            [
             0.3,
             "#f1b6da"
            ],
            [
             0.4,
             "#fde0ef"
            ],
            [
             0.5,
             "#f7f7f7"
            ],
            [
             0.6,
             "#e6f5d0"
            ],
            [
             0.7,
             "#b8e186"
            ],
            [
             0.8,
             "#7fbc41"
            ],
            [
             0.9,
             "#4d9221"
            ],
            [
             1,
             "#276419"
            ]
           ],
           "sequential": [
            [
             0,
             "#0d0887"
            ],
            [
             0.1111111111111111,
             "#46039f"
            ],
            [
             0.2222222222222222,
             "#7201a8"
            ],
            [
             0.3333333333333333,
             "#9c179e"
            ],
            [
             0.4444444444444444,
             "#bd3786"
            ],
            [
             0.5555555555555556,
             "#d8576b"
            ],
            [
             0.6666666666666666,
             "#ed7953"
            ],
            [
             0.7777777777777778,
             "#fb9f3a"
            ],
            [
             0.8888888888888888,
             "#fdca26"
            ],
            [
             1,
             "#f0f921"
            ]
           ],
           "sequentialminus": [
            [
             0,
             "#0d0887"
            ],
            [
             0.1111111111111111,
             "#46039f"
            ],
            [
             0.2222222222222222,
             "#7201a8"
            ],
            [
             0.3333333333333333,
             "#9c179e"
            ],
            [
             0.4444444444444444,
             "#bd3786"
            ],
            [
             0.5555555555555556,
             "#d8576b"
            ],
            [
             0.6666666666666666,
             "#ed7953"
            ],
            [
             0.7777777777777778,
             "#fb9f3a"
            ],
            [
             0.8888888888888888,
             "#fdca26"
            ],
            [
             1,
             "#f0f921"
            ]
           ]
          },
          "colorway": [
           "#636efa",
           "#EF553B",
           "#00cc96",
           "#ab63fa",
           "#FFA15A",
           "#19d3f3",
           "#FF6692",
           "#B6E880",
           "#FF97FF",
           "#FECB52"
          ],
          "font": {
           "color": "#f2f5fa"
          },
          "geo": {
           "bgcolor": "rgb(17,17,17)",
           "lakecolor": "rgb(17,17,17)",
           "landcolor": "rgb(17,17,17)",
           "showlakes": true,
           "showland": true,
           "subunitcolor": "#506784"
          },
          "hoverlabel": {
           "align": "left"
          },
          "hovermode": "closest",
          "mapbox": {
           "style": "dark"
          },
          "paper_bgcolor": "rgb(17,17,17)",
          "plot_bgcolor": "rgb(17,17,17)",
          "polar": {
           "angularaxis": {
            "gridcolor": "#506784",
            "linecolor": "#506784",
            "ticks": ""
           },
           "bgcolor": "rgb(17,17,17)",
           "radialaxis": {
            "gridcolor": "#506784",
            "linecolor": "#506784",
            "ticks": ""
           }
          },
          "scene": {
           "xaxis": {
            "backgroundcolor": "rgb(17,17,17)",
            "gridcolor": "#506784",
            "gridwidth": 2,
            "linecolor": "#506784",
            "showbackground": true,
            "ticks": "",
            "zerolinecolor": "#C8D4E3"
           },
           "yaxis": {
            "backgroundcolor": "rgb(17,17,17)",
            "gridcolor": "#506784",
            "gridwidth": 2,
            "linecolor": "#506784",
            "showbackground": true,
            "ticks": "",
            "zerolinecolor": "#C8D4E3"
           },
           "zaxis": {
            "backgroundcolor": "rgb(17,17,17)",
            "gridcolor": "#506784",
            "gridwidth": 2,
            "linecolor": "#506784",
            "showbackground": true,
            "ticks": "",
            "zerolinecolor": "#C8D4E3"
           }
          },
          "shapedefaults": {
           "line": {
            "color": "#f2f5fa"
           }
          },
          "sliderdefaults": {
           "bgcolor": "#C8D4E3",
           "bordercolor": "rgb(17,17,17)",
           "borderwidth": 1,
           "tickwidth": 0
          },
          "ternary": {
           "aaxis": {
            "gridcolor": "#506784",
            "linecolor": "#506784",
            "ticks": ""
           },
           "baxis": {
            "gridcolor": "#506784",
            "linecolor": "#506784",
            "ticks": ""
           },
           "bgcolor": "rgb(17,17,17)",
           "caxis": {
            "gridcolor": "#506784",
            "linecolor": "#506784",
            "ticks": ""
           }
          },
          "title": {
           "x": 0.05
          },
          "updatemenudefaults": {
           "bgcolor": "#506784",
           "borderwidth": 0
          },
          "xaxis": {
           "automargin": true,
           "gridcolor": "#283442",
           "linecolor": "#506784",
           "ticks": "",
           "title": {
            "standoff": 15
           },
           "zerolinecolor": "#283442",
           "zerolinewidth": 2
          },
          "yaxis": {
           "automargin": true,
           "gridcolor": "#283442",
           "linecolor": "#506784",
           "ticks": "",
           "title": {
            "standoff": 15
           },
           "zerolinecolor": "#283442",
           "zerolinewidth": 2
          }
         }
        },
        "title": {
         "text": "Average Land Temperature in World"
        },
        "xaxis": {
         "anchor": "y",
         "domain": [
          0,
          1
         ],
         "title": {
          "text": "years"
         }
        },
        "yaxis": {
         "anchor": "x",
         "domain": [
          0,
          1
         ],
         "title": {
          "text": "value"
         }
        }
       }
      },
      "text/html": [
       "<div>                            <div id=\"e97295fd-37e0-478a-8bba-f08edbcba58b\" class=\"plotly-graph-div\" style=\"height:525px; width:100%;\"></div>            <script type=\"text/javascript\">                require([\"plotly\"], function(Plotly) {                    window.PLOTLYENV=window.PLOTLYENV || {};                                    if (document.getElementById(\"e97295fd-37e0-478a-8bba-f08edbcba58b\")) {                    Plotly.newPlot(                        \"e97295fd-37e0-478a-8bba-f08edbcba58b\",                        [{\"hovertemplate\":\"variable=Uncertainty top<br>years=%{x}<br>value=%{y}<extra></extra>\",\"legendgroup\":\"Uncertainty top\",\"line\":{\"color\":\"#636efa\",\"dash\":\"solid\"},\"marker\":{\"symbol\":\"circle\"},\"mode\":\"lines\",\"name\":\"Uncertainty top\",\"orientation\":\"v\",\"showlegend\":true,\"x\":[\"1750\",\"1751\",\"1752\",\"1753\",\"1754\",\"1755\",\"1756\",\"1757\",\"1758\",\"1759\",\"1760\",\"1761\",\"1762\",\"1763\",\"1764\",\"1765\",\"1766\",\"1767\",\"1768\",\"1769\",\"1770\",\"1771\",\"1772\",\"1773\",\"1774\",\"1775\",\"1776\",\"1777\",\"1778\",\"1779\",\"1780\",\"1781\",\"1782\",\"1783\",\"1784\",\"1785\",\"1786\",\"1787\",\"1788\",\"1789\",\"1790\",\"1791\",\"1792\",\"1793\",\"1794\",\"1795\",\"1796\",\"1797\",\"1798\",\"1799\",\"1800\",\"1801\",\"1802\",\"1803\",\"1804\",\"1805\",\"1806\",\"1807\",\"1808\",\"1809\",\"1810\",\"1811\",\"1812\",\"1813\",\"1814\",\"1815\",\"1816\",\"1817\",\"1818\",\"1819\",\"1820\",\"1821\",\"1822\",\"1823\",\"1824\",\"1825\",\"1826\",\"1827\",\"1828\",\"1829\",\"1830\",\"1831\",\"1832\",\"1833\",\"1834\",\"1835\",\"1836\",\"1837\",\"1838\",\"1839\",\"1840\",\"1841\",\"1842\",\"1843\",\"1844\",\"1845\",\"1846\",\"1847\",\"1848\",\"1849\",\"1850\",\"1851\",\"1852\",\"1853\",\"1854\",\"1855\",\"1856\",\"1857\",\"1858\",\"1859\",\"1860\",\"1861\",\"1862\",\"1863\",\"1864\",\"1865\",\"1866\",\"1867\",\"1868\",\"1869\",\"1870\",\"1871\",\"1872\",\"1873\",\"1874\",\"1875\",\"1876\",\"1877\",\"1878\",\"1879\",\"1880\",\"1881\",\"1882\",\"1883\",\"1884\",\"1885\",\"1886\",\"1887\",\"1888\",\"1889\",\"1890\",\"1891\",\"1892\",\"1893\",\"1894\",\"1895\",\"1896\",\"1897\",\"1898\",\"1899\",\"1900\",\"1901\",\"1902\",\"1903\",\"1904\",\"1905\",\"1906\",\"1907\",\"1908\",\"1909\",\"1910\",\"1911\",\"1912\",\"1913\",\"1914\",\"1915\",\"1916\",\"1917\",\"1918\",\"1919\",\"1920\",\"1921\",\"1922\",\"1923\",\"1924\",\"1925\",\"1926\",\"1927\",\"1928\",\"1929\",\"1930\",\"1931\",\"1932\",\"1933\",\"1934\",\"1935\",\"1936\",\"1937\",\"1938\",\"1939\",\"1940\",\"1941\",\"1942\",\"1943\",\"1944\",\"1945\",\"1946\",\"1947\",\"1948\",\"1949\",\"1950\",\"1951\",\"1952\",\"1953\",\"1954\",\"1955\",\"1956\",\"1957\",\"1958\",\"1959\",\"1960\",\"1961\",\"1962\",\"1963\",\"1964\",\"1965\",\"1966\",\"1967\",\"1968\",\"1969\",\"1970\",\"1971\",\"1972\",\"1973\",\"1974\",\"1975\",\"1976\",\"1977\",\"1978\",\"1979\",\"1980\",\"1981\",\"1982\",\"1983\",\"1984\",\"1985\",\"1986\",\"1987\",\"1988\",\"1989\",\"1990\",\"1991\",\"1992\",\"1993\",\"1994\",\"1995\",\"1996\",\"1997\",\"1998\",\"1999\",\"2000\",\"2001\",\"2002\",\"2003\",\"2004\",\"2005\",\"2006\",\"2007\",\"2008\",\"2009\",\"2010\",\"2011\",\"2012\",\"2013\",\"2014\",\"2015\"],\"xaxis\":\"x\",\"y\":[11.357181818181818,10.757285714285715,8.756833333333333,11.564083333333333,11.963583333333332,12.205916666666667,12.111916666666666,13.048,10.1065,11.664,10.274083333333333,11.917333333333332,12.13075,10.648333333333333,11.175583333333334,10.679666666666666,11.2415,11.184166666666668,9.047333333333334,10.104666666666667,10.472583333333333,10.45775,10.657333333333334,10.58225,12.187333333333333,11.503666666666668,11.168166666666666,10.699083333333332,11.414750000000002,11.489083333333333,12.01775,10.606416666666666,10.451833333333333,10.17525,10.117666666666665,9.6025,10.783583333333333,10.393583333333334,11.004999999999999,10.202833333333333,9.754,10.018,9.789416666666668,10.503583333333333,10.505000000000003,10.393666666666666,10.191666666666666,10.55625,10.573583333333335,10.244166666666668,10.202916666666669,10.171333333333333,10.427166666666666,10.136166666666666,10.686666666666666,10.251666666666665,10.004166666666666,9.873666666666667,9.623666666666667,9.211833333333333,9.233666666666668,8.955250000000001,9.181833333333334,9.44875,9.76025,9.205833333333334,9.130416666666667,8.684,9.658000000000001,8.951083333333333,9.235,9.465916666666669,9.563583333333334,9.080916666666667,9.995000000000001,9.897166666666667,9.916166666666665,10.252333333333333,9.813749999999999,9.261583333333332,9.948166666666667,9.170666666666667,8.990583333333333,9.2465,9.299,8.667833333333332,8.86525,8.666583333333334,8.67725,8.811666666666667,8.787416666666667,8.640166666666666,8.92025,8.9235,8.572333333333333,8.732666666666667,9.6045,8.986666666666666,8.850833333333332,8.898,8.777083333333334,9.060500000000001,9.018416666666667,8.876833333333334,9.036166666666666,8.997916666666667,8.756666666666666,8.50925,8.8,8.926666666666668,8.586833333333333,8.499916666666666,8.2475,8.859833333333333,8.66,8.84,8.898166666666667,9.071166666666667,8.79425,9.02775,8.7515,8.685333333333332,8.782916666666665,8.901583333333333,8.951416666666667,8.311083333333332,8.513583333333333,8.9955,9.254666666666665,8.62925,8.533666666666667,8.690249999999999,8.508833333333333,8.347583333333333,8.169916666666666,8.344666666666667,8.3405,8.307,8.472916666666666,8.688833333333335,8.314666666666668,8.354666666666667,8.404666666666666,8.402,8.47825,8.446250000000001,8.523750000000001,8.607166666666666,8.503666666666666,8.721083333333333,8.816333333333334,8.848166666666668,8.597166666666666,8.510166666666665,8.377333333333333,8.503916666666667,8.653999999999998,8.204333333333334,8.460833333333333,8.441,8.483083333333335,8.424833333333332,8.423833333333334,8.56,8.842416666666667,8.839333333333334,8.485666666666667,8.284,8.399083333333333,8.649000000000001,8.621416666666665,8.827833333333333,8.666583333333334,8.67525,8.763666666666667,8.775166666666667,8.971499999999999,8.770999999999999,8.880749999999999,8.494166666666667,8.873249999999999,8.957,8.954166666666666,8.580916666666667,8.868416666666667,8.751666666666667,8.797083333333333,8.938416666666665,9.104166666666668,8.997666666666667,8.995750000000001,8.9965,8.957916666666666,8.981666666666667,9.070166666666667,8.805166666666667,8.899333333333333,9.014166666666666,8.956333333333333,8.795,8.551583333333335,8.809833333333334,8.847000000000001,9.085833333333333,8.747833333333332,8.779833333333334,8.400416666666667,8.8905,8.878083333333333,8.839833333333333,8.67725,8.894666666666666,8.878833333333333,8.948333333333332,8.502166666666666,8.636249999999999,8.691583333333332,8.78375,8.628,8.68025,8.776499999999999,8.697166666666666,8.594916666666666,9.049,8.572,8.841916666666668,8.447833333333334,8.934916666666668,8.796583333333334,8.819833333333333,9.087,9.253083333333333,8.721833333333333,9.122166666666665,8.794416666666667,8.751249999999999,8.918583333333334,9.079583333333332,9.281666666666666,9.009999999999998,9.320500000000001,9.2415,8.919916666666667,8.947916666666666,9.109666666666667,9.4235,9.123666666666667,9.291166666666667,9.596583333333335,9.364333333333335,9.284666666666668,9.501999999999999,9.642833333333334,9.61625,9.408,9.776083333333332,9.6225,9.821666666666665,9.510666666666665,9.591166666666666,9.7865,9.598,9.59075,9.704166666666667,9.660833333333333,9.923166666666667],\"yaxis\":\"y\",\"type\":\"scatter\"},{\"hovertemplate\":\"variable=Uncertainty bottom<br>years=%{x}<br>value=%{y}<extra></extra>\",\"legendgroup\":\"Uncertainty bottom\",\"line\":{\"color\":\"#EF553B\",\"dash\":\"solid\"},\"marker\":{\"symbol\":\"circle\"},\"mode\":\"lines\",\"name\":\"Uncertainty bottom\",\"orientation\":\"v\",\"showlegend\":true,\"x\":[\"1750\",\"1751\",\"1752\",\"1753\",\"1754\",\"1755\",\"1756\",\"1757\",\"1758\",\"1759\",\"1760\",\"1761\",\"1762\",\"1763\",\"1764\",\"1765\",\"1766\",\"1767\",\"1768\",\"1769\",\"1770\",\"1771\",\"1772\",\"1773\",\"1774\",\"1775\",\"1776\",\"1777\",\"1778\",\"1779\",\"1780\",\"1781\",\"1782\",\"1783\",\"1784\",\"1785\",\"1786\",\"1787\",\"1788\",\"1789\",\"1790\",\"1791\",\"1792\",\"1793\",\"1794\",\"1795\",\"1796\",\"1797\",\"1798\",\"1799\",\"1800\",\"1801\",\"1802\",\"1803\",\"1804\",\"1805\",\"1806\",\"1807\",\"1808\",\"1809\",\"1810\",\"1811\",\"1812\",\"1813\",\"1814\",\"1815\",\"1816\",\"1817\",\"1818\",\"1819\",\"1820\",\"1821\",\"1822\",\"1823\",\"1824\",\"1825\",\"1826\",\"1827\",\"1828\",\"1829\",\"1830\",\"1831\",\"1832\",\"1833\",\"1834\",\"1835\",\"1836\",\"1837\",\"1838\",\"1839\",\"1840\",\"1841\",\"1842\",\"1843\",\"1844\",\"1845\",\"1846\",\"1847\",\"1848\",\"1849\",\"1850\",\"1851\",\"1852\",\"1853\",\"1854\",\"1855\",\"1856\",\"1857\",\"1858\",\"1859\",\"1860\",\"1861\",\"1862\",\"1863\",\"1864\",\"1865\",\"1866\",\"1867\",\"1868\",\"1869\",\"1870\",\"1871\",\"1872\",\"1873\",\"1874\",\"1875\",\"1876\",\"1877\",\"1878\",\"1879\",\"1880\",\"1881\",\"1882\",\"1883\",\"1884\",\"1885\",\"1886\",\"1887\",\"1888\",\"1889\",\"1890\",\"1891\",\"1892\",\"1893\",\"1894\",\"1895\",\"1896\",\"1897\",\"1898\",\"1899\",\"1900\",\"1901\",\"1902\",\"1903\",\"1904\",\"1905\",\"1906\",\"1907\",\"1908\",\"1909\",\"1910\",\"1911\",\"1912\",\"1913\",\"1914\",\"1915\",\"1916\",\"1917\",\"1918\",\"1919\",\"1920\",\"1921\",\"1922\",\"1923\",\"1924\",\"1925\",\"1926\",\"1927\",\"1928\",\"1929\",\"1930\",\"1931\",\"1932\",\"1933\",\"1934\",\"1935\",\"1936\",\"1937\",\"1938\",\"1939\",\"1940\",\"1941\",\"1942\",\"1943\",\"1944\",\"1945\",\"1946\",\"1947\",\"1948\",\"1949\",\"1950\",\"1951\",\"1952\",\"1953\",\"1954\",\"1955\",\"1956\",\"1957\",\"1958\",\"1959\",\"1960\",\"1961\",\"1962\",\"1963\",\"1964\",\"1965\",\"1966\",\"1967\",\"1968\",\"1969\",\"1970\",\"1971\",\"1972\",\"1973\",\"1974\",\"1975\",\"1976\",\"1977\",\"1978\",\"1979\",\"1980\",\"1981\",\"1982\",\"1983\",\"1984\",\"1985\",\"1986\",\"1987\",\"1988\",\"1989\",\"1990\",\"1991\",\"1992\",\"1993\",\"1994\",\"1995\",\"1996\",\"1997\",\"1998\",\"1999\",\"2000\",\"2001\",\"2002\",\"2003\",\"2004\",\"2005\",\"2006\",\"2007\",\"2008\",\"2009\",\"2010\",\"2011\",\"2012\",\"2013\",\"2014\",\"2015\"],\"xaxis\":\"x\",\"y\":[6.081545454545456,5.194999999999999,2.802833333333333,5.212083333333332,4.975083333333334,4.50525,5.587250000000001,4.996,3.3806666666666665,4.306166666666666,4.0962499999999995,5.627666666666666,5.08225,4.345166666666666,5.625083333333334,5.824166666666667,5.569833333333333,5.2588333333333335,4.515333333333333,5.2844999999999995,4.91125,5.248583333333333,5.729666666666667,5.860750000000001,5.357000000000001,6.862500000000001,5.439833333333334,5.813416666666667,5.6697500000000005,6.477416666666667,6.8480833333333315,5.598750000000001,5.350666666666667,5.186416666666666,5.606333333333333,5.1235,5.732749999999999,5.6700833333333325,5.889333333333333,6.4655,6.210666666666667,6.450500000000001,6.388583333333334,5.954749999999999,6.5470000000000015,6.307,6.3503333333333325,6.4649166666666655,6.766916666666668,6.767333333333334,6.765583333333335,7.007999999999999,6.729166666666666,6.869833333333333,7.002999999999998,6.873833333333333,6.864,6.689166666666667,5.63,4.941000000000001,4.611666666666667,4.76375,4.910666666666666,6.031083333333333,5.42325,5.272833333333334,4.744583333333333,5.267333333333333,5.999833333333334,5.787249999999999,5.9975,6.714250000000001,6.813083333333334,6.356416666666666,7.099333333333334,6.8815,6.797,7.365166666666666,6.516916666666666,6.622083333333332,7.085333333333334,6.107666666666667,5.909750000000001,6.7795,6.994499999999999,6.117166666666666,6.526416666666667,6.08475,6.3525833333333335,6.452833333333333,6.805083333333334,6.736166666666667,7.12525,7.423833333333334,6.7203333333333335,6.969666666666667,7.5009999999999994,7.185333333333333,7.108166666666666,7.070833333333334,7.02425,7.296666666666667,7.181916666666666,7.206833333333333,7.384833333333333,7.223583333333333,7.235166666666666,7.007083333333334,7.400500000000001,7.577333333333334,7.334833333333333,7.193083333333333,6.869666666666667,7.363833333333333,7.307166666666666,7.515666666666667,7.686166666666667,7.801500000000001,7.701583333333334,7.836416666666667,7.651166666666666,7.544833333333333,7.604749999999999,7.800583333333334,7.915583333333334,7.408083333333333,7.646583333333332,8.083666666666666,8.404833333333332,7.702416666666667,7.703833333333334,7.851583333333333,7.7490000000000006,7.60625,7.377416666666666,7.494666666666667,7.5685,7.522833333333333,7.708083333333334,7.949166666666668,7.628666666666667,7.684,7.7269999999999985,7.711499999999999,7.84375,7.8477500000000004,7.906083333333334,7.9795,7.852333333333332,8.071583333333333,8.186833333333334,8.235666666666667,8.011666666666667,7.930166666666666,7.8045,7.946416666666667,8.104166666666666,7.69,7.911333333333334,7.915500000000001,7.9629166666666675,7.929166666666666,7.907000000000001,8.0355,8.338583333333334,8.347,7.964833333333334,7.762666666666667,7.862583333333333,8.1155,8.096083333333333,8.314166666666667,8.149416666666665,8.169083333333335,8.250000000000002,8.293666666666667,8.486166666666666,8.273166666666667,8.383583333333334,7.990666666666667,8.393916666666666,8.4815,8.456333333333333,8.095583333333334,8.388250000000001,8.279833333333334,8.310916666666667,8.45825,8.623166666666666,8.523,8.533583333333333,8.540833333333333,8.498916666666666,8.5285,8.619833333333334,8.364500000000001,8.454500000000001,8.58,8.537166666666668,8.3785,8.178916666666668,8.441500000000001,8.4295,8.661666666666665,8.3735,8.472666666666667,8.15875,8.5745,8.669416666666667,8.6255,8.49025,8.700666666666667,8.613,8.763666666666667,8.317166666666667,8.418583333333332,8.507083333333332,8.616416666666668,8.404666666666667,8.509916666666667,8.625333333333334,8.501333333333333,8.404250000000001,8.8475,8.363,8.64775,8.246666666666668,8.765583333333334,8.588916666666666,8.647,8.873666666666665,9.078583333333334,8.5565,8.934166666666666,8.58925,8.56475,8.748583333333332,8.90925,9.121500000000001,8.834,9.147833333333333,9.117333333333333,8.75325,8.78525,8.967833333333333,9.270666666666667,8.954166666666667,9.113999999999999,9.44875,9.205833333333334,9.117666666666667,9.327166666666667,9.498,9.434916666666666,9.241166666666667,9.62575,9.4425,9.642666666666667,9.352833333333333,9.419333333333334,9.619666666666667,9.434,9.423916666666667,9.508833333333333,9.4805,9.738833333333332],\"yaxis\":\"y\",\"type\":\"scatter\"},{\"hovertemplate\":\"variable=LandAverageTemperature<br>years=%{x}<br>value=%{y}<extra></extra>\",\"legendgroup\":\"LandAverageTemperature\",\"line\":{\"color\":\"#00cc96\",\"dash\":\"solid\"},\"marker\":{\"symbol\":\"circle\"},\"mode\":\"lines\",\"name\":\"LandAverageTemperature\",\"orientation\":\"v\",\"showlegend\":true,\"x\":[\"1750\",\"1751\",\"1752\",\"1753\",\"1754\",\"1755\",\"1756\",\"1757\",\"1758\",\"1759\",\"1760\",\"1761\",\"1762\",\"1763\",\"1764\",\"1765\",\"1766\",\"1767\",\"1768\",\"1769\",\"1770\",\"1771\",\"1772\",\"1773\",\"1774\",\"1775\",\"1776\",\"1777\",\"1778\",\"1779\",\"1780\",\"1781\",\"1782\",\"1783\",\"1784\",\"1785\",\"1786\",\"1787\",\"1788\",\"1789\",\"1790\",\"1791\",\"1792\",\"1793\",\"1794\",\"1795\",\"1796\",\"1797\",\"1798\",\"1799\",\"1800\",\"1801\",\"1802\",\"1803\",\"1804\",\"1805\",\"1806\",\"1807\",\"1808\",\"1809\",\"1810\",\"1811\",\"1812\",\"1813\",\"1814\",\"1815\",\"1816\",\"1817\",\"1818\",\"1819\",\"1820\",\"1821\",\"1822\",\"1823\",\"1824\",\"1825\",\"1826\",\"1827\",\"1828\",\"1829\",\"1830\",\"1831\",\"1832\",\"1833\",\"1834\",\"1835\",\"1836\",\"1837\",\"1838\",\"1839\",\"1840\",\"1841\",\"1842\",\"1843\",\"1844\",\"1845\",\"1846\",\"1847\",\"1848\",\"1849\",\"1850\",\"1851\",\"1852\",\"1853\",\"1854\",\"1855\",\"1856\",\"1857\",\"1858\",\"1859\",\"1860\",\"1861\",\"1862\",\"1863\",\"1864\",\"1865\",\"1866\",\"1867\",\"1868\",\"1869\",\"1870\",\"1871\",\"1872\",\"1873\",\"1874\",\"1875\",\"1876\",\"1877\",\"1878\",\"1879\",\"1880\",\"1881\",\"1882\",\"1883\",\"1884\",\"1885\",\"1886\",\"1887\",\"1888\",\"1889\",\"1890\",\"1891\",\"1892\",\"1893\",\"1894\",\"1895\",\"1896\",\"1897\",\"1898\",\"1899\",\"1900\",\"1901\",\"1902\",\"1903\",\"1904\",\"1905\",\"1906\",\"1907\",\"1908\",\"1909\",\"1910\",\"1911\",\"1912\",\"1913\",\"1914\",\"1915\",\"1916\",\"1917\",\"1918\",\"1919\",\"1920\",\"1921\",\"1922\",\"1923\",\"1924\",\"1925\",\"1926\",\"1927\",\"1928\",\"1929\",\"1930\",\"1931\",\"1932\",\"1933\",\"1934\",\"1935\",\"1936\",\"1937\",\"1938\",\"1939\",\"1940\",\"1941\",\"1942\",\"1943\",\"1944\",\"1945\",\"1946\",\"1947\",\"1948\",\"1949\",\"1950\",\"1951\",\"1952\",\"1953\",\"1954\",\"1955\",\"1956\",\"1957\",\"1958\",\"1959\",\"1960\",\"1961\",\"1962\",\"1963\",\"1964\",\"1965\",\"1966\",\"1967\",\"1968\",\"1969\",\"1970\",\"1971\",\"1972\",\"1973\",\"1974\",\"1975\",\"1976\",\"1977\",\"1978\",\"1979\",\"1980\",\"1981\",\"1982\",\"1983\",\"1984\",\"1985\",\"1986\",\"1987\",\"1988\",\"1989\",\"1990\",\"1991\",\"1992\",\"1993\",\"1994\",\"1995\",\"1996\",\"1997\",\"1998\",\"1999\",\"2000\",\"2001\",\"2002\",\"2003\",\"2004\",\"2005\",\"2006\",\"2007\",\"2008\",\"2009\",\"2010\",\"2011\",\"2012\",\"2013\",\"2014\",\"2015\"],\"xaxis\":\"x\",\"y\":[8.719363636363637,7.9761428571428565,5.779833333333333,8.388083333333332,8.469333333333333,8.355583333333334,8.849583333333333,9.022,6.7435833333333335,7.985083333333333,7.1851666666666665,8.772499999999999,8.6065,7.49675,8.400333333333334,8.251916666666666,8.405666666666667,8.2215,6.781333333333333,7.694583333333333,7.691916666666667,7.853166666666667,8.1935,8.2215,8.772166666666667,9.183083333333334,8.304,8.25625,8.542250000000001,8.98325,9.432916666666666,8.102583333333333,7.90125,7.680833333333333,7.861999999999999,7.3629999999999995,8.258166666666666,8.031833333333333,8.447166666666666,8.334166666666667,7.982333333333333,8.234250000000001,8.089,8.229166666666666,8.526000000000002,8.350333333333333,8.270999999999999,8.510583333333333,8.670250000000001,8.50575,8.484250000000001,8.589666666666666,8.578166666666666,8.503,8.844833333333332,8.56275,8.434083333333334,8.281416666666667,7.626833333333333,7.076416666666667,6.922666666666667,6.859500000000001,7.04625,7.739916666666667,7.59175,7.239333333333334,6.9375,6.975666666666666,7.828916666666667,7.369166666666666,7.61625,8.090083333333334,8.188333333333334,7.718666666666667,8.547166666666667,8.389333333333333,8.356583333333333,8.80875,8.165333333333333,7.941833333333332,8.51675,7.639166666666667,7.450166666666667,8.013,8.146749999999999,7.392499999999999,7.695833333333334,7.375666666666667,7.514916666666667,7.63225,7.796250000000001,7.688166666666667,8.02275,8.173666666666668,7.646333333333334,7.851166666666667,8.55275,8.086,7.979499999999999,7.984416666666667,7.900666666666667,8.178583333333334,8.100166666666667,8.041833333333333,8.2105,8.11075,7.995916666666666,7.758166666666667,8.10025,8.252,7.960833333333333,7.8465,7.558583333333334,8.111833333333333,7.983583333333333,8.177833333333334,8.292166666666667,8.436333333333334,8.247916666666667,8.432083333333333,8.201333333333332,8.115083333333333,8.193833333333332,8.351083333333333,8.4335,7.859583333333333,8.080083333333333,8.539583333333333,8.829749999999999,8.165833333333333,8.11875,8.270916666666666,8.128916666666667,7.976916666666667,7.773666666666666,7.919666666666667,7.9545,7.914916666666667,8.0905,8.319,7.971666666666667,8.019333333333334,8.065833333333332,8.05675,8.161,8.147,8.214916666666667,8.293333333333333,8.177999999999999,8.396333333333333,8.501583333333334,8.541916666666667,8.304416666666667,8.220166666666666,8.090916666666667,8.225166666666667,8.379083333333332,7.947166666666667,8.186083333333334,8.17825,8.223,8.177,8.165416666666667,8.29775,8.5905,8.593166666666667,8.22525,8.023333333333333,8.130833333333333,8.38225,8.358749999999999,8.571,8.408,8.422166666666667,8.506833333333335,8.534416666666667,8.728833333333332,8.522083333333333,8.632166666666667,8.242416666666667,8.633583333333332,8.71925,8.70525,8.33825,8.628333333333334,8.51575,8.554,8.698333333333332,8.863666666666667,8.760333333333334,8.764666666666667,8.768666666666666,8.728416666666666,8.755083333333333,8.845,8.584833333333334,8.676916666666667,8.797083333333333,8.74675,8.58675,8.365250000000001,8.625666666666667,8.638250000000001,8.87375,8.560666666666666,8.62625,8.279583333333333,8.7325,8.77375,8.732666666666667,8.58375,8.797666666666666,8.745916666666666,8.856,8.409666666666666,8.527416666666666,8.599333333333332,8.700083333333334,8.516333333333334,8.595083333333333,8.700916666666666,8.59925,8.499583333333334,8.94825,8.4675,8.744833333333334,8.34725,8.85025,8.69275,8.733416666666667,8.980333333333332,9.165833333333333,8.639166666666666,9.028166666666666,8.691833333333333,8.658,8.833583333333333,8.994416666666666,9.201583333333334,8.921999999999999,9.234166666666667,9.179416666666667,8.836583333333333,8.866583333333333,9.03875,9.347083333333334,9.038916666666667,9.202583333333333,9.522666666666668,9.285083333333334,9.201166666666667,9.414583333333333,9.570416666666667,9.525583333333334,9.324583333333333,9.700916666666666,9.5325,9.732166666666666,9.43175,9.50525,9.703083333333334,9.516,9.507333333333333,9.6065,9.570666666666666,9.831],\"yaxis\":\"y\",\"type\":\"scatter\"}],                        {\"template\":{\"data\":{\"barpolar\":[{\"marker\":{\"line\":{\"color\":\"rgb(17,17,17)\",\"width\":0.5},\"pattern\":{\"fillmode\":\"overlay\",\"size\":10,\"solidity\":0.2}},\"type\":\"barpolar\"}],\"bar\":[{\"error_x\":{\"color\":\"#f2f5fa\"},\"error_y\":{\"color\":\"#f2f5fa\"},\"marker\":{\"line\":{\"color\":\"rgb(17,17,17)\",\"width\":0.5},\"pattern\":{\"fillmode\":\"overlay\",\"size\":10,\"solidity\":0.2}},\"type\":\"bar\"}],\"carpet\":[{\"aaxis\":{\"endlinecolor\":\"#A2B1C6\",\"gridcolor\":\"#506784\",\"linecolor\":\"#506784\",\"minorgridcolor\":\"#506784\",\"startlinecolor\":\"#A2B1C6\"},\"baxis\":{\"endlinecolor\":\"#A2B1C6\",\"gridcolor\":\"#506784\",\"linecolor\":\"#506784\",\"minorgridcolor\":\"#506784\",\"startlinecolor\":\"#A2B1C6\"},\"type\":\"carpet\"}],\"choropleth\":[{\"colorbar\":{\"outlinewidth\":0,\"ticks\":\"\"},\"type\":\"choropleth\"}],\"contourcarpet\":[{\"colorbar\":{\"outlinewidth\":0,\"ticks\":\"\"},\"type\":\"contourcarpet\"}],\"contour\":[{\"colorbar\":{\"outlinewidth\":0,\"ticks\":\"\"},\"colorscale\":[[0.0,\"#0d0887\"],[0.1111111111111111,\"#46039f\"],[0.2222222222222222,\"#7201a8\"],[0.3333333333333333,\"#9c179e\"],[0.4444444444444444,\"#bd3786\"],[0.5555555555555556,\"#d8576b\"],[0.6666666666666666,\"#ed7953\"],[0.7777777777777778,\"#fb9f3a\"],[0.8888888888888888,\"#fdca26\"],[1.0,\"#f0f921\"]],\"type\":\"contour\"}],\"heatmapgl\":[{\"colorbar\":{\"outlinewidth\":0,\"ticks\":\"\"},\"colorscale\":[[0.0,\"#0d0887\"],[0.1111111111111111,\"#46039f\"],[0.2222222222222222,\"#7201a8\"],[0.3333333333333333,\"#9c179e\"],[0.4444444444444444,\"#bd3786\"],[0.5555555555555556,\"#d8576b\"],[0.6666666666666666,\"#ed7953\"],[0.7777777777777778,\"#fb9f3a\"],[0.8888888888888888,\"#fdca26\"],[1.0,\"#f0f921\"]],\"type\":\"heatmapgl\"}],\"heatmap\":[{\"colorbar\":{\"outlinewidth\":0,\"ticks\":\"\"},\"colorscale\":[[0.0,\"#0d0887\"],[0.1111111111111111,\"#46039f\"],[0.2222222222222222,\"#7201a8\"],[0.3333333333333333,\"#9c179e\"],[0.4444444444444444,\"#bd3786\"],[0.5555555555555556,\"#d8576b\"],[0.6666666666666666,\"#ed7953\"],[0.7777777777777778,\"#fb9f3a\"],[0.8888888888888888,\"#fdca26\"],[1.0,\"#f0f921\"]],\"type\":\"heatmap\"}],\"histogram2dcontour\":[{\"colorbar\":{\"outlinewidth\":0,\"ticks\":\"\"},\"colorscale\":[[0.0,\"#0d0887\"],[0.1111111111111111,\"#46039f\"],[0.2222222222222222,\"#7201a8\"],[0.3333333333333333,\"#9c179e\"],[0.4444444444444444,\"#bd3786\"],[0.5555555555555556,\"#d8576b\"],[0.6666666666666666,\"#ed7953\"],[0.7777777777777778,\"#fb9f3a\"],[0.8888888888888888,\"#fdca26\"],[1.0,\"#f0f921\"]],\"type\":\"histogram2dcontour\"}],\"histogram2d\":[{\"colorbar\":{\"outlinewidth\":0,\"ticks\":\"\"},\"colorscale\":[[0.0,\"#0d0887\"],[0.1111111111111111,\"#46039f\"],[0.2222222222222222,\"#7201a8\"],[0.3333333333333333,\"#9c179e\"],[0.4444444444444444,\"#bd3786\"],[0.5555555555555556,\"#d8576b\"],[0.6666666666666666,\"#ed7953\"],[0.7777777777777778,\"#fb9f3a\"],[0.8888888888888888,\"#fdca26\"],[1.0,\"#f0f921\"]],\"type\":\"histogram2d\"}],\"histogram\":[{\"marker\":{\"pattern\":{\"fillmode\":\"overlay\",\"size\":10,\"solidity\":0.2}},\"type\":\"histogram\"}],\"mesh3d\":[{\"colorbar\":{\"outlinewidth\":0,\"ticks\":\"\"},\"type\":\"mesh3d\"}],\"parcoords\":[{\"line\":{\"colorbar\":{\"outlinewidth\":0,\"ticks\":\"\"}},\"type\":\"parcoords\"}],\"pie\":[{\"automargin\":true,\"type\":\"pie\"}],\"scatter3d\":[{\"line\":{\"colorbar\":{\"outlinewidth\":0,\"ticks\":\"\"}},\"marker\":{\"colorbar\":{\"outlinewidth\":0,\"ticks\":\"\"}},\"type\":\"scatter3d\"}],\"scattercarpet\":[{\"marker\":{\"colorbar\":{\"outlinewidth\":0,\"ticks\":\"\"}},\"type\":\"scattercarpet\"}],\"scattergeo\":[{\"marker\":{\"colorbar\":{\"outlinewidth\":0,\"ticks\":\"\"}},\"type\":\"scattergeo\"}],\"scattergl\":[{\"marker\":{\"line\":{\"color\":\"#283442\"}},\"type\":\"scattergl\"}],\"scattermapbox\":[{\"marker\":{\"colorbar\":{\"outlinewidth\":0,\"ticks\":\"\"}},\"type\":\"scattermapbox\"}],\"scatterpolargl\":[{\"marker\":{\"colorbar\":{\"outlinewidth\":0,\"ticks\":\"\"}},\"type\":\"scatterpolargl\"}],\"scatterpolar\":[{\"marker\":{\"colorbar\":{\"outlinewidth\":0,\"ticks\":\"\"}},\"type\":\"scatterpolar\"}],\"scatter\":[{\"marker\":{\"line\":{\"color\":\"#283442\"}},\"type\":\"scatter\"}],\"scatterternary\":[{\"marker\":{\"colorbar\":{\"outlinewidth\":0,\"ticks\":\"\"}},\"type\":\"scatterternary\"}],\"surface\":[{\"colorbar\":{\"outlinewidth\":0,\"ticks\":\"\"},\"colorscale\":[[0.0,\"#0d0887\"],[0.1111111111111111,\"#46039f\"],[0.2222222222222222,\"#7201a8\"],[0.3333333333333333,\"#9c179e\"],[0.4444444444444444,\"#bd3786\"],[0.5555555555555556,\"#d8576b\"],[0.6666666666666666,\"#ed7953\"],[0.7777777777777778,\"#fb9f3a\"],[0.8888888888888888,\"#fdca26\"],[1.0,\"#f0f921\"]],\"type\":\"surface\"}],\"table\":[{\"cells\":{\"fill\":{\"color\":\"#506784\"},\"line\":{\"color\":\"rgb(17,17,17)\"}},\"header\":{\"fill\":{\"color\":\"#2a3f5f\"},\"line\":{\"color\":\"rgb(17,17,17)\"}},\"type\":\"table\"}]},\"layout\":{\"annotationdefaults\":{\"arrowcolor\":\"#f2f5fa\",\"arrowhead\":0,\"arrowwidth\":1},\"autotypenumbers\":\"strict\",\"coloraxis\":{\"colorbar\":{\"outlinewidth\":0,\"ticks\":\"\"}},\"colorscale\":{\"diverging\":[[0,\"#8e0152\"],[0.1,\"#c51b7d\"],[0.2,\"#de77ae\"],[0.3,\"#f1b6da\"],[0.4,\"#fde0ef\"],[0.5,\"#f7f7f7\"],[0.6,\"#e6f5d0\"],[0.7,\"#b8e186\"],[0.8,\"#7fbc41\"],[0.9,\"#4d9221\"],[1,\"#276419\"]],\"sequential\":[[0.0,\"#0d0887\"],[0.1111111111111111,\"#46039f\"],[0.2222222222222222,\"#7201a8\"],[0.3333333333333333,\"#9c179e\"],[0.4444444444444444,\"#bd3786\"],[0.5555555555555556,\"#d8576b\"],[0.6666666666666666,\"#ed7953\"],[0.7777777777777778,\"#fb9f3a\"],[0.8888888888888888,\"#fdca26\"],[1.0,\"#f0f921\"]],\"sequentialminus\":[[0.0,\"#0d0887\"],[0.1111111111111111,\"#46039f\"],[0.2222222222222222,\"#7201a8\"],[0.3333333333333333,\"#9c179e\"],[0.4444444444444444,\"#bd3786\"],[0.5555555555555556,\"#d8576b\"],[0.6666666666666666,\"#ed7953\"],[0.7777777777777778,\"#fb9f3a\"],[0.8888888888888888,\"#fdca26\"],[1.0,\"#f0f921\"]]},\"colorway\":[\"#636efa\",\"#EF553B\",\"#00cc96\",\"#ab63fa\",\"#FFA15A\",\"#19d3f3\",\"#FF6692\",\"#B6E880\",\"#FF97FF\",\"#FECB52\"],\"font\":{\"color\":\"#f2f5fa\"},\"geo\":{\"bgcolor\":\"rgb(17,17,17)\",\"lakecolor\":\"rgb(17,17,17)\",\"landcolor\":\"rgb(17,17,17)\",\"showlakes\":true,\"showland\":true,\"subunitcolor\":\"#506784\"},\"hoverlabel\":{\"align\":\"left\"},\"hovermode\":\"closest\",\"mapbox\":{\"style\":\"dark\"},\"paper_bgcolor\":\"rgb(17,17,17)\",\"plot_bgcolor\":\"rgb(17,17,17)\",\"polar\":{\"angularaxis\":{\"gridcolor\":\"#506784\",\"linecolor\":\"#506784\",\"ticks\":\"\"},\"bgcolor\":\"rgb(17,17,17)\",\"radialaxis\":{\"gridcolor\":\"#506784\",\"linecolor\":\"#506784\",\"ticks\":\"\"}},\"scene\":{\"xaxis\":{\"backgroundcolor\":\"rgb(17,17,17)\",\"gridcolor\":\"#506784\",\"gridwidth\":2,\"linecolor\":\"#506784\",\"showbackground\":true,\"ticks\":\"\",\"zerolinecolor\":\"#C8D4E3\"},\"yaxis\":{\"backgroundcolor\":\"rgb(17,17,17)\",\"gridcolor\":\"#506784\",\"gridwidth\":2,\"linecolor\":\"#506784\",\"showbackground\":true,\"ticks\":\"\",\"zerolinecolor\":\"#C8D4E3\"},\"zaxis\":{\"backgroundcolor\":\"rgb(17,17,17)\",\"gridcolor\":\"#506784\",\"gridwidth\":2,\"linecolor\":\"#506784\",\"showbackground\":true,\"ticks\":\"\",\"zerolinecolor\":\"#C8D4E3\"}},\"shapedefaults\":{\"line\":{\"color\":\"#f2f5fa\"}},\"sliderdefaults\":{\"bgcolor\":\"#C8D4E3\",\"bordercolor\":\"rgb(17,17,17)\",\"borderwidth\":1,\"tickwidth\":0},\"ternary\":{\"aaxis\":{\"gridcolor\":\"#506784\",\"linecolor\":\"#506784\",\"ticks\":\"\"},\"baxis\":{\"gridcolor\":\"#506784\",\"linecolor\":\"#506784\",\"ticks\":\"\"},\"bgcolor\":\"rgb(17,17,17)\",\"caxis\":{\"gridcolor\":\"#506784\",\"linecolor\":\"#506784\",\"ticks\":\"\"}},\"title\":{\"x\":0.05},\"updatemenudefaults\":{\"bgcolor\":\"#506784\",\"borderwidth\":0},\"xaxis\":{\"automargin\":true,\"gridcolor\":\"#283442\",\"linecolor\":\"#506784\",\"ticks\":\"\",\"title\":{\"standoff\":15},\"zerolinecolor\":\"#283442\",\"zerolinewidth\":2},\"yaxis\":{\"automargin\":true,\"gridcolor\":\"#283442\",\"linecolor\":\"#506784\",\"ticks\":\"\",\"title\":{\"standoff\":15},\"zerolinecolor\":\"#283442\",\"zerolinewidth\":2}}},\"xaxis\":{\"anchor\":\"y\",\"domain\":[0.0,1.0],\"title\":{\"text\":\"years\"}},\"yaxis\":{\"anchor\":\"x\",\"domain\":[0.0,1.0],\"title\":{\"text\":\"value\"}},\"legend\":{\"title\":{\"text\":\"variable\"},\"tracegroupgap\":0},\"title\":{\"text\":\"Average Land Temperature in World\"}},                        {\"responsive\": true}                    ).then(function(){\n",
       "                            \n",
       "var gd = document.getElementById('e97295fd-37e0-478a-8bba-f08edbcba58b');\n",
       "var x = new MutationObserver(function (mutations, observer) {{\n",
       "        var display = window.getComputedStyle(gd).display;\n",
       "        if (!display || display === 'none') {{\n",
       "            console.log([gd, 'removed!']);\n",
       "            Plotly.purge(gd);\n",
       "            observer.disconnect();\n",
       "        }}\n",
       "}});\n",
       "\n",
       "// Listen for the removal of the full notebook cells\n",
       "var notebookContainer = gd.closest('#notebook-container');\n",
       "if (notebookContainer) {{\n",
       "    x.observe(notebookContainer, {childList: true});\n",
       "}}\n",
       "\n",
       "// Listen for the clearing of the current output cell\n",
       "var outputEl = gd.closest('.output');\n",
       "if (outputEl) {{\n",
       "    x.observe(outputEl, {childList: true});\n",
       "}}\n",
       "\n",
       "                        })                };                });            </script>        </div>"
      ]
     },
     "metadata": {},
     "output_type": "display_data"
    }
   ],
   "source": [
    "import plotly.express as px\n",
    "fig=px.line(data,x=\"years\",y=[\"Uncertainty top\",\"Uncertainty bottom\",\"LandAverageTemperature\"],title=\"Average Land Temperature in World\",template=\"plotly_dark\")\n",
    "fig.show()"
   ]
  },
  {
   "cell_type": "markdown",
   "metadata": {},
   "source": [
    "    From the charts you can see, that there is global warming nowadays. The average temperature of Earth surface has the highest value in the last three centuries. The fastest temperature growth occurred in the last 30 years! This worries me, I hope soon humanity will fully switch to ecological sources of energy, that will reduce CO2. If it’s will not happened, we will be in disaster. This charts also have confidence intervals, which shows that measurement of temperature has become more accurate in the last few years."
   ]
  },
  {
   "cell_type": "code",
   "execution_count": null,
   "metadata": {},
   "outputs": [],
   "source": []
  },
  {
   "cell_type": "markdown",
   "metadata": {},
   "source": [
    "## Analyse Trend In Temperatures for the Top Economies"
   ]
  },
  {
   "cell_type": "markdown",
   "metadata": {},
   "source": [
    "    Let’s look at the chart of annual temperature changes in certain continents (we take into consideration one country per continent and mark Greenland as the coldest place on Earth)."
   ]
  },
  {
   "cell_type": "code",
   "execution_count": 26,
   "metadata": {},
   "outputs": [],
   "source": [
    "continent = ['Russia', 'United States', 'China', 'Japan', 'Australia', 'India']"
   ]
  },
  {
   "cell_type": "code",
   "execution_count": 27,
   "metadata": {},
   "outputs": [
    {
     "data": {
      "text/html": [
       "<div>\n",
       "<style scoped>\n",
       "    .dataframe tbody tr th:only-of-type {\n",
       "        vertical-align: middle;\n",
       "    }\n",
       "\n",
       "    .dataframe tbody tr th {\n",
       "        vertical-align: top;\n",
       "    }\n",
       "\n",
       "    .dataframe thead th {\n",
       "        text-align: right;\n",
       "    }\n",
       "</style>\n",
       "<table border=\"1\" class=\"dataframe\">\n",
       "  <thead>\n",
       "    <tr style=\"text-align: right;\">\n",
       "      <th></th>\n",
       "      <th>dt</th>\n",
       "      <th>AverageTemperature</th>\n",
       "      <th>AverageTemperatureUncertainty</th>\n",
       "      <th>Country</th>\n",
       "    </tr>\n",
       "  </thead>\n",
       "  <tbody>\n",
       "    <tr>\n",
       "      <th>0</th>\n",
       "      <td>1743-11-01</td>\n",
       "      <td>4.384</td>\n",
       "      <td>2.294</td>\n",
       "      <td>Åland</td>\n",
       "    </tr>\n",
       "    <tr>\n",
       "      <th>5</th>\n",
       "      <td>1744-04-01</td>\n",
       "      <td>1.530</td>\n",
       "      <td>4.680</td>\n",
       "      <td>Åland</td>\n",
       "    </tr>\n",
       "    <tr>\n",
       "      <th>6</th>\n",
       "      <td>1744-05-01</td>\n",
       "      <td>6.702</td>\n",
       "      <td>1.789</td>\n",
       "      <td>Åland</td>\n",
       "    </tr>\n",
       "    <tr>\n",
       "      <th>7</th>\n",
       "      <td>1744-06-01</td>\n",
       "      <td>11.609</td>\n",
       "      <td>1.577</td>\n",
       "      <td>Åland</td>\n",
       "    </tr>\n",
       "    <tr>\n",
       "      <th>8</th>\n",
       "      <td>1744-07-01</td>\n",
       "      <td>15.342</td>\n",
       "      <td>1.410</td>\n",
       "      <td>Åland</td>\n",
       "    </tr>\n",
       "  </tbody>\n",
       "</table>\n",
       "</div>"
      ],
      "text/plain": [
       "           dt  AverageTemperature  AverageTemperatureUncertainty Country\n",
       "0  1743-11-01               4.384                          2.294   Åland\n",
       "5  1744-04-01               1.530                          4.680   Åland\n",
       "6  1744-05-01               6.702                          1.789   Åland\n",
       "7  1744-06-01              11.609                          1.577   Åland\n",
       "8  1744-07-01              15.342                          1.410   Åland"
      ]
     },
     "execution_count": 27,
     "metadata": {},
     "output_type": "execute_result"
    }
   ],
   "source": [
    "global_temp_country.head()"
   ]
  },
  {
   "cell_type": "code",
   "execution_count": 28,
   "metadata": {},
   "outputs": [
    {
     "data": {
      "text/html": [
       "<div>\n",
       "<style scoped>\n",
       "    .dataframe tbody tr th:only-of-type {\n",
       "        vertical-align: middle;\n",
       "    }\n",
       "\n",
       "    .dataframe tbody tr th {\n",
       "        vertical-align: top;\n",
       "    }\n",
       "\n",
       "    .dataframe thead th {\n",
       "        text-align: right;\n",
       "    }\n",
       "</style>\n",
       "<table border=\"1\" class=\"dataframe\">\n",
       "  <thead>\n",
       "    <tr style=\"text-align: right;\">\n",
       "      <th></th>\n",
       "      <th>dt</th>\n",
       "      <th>AverageTemperature</th>\n",
       "      <th>AverageTemperatureUncertainty</th>\n",
       "      <th>Country</th>\n",
       "    </tr>\n",
       "  </thead>\n",
       "  <tbody>\n",
       "    <tr>\n",
       "      <th>34816</th>\n",
       "      <td>1852-07-01</td>\n",
       "      <td>14.116</td>\n",
       "      <td>1.530</td>\n",
       "      <td>Australia</td>\n",
       "    </tr>\n",
       "    <tr>\n",
       "      <th>34817</th>\n",
       "      <td>1852-08-01</td>\n",
       "      <td>15.330</td>\n",
       "      <td>1.400</td>\n",
       "      <td>Australia</td>\n",
       "    </tr>\n",
       "    <tr>\n",
       "      <th>34818</th>\n",
       "      <td>1852-09-01</td>\n",
       "      <td>18.740</td>\n",
       "      <td>1.446</td>\n",
       "      <td>Australia</td>\n",
       "    </tr>\n",
       "    <tr>\n",
       "      <th>34819</th>\n",
       "      <td>1852-10-01</td>\n",
       "      <td>21.984</td>\n",
       "      <td>1.493</td>\n",
       "      <td>Australia</td>\n",
       "    </tr>\n",
       "    <tr>\n",
       "      <th>34820</th>\n",
       "      <td>1852-11-01</td>\n",
       "      <td>24.073</td>\n",
       "      <td>1.466</td>\n",
       "      <td>Australia</td>\n",
       "    </tr>\n",
       "    <tr>\n",
       "      <th>...</th>\n",
       "      <td>...</td>\n",
       "      <td>...</td>\n",
       "      <td>...</td>\n",
       "      <td>...</td>\n",
       "    </tr>\n",
       "    <tr>\n",
       "      <th>557816</th>\n",
       "      <td>2013-05-01</td>\n",
       "      <td>14.073</td>\n",
       "      <td>0.178</td>\n",
       "      <td>United States</td>\n",
       "    </tr>\n",
       "    <tr>\n",
       "      <th>557817</th>\n",
       "      <td>2013-06-01</td>\n",
       "      <td>20.198</td>\n",
       "      <td>0.236</td>\n",
       "      <td>United States</td>\n",
       "    </tr>\n",
       "    <tr>\n",
       "      <th>557818</th>\n",
       "      <td>2013-07-01</td>\n",
       "      <td>22.074</td>\n",
       "      <td>0.152</td>\n",
       "      <td>United States</td>\n",
       "    </tr>\n",
       "    <tr>\n",
       "      <th>557819</th>\n",
       "      <td>2013-08-01</td>\n",
       "      <td>21.168</td>\n",
       "      <td>0.249</td>\n",
       "      <td>United States</td>\n",
       "    </tr>\n",
       "    <tr>\n",
       "      <th>557820</th>\n",
       "      <td>2013-09-01</td>\n",
       "      <td>18.273</td>\n",
       "      <td>1.210</td>\n",
       "      <td>United States</td>\n",
       "    </tr>\n",
       "  </tbody>\n",
       "</table>\n",
       "<p>13598 rows × 4 columns</p>\n",
       "</div>"
      ],
      "text/plain": [
       "                dt  AverageTemperature  AverageTemperatureUncertainty  \\\n",
       "34816   1852-07-01              14.116                          1.530   \n",
       "34817   1852-08-01              15.330                          1.400   \n",
       "34818   1852-09-01              18.740                          1.446   \n",
       "34819   1852-10-01              21.984                          1.493   \n",
       "34820   1852-11-01              24.073                          1.466   \n",
       "...            ...                 ...                            ...   \n",
       "557816  2013-05-01              14.073                          0.178   \n",
       "557817  2013-06-01              20.198                          0.236   \n",
       "557818  2013-07-01              22.074                          0.152   \n",
       "557819  2013-08-01              21.168                          0.249   \n",
       "557820  2013-09-01              18.273                          1.210   \n",
       "\n",
       "              Country  \n",
       "34816       Australia  \n",
       "34817       Australia  \n",
       "34818       Australia  \n",
       "34819       Australia  \n",
       "34820       Australia  \n",
       "...               ...  \n",
       "557816  United States  \n",
       "557817  United States  \n",
       "557818  United States  \n",
       "557819  United States  \n",
       "557820  United States  \n",
       "\n",
       "[13598 rows x 4 columns]"
      ]
     },
     "execution_count": 28,
     "metadata": {},
     "output_type": "execute_result"
    }
   ],
   "source": [
    "global_temp_country[global_temp_country['Country'].isin(continent)]"
   ]
  },
  {
   "cell_type": "code",
   "execution_count": null,
   "metadata": {},
   "outputs": [],
   "source": []
  },
  {
   "cell_type": "code",
   "execution_count": 29,
   "metadata": {},
   "outputs": [],
   "source": [
    "continent_df=global_temp_country[global_temp_country['Country'].isin(continent)]"
   ]
  },
  {
   "cell_type": "code",
   "execution_count": 30,
   "metadata": {},
   "outputs": [
    {
     "data": {
      "text/html": [
       "<div>\n",
       "<style scoped>\n",
       "    .dataframe tbody tr th:only-of-type {\n",
       "        vertical-align: middle;\n",
       "    }\n",
       "\n",
       "    .dataframe tbody tr th {\n",
       "        vertical-align: top;\n",
       "    }\n",
       "\n",
       "    .dataframe thead th {\n",
       "        text-align: right;\n",
       "    }\n",
       "</style>\n",
       "<table border=\"1\" class=\"dataframe\">\n",
       "  <thead>\n",
       "    <tr style=\"text-align: right;\">\n",
       "      <th></th>\n",
       "      <th>dt</th>\n",
       "      <th>AverageTemperature</th>\n",
       "      <th>AverageTemperatureUncertainty</th>\n",
       "      <th>Country</th>\n",
       "    </tr>\n",
       "  </thead>\n",
       "  <tbody>\n",
       "    <tr>\n",
       "      <th>34816</th>\n",
       "      <td>1852-07-01</td>\n",
       "      <td>14.116</td>\n",
       "      <td>1.530</td>\n",
       "      <td>Australia</td>\n",
       "    </tr>\n",
       "    <tr>\n",
       "      <th>34817</th>\n",
       "      <td>1852-08-01</td>\n",
       "      <td>15.330</td>\n",
       "      <td>1.400</td>\n",
       "      <td>Australia</td>\n",
       "    </tr>\n",
       "    <tr>\n",
       "      <th>34818</th>\n",
       "      <td>1852-09-01</td>\n",
       "      <td>18.740</td>\n",
       "      <td>1.446</td>\n",
       "      <td>Australia</td>\n",
       "    </tr>\n",
       "    <tr>\n",
       "      <th>34819</th>\n",
       "      <td>1852-10-01</td>\n",
       "      <td>21.984</td>\n",
       "      <td>1.493</td>\n",
       "      <td>Australia</td>\n",
       "    </tr>\n",
       "    <tr>\n",
       "      <th>34820</th>\n",
       "      <td>1852-11-01</td>\n",
       "      <td>24.073</td>\n",
       "      <td>1.466</td>\n",
       "      <td>Australia</td>\n",
       "    </tr>\n",
       "  </tbody>\n",
       "</table>\n",
       "</div>"
      ],
      "text/plain": [
       "               dt  AverageTemperature  AverageTemperatureUncertainty  \\\n",
       "34816  1852-07-01              14.116                          1.530   \n",
       "34817  1852-08-01              15.330                          1.400   \n",
       "34818  1852-09-01              18.740                          1.446   \n",
       "34819  1852-10-01              21.984                          1.493   \n",
       "34820  1852-11-01              24.073                          1.466   \n",
       "\n",
       "         Country  \n",
       "34816  Australia  \n",
       "34817  Australia  \n",
       "34818  Australia  \n",
       "34819  Australia  \n",
       "34820  Australia  "
      ]
     },
     "execution_count": 30,
     "metadata": {},
     "output_type": "execute_result"
    }
   ],
   "source": [
    "continent_df.head()"
   ]
  },
  {
   "cell_type": "code",
   "execution_count": 31,
   "metadata": {},
   "outputs": [
    {
     "data": {
      "text/plain": [
       "(13598, 4)"
      ]
     },
     "execution_count": 31,
     "metadata": {},
     "output_type": "execute_result"
    }
   ],
   "source": [
    "continent_df.shape"
   ]
  },
  {
   "cell_type": "code",
   "execution_count": 32,
   "metadata": {},
   "outputs": [],
   "source": [
    "continent_df['years']=continent_df['dt'].apply(fetch_year)"
   ]
  },
  {
   "cell_type": "code",
   "execution_count": 33,
   "metadata": {},
   "outputs": [
    {
     "data": {
      "text/html": [
       "<div>\n",
       "<style scoped>\n",
       "    .dataframe tbody tr th:only-of-type {\n",
       "        vertical-align: middle;\n",
       "    }\n",
       "\n",
       "    .dataframe tbody tr th {\n",
       "        vertical-align: top;\n",
       "    }\n",
       "\n",
       "    .dataframe thead th {\n",
       "        text-align: right;\n",
       "    }\n",
       "</style>\n",
       "<table border=\"1\" class=\"dataframe\">\n",
       "  <thead>\n",
       "    <tr style=\"text-align: right;\">\n",
       "      <th></th>\n",
       "      <th>dt</th>\n",
       "      <th>AverageTemperature</th>\n",
       "      <th>AverageTemperatureUncertainty</th>\n",
       "      <th>Country</th>\n",
       "      <th>years</th>\n",
       "    </tr>\n",
       "  </thead>\n",
       "  <tbody>\n",
       "    <tr>\n",
       "      <th>34816</th>\n",
       "      <td>1852-07-01</td>\n",
       "      <td>14.116</td>\n",
       "      <td>1.530</td>\n",
       "      <td>Australia</td>\n",
       "      <td>1852</td>\n",
       "    </tr>\n",
       "    <tr>\n",
       "      <th>34817</th>\n",
       "      <td>1852-08-01</td>\n",
       "      <td>15.330</td>\n",
       "      <td>1.400</td>\n",
       "      <td>Australia</td>\n",
       "      <td>1852</td>\n",
       "    </tr>\n",
       "    <tr>\n",
       "      <th>34818</th>\n",
       "      <td>1852-09-01</td>\n",
       "      <td>18.740</td>\n",
       "      <td>1.446</td>\n",
       "      <td>Australia</td>\n",
       "      <td>1852</td>\n",
       "    </tr>\n",
       "    <tr>\n",
       "      <th>34819</th>\n",
       "      <td>1852-10-01</td>\n",
       "      <td>21.984</td>\n",
       "      <td>1.493</td>\n",
       "      <td>Australia</td>\n",
       "      <td>1852</td>\n",
       "    </tr>\n",
       "    <tr>\n",
       "      <th>34820</th>\n",
       "      <td>1852-11-01</td>\n",
       "      <td>24.073</td>\n",
       "      <td>1.466</td>\n",
       "      <td>Australia</td>\n",
       "      <td>1852</td>\n",
       "    </tr>\n",
       "  </tbody>\n",
       "</table>\n",
       "</div>"
      ],
      "text/plain": [
       "               dt  AverageTemperature  AverageTemperatureUncertainty  \\\n",
       "34816  1852-07-01              14.116                          1.530   \n",
       "34817  1852-08-01              15.330                          1.400   \n",
       "34818  1852-09-01              18.740                          1.446   \n",
       "34819  1852-10-01              21.984                          1.493   \n",
       "34820  1852-11-01              24.073                          1.466   \n",
       "\n",
       "         Country years  \n",
       "34816  Australia  1852  \n",
       "34817  Australia  1852  \n",
       "34818  Australia  1852  \n",
       "34819  Australia  1852  \n",
       "34820  Australia  1852  "
      ]
     },
     "execution_count": 33,
     "metadata": {},
     "output_type": "execute_result"
    }
   ],
   "source": [
    "continent_df.head()"
   ]
  },
  {
   "cell_type": "code",
   "execution_count": 34,
   "metadata": {},
   "outputs": [
    {
     "data": {
      "text/html": [
       "<div>\n",
       "<style scoped>\n",
       "    .dataframe tbody tr th:only-of-type {\n",
       "        vertical-align: middle;\n",
       "    }\n",
       "\n",
       "    .dataframe tbody tr th {\n",
       "        vertical-align: top;\n",
       "    }\n",
       "\n",
       "    .dataframe thead th {\n",
       "        text-align: right;\n",
       "    }\n",
       "</style>\n",
       "<table border=\"1\" class=\"dataframe\">\n",
       "  <thead>\n",
       "    <tr style=\"text-align: right;\">\n",
       "      <th></th>\n",
       "      <th></th>\n",
       "      <th>AverageTemperature</th>\n",
       "    </tr>\n",
       "    <tr>\n",
       "      <th>years</th>\n",
       "      <th>Country</th>\n",
       "      <th></th>\n",
       "    </tr>\n",
       "  </thead>\n",
       "  <tbody>\n",
       "    <tr>\n",
       "      <th>1768</th>\n",
       "      <th>United States</th>\n",
       "      <td>5.572750</td>\n",
       "    </tr>\n",
       "    <tr>\n",
       "      <th>1769</th>\n",
       "      <th>United States</th>\n",
       "      <td>10.446500</td>\n",
       "    </tr>\n",
       "    <tr>\n",
       "      <th>1774</th>\n",
       "      <th>United States</th>\n",
       "      <td>1.603000</td>\n",
       "    </tr>\n",
       "    <tr>\n",
       "      <th>1775</th>\n",
       "      <th>United States</th>\n",
       "      <td>9.499167</td>\n",
       "    </tr>\n",
       "    <tr>\n",
       "      <th>1776</th>\n",
       "      <th>United States</th>\n",
       "      <td>8.110000</td>\n",
       "    </tr>\n",
       "    <tr>\n",
       "      <th>...</th>\n",
       "      <th>...</th>\n",
       "      <td>...</td>\n",
       "    </tr>\n",
       "    <tr>\n",
       "      <th rowspan=\"5\" valign=\"top\">2013</th>\n",
       "      <th>China</th>\n",
       "      <td>9.295000</td>\n",
       "    </tr>\n",
       "    <tr>\n",
       "      <th>India</th>\n",
       "      <td>25.413250</td>\n",
       "    </tr>\n",
       "    <tr>\n",
       "      <th>Japan</th>\n",
       "      <td>12.964750</td>\n",
       "    </tr>\n",
       "    <tr>\n",
       "      <th>Russia</th>\n",
       "      <td>-2.263125</td>\n",
       "    </tr>\n",
       "    <tr>\n",
       "      <th>United States</th>\n",
       "      <td>11.297111</td>\n",
       "    </tr>\n",
       "  </tbody>\n",
       "</table>\n",
       "<p>1148 rows × 1 columns</p>\n",
       "</div>"
      ],
      "text/plain": [
       "                     AverageTemperature\n",
       "years Country                          \n",
       "1768  United States            5.572750\n",
       "1769  United States           10.446500\n",
       "1774  United States            1.603000\n",
       "1775  United States            9.499167\n",
       "1776  United States            8.110000\n",
       "...                                 ...\n",
       "2013  China                    9.295000\n",
       "      India                   25.413250\n",
       "      Japan                   12.964750\n",
       "      Russia                  -2.263125\n",
       "      United States           11.297111\n",
       "\n",
       "[1148 rows x 1 columns]"
      ]
     },
     "execution_count": 34,
     "metadata": {},
     "output_type": "execute_result"
    }
   ],
   "source": [
    "continent_df.groupby(['years','Country']).agg({'AverageTemperature':'mean'})"
   ]
  },
  {
   "cell_type": "code",
   "execution_count": 35,
   "metadata": {},
   "outputs": [
    {
     "data": {
      "text/html": [
       "<div>\n",
       "<style scoped>\n",
       "    .dataframe tbody tr th:only-of-type {\n",
       "        vertical-align: middle;\n",
       "    }\n",
       "\n",
       "    .dataframe tbody tr th {\n",
       "        vertical-align: top;\n",
       "    }\n",
       "\n",
       "    .dataframe thead th {\n",
       "        text-align: right;\n",
       "    }\n",
       "</style>\n",
       "<table border=\"1\" class=\"dataframe\">\n",
       "  <thead>\n",
       "    <tr style=\"text-align: right;\">\n",
       "      <th></th>\n",
       "      <th>years</th>\n",
       "      <th>Country</th>\n",
       "      <th>AverageTemperature</th>\n",
       "    </tr>\n",
       "  </thead>\n",
       "  <tbody>\n",
       "    <tr>\n",
       "      <th>0</th>\n",
       "      <td>1768</td>\n",
       "      <td>United States</td>\n",
       "      <td>5.572750</td>\n",
       "    </tr>\n",
       "    <tr>\n",
       "      <th>1</th>\n",
       "      <td>1769</td>\n",
       "      <td>United States</td>\n",
       "      <td>10.446500</td>\n",
       "    </tr>\n",
       "    <tr>\n",
       "      <th>2</th>\n",
       "      <td>1774</td>\n",
       "      <td>United States</td>\n",
       "      <td>1.603000</td>\n",
       "    </tr>\n",
       "    <tr>\n",
       "      <th>3</th>\n",
       "      <td>1775</td>\n",
       "      <td>United States</td>\n",
       "      <td>9.499167</td>\n",
       "    </tr>\n",
       "    <tr>\n",
       "      <th>4</th>\n",
       "      <td>1776</td>\n",
       "      <td>United States</td>\n",
       "      <td>8.110000</td>\n",
       "    </tr>\n",
       "    <tr>\n",
       "      <th>5</th>\n",
       "      <td>1777</td>\n",
       "      <td>United States</td>\n",
       "      <td>8.304750</td>\n",
       "    </tr>\n",
       "    <tr>\n",
       "      <th>6</th>\n",
       "      <td>1778</td>\n",
       "      <td>United States</td>\n",
       "      <td>5.362000</td>\n",
       "    </tr>\n",
       "    <tr>\n",
       "      <th>7</th>\n",
       "      <td>1779</td>\n",
       "      <td>United States</td>\n",
       "      <td>-0.713667</td>\n",
       "    </tr>\n",
       "    <tr>\n",
       "      <th>8</th>\n",
       "      <td>1781</td>\n",
       "      <td>United States</td>\n",
       "      <td>6.253250</td>\n",
       "    </tr>\n",
       "    <tr>\n",
       "      <th>9</th>\n",
       "      <td>1782</td>\n",
       "      <td>United States</td>\n",
       "      <td>7.606429</td>\n",
       "    </tr>\n",
       "  </tbody>\n",
       "</table>\n",
       "</div>"
      ],
      "text/plain": [
       "  years        Country  AverageTemperature\n",
       "0  1768  United States            5.572750\n",
       "1  1769  United States           10.446500\n",
       "2  1774  United States            1.603000\n",
       "3  1775  United States            9.499167\n",
       "4  1776  United States            8.110000\n",
       "5  1777  United States            8.304750\n",
       "6  1778  United States            5.362000\n",
       "7  1779  United States           -0.713667\n",
       "8  1781  United States            6.253250\n",
       "9  1782  United States            7.606429"
      ]
     },
     "execution_count": 35,
     "metadata": {},
     "output_type": "execute_result"
    }
   ],
   "source": [
    "avg_temp=continent_df.groupby(['years','Country']).agg({'AverageTemperature':'mean'}).reset_index()\n",
    "avg_temp.head(10)"
   ]
  },
  {
   "cell_type": "code",
   "execution_count": 36,
   "metadata": {},
   "outputs": [
    {
     "data": {
      "application/vnd.plotly.v1+json": {
       "config": {
        "plotlyServerURL": "https://plot.ly"
       },
       "data": [
        {
         "hovertemplate": "Country=United States<br>variable=AverageTemperature<br>years=%{x}<br>value=%{y}<extra></extra>",
         "legendgroup": "United States",
         "line": {
          "color": "#636efa",
          "dash": "solid"
         },
         "marker": {
          "symbol": "circle"
         },
         "mode": "lines",
         "name": "United States",
         "showlegend": true,
         "type": "scattergl",
         "x": [
          "1768",
          "1769",
          "1774",
          "1775",
          "1776",
          "1777",
          "1778",
          "1779",
          "1781",
          "1782",
          "1796",
          "1797",
          "1811",
          "1812",
          "1813",
          "1814",
          "1815",
          "1816",
          "1817",
          "1818",
          "1819",
          "1820",
          "1821",
          "1822",
          "1823",
          "1824",
          "1825",
          "1826",
          "1827",
          "1828",
          "1829",
          "1830",
          "1831",
          "1832",
          "1833",
          "1834",
          "1835",
          "1836",
          "1837",
          "1838",
          "1839",
          "1840",
          "1841",
          "1842",
          "1843",
          "1844",
          "1845",
          "1846",
          "1847",
          "1848",
          "1849",
          "1850",
          "1851",
          "1852",
          "1853",
          "1854",
          "1855",
          "1856",
          "1857",
          "1858",
          "1859",
          "1860",
          "1861",
          "1862",
          "1863",
          "1864",
          "1865",
          "1866",
          "1867",
          "1868",
          "1869",
          "1870",
          "1871",
          "1872",
          "1873",
          "1874",
          "1875",
          "1876",
          "1877",
          "1878",
          "1879",
          "1880",
          "1881",
          "1882",
          "1883",
          "1884",
          "1885",
          "1886",
          "1887",
          "1888",
          "1889",
          "1890",
          "1891",
          "1892",
          "1893",
          "1894",
          "1895",
          "1896",
          "1897",
          "1898",
          "1899",
          "1900",
          "1901",
          "1902",
          "1903",
          "1904",
          "1905",
          "1906",
          "1907",
          "1908",
          "1909",
          "1910",
          "1911",
          "1912",
          "1913",
          "1914",
          "1915",
          "1916",
          "1917",
          "1918",
          "1919",
          "1920",
          "1921",
          "1922",
          "1923",
          "1924",
          "1925",
          "1926",
          "1927",
          "1928",
          "1929",
          "1930",
          "1931",
          "1932",
          "1933",
          "1934",
          "1935",
          "1936",
          "1937",
          "1938",
          "1939",
          "1940",
          "1941",
          "1942",
          "1943",
          "1944",
          "1945",
          "1946",
          "1947",
          "1948",
          "1949",
          "1950",
          "1951",
          "1952",
          "1953",
          "1954",
          "1955",
          "1956",
          "1957",
          "1958",
          "1959",
          "1960",
          "1961",
          "1962",
          "1963",
          "1964",
          "1965",
          "1966",
          "1967",
          "1968",
          "1969",
          "1970",
          "1971",
          "1972",
          "1973",
          "1974",
          "1975",
          "1976",
          "1977",
          "1978",
          "1979",
          "1980",
          "1981",
          "1982",
          "1983",
          "1984",
          "1985",
          "1986",
          "1987",
          "1988",
          "1989",
          "1990",
          "1991",
          "1992",
          "1993",
          "1994",
          "1995",
          "1996",
          "1997",
          "1998",
          "1999",
          "2000",
          "2001",
          "2002",
          "2003",
          "2004",
          "2005",
          "2006",
          "2007",
          "2008",
          "2009",
          "2010",
          "2011",
          "2012",
          "2013"
         ],
         "xaxis": "x",
         "y": [
          5.57275,
          10.4465,
          1.6029999999999998,
          9.499166666666666,
          8.11,
          8.30475,
          5.361999999999999,
          -0.7136666666666663,
          6.25325,
          7.606428571428571,
          12.231,
          6.356833333333333,
          8.0434,
          7.012666666666667,
          9.918888888888889,
          3.784333333333334,
          7.501333333333334,
          4.396625,
          7.229916666666667,
          6.2747,
          -2.7746666666666666,
          7.563833333333332,
          8.004083333333334,
          8.386833333333334,
          7.9110000000000005,
          8.50225,
          8.9665,
          8.578999999999999,
          9.102,
          8.8485,
          8.38925,
          9.215083333333334,
          7.72075,
          8.247416666666668,
          8.811916666666667,
          8.829583333333334,
          7.53925,
          7.5639166666666675,
          7.984416666666667,
          7.548666666666666,
          8.522166666666665,
          8.2515,
          8.14925,
          8.358333333333334,
          7.783666666666668,
          8.082833333333333,
          8.408916666666666,
          9.136333333333333,
          7.907083333333333,
          8.016833333333333,
          8.129166666666666,
          8.248333333333333,
          8.6575,
          8.183083333333334,
          8.459916666666667,
          8.821250000000001,
          8.459416666666668,
          7.94325,
          8.140333333333333,
          8.412833333333333,
          8.016833333333333,
          8.580916666666667,
          8.6505,
          8.214,
          8.446250000000001,
          8.381083333333335,
          8.495666666666667,
          8.334333333333333,
          8.509,
          8.207416666666667,
          8.31125,
          8.8295,
          8.70675,
          8.00075,
          8.063083333333333,
          8.768,
          7.849666666666667,
          8.099,
          8.696583333333335,
          9.017166666666666,
          8.68325,
          8.110333333333333,
          8.6435,
          8.369916666666667,
          7.9422500000000005,
          7.957999999999999,
          8.158416666666666,
          8.181833333333334,
          8.143583333333334,
          8.172833333333333,
          8.798083333333333,
          8.559166666666668,
          8.31675,
          8.177999999999999,
          8.171,
          8.46675,
          7.847333333333332,
          8.483583333333334,
          8.473166666666666,
          8.427916666666667,
          8.166833333333333,
          9.021583333333334,
          8.494916666666667,
          8.453999999999999,
          7.977250000000001,
          8.200666666666665,
          8.402333333333333,
          8.560083333333333,
          8.394,
          8.755583333333334,
          8.221833333333334,
          8.757916666666667,
          8.737916666666667,
          8.140916666666667,
          8.552166666666666,
          8.8765,
          8.648249999999999,
          8.180083333333334,
          7.669499999999999,
          8.50125,
          8.538,
          8.1845,
          9.595666666666666,
          8.768166666666668,
          8.760333333333334,
          8.052333333333333,
          9.016416666666666,
          9.14025,
          8.719333333333333,
          8.876,
          8.4395,
          8.737666666666668,
          9.56075,
          8.5395,
          9.030583333333334,
          9.826583333333334,
          8.7425,
          8.92225,
          8.73075,
          9.471833333333334,
          9.3075,
          9.097166666666668,
          9.266083333333333,
          8.919333333333332,
          9.0035,
          8.898166666666667,
          8.671249999999999,
          9.179583333333333,
          8.836083333333333,
          8.481666666666667,
          8.888083333333332,
          8.656416666666667,
          8.416583333333334,
          8.979416666666667,
          9.530416666666666,
          9.410583333333333,
          8.517166666666666,
          8.699916666666667,
          9.126333333333333,
          8.970166666666668,
          8.825333333333333,
          8.69225,
          8.642000000000001,
          8.9565,
          9.08,
          8.491666666666667,
          8.647666666666668,
          8.483,
          8.902,
          8.55325,
          8.770833333333334,
          8.673,
          8.4425,
          8.428083333333333,
          8.934666666666667,
          8.815916666666666,
          8.431,
          8.65125,
          9.269833333333333,
          8.751416666666666,
          8.571583333333333,
          9.1355,
          9.7215,
          8.5395,
          8.912333333333333,
          8.811166666666667,
          8.587000000000002,
          9.5595,
          9.628166666666667,
          9.275333333333334,
          8.873083333333334,
          9.521583333333334,
          9.493666666666666,
          9.056333333333333,
          8.86725,
          9.270333333333333,
          9.331000000000001,
          8.754333333333333,
          9.172916666666667,
          10.141166666666667,
          9.567,
          9.64975,
          9.785583333333333,
          9.816166666666666,
          9.755083333333333,
          9.6675,
          9.892666666666667,
          9.9745,
          9.8375,
          8.951416666666667,
          9.137083333333333,
          9.505583333333334,
          9.549916666666666,
          10.261083333333334,
          11.297111111111112
         ],
         "yaxis": "y"
        },
        {
         "hovertemplate": "Country=India<br>variable=AverageTemperature<br>years=%{x}<br>value=%{y}<extra></extra>",
         "legendgroup": "India",
         "line": {
          "color": "#EF553B",
          "dash": "solid"
         },
         "marker": {
          "symbol": "circle"
         },
         "mode": "lines",
         "name": "India",
         "showlegend": true,
         "type": "scattergl",
         "x": [
          "1796",
          "1797",
          "1798",
          "1799",
          "1800",
          "1801",
          "1802",
          "1803",
          "1804",
          "1805",
          "1806",
          "1807",
          "1813",
          "1814",
          "1815",
          "1816",
          "1817",
          "1818",
          "1819",
          "1820",
          "1821",
          "1822",
          "1823",
          "1824",
          "1825",
          "1826",
          "1827",
          "1828",
          "1829",
          "1830",
          "1831",
          "1832",
          "1833",
          "1834",
          "1835",
          "1836",
          "1837",
          "1838",
          "1839",
          "1840",
          "1841",
          "1842",
          "1843",
          "1844",
          "1845",
          "1846",
          "1847",
          "1848",
          "1849",
          "1850",
          "1851",
          "1852",
          "1853",
          "1854",
          "1855",
          "1856",
          "1857",
          "1858",
          "1859",
          "1860",
          "1861",
          "1862",
          "1865",
          "1866",
          "1867",
          "1868",
          "1869",
          "1870",
          "1871",
          "1872",
          "1873",
          "1874",
          "1875",
          "1876",
          "1877",
          "1878",
          "1879",
          "1880",
          "1881",
          "1882",
          "1883",
          "1884",
          "1885",
          "1886",
          "1887",
          "1888",
          "1889",
          "1890",
          "1891",
          "1892",
          "1893",
          "1894",
          "1895",
          "1896",
          "1897",
          "1898",
          "1899",
          "1900",
          "1901",
          "1902",
          "1903",
          "1904",
          "1905",
          "1906",
          "1907",
          "1908",
          "1909",
          "1910",
          "1911",
          "1912",
          "1913",
          "1914",
          "1915",
          "1916",
          "1917",
          "1918",
          "1919",
          "1920",
          "1921",
          "1922",
          "1923",
          "1924",
          "1925",
          "1926",
          "1927",
          "1928",
          "1929",
          "1930",
          "1931",
          "1932",
          "1933",
          "1934",
          "1935",
          "1936",
          "1937",
          "1938",
          "1939",
          "1940",
          "1941",
          "1942",
          "1943",
          "1944",
          "1945",
          "1946",
          "1947",
          "1948",
          "1949",
          "1950",
          "1951",
          "1952",
          "1953",
          "1954",
          "1955",
          "1956",
          "1957",
          "1958",
          "1959",
          "1960",
          "1961",
          "1962",
          "1963",
          "1964",
          "1965",
          "1966",
          "1967",
          "1968",
          "1969",
          "1970",
          "1971",
          "1972",
          "1973",
          "1974",
          "1975",
          "1976",
          "1977",
          "1978",
          "1979",
          "1980",
          "1981",
          "1982",
          "1983",
          "1984",
          "1985",
          "1986",
          "1987",
          "1988",
          "1989",
          "1990",
          "1991",
          "1992",
          "1993",
          "1994",
          "1995",
          "1996",
          "1997",
          "1998",
          "1999",
          "2000",
          "2001",
          "2002",
          "2003",
          "2004",
          "2005",
          "2006",
          "2007",
          "2008",
          "2009",
          "2010",
          "2011",
          "2012",
          "2013"
         ],
         "xaxis": "x",
         "y": [
          23.675250000000002,
          24.8399,
          23.2733,
          23.949416666666664,
          23.911916666666666,
          23.1751,
          24.384333333333334,
          24.145750000000003,
          24.492416666666667,
          24.025500000000005,
          23.92616666666667,
          23.4996,
          23.27125,
          22.657363636363637,
          22.80775,
          22.424000000000003,
          22.5955,
          22.953000000000003,
          22.653583333333334,
          22.84075,
          23.527583333333336,
          23.597416666666664,
          23.471083333333336,
          24.04975,
          23.796083333333332,
          23.858999999999998,
          23.956416666666666,
          23.623666666666665,
          23.4435,
          23.67233333333333,
          23.241666666666664,
          23.4586,
          23.54825,
          23.5295,
          22.658083333333334,
          23.25916666666667,
          23.182916666666667,
          23.192916666666665,
          23.24475,
          23.445166666666665,
          23.26075,
          23.41425,
          23.31233333333333,
          23.094083333333334,
          23.343166666666665,
          23.8025,
          23.31833333333333,
          23.22758333333333,
          23.224249999999998,
          23.504583333333333,
          23.485166666666668,
          23.378333333333334,
          23.66541666666667,
          23.759083333333336,
          23.758750000000003,
          23.292,
          22.9645,
          23.600083333333334,
          23.671083333333332,
          23.396833333333333,
          23.299333333333337,
          18.659666666666666,
          23.7895,
          23.823000000000004,
          23.89816666666667,
          23.684083333333334,
          23.733333333333334,
          23.535166666666665,
          23.615166666666667,
          23.626833333333334,
          23.701833333333337,
          23.642583333333334,
          23.7555,
          23.725916666666667,
          23.88275,
          24.131083333333333,
          23.601083333333335,
          23.86075,
          23.677833333333336,
          23.5885,
          23.340833333333332,
          23.24066666666667,
          23.389916666666668,
          23.644833333333334,
          23.42216666666667,
          23.70266666666667,
          23.988166666666668,
          23.698416666666663,
          23.647583333333333,
          23.989833333333337,
          22.889833333333332,
          23.691666666666666,
          23.800083333333333,
          24.404416666666666,
          24.2195,
          24.063833333333335,
          24.17175,
          24.367833333333333,
          24.08425,
          24.31866666666667,
          23.767416666666666,
          23.7585,
          23.515,
          23.88808333333333,
          23.677083333333332,
          23.74191666666667,
          23.661,
          23.544166666666666,
          23.869333333333334,
          24.007083333333338,
          23.700833333333335,
          23.8255,
          24.29008333333333,
          23.8255,
          23.081083333333336,
          23.77175,
          23.825166666666664,
          23.955416666666668,
          24.249250000000004,
          23.904416666666666,
          23.90925,
          24.046000000000003,
          23.662583333333334,
          23.847333333333335,
          23.773750000000003,
          24.139,
          23.97141666666667,
          23.837,
          24.249333333333336,
          24.07858333333333,
          23.560333333333332,
          23.767416666666666,
          23.761833333333332,
          23.834833333333336,
          23.707916666666666,
          23.891916666666663,
          23.99325,
          23.90225,
          24.67425,
          24.2105,
          23.90516666666667,
          23.847916666666666,
          23.671583333333334,
          24.134416666666667,
          24.2795,
          24.19,
          24.047250000000002,
          23.659333333333336,
          24.22066666666667,
          24.3655,
          24.561583333333335,
          24.167166666666663,
          23.952166666666667,
          23.899666666666665,
          24.026416666666666,
          24.676333333333332,
          24.266833333333334,
          24.287166666666668,
          23.815250000000002,
          23.88475,
          24.09575,
          24.0705,
          24.09091666666667,
          24.438583333333337,
          23.992083333333337,
          23.86475,
          24.501166666666666,
          24.074083333333334,
          23.634,
          24.272166666666667,
          24.386583333333334,
          24.175749999999997,
          23.862166666666667,
          24.199583333333333,
          24.28891666666667,
          24.007333333333335,
          24.553583333333336,
          24.593083333333336,
          24.228416666666664,
          24.21825,
          23.938000000000002,
          24.185083333333335,
          24.486333333333334,
          24.2945,
          24.789083333333334,
          24.72775,
          24.162333333333333,
          24.17816666666667,
          24.311750000000004,
          24.222916666666666,
          24.408666666666665,
          24.29641666666667,
          24.42975,
          24.436916666666665,
          24.04733333333333,
          24.755416666666665,
          24.659833333333335,
          24.498,
          24.581916666666668,
          24.913,
          24.649916666666666,
          24.634583333333335,
          24.495416666666667,
          24.732083333333335,
          24.649916666666666,
          24.406000000000002,
          25.146666666666665,
          25.050833333333333,
          24.415583333333334,
          24.640833333333333,
          25.413249999999998
         ],
         "yaxis": "y"
        },
        {
         "hovertemplate": "Country=Russia<br>variable=AverageTemperature<br>years=%{x}<br>value=%{y}<extra></extra>",
         "legendgroup": "Russia",
         "line": {
          "color": "#00cc96",
          "dash": "solid"
         },
         "marker": {
          "symbol": "circle"
         },
         "mode": "lines",
         "name": "Russia",
         "showlegend": true,
         "type": "scattergl",
         "x": [
          "1812",
          "1813",
          "1814",
          "1815",
          "1816",
          "1817",
          "1818",
          "1819",
          "1820",
          "1821",
          "1822",
          "1823",
          "1824",
          "1825",
          "1826",
          "1827",
          "1828",
          "1829",
          "1830",
          "1831",
          "1832",
          "1833",
          "1834",
          "1835",
          "1836",
          "1837",
          "1838",
          "1839",
          "1840",
          "1841",
          "1842",
          "1843",
          "1844",
          "1845",
          "1846",
          "1847",
          "1848",
          "1849",
          "1850",
          "1851",
          "1852",
          "1853",
          "1854",
          "1855",
          "1856",
          "1857",
          "1858",
          "1859",
          "1860",
          "1861",
          "1862",
          "1863",
          "1864",
          "1865",
          "1866",
          "1867",
          "1868",
          "1869",
          "1870",
          "1871",
          "1872",
          "1873",
          "1874",
          "1875",
          "1876",
          "1877",
          "1878",
          "1879",
          "1880",
          "1881",
          "1882",
          "1883",
          "1884",
          "1885",
          "1886",
          "1887",
          "1888",
          "1889",
          "1890",
          "1891",
          "1892",
          "1893",
          "1894",
          "1895",
          "1896",
          "1897",
          "1898",
          "1899",
          "1900",
          "1901",
          "1902",
          "1903",
          "1904",
          "1905",
          "1906",
          "1907",
          "1908",
          "1909",
          "1910",
          "1911",
          "1912",
          "1913",
          "1914",
          "1915",
          "1916",
          "1917",
          "1918",
          "1919",
          "1920",
          "1921",
          "1922",
          "1923",
          "1924",
          "1925",
          "1926",
          "1927",
          "1928",
          "1929",
          "1930",
          "1931",
          "1932",
          "1933",
          "1934",
          "1935",
          "1936",
          "1937",
          "1938",
          "1939",
          "1940",
          "1941",
          "1942",
          "1943",
          "1944",
          "1945",
          "1946",
          "1947",
          "1948",
          "1949",
          "1950",
          "1951",
          "1952",
          "1953",
          "1954",
          "1955",
          "1956",
          "1957",
          "1958",
          "1959",
          "1960",
          "1961",
          "1962",
          "1963",
          "1964",
          "1965",
          "1966",
          "1967",
          "1968",
          "1969",
          "1970",
          "1971",
          "1972",
          "1973",
          "1974",
          "1975",
          "1976",
          "1977",
          "1978",
          "1979",
          "1980",
          "1981",
          "1982",
          "1983",
          "1984",
          "1985",
          "1986",
          "1987",
          "1988",
          "1989",
          "1990",
          "1991",
          "1992",
          "1993",
          "1994",
          "1995",
          "1996",
          "1997",
          "1998",
          "1999",
          "2000",
          "2001",
          "2002",
          "2003",
          "2004",
          "2005",
          "2006",
          "2007",
          "2008",
          "2009",
          "2010",
          "2011",
          "2012",
          "2013"
         ],
         "xaxis": "x",
         "y": [
          -7.046833333333335,
          -7.084818181818182,
          -6.4359090909090915,
          -21.342,
          -1.6283333333333334,
          -6.959916666666667,
          -5.90925,
          -6.7655,
          -6.4285,
          -5.717666666666667,
          -5.482333333333334,
          -6.203500000000001,
          -5.300083333333333,
          -5.4315,
          -5.317166666666667,
          -5.038250000000001,
          -6.109750000000001,
          -6.1812499999999995,
          -5.660416666666667,
          -6.67325,
          -6.681166666666667,
          -6.1645,
          -5.778166666666667,
          -6.7855,
          -6.088916666666667,
          -6.761666666666667,
          -6.4182500000000005,
          -6.437583333333333,
          -6.437416666666667,
          -6.433916666666666,
          -5.994416666666667,
          -5.097583333333334,
          -6.22,
          -6.27475,
          -5.4339166666666685,
          -5.930333333333334,
          -5.708333333333333,
          -5.5605,
          -6.4265,
          -5.669583333333333,
          -6.039666666666666,
          -6.276000000000001,
          -5.49025,
          -5.556916666666666,
          -6.08875,
          -6.487166666666667,
          -5.592833333333334,
          -5.228500000000001,
          -6.619,
          -6.295333333333333,
          -6.931416666666667,
          -5.299166666666667,
          -6.007583333333334,
          -5.917083333333333,
          -5.31975,
          -5.542999999999999,
          -5.757916666666667,
          -5.331916666666667,
          -6.422833333333333,
          -6.263333333333333,
          -6.4214166666666666,
          -5.687916666666666,
          -4.888916666666667,
          -6.085416666666667,
          -6.0015833333333335,
          -5.602999999999999,
          -5.238083333333333,
          -5.84475,
          -5.737166666666667,
          -6.0352500000000004,
          -5.762250000000001,
          -5.847083333333334,
          -6.1816666666666675,
          -6.683916666666668,
          -6.129250000000002,
          -5.886916666666667,
          -6.412666666666667,
          -6.1031666666666675,
          -6.25675,
          -6.183666666666667,
          -6.362416666666667,
          -5.554833333333334,
          -5.366166666666667,
          -6.280666666666666,
          -5.686833333333333,
          -5.554916666666666,
          -5.950666666666667,
          -5.37575,
          -5.8743333333333325,
          -5.460083333333333,
          -7.002750000000002,
          -5.352583333333333,
          -5.418499999999999,
          -5.687083333333334,
          -5.10175,
          -6.041416666666667,
          -6.122583333333334,
          -5.865083333333334,
          -5.776583333333334,
          -5.830333333333333,
          -6.864416666666667,
          -5.726416666666668,
          -5.374166666666667,
          -6.363,
          -6.19,
          -5.528416666666668,
          -5.747916666666666,
          -6.186,
          -5.155,
          -4.90425,
          -5.697833333333333,
          -5.521166666666667,
          -5.2754166666666675,
          -5.128916666666666,
          -5.3745,
          -5.6569166666666675,
          -5.7722500000000005,
          -6.400083333333334,
          -5.53075,
          -5.76275,
          -4.758249999999999,
          -6.2521666666666675,
          -4.643000000000001,
          -5.214333333333333,
          -5.030083333333334,
          -5.1489166666666675,
          -4.552666666666666,
          -4.716833333333333,
          -5.628416666666666,
          -6.476666666666667,
          -5.604666666666667,
          -4.1145000000000005,
          -4.434,
          -5.394416666666667,
          -5.855,
          -5.368083333333335,
          -4.337583333333334,
          -4.9277500000000005,
          -5.6089166666666666,
          -5.055916666666667,
          -6.175250000000001,
          -4.779416666666667,
          -5.317333333333334,
          -5.626666666666668,
          -5.81375,
          -5.358250000000001,
          -6.154083333333333,
          -4.838916666666667,
          -5.936,
          -4.960333333333334,
          -4.416250000000001,
          -5.008166666666667,
          -5.785833333333334,
          -5.907416666666666,
          -6.309583333333333,
          -4.36325,
          -5.5895833333333345,
          -6.7660833333333334,
          -5.522583333333333,
          -4.971166666666668,
          -5.702000000000001,
          -4.833583333333333,
          -5.67175,
          -4.141083333333334,
          -5.927,
          -5.513000000000001,
          -5.255916666666668,
          -5.904333333333334,
          -5.420750000000001,
          -4.166166666666667,
          -5.097583333333334,
          -3.9518333333333344,
          -5.29425,
          -5.521166666666666,
          -4.892250000000001,
          -6.274000000000001,
          -4.330416666666667,
          -4.07325,
          -4.022916666666666,
          -4.236999999999999,
          -4.90325,
          -4.62175,
          -4.898416666666667,
          -3.1301666666666663,
          -4.810333333333333,
          -4.2965,
          -5.281083333333334,
          -4.829750000000001,
          -4.5456666666666665,
          -4.490666666666667,
          -4.122916666666666,
          -3.8328333333333333,
          -4.4935833333333335,
          -3.4980833333333337,
          -4.763,
          -2.975083333333334,
          -3.3054166666666664,
          -4.6085,
          -4.520583333333334,
          -3.401583333333333,
          -3.90175,
          -2.2631250000000005
         ],
         "yaxis": "y"
        },
        {
         "hovertemplate": "Country=China<br>variable=AverageTemperature<br>years=%{x}<br>value=%{y}<extra></extra>",
         "legendgroup": "China",
         "line": {
          "color": "#ab63fa",
          "dash": "solid"
         },
         "marker": {
          "symbol": "circle"
         },
         "mode": "lines",
         "name": "China",
         "showlegend": true,
         "type": "scattergl",
         "x": [
          "1820",
          "1821",
          "1822",
          "1823",
          "1833",
          "1834",
          "1835",
          "1836",
          "1837",
          "1838",
          "1839",
          "1840",
          "1841",
          "1842",
          "1843",
          "1844",
          "1845",
          "1846",
          "1847",
          "1848",
          "1849",
          "1850",
          "1851",
          "1852",
          "1853",
          "1854",
          "1855",
          "1856",
          "1857",
          "1858",
          "1859",
          "1860",
          "1861",
          "1862",
          "1863",
          "1864",
          "1865",
          "1866",
          "1867",
          "1868",
          "1869",
          "1870",
          "1871",
          "1872",
          "1873",
          "1874",
          "1875",
          "1876",
          "1877",
          "1878",
          "1879",
          "1880",
          "1881",
          "1882",
          "1883",
          "1884",
          "1885",
          "1886",
          "1887",
          "1888",
          "1889",
          "1890",
          "1891",
          "1892",
          "1893",
          "1894",
          "1895",
          "1896",
          "1897",
          "1898",
          "1899",
          "1900",
          "1901",
          "1902",
          "1903",
          "1904",
          "1905",
          "1906",
          "1907",
          "1908",
          "1909",
          "1910",
          "1911",
          "1912",
          "1913",
          "1914",
          "1915",
          "1916",
          "1917",
          "1918",
          "1919",
          "1920",
          "1921",
          "1922",
          "1923",
          "1924",
          "1925",
          "1926",
          "1927",
          "1928",
          "1929",
          "1930",
          "1931",
          "1932",
          "1933",
          "1934",
          "1935",
          "1936",
          "1937",
          "1938",
          "1939",
          "1940",
          "1941",
          "1942",
          "1943",
          "1944",
          "1945",
          "1946",
          "1947",
          "1948",
          "1949",
          "1950",
          "1951",
          "1952",
          "1953",
          "1954",
          "1955",
          "1956",
          "1957",
          "1958",
          "1959",
          "1960",
          "1961",
          "1962",
          "1963",
          "1964",
          "1965",
          "1966",
          "1967",
          "1968",
          "1969",
          "1970",
          "1971",
          "1972",
          "1973",
          "1974",
          "1975",
          "1976",
          "1977",
          "1978",
          "1979",
          "1980",
          "1981",
          "1982",
          "1983",
          "1984",
          "1985",
          "1986",
          "1987",
          "1988",
          "1989",
          "1990",
          "1991",
          "1992",
          "1993",
          "1994",
          "1995",
          "1996",
          "1997",
          "1998",
          "1999",
          "2000",
          "2001",
          "2002",
          "2003",
          "2004",
          "2005",
          "2006",
          "2007",
          "2008",
          "2009",
          "2010",
          "2011",
          "2012",
          "2013"
         ],
         "xaxis": "x",
         "y": [
          5.013599999999999,
          6.284166666666667,
          6.341416666666667,
          7.024363636363637,
          6.039333333333334,
          6.268166666666667,
          5.43425,
          5.364727272727273,
          8.136833333333334,
          5.715,
          5.519083333333334,
          6.018583333333333,
          5.512416666666667,
          6.2785,
          6.413916666666666,
          6.0515,
          6.023000000000001,
          6.5874999999999995,
          6.257083333333333,
          5.93975,
          6.1048333333333344,
          5.907166666666666,
          5.7828333333333335,
          5.857500000000001,
          5.997583333333334,
          6.473083333333332,
          6.515583333333333,
          6.095583333333334,
          5.959666666666667,
          6.414083333333333,
          6.535166666666666,
          5.609333333333333,
          5.865166666666667,
          5.448083333333333,
          6.444583333333333,
          5.8015,
          6.244,
          6.410416666666666,
          6.759166666666666,
          6.415500000000001,
          6.465833333333333,
          6.158999999999999,
          6.371583333333334,
          6.286333333333334,
          6.588166666666667,
          6.6451666666666656,
          6.505,
          6.347416666666667,
          6.181583333333333,
          6.414416666666667,
          6.667416666666667,
          6.383500000000001,
          6.352833333333333,
          6.39825,
          6.026916666666666,
          5.804833333333334,
          5.9645,
          6.114750000000001,
          6.197166666666668,
          6.336416666666666,
          6.31175,
          6.464333333333333,
          6.359333333333333,
          6.060833333333334,
          6.108333333333333,
          6.57825,
          6.035833333333334,
          6.38625,
          6.228083333333334,
          6.562666666666666,
          6.603416666666667,
          6.444166666666667,
          6.5375000000000005,
          6.744666666666666,
          6.1745833333333335,
          6.350833333333334,
          5.7555000000000005,
          6.2218333333333335,
          6.308666666666666,
          6.286583333333333,
          6.3812500000000005,
          6.0715,
          6.297000000000001,
          6.076083333333333,
          6.138416666666667,
          6.8187500000000005,
          6.49275,
          6.349833333333333,
          6.161416666666667,
          6.196833333333333,
          6.607,
          6.590333333333334,
          6.50075,
          6.677333333333333,
          6.563666666666666,
          6.704250000000001,
          6.555666666666667,
          6.754083333333334,
          6.667749999999999,
          6.7746666666666675,
          6.424083333333333,
          6.468666666666667,
          6.3775,
          6.9055833333333325,
          6.6299166666666665,
          6.362833333333334,
          6.636166666666667,
          6.111583333333333,
          6.511083333333333,
          6.87175,
          7.0264999999999995,
          6.961666666666666,
          7.3455,
          7.096,
          7.050916666666667,
          6.5305,
          6.8388333333333335,
          7.354083333333333,
          6.773833333333333,
          7.1003333333333325,
          6.9755,
          6.641166666666667,
          6.8694999999999995,
          6.640916666666667,
          7.022333333333333,
          6.3709999999999996,
          6.701666666666667,
          6.299333333333333,
          6.388000000000001,
          7.033583333333333,
          7.039666666666666,
          6.890916666666667,
          7.050583333333333,
          6.703666666666667,
          7.052499999999999,
          6.746083333333334,
          6.799916666666667,
          6.962,
          6.402583333333333,
          6.727,
          6.4559999999999995,
          6.5681666666666665,
          6.84625,
          6.814416666666667,
          7.209583333333334,
          6.659416666666666,
          7.1009166666666665,
          6.471166666666666,
          6.851333333333334,
          7.048166666666667,
          7.074083333333333,
          6.950083333333333,
          6.926416666666667,
          7.14975,
          6.925083333333334,
          6.5179166666666655,
          6.7402500000000005,
          6.870166666666666,
          7.249,
          7.220833333333332,
          7.23975,
          7.636,
          7.097166666666666,
          6.858416666666667,
          6.919416666666667,
          7.4959999999999996,
          7.2115833333333335,
          6.962666666666667,
          7.367333333333334,
          8.051833333333333,
          7.84025,
          7.238083333333333,
          7.596416666666666,
          7.7956666666666665,
          7.521999999999999,
          7.71275,
          7.4135,
          7.948,
          8.12675,
          7.566083333333334,
          7.8095,
          7.548416666666667,
          7.357083333333333,
          7.077083333333333,
          9.295
         ],
         "yaxis": "y"
        },
        {
         "hovertemplate": "Country=Japan<br>variable=AverageTemperature<br>years=%{x}<br>value=%{y}<extra></extra>",
         "legendgroup": "Japan",
         "line": {
          "color": "#FFA15A",
          "dash": "solid"
         },
         "marker": {
          "symbol": "circle"
         },
         "mode": "lines",
         "name": "Japan",
         "showlegend": true,
         "type": "scattergl",
         "x": [
          "1841",
          "1842",
          "1843",
          "1844",
          "1845",
          "1846",
          "1847",
          "1848",
          "1849",
          "1850",
          "1851",
          "1852",
          "1853",
          "1854",
          "1855",
          "1856",
          "1857",
          "1858",
          "1859",
          "1860",
          "1861",
          "1862",
          "1863",
          "1864",
          "1865",
          "1866",
          "1867",
          "1868",
          "1869",
          "1870",
          "1871",
          "1872",
          "1873",
          "1874",
          "1875",
          "1876",
          "1877",
          "1878",
          "1879",
          "1880",
          "1881",
          "1882",
          "1883",
          "1884",
          "1885",
          "1886",
          "1887",
          "1888",
          "1889",
          "1890",
          "1891",
          "1892",
          "1893",
          "1894",
          "1895",
          "1896",
          "1897",
          "1898",
          "1899",
          "1900",
          "1901",
          "1902",
          "1903",
          "1904",
          "1905",
          "1906",
          "1907",
          "1908",
          "1909",
          "1910",
          "1911",
          "1912",
          "1913",
          "1914",
          "1915",
          "1916",
          "1917",
          "1918",
          "1919",
          "1920",
          "1921",
          "1922",
          "1923",
          "1924",
          "1925",
          "1926",
          "1927",
          "1928",
          "1929",
          "1930",
          "1931",
          "1932",
          "1933",
          "1934",
          "1935",
          "1936",
          "1937",
          "1938",
          "1939",
          "1940",
          "1941",
          "1942",
          "1943",
          "1944",
          "1945",
          "1946",
          "1947",
          "1948",
          "1949",
          "1950",
          "1951",
          "1952",
          "1953",
          "1954",
          "1955",
          "1956",
          "1957",
          "1958",
          "1959",
          "1960",
          "1961",
          "1962",
          "1963",
          "1964",
          "1965",
          "1966",
          "1967",
          "1968",
          "1969",
          "1970",
          "1971",
          "1972",
          "1973",
          "1974",
          "1975",
          "1976",
          "1977",
          "1978",
          "1979",
          "1980",
          "1981",
          "1982",
          "1983",
          "1984",
          "1985",
          "1986",
          "1987",
          "1988",
          "1989",
          "1990",
          "1991",
          "1992",
          "1993",
          "1994",
          "1995",
          "1996",
          "1997",
          "1998",
          "1999",
          "2000",
          "2001",
          "2002",
          "2003",
          "2004",
          "2005",
          "2006",
          "2007",
          "2008",
          "2009",
          "2010",
          "2011",
          "2012",
          "2013"
         ],
         "xaxis": "x",
         "y": [
          11.019499999999999,
          11.445749999999999,
          11.627249999999998,
          11.216166666666666,
          11.3805,
          11.824333333333334,
          11.659666666666666,
          11.600416666666668,
          11.604999999999999,
          11.116,
          11.117583333333334,
          11.117833333333332,
          11.257666666666665,
          11.692166666666665,
          12.040666666666667,
          11.493083333333333,
          11.400333333333334,
          11.686583333333333,
          11.55625,
          11.096083333333333,
          11.179333333333332,
          11.17575,
          11.808416666666666,
          11.442750000000002,
          11.723999999999998,
          11.225166666666667,
          11.719333333333333,
          11.644,
          11.522333333333334,
          11.574833333333332,
          11.529583333333333,
          11.460833333333333,
          10.987333333333334,
          11.7465,
          11.686583333333333,
          11.95225,
          12.229750000000001,
          11.66275,
          12.078249999999999,
          11.860583333333333,
          11.585416666666667,
          11.740250000000001,
          11.40825,
          10.535333333333332,
          11.009166666666667,
          11.921999999999999,
          11.677833333333332,
          11.622750000000002,
          11.066,
          12.84225,
          11.825166666666666,
          11.536333333333333,
          11.207666666666666,
          12.44825,
          11.57325,
          11.681416666666665,
          11.216000000000001,
          11.900666666666666,
          11.828000000000001,
          11.473666666666666,
          11.680166666666667,
          11.52375,
          11.843333333333334,
          11.770166666666666,
          11.597416666666668,
          11.183916666666667,
          11.403166666666666,
          11.095999999999998,
          11.38875,
          11.378916666666667,
          11.980083333333333,
          11.453249999999999,
          10.986833333333331,
          12.487166666666667,
          12.061083333333334,
          12.545333333333334,
          11.412916666666668,
          11.609166666666667,
          11.951333333333332,
          12.213500000000002,
          11.57175,
          12.078416666666667,
          11.908499999999998,
          11.642416666666668,
          11.758583333333334,
          11.302416666666666,
          11.7355,
          12.057916666666666,
          11.774916666666668,
          12.29275,
          11.489083333333333,
          11.982750000000001,
          11.953166666666666,
          11.49875,
          11.893083333333331,
          11.5475,
          12.211166666666665,
          12.081166666666666,
          12.084083333333334,
          11.987249999999998,
          11.9185,
          12.002166666666668,
          11.994833333333334,
          11.692166666666667,
          11.138833333333332,
          12.360666666666667,
          11.333583333333332,
          12.795916666666665,
          12.102583333333333,
          12.589500000000001,
          12.146666666666668,
          11.939666666666668,
          11.964666666666666,
          12.223999999999998,
          12.729,
          12.019416666666666,
          12.055333333333332,
          12.57,
          12.958166666666665,
          12.599833333333335,
          13.045499999999999,
          12.466166666666666,
          12.29325,
          12.34975,
          11.687916666666666,
          12.134416666666667,
          12.266333333333334,
          12.190416666666666,
          11.848999999999998,
          11.929,
          11.983416666666665,
          12.592166666666666,
          12.41475,
          11.7905,
          12.336999999999998,
          11.7475,
          12.19825,
          12.505333333333333,
          12.842583333333332,
          11.795083333333332,
          11.629416666666666,
          12.336333333333334,
          12.121916666666666,
          11.659916666666666,
          12.281333333333334,
          11.691416666666667,
          12.543833333333332,
          11.967666666666666,
          12.91175,
          13.590583333333333,
          12.783166666666666,
          12.484250000000001,
          12.055166666666667,
          13.229750000000001,
          12.475416666666666,
          12.082833333333333,
          12.752416666666667,
          13.244750000000002,
          13.080083333333334,
          12.833833333333333,
          12.450000000000001,
          12.837333333333333,
          12.507,
          13.435666666666668,
          12.555916666666667,
          12.757083333333334,
          13.192166666666667,
          12.874916666666666,
          12.933833333333332,
          13.215583333333333,
          12.73775,
          12.565666666666667,
          12.96475
         ],
         "yaxis": "y"
        },
        {
         "hovertemplate": "Country=Australia<br>variable=AverageTemperature<br>years=%{x}<br>value=%{y}<extra></extra>",
         "legendgroup": "Australia",
         "line": {
          "color": "#19d3f3",
          "dash": "solid"
         },
         "marker": {
          "symbol": "circle"
         },
         "mode": "lines",
         "name": "Australia",
         "showlegend": true,
         "type": "scattergl",
         "x": [
          "1852",
          "1853",
          "1854",
          "1855",
          "1856",
          "1857",
          "1858",
          "1859",
          "1860",
          "1861",
          "1862",
          "1863",
          "1864",
          "1865",
          "1866",
          "1867",
          "1868",
          "1869",
          "1870",
          "1871",
          "1872",
          "1873",
          "1874",
          "1875",
          "1876",
          "1877",
          "1878",
          "1879",
          "1880",
          "1881",
          "1882",
          "1883",
          "1884",
          "1885",
          "1886",
          "1887",
          "1888",
          "1889",
          "1890",
          "1891",
          "1892",
          "1893",
          "1894",
          "1895",
          "1896",
          "1897",
          "1898",
          "1899",
          "1900",
          "1901",
          "1902",
          "1903",
          "1904",
          "1905",
          "1906",
          "1907",
          "1908",
          "1909",
          "1910",
          "1911",
          "1912",
          "1913",
          "1914",
          "1915",
          "1916",
          "1917",
          "1918",
          "1919",
          "1920",
          "1921",
          "1922",
          "1923",
          "1924",
          "1925",
          "1926",
          "1927",
          "1928",
          "1929",
          "1930",
          "1931",
          "1932",
          "1933",
          "1934",
          "1935",
          "1936",
          "1937",
          "1938",
          "1939",
          "1940",
          "1941",
          "1942",
          "1943",
          "1944",
          "1945",
          "1946",
          "1947",
          "1948",
          "1949",
          "1950",
          "1951",
          "1952",
          "1953",
          "1954",
          "1955",
          "1956",
          "1957",
          "1958",
          "1959",
          "1960",
          "1961",
          "1962",
          "1963",
          "1964",
          "1965",
          "1966",
          "1967",
          "1968",
          "1969",
          "1970",
          "1971",
          "1972",
          "1973",
          "1974",
          "1975",
          "1976",
          "1977",
          "1978",
          "1979",
          "1980",
          "1981",
          "1982",
          "1983",
          "1984",
          "1985",
          "1986",
          "1987",
          "1988",
          "1989",
          "1990",
          "1991",
          "1992",
          "1993",
          "1994",
          "1995",
          "1996",
          "1997",
          "1998",
          "1999",
          "2000",
          "2001",
          "2002",
          "2003",
          "2004",
          "2005",
          "2006",
          "2007",
          "2008",
          "2009",
          "2010",
          "2011",
          "2012",
          "2013"
         ],
         "xaxis": "x",
         "y": [
          20.1885,
          20.95825,
          20.28477777777778,
          20.798636363636362,
          21.148333333333333,
          20.966416666666667,
          21.329833333333333,
          21.188916666666668,
          21.2455,
          21.1975,
          21.155416666666667,
          21.309,
          21.04425,
          21.217833333333335,
          21.417,
          21.643833333333333,
          21.44758333333333,
          21.521583333333336,
          21.42833333333333,
          21.459666666666667,
          21.206916666666668,
          21.15758333333333,
          21.126166666666666,
          21.054416666666665,
          21.087333333333333,
          21.641083333333338,
          22.380666666666666,
          21.18466666666667,
          21.66125,
          21.7925,
          21.64741666666667,
          21.520666666666667,
          21.549833333333336,
          21.421916666666664,
          21.450166666666664,
          21.155,
          21.954916666666666,
          22.174083333333332,
          21.479916666666668,
          20.834,
          21.541749999999997,
          21.646416666666667,
          20.917416666666664,
          21.233083333333333,
          21.3965,
          21.8175,
          21.570916666666665,
          21.186916666666665,
          21.766583333333333,
          21.582583333333332,
          21.597916666666666,
          21.176750000000002,
          20.970833333333335,
          21.1775,
          21.885,
          21.2945,
          20.8645,
          21.05275,
          21.569083333333335,
          21.347916666666666,
          21.826166666666666,
          21.187833333333334,
          22.186333333333334,
          22.144833333333334,
          21.504416666666668,
          20.7715,
          21.369333333333334,
          21.82858333333333,
          21.324416666666668,
          21.680083333333332,
          21.449749999999998,
          21.536833333333334,
          21.212583333333335,
          21.097833333333334,
          21.702583333333333,
          21.397833333333335,
          22.01908333333333,
          21.10125,
          21.640833333333333,
          21.239083333333333,
          21.459666666666667,
          21.386499999999998,
          21.50708333333333,
          21.39741666666667,
          21.716333333333335,
          21.52733333333333,
          22.08875,
          21.34,
          21.681583333333336,
          21.36283333333333,
          21.926416666666668,
          21.31716666666667,
          21.53016666666667,
          21.604083333333335,
          21.24125,
          21.59025,
          21.459500000000002,
          20.984916666666667,
          21.322916666666668,
          21.557000000000002,
          21.487,
          21.47458333333333,
          21.558666666666667,
          21.563083333333335,
          21.006,
          21.902666666666665,
          21.997249999999998,
          22.098166666666668,
          21.2105,
          21.964250000000003,
          21.802916666666665,
          21.697833333333335,
          21.65075,
          22.092083333333335,
          21.361,
          21.625416666666666,
          21.462166666666665,
          21.847583333333333,
          21.775750000000002,
          21.65433333333333,
          22.012083333333333,
          22.41275,
          21.238083333333332,
          21.692666666666668,
          21.193416666666668,
          21.8925,
          21.605166666666666,
          22.252333333333336,
          22.586166666666667,
          22.164083333333334,
          21.9105,
          22.261083333333332,
          21.516916666666663,
          22.04341666666667,
          22.093249999999998,
          22.07241666666667,
          22.63008333333333,
          21.86283333333333,
          22.35575,
          22.48741666666667,
          21.932583333333337,
          22.16016666666667,
          22.03025,
          21.955166666666667,
          22.325333333333333,
          22.086,
          22.664833333333334,
          22.0645,
          21.709666666666667,
          21.79275,
          22.46083333333333,
          22.44033333333333,
          22.286916666666666,
          22.896833333333333,
          22.264416666666666,
          22.48675,
          22.225916666666667,
          22.690583333333333,
          22.078166666666664,
          21.767,
          22.0245,
          22.142875
         ],
         "yaxis": "y"
        }
       ],
       "layout": {
        "legend": {
         "title": {
          "text": "Country"
         },
         "tracegroupgap": 0
        },
        "template": {
         "data": {
          "bar": [
           {
            "error_x": {
             "color": "#f2f5fa"
            },
            "error_y": {
             "color": "#f2f5fa"
            },
            "marker": {
             "line": {
              "color": "rgb(17,17,17)",
              "width": 0.5
             },
             "pattern": {
              "fillmode": "overlay",
              "size": 10,
              "solidity": 0.2
             }
            },
            "type": "bar"
           }
          ],
          "barpolar": [
           {
            "marker": {
             "line": {
              "color": "rgb(17,17,17)",
              "width": 0.5
             },
             "pattern": {
              "fillmode": "overlay",
              "size": 10,
              "solidity": 0.2
             }
            },
            "type": "barpolar"
           }
          ],
          "carpet": [
           {
            "aaxis": {
             "endlinecolor": "#A2B1C6",
             "gridcolor": "#506784",
             "linecolor": "#506784",
             "minorgridcolor": "#506784",
             "startlinecolor": "#A2B1C6"
            },
            "baxis": {
             "endlinecolor": "#A2B1C6",
             "gridcolor": "#506784",
             "linecolor": "#506784",
             "minorgridcolor": "#506784",
             "startlinecolor": "#A2B1C6"
            },
            "type": "carpet"
           }
          ],
          "choropleth": [
           {
            "colorbar": {
             "outlinewidth": 0,
             "ticks": ""
            },
            "type": "choropleth"
           }
          ],
          "contour": [
           {
            "colorbar": {
             "outlinewidth": 0,
             "ticks": ""
            },
            "colorscale": [
             [
              0,
              "#0d0887"
             ],
             [
              0.1111111111111111,
              "#46039f"
             ],
             [
              0.2222222222222222,
              "#7201a8"
             ],
             [
              0.3333333333333333,
              "#9c179e"
             ],
             [
              0.4444444444444444,
              "#bd3786"
             ],
             [
              0.5555555555555556,
              "#d8576b"
             ],
             [
              0.6666666666666666,
              "#ed7953"
             ],
             [
              0.7777777777777778,
              "#fb9f3a"
             ],
             [
              0.8888888888888888,
              "#fdca26"
             ],
             [
              1,
              "#f0f921"
             ]
            ],
            "type": "contour"
           }
          ],
          "contourcarpet": [
           {
            "colorbar": {
             "outlinewidth": 0,
             "ticks": ""
            },
            "type": "contourcarpet"
           }
          ],
          "heatmap": [
           {
            "colorbar": {
             "outlinewidth": 0,
             "ticks": ""
            },
            "colorscale": [
             [
              0,
              "#0d0887"
             ],
             [
              0.1111111111111111,
              "#46039f"
             ],
             [
              0.2222222222222222,
              "#7201a8"
             ],
             [
              0.3333333333333333,
              "#9c179e"
             ],
             [
              0.4444444444444444,
              "#bd3786"
             ],
             [
              0.5555555555555556,
              "#d8576b"
             ],
             [
              0.6666666666666666,
              "#ed7953"
             ],
             [
              0.7777777777777778,
              "#fb9f3a"
             ],
             [
              0.8888888888888888,
              "#fdca26"
             ],
             [
              1,
              "#f0f921"
             ]
            ],
            "type": "heatmap"
           }
          ],
          "heatmapgl": [
           {
            "colorbar": {
             "outlinewidth": 0,
             "ticks": ""
            },
            "colorscale": [
             [
              0,
              "#0d0887"
             ],
             [
              0.1111111111111111,
              "#46039f"
             ],
             [
              0.2222222222222222,
              "#7201a8"
             ],
             [
              0.3333333333333333,
              "#9c179e"
             ],
             [
              0.4444444444444444,
              "#bd3786"
             ],
             [
              0.5555555555555556,
              "#d8576b"
             ],
             [
              0.6666666666666666,
              "#ed7953"
             ],
             [
              0.7777777777777778,
              "#fb9f3a"
             ],
             [
              0.8888888888888888,
              "#fdca26"
             ],
             [
              1,
              "#f0f921"
             ]
            ],
            "type": "heatmapgl"
           }
          ],
          "histogram": [
           {
            "marker": {
             "pattern": {
              "fillmode": "overlay",
              "size": 10,
              "solidity": 0.2
             }
            },
            "type": "histogram"
           }
          ],
          "histogram2d": [
           {
            "colorbar": {
             "outlinewidth": 0,
             "ticks": ""
            },
            "colorscale": [
             [
              0,
              "#0d0887"
             ],
             [
              0.1111111111111111,
              "#46039f"
             ],
             [
              0.2222222222222222,
              "#7201a8"
             ],
             [
              0.3333333333333333,
              "#9c179e"
             ],
             [
              0.4444444444444444,
              "#bd3786"
             ],
             [
              0.5555555555555556,
              "#d8576b"
             ],
             [
              0.6666666666666666,
              "#ed7953"
             ],
             [
              0.7777777777777778,
              "#fb9f3a"
             ],
             [
              0.8888888888888888,
              "#fdca26"
             ],
             [
              1,
              "#f0f921"
             ]
            ],
            "type": "histogram2d"
           }
          ],
          "histogram2dcontour": [
           {
            "colorbar": {
             "outlinewidth": 0,
             "ticks": ""
            },
            "colorscale": [
             [
              0,
              "#0d0887"
             ],
             [
              0.1111111111111111,
              "#46039f"
             ],
             [
              0.2222222222222222,
              "#7201a8"
             ],
             [
              0.3333333333333333,
              "#9c179e"
             ],
             [
              0.4444444444444444,
              "#bd3786"
             ],
             [
              0.5555555555555556,
              "#d8576b"
             ],
             [
              0.6666666666666666,
              "#ed7953"
             ],
             [
              0.7777777777777778,
              "#fb9f3a"
             ],
             [
              0.8888888888888888,
              "#fdca26"
             ],
             [
              1,
              "#f0f921"
             ]
            ],
            "type": "histogram2dcontour"
           }
          ],
          "mesh3d": [
           {
            "colorbar": {
             "outlinewidth": 0,
             "ticks": ""
            },
            "type": "mesh3d"
           }
          ],
          "parcoords": [
           {
            "line": {
             "colorbar": {
              "outlinewidth": 0,
              "ticks": ""
             }
            },
            "type": "parcoords"
           }
          ],
          "pie": [
           {
            "automargin": true,
            "type": "pie"
           }
          ],
          "scatter": [
           {
            "marker": {
             "line": {
              "color": "#283442"
             }
            },
            "type": "scatter"
           }
          ],
          "scatter3d": [
           {
            "line": {
             "colorbar": {
              "outlinewidth": 0,
              "ticks": ""
             }
            },
            "marker": {
             "colorbar": {
              "outlinewidth": 0,
              "ticks": ""
             }
            },
            "type": "scatter3d"
           }
          ],
          "scattercarpet": [
           {
            "marker": {
             "colorbar": {
              "outlinewidth": 0,
              "ticks": ""
             }
            },
            "type": "scattercarpet"
           }
          ],
          "scattergeo": [
           {
            "marker": {
             "colorbar": {
              "outlinewidth": 0,
              "ticks": ""
             }
            },
            "type": "scattergeo"
           }
          ],
          "scattergl": [
           {
            "marker": {
             "line": {
              "color": "#283442"
             }
            },
            "type": "scattergl"
           }
          ],
          "scattermapbox": [
           {
            "marker": {
             "colorbar": {
              "outlinewidth": 0,
              "ticks": ""
             }
            },
            "type": "scattermapbox"
           }
          ],
          "scatterpolar": [
           {
            "marker": {
             "colorbar": {
              "outlinewidth": 0,
              "ticks": ""
             }
            },
            "type": "scatterpolar"
           }
          ],
          "scatterpolargl": [
           {
            "marker": {
             "colorbar": {
              "outlinewidth": 0,
              "ticks": ""
             }
            },
            "type": "scatterpolargl"
           }
          ],
          "scatterternary": [
           {
            "marker": {
             "colorbar": {
              "outlinewidth": 0,
              "ticks": ""
             }
            },
            "type": "scatterternary"
           }
          ],
          "surface": [
           {
            "colorbar": {
             "outlinewidth": 0,
             "ticks": ""
            },
            "colorscale": [
             [
              0,
              "#0d0887"
             ],
             [
              0.1111111111111111,
              "#46039f"
             ],
             [
              0.2222222222222222,
              "#7201a8"
             ],
             [
              0.3333333333333333,
              "#9c179e"
             ],
             [
              0.4444444444444444,
              "#bd3786"
             ],
             [
              0.5555555555555556,
              "#d8576b"
             ],
             [
              0.6666666666666666,
              "#ed7953"
             ],
             [
              0.7777777777777778,
              "#fb9f3a"
             ],
             [
              0.8888888888888888,
              "#fdca26"
             ],
             [
              1,
              "#f0f921"
             ]
            ],
            "type": "surface"
           }
          ],
          "table": [
           {
            "cells": {
             "fill": {
              "color": "#506784"
             },
             "line": {
              "color": "rgb(17,17,17)"
             }
            },
            "header": {
             "fill": {
              "color": "#2a3f5f"
             },
             "line": {
              "color": "rgb(17,17,17)"
             }
            },
            "type": "table"
           }
          ]
         },
         "layout": {
          "annotationdefaults": {
           "arrowcolor": "#f2f5fa",
           "arrowhead": 0,
           "arrowwidth": 1
          },
          "autotypenumbers": "strict",
          "coloraxis": {
           "colorbar": {
            "outlinewidth": 0,
            "ticks": ""
           }
          },
          "colorscale": {
           "diverging": [
            [
             0,
             "#8e0152"
            ],
            [
             0.1,
             "#c51b7d"
            ],
            [
             0.2,
             "#de77ae"
            ],
            [
             0.3,
             "#f1b6da"
            ],
            [
             0.4,
             "#fde0ef"
            ],
            [
             0.5,
             "#f7f7f7"
            ],
            [
             0.6,
             "#e6f5d0"
            ],
            [
             0.7,
             "#b8e186"
            ],
            [
             0.8,
             "#7fbc41"
            ],
            [
             0.9,
             "#4d9221"
            ],
            [
             1,
             "#276419"
            ]
           ],
           "sequential": [
            [
             0,
             "#0d0887"
            ],
            [
             0.1111111111111111,
             "#46039f"
            ],
            [
             0.2222222222222222,
             "#7201a8"
            ],
            [
             0.3333333333333333,
             "#9c179e"
            ],
            [
             0.4444444444444444,
             "#bd3786"
            ],
            [
             0.5555555555555556,
             "#d8576b"
            ],
            [
             0.6666666666666666,
             "#ed7953"
            ],
            [
             0.7777777777777778,
             "#fb9f3a"
            ],
            [
             0.8888888888888888,
             "#fdca26"
            ],
            [
             1,
             "#f0f921"
            ]
           ],
           "sequentialminus": [
            [
             0,
             "#0d0887"
            ],
            [
             0.1111111111111111,
             "#46039f"
            ],
            [
             0.2222222222222222,
             "#7201a8"
            ],
            [
             0.3333333333333333,
             "#9c179e"
            ],
            [
             0.4444444444444444,
             "#bd3786"
            ],
            [
             0.5555555555555556,
             "#d8576b"
            ],
            [
             0.6666666666666666,
             "#ed7953"
            ],
            [
             0.7777777777777778,
             "#fb9f3a"
            ],
            [
             0.8888888888888888,
             "#fdca26"
            ],
            [
             1,
             "#f0f921"
            ]
           ]
          },
          "colorway": [
           "#636efa",
           "#EF553B",
           "#00cc96",
           "#ab63fa",
           "#FFA15A",
           "#19d3f3",
           "#FF6692",
           "#B6E880",
           "#FF97FF",
           "#FECB52"
          ],
          "font": {
           "color": "#f2f5fa"
          },
          "geo": {
           "bgcolor": "rgb(17,17,17)",
           "lakecolor": "rgb(17,17,17)",
           "landcolor": "rgb(17,17,17)",
           "showlakes": true,
           "showland": true,
           "subunitcolor": "#506784"
          },
          "hoverlabel": {
           "align": "left"
          },
          "hovermode": "closest",
          "mapbox": {
           "style": "dark"
          },
          "paper_bgcolor": "rgb(17,17,17)",
          "plot_bgcolor": "rgb(17,17,17)",
          "polar": {
           "angularaxis": {
            "gridcolor": "#506784",
            "linecolor": "#506784",
            "ticks": ""
           },
           "bgcolor": "rgb(17,17,17)",
           "radialaxis": {
            "gridcolor": "#506784",
            "linecolor": "#506784",
            "ticks": ""
           }
          },
          "scene": {
           "xaxis": {
            "backgroundcolor": "rgb(17,17,17)",
            "gridcolor": "#506784",
            "gridwidth": 2,
            "linecolor": "#506784",
            "showbackground": true,
            "ticks": "",
            "zerolinecolor": "#C8D4E3"
           },
           "yaxis": {
            "backgroundcolor": "rgb(17,17,17)",
            "gridcolor": "#506784",
            "gridwidth": 2,
            "linecolor": "#506784",
            "showbackground": true,
            "ticks": "",
            "zerolinecolor": "#C8D4E3"
           },
           "zaxis": {
            "backgroundcolor": "rgb(17,17,17)",
            "gridcolor": "#506784",
            "gridwidth": 2,
            "linecolor": "#506784",
            "showbackground": true,
            "ticks": "",
            "zerolinecolor": "#C8D4E3"
           }
          },
          "shapedefaults": {
           "line": {
            "color": "#f2f5fa"
           }
          },
          "sliderdefaults": {
           "bgcolor": "#C8D4E3",
           "bordercolor": "rgb(17,17,17)",
           "borderwidth": 1,
           "tickwidth": 0
          },
          "ternary": {
           "aaxis": {
            "gridcolor": "#506784",
            "linecolor": "#506784",
            "ticks": ""
           },
           "baxis": {
            "gridcolor": "#506784",
            "linecolor": "#506784",
            "ticks": ""
           },
           "bgcolor": "rgb(17,17,17)",
           "caxis": {
            "gridcolor": "#506784",
            "linecolor": "#506784",
            "ticks": ""
           }
          },
          "title": {
           "x": 0.05
          },
          "updatemenudefaults": {
           "bgcolor": "#506784",
           "borderwidth": 0
          },
          "xaxis": {
           "automargin": true,
           "gridcolor": "#283442",
           "linecolor": "#506784",
           "ticks": "",
           "title": {
            "standoff": 15
           },
           "zerolinecolor": "#283442",
           "zerolinewidth": 2
          },
          "yaxis": {
           "automargin": true,
           "gridcolor": "#283442",
           "linecolor": "#506784",
           "ticks": "",
           "title": {
            "standoff": 15
           },
           "zerolinecolor": "#283442",
           "zerolinewidth": 2
          }
         }
        },
        "title": {
         "text": "Average Land Temperature in World"
        },
        "xaxis": {
         "anchor": "y",
         "domain": [
          0,
          1
         ],
         "title": {
          "text": "years"
         }
        },
        "yaxis": {
         "anchor": "x",
         "domain": [
          0,
          1
         ],
         "title": {
          "text": "value"
         }
        }
       }
      },
      "text/html": [
       "<div>                            <div id=\"c9acfb0d-7e5c-490e-b9a6-0c6b454d5e55\" class=\"plotly-graph-div\" style=\"height:525px; width:100%;\"></div>            <script type=\"text/javascript\">                require([\"plotly\"], function(Plotly) {                    window.PLOTLYENV=window.PLOTLYENV || {};                                    if (document.getElementById(\"c9acfb0d-7e5c-490e-b9a6-0c6b454d5e55\")) {                    Plotly.newPlot(                        \"c9acfb0d-7e5c-490e-b9a6-0c6b454d5e55\",                        [{\"hovertemplate\":\"Country=United States<br>variable=AverageTemperature<br>years=%{x}<br>value=%{y}<extra></extra>\",\"legendgroup\":\"United States\",\"line\":{\"color\":\"#636efa\",\"dash\":\"solid\"},\"marker\":{\"symbol\":\"circle\"},\"mode\":\"lines\",\"name\":\"United States\",\"showlegend\":true,\"x\":[\"1768\",\"1769\",\"1774\",\"1775\",\"1776\",\"1777\",\"1778\",\"1779\",\"1781\",\"1782\",\"1796\",\"1797\",\"1811\",\"1812\",\"1813\",\"1814\",\"1815\",\"1816\",\"1817\",\"1818\",\"1819\",\"1820\",\"1821\",\"1822\",\"1823\",\"1824\",\"1825\",\"1826\",\"1827\",\"1828\",\"1829\",\"1830\",\"1831\",\"1832\",\"1833\",\"1834\",\"1835\",\"1836\",\"1837\",\"1838\",\"1839\",\"1840\",\"1841\",\"1842\",\"1843\",\"1844\",\"1845\",\"1846\",\"1847\",\"1848\",\"1849\",\"1850\",\"1851\",\"1852\",\"1853\",\"1854\",\"1855\",\"1856\",\"1857\",\"1858\",\"1859\",\"1860\",\"1861\",\"1862\",\"1863\",\"1864\",\"1865\",\"1866\",\"1867\",\"1868\",\"1869\",\"1870\",\"1871\",\"1872\",\"1873\",\"1874\",\"1875\",\"1876\",\"1877\",\"1878\",\"1879\",\"1880\",\"1881\",\"1882\",\"1883\",\"1884\",\"1885\",\"1886\",\"1887\",\"1888\",\"1889\",\"1890\",\"1891\",\"1892\",\"1893\",\"1894\",\"1895\",\"1896\",\"1897\",\"1898\",\"1899\",\"1900\",\"1901\",\"1902\",\"1903\",\"1904\",\"1905\",\"1906\",\"1907\",\"1908\",\"1909\",\"1910\",\"1911\",\"1912\",\"1913\",\"1914\",\"1915\",\"1916\",\"1917\",\"1918\",\"1919\",\"1920\",\"1921\",\"1922\",\"1923\",\"1924\",\"1925\",\"1926\",\"1927\",\"1928\",\"1929\",\"1930\",\"1931\",\"1932\",\"1933\",\"1934\",\"1935\",\"1936\",\"1937\",\"1938\",\"1939\",\"1940\",\"1941\",\"1942\",\"1943\",\"1944\",\"1945\",\"1946\",\"1947\",\"1948\",\"1949\",\"1950\",\"1951\",\"1952\",\"1953\",\"1954\",\"1955\",\"1956\",\"1957\",\"1958\",\"1959\",\"1960\",\"1961\",\"1962\",\"1963\",\"1964\",\"1965\",\"1966\",\"1967\",\"1968\",\"1969\",\"1970\",\"1971\",\"1972\",\"1973\",\"1974\",\"1975\",\"1976\",\"1977\",\"1978\",\"1979\",\"1980\",\"1981\",\"1982\",\"1983\",\"1984\",\"1985\",\"1986\",\"1987\",\"1988\",\"1989\",\"1990\",\"1991\",\"1992\",\"1993\",\"1994\",\"1995\",\"1996\",\"1997\",\"1998\",\"1999\",\"2000\",\"2001\",\"2002\",\"2003\",\"2004\",\"2005\",\"2006\",\"2007\",\"2008\",\"2009\",\"2010\",\"2011\",\"2012\",\"2013\"],\"xaxis\":\"x\",\"y\":[5.57275,10.4465,1.6029999999999998,9.499166666666666,8.11,8.30475,5.361999999999999,-0.7136666666666663,6.25325,7.606428571428571,12.231,6.356833333333333,8.0434,7.012666666666667,9.918888888888889,3.784333333333334,7.501333333333334,4.396625,7.229916666666667,6.2747,-2.7746666666666666,7.563833333333332,8.004083333333334,8.386833333333334,7.9110000000000005,8.50225,8.9665,8.578999999999999,9.102,8.8485,8.38925,9.215083333333334,7.72075,8.247416666666668,8.811916666666667,8.829583333333334,7.53925,7.5639166666666675,7.984416666666667,7.548666666666666,8.522166666666665,8.2515,8.14925,8.358333333333334,7.783666666666668,8.082833333333333,8.408916666666666,9.136333333333333,7.907083333333333,8.016833333333333,8.129166666666666,8.248333333333333,8.6575,8.183083333333334,8.459916666666667,8.821250000000001,8.459416666666668,7.94325,8.140333333333333,8.412833333333333,8.016833333333333,8.580916666666667,8.6505,8.214,8.446250000000001,8.381083333333335,8.495666666666667,8.334333333333333,8.509,8.207416666666667,8.31125,8.8295,8.70675,8.00075,8.063083333333333,8.768,7.849666666666667,8.099,8.696583333333335,9.017166666666666,8.68325,8.110333333333333,8.6435,8.369916666666667,7.9422500000000005,7.957999999999999,8.158416666666666,8.181833333333334,8.143583333333334,8.172833333333333,8.798083333333333,8.559166666666668,8.31675,8.177999999999999,8.171,8.46675,7.847333333333332,8.483583333333334,8.473166666666666,8.427916666666667,8.166833333333333,9.021583333333334,8.494916666666667,8.453999999999999,7.977250000000001,8.200666666666665,8.402333333333333,8.560083333333333,8.394,8.755583333333334,8.221833333333334,8.757916666666667,8.737916666666667,8.140916666666667,8.552166666666666,8.8765,8.648249999999999,8.180083333333334,7.669499999999999,8.50125,8.538,8.1845,9.595666666666666,8.768166666666668,8.760333333333334,8.052333333333333,9.016416666666666,9.14025,8.719333333333333,8.876,8.4395,8.737666666666668,9.56075,8.5395,9.030583333333334,9.826583333333334,8.7425,8.92225,8.73075,9.471833333333334,9.3075,9.097166666666668,9.266083333333333,8.919333333333332,9.0035,8.898166666666667,8.671249999999999,9.179583333333333,8.836083333333333,8.481666666666667,8.888083333333332,8.656416666666667,8.416583333333334,8.979416666666667,9.530416666666666,9.410583333333333,8.517166666666666,8.699916666666667,9.126333333333333,8.970166666666668,8.825333333333333,8.69225,8.642000000000001,8.9565,9.08,8.491666666666667,8.647666666666668,8.483,8.902,8.55325,8.770833333333334,8.673,8.4425,8.428083333333333,8.934666666666667,8.815916666666666,8.431,8.65125,9.269833333333333,8.751416666666666,8.571583333333333,9.1355,9.7215,8.5395,8.912333333333333,8.811166666666667,8.587000000000002,9.5595,9.628166666666667,9.275333333333334,8.873083333333334,9.521583333333334,9.493666666666666,9.056333333333333,8.86725,9.270333333333333,9.331000000000001,8.754333333333333,9.172916666666667,10.141166666666667,9.567,9.64975,9.785583333333333,9.816166666666666,9.755083333333333,9.6675,9.892666666666667,9.9745,9.8375,8.951416666666667,9.137083333333333,9.505583333333334,9.549916666666666,10.261083333333334,11.297111111111112],\"yaxis\":\"y\",\"type\":\"scattergl\"},{\"hovertemplate\":\"Country=India<br>variable=AverageTemperature<br>years=%{x}<br>value=%{y}<extra></extra>\",\"legendgroup\":\"India\",\"line\":{\"color\":\"#EF553B\",\"dash\":\"solid\"},\"marker\":{\"symbol\":\"circle\"},\"mode\":\"lines\",\"name\":\"India\",\"showlegend\":true,\"x\":[\"1796\",\"1797\",\"1798\",\"1799\",\"1800\",\"1801\",\"1802\",\"1803\",\"1804\",\"1805\",\"1806\",\"1807\",\"1813\",\"1814\",\"1815\",\"1816\",\"1817\",\"1818\",\"1819\",\"1820\",\"1821\",\"1822\",\"1823\",\"1824\",\"1825\",\"1826\",\"1827\",\"1828\",\"1829\",\"1830\",\"1831\",\"1832\",\"1833\",\"1834\",\"1835\",\"1836\",\"1837\",\"1838\",\"1839\",\"1840\",\"1841\",\"1842\",\"1843\",\"1844\",\"1845\",\"1846\",\"1847\",\"1848\",\"1849\",\"1850\",\"1851\",\"1852\",\"1853\",\"1854\",\"1855\",\"1856\",\"1857\",\"1858\",\"1859\",\"1860\",\"1861\",\"1862\",\"1865\",\"1866\",\"1867\",\"1868\",\"1869\",\"1870\",\"1871\",\"1872\",\"1873\",\"1874\",\"1875\",\"1876\",\"1877\",\"1878\",\"1879\",\"1880\",\"1881\",\"1882\",\"1883\",\"1884\",\"1885\",\"1886\",\"1887\",\"1888\",\"1889\",\"1890\",\"1891\",\"1892\",\"1893\",\"1894\",\"1895\",\"1896\",\"1897\",\"1898\",\"1899\",\"1900\",\"1901\",\"1902\",\"1903\",\"1904\",\"1905\",\"1906\",\"1907\",\"1908\",\"1909\",\"1910\",\"1911\",\"1912\",\"1913\",\"1914\",\"1915\",\"1916\",\"1917\",\"1918\",\"1919\",\"1920\",\"1921\",\"1922\",\"1923\",\"1924\",\"1925\",\"1926\",\"1927\",\"1928\",\"1929\",\"1930\",\"1931\",\"1932\",\"1933\",\"1934\",\"1935\",\"1936\",\"1937\",\"1938\",\"1939\",\"1940\",\"1941\",\"1942\",\"1943\",\"1944\",\"1945\",\"1946\",\"1947\",\"1948\",\"1949\",\"1950\",\"1951\",\"1952\",\"1953\",\"1954\",\"1955\",\"1956\",\"1957\",\"1958\",\"1959\",\"1960\",\"1961\",\"1962\",\"1963\",\"1964\",\"1965\",\"1966\",\"1967\",\"1968\",\"1969\",\"1970\",\"1971\",\"1972\",\"1973\",\"1974\",\"1975\",\"1976\",\"1977\",\"1978\",\"1979\",\"1980\",\"1981\",\"1982\",\"1983\",\"1984\",\"1985\",\"1986\",\"1987\",\"1988\",\"1989\",\"1990\",\"1991\",\"1992\",\"1993\",\"1994\",\"1995\",\"1996\",\"1997\",\"1998\",\"1999\",\"2000\",\"2001\",\"2002\",\"2003\",\"2004\",\"2005\",\"2006\",\"2007\",\"2008\",\"2009\",\"2010\",\"2011\",\"2012\",\"2013\"],\"xaxis\":\"x\",\"y\":[23.675250000000002,24.8399,23.2733,23.949416666666664,23.911916666666666,23.1751,24.384333333333334,24.145750000000003,24.492416666666667,24.025500000000005,23.92616666666667,23.4996,23.27125,22.657363636363637,22.80775,22.424000000000003,22.5955,22.953000000000003,22.653583333333334,22.84075,23.527583333333336,23.597416666666664,23.471083333333336,24.04975,23.796083333333332,23.858999999999998,23.956416666666666,23.623666666666665,23.4435,23.67233333333333,23.241666666666664,23.4586,23.54825,23.5295,22.658083333333334,23.25916666666667,23.182916666666667,23.192916666666665,23.24475,23.445166666666665,23.26075,23.41425,23.31233333333333,23.094083333333334,23.343166666666665,23.8025,23.31833333333333,23.22758333333333,23.224249999999998,23.504583333333333,23.485166666666668,23.378333333333334,23.66541666666667,23.759083333333336,23.758750000000003,23.292,22.9645,23.600083333333334,23.671083333333332,23.396833333333333,23.299333333333337,18.659666666666666,23.7895,23.823000000000004,23.89816666666667,23.684083333333334,23.733333333333334,23.535166666666665,23.615166666666667,23.626833333333334,23.701833333333337,23.642583333333334,23.7555,23.725916666666667,23.88275,24.131083333333333,23.601083333333335,23.86075,23.677833333333336,23.5885,23.340833333333332,23.24066666666667,23.389916666666668,23.644833333333334,23.42216666666667,23.70266666666667,23.988166666666668,23.698416666666663,23.647583333333333,23.989833333333337,22.889833333333332,23.691666666666666,23.800083333333333,24.404416666666666,24.2195,24.063833333333335,24.17175,24.367833333333333,24.08425,24.31866666666667,23.767416666666666,23.7585,23.515,23.88808333333333,23.677083333333332,23.74191666666667,23.661,23.544166666666666,23.869333333333334,24.007083333333338,23.700833333333335,23.8255,24.29008333333333,23.8255,23.081083333333336,23.77175,23.825166666666664,23.955416666666668,24.249250000000004,23.904416666666666,23.90925,24.046000000000003,23.662583333333334,23.847333333333335,23.773750000000003,24.139,23.97141666666667,23.837,24.249333333333336,24.07858333333333,23.560333333333332,23.767416666666666,23.761833333333332,23.834833333333336,23.707916666666666,23.891916666666663,23.99325,23.90225,24.67425,24.2105,23.90516666666667,23.847916666666666,23.671583333333334,24.134416666666667,24.2795,24.19,24.047250000000002,23.659333333333336,24.22066666666667,24.3655,24.561583333333335,24.167166666666663,23.952166666666667,23.899666666666665,24.026416666666666,24.676333333333332,24.266833333333334,24.287166666666668,23.815250000000002,23.88475,24.09575,24.0705,24.09091666666667,24.438583333333337,23.992083333333337,23.86475,24.501166666666666,24.074083333333334,23.634,24.272166666666667,24.386583333333334,24.175749999999997,23.862166666666667,24.199583333333333,24.28891666666667,24.007333333333335,24.553583333333336,24.593083333333336,24.228416666666664,24.21825,23.938000000000002,24.185083333333335,24.486333333333334,24.2945,24.789083333333334,24.72775,24.162333333333333,24.17816666666667,24.311750000000004,24.222916666666666,24.408666666666665,24.29641666666667,24.42975,24.436916666666665,24.04733333333333,24.755416666666665,24.659833333333335,24.498,24.581916666666668,24.913,24.649916666666666,24.634583333333335,24.495416666666667,24.732083333333335,24.649916666666666,24.406000000000002,25.146666666666665,25.050833333333333,24.415583333333334,24.640833333333333,25.413249999999998],\"yaxis\":\"y\",\"type\":\"scattergl\"},{\"hovertemplate\":\"Country=Russia<br>variable=AverageTemperature<br>years=%{x}<br>value=%{y}<extra></extra>\",\"legendgroup\":\"Russia\",\"line\":{\"color\":\"#00cc96\",\"dash\":\"solid\"},\"marker\":{\"symbol\":\"circle\"},\"mode\":\"lines\",\"name\":\"Russia\",\"showlegend\":true,\"x\":[\"1812\",\"1813\",\"1814\",\"1815\",\"1816\",\"1817\",\"1818\",\"1819\",\"1820\",\"1821\",\"1822\",\"1823\",\"1824\",\"1825\",\"1826\",\"1827\",\"1828\",\"1829\",\"1830\",\"1831\",\"1832\",\"1833\",\"1834\",\"1835\",\"1836\",\"1837\",\"1838\",\"1839\",\"1840\",\"1841\",\"1842\",\"1843\",\"1844\",\"1845\",\"1846\",\"1847\",\"1848\",\"1849\",\"1850\",\"1851\",\"1852\",\"1853\",\"1854\",\"1855\",\"1856\",\"1857\",\"1858\",\"1859\",\"1860\",\"1861\",\"1862\",\"1863\",\"1864\",\"1865\",\"1866\",\"1867\",\"1868\",\"1869\",\"1870\",\"1871\",\"1872\",\"1873\",\"1874\",\"1875\",\"1876\",\"1877\",\"1878\",\"1879\",\"1880\",\"1881\",\"1882\",\"1883\",\"1884\",\"1885\",\"1886\",\"1887\",\"1888\",\"1889\",\"1890\",\"1891\",\"1892\",\"1893\",\"1894\",\"1895\",\"1896\",\"1897\",\"1898\",\"1899\",\"1900\",\"1901\",\"1902\",\"1903\",\"1904\",\"1905\",\"1906\",\"1907\",\"1908\",\"1909\",\"1910\",\"1911\",\"1912\",\"1913\",\"1914\",\"1915\",\"1916\",\"1917\",\"1918\",\"1919\",\"1920\",\"1921\",\"1922\",\"1923\",\"1924\",\"1925\",\"1926\",\"1927\",\"1928\",\"1929\",\"1930\",\"1931\",\"1932\",\"1933\",\"1934\",\"1935\",\"1936\",\"1937\",\"1938\",\"1939\",\"1940\",\"1941\",\"1942\",\"1943\",\"1944\",\"1945\",\"1946\",\"1947\",\"1948\",\"1949\",\"1950\",\"1951\",\"1952\",\"1953\",\"1954\",\"1955\",\"1956\",\"1957\",\"1958\",\"1959\",\"1960\",\"1961\",\"1962\",\"1963\",\"1964\",\"1965\",\"1966\",\"1967\",\"1968\",\"1969\",\"1970\",\"1971\",\"1972\",\"1973\",\"1974\",\"1975\",\"1976\",\"1977\",\"1978\",\"1979\",\"1980\",\"1981\",\"1982\",\"1983\",\"1984\",\"1985\",\"1986\",\"1987\",\"1988\",\"1989\",\"1990\",\"1991\",\"1992\",\"1993\",\"1994\",\"1995\",\"1996\",\"1997\",\"1998\",\"1999\",\"2000\",\"2001\",\"2002\",\"2003\",\"2004\",\"2005\",\"2006\",\"2007\",\"2008\",\"2009\",\"2010\",\"2011\",\"2012\",\"2013\"],\"xaxis\":\"x\",\"y\":[-7.046833333333335,-7.084818181818182,-6.4359090909090915,-21.342,-1.6283333333333334,-6.959916666666667,-5.90925,-6.7655,-6.4285,-5.717666666666667,-5.482333333333334,-6.203500000000001,-5.300083333333333,-5.4315,-5.317166666666667,-5.038250000000001,-6.109750000000001,-6.1812499999999995,-5.660416666666667,-6.67325,-6.681166666666667,-6.1645,-5.778166666666667,-6.7855,-6.088916666666667,-6.761666666666667,-6.4182500000000005,-6.437583333333333,-6.437416666666667,-6.433916666666666,-5.994416666666667,-5.097583333333334,-6.22,-6.27475,-5.4339166666666685,-5.930333333333334,-5.708333333333333,-5.5605,-6.4265,-5.669583333333333,-6.039666666666666,-6.276000000000001,-5.49025,-5.556916666666666,-6.08875,-6.487166666666667,-5.592833333333334,-5.228500000000001,-6.619,-6.295333333333333,-6.931416666666667,-5.299166666666667,-6.007583333333334,-5.917083333333333,-5.31975,-5.542999999999999,-5.757916666666667,-5.331916666666667,-6.422833333333333,-6.263333333333333,-6.4214166666666666,-5.687916666666666,-4.888916666666667,-6.085416666666667,-6.0015833333333335,-5.602999999999999,-5.238083333333333,-5.84475,-5.737166666666667,-6.0352500000000004,-5.762250000000001,-5.847083333333334,-6.1816666666666675,-6.683916666666668,-6.129250000000002,-5.886916666666667,-6.412666666666667,-6.1031666666666675,-6.25675,-6.183666666666667,-6.362416666666667,-5.554833333333334,-5.366166666666667,-6.280666666666666,-5.686833333333333,-5.554916666666666,-5.950666666666667,-5.37575,-5.8743333333333325,-5.460083333333333,-7.002750000000002,-5.352583333333333,-5.418499999999999,-5.687083333333334,-5.10175,-6.041416666666667,-6.122583333333334,-5.865083333333334,-5.776583333333334,-5.830333333333333,-6.864416666666667,-5.726416666666668,-5.374166666666667,-6.363,-6.19,-5.528416666666668,-5.747916666666666,-6.186,-5.155,-4.90425,-5.697833333333333,-5.521166666666667,-5.2754166666666675,-5.128916666666666,-5.3745,-5.6569166666666675,-5.7722500000000005,-6.400083333333334,-5.53075,-5.76275,-4.758249999999999,-6.2521666666666675,-4.643000000000001,-5.214333333333333,-5.030083333333334,-5.1489166666666675,-4.552666666666666,-4.716833333333333,-5.628416666666666,-6.476666666666667,-5.604666666666667,-4.1145000000000005,-4.434,-5.394416666666667,-5.855,-5.368083333333335,-4.337583333333334,-4.9277500000000005,-5.6089166666666666,-5.055916666666667,-6.175250000000001,-4.779416666666667,-5.317333333333334,-5.626666666666668,-5.81375,-5.358250000000001,-6.154083333333333,-4.838916666666667,-5.936,-4.960333333333334,-4.416250000000001,-5.008166666666667,-5.785833333333334,-5.907416666666666,-6.309583333333333,-4.36325,-5.5895833333333345,-6.7660833333333334,-5.522583333333333,-4.971166666666668,-5.702000000000001,-4.833583333333333,-5.67175,-4.141083333333334,-5.927,-5.513000000000001,-5.255916666666668,-5.904333333333334,-5.420750000000001,-4.166166666666667,-5.097583333333334,-3.9518333333333344,-5.29425,-5.521166666666666,-4.892250000000001,-6.274000000000001,-4.330416666666667,-4.07325,-4.022916666666666,-4.236999999999999,-4.90325,-4.62175,-4.898416666666667,-3.1301666666666663,-4.810333333333333,-4.2965,-5.281083333333334,-4.829750000000001,-4.5456666666666665,-4.490666666666667,-4.122916666666666,-3.8328333333333333,-4.4935833333333335,-3.4980833333333337,-4.763,-2.975083333333334,-3.3054166666666664,-4.6085,-4.520583333333334,-3.401583333333333,-3.90175,-2.2631250000000005],\"yaxis\":\"y\",\"type\":\"scattergl\"},{\"hovertemplate\":\"Country=China<br>variable=AverageTemperature<br>years=%{x}<br>value=%{y}<extra></extra>\",\"legendgroup\":\"China\",\"line\":{\"color\":\"#ab63fa\",\"dash\":\"solid\"},\"marker\":{\"symbol\":\"circle\"},\"mode\":\"lines\",\"name\":\"China\",\"showlegend\":true,\"x\":[\"1820\",\"1821\",\"1822\",\"1823\",\"1833\",\"1834\",\"1835\",\"1836\",\"1837\",\"1838\",\"1839\",\"1840\",\"1841\",\"1842\",\"1843\",\"1844\",\"1845\",\"1846\",\"1847\",\"1848\",\"1849\",\"1850\",\"1851\",\"1852\",\"1853\",\"1854\",\"1855\",\"1856\",\"1857\",\"1858\",\"1859\",\"1860\",\"1861\",\"1862\",\"1863\",\"1864\",\"1865\",\"1866\",\"1867\",\"1868\",\"1869\",\"1870\",\"1871\",\"1872\",\"1873\",\"1874\",\"1875\",\"1876\",\"1877\",\"1878\",\"1879\",\"1880\",\"1881\",\"1882\",\"1883\",\"1884\",\"1885\",\"1886\",\"1887\",\"1888\",\"1889\",\"1890\",\"1891\",\"1892\",\"1893\",\"1894\",\"1895\",\"1896\",\"1897\",\"1898\",\"1899\",\"1900\",\"1901\",\"1902\",\"1903\",\"1904\",\"1905\",\"1906\",\"1907\",\"1908\",\"1909\",\"1910\",\"1911\",\"1912\",\"1913\",\"1914\",\"1915\",\"1916\",\"1917\",\"1918\",\"1919\",\"1920\",\"1921\",\"1922\",\"1923\",\"1924\",\"1925\",\"1926\",\"1927\",\"1928\",\"1929\",\"1930\",\"1931\",\"1932\",\"1933\",\"1934\",\"1935\",\"1936\",\"1937\",\"1938\",\"1939\",\"1940\",\"1941\",\"1942\",\"1943\",\"1944\",\"1945\",\"1946\",\"1947\",\"1948\",\"1949\",\"1950\",\"1951\",\"1952\",\"1953\",\"1954\",\"1955\",\"1956\",\"1957\",\"1958\",\"1959\",\"1960\",\"1961\",\"1962\",\"1963\",\"1964\",\"1965\",\"1966\",\"1967\",\"1968\",\"1969\",\"1970\",\"1971\",\"1972\",\"1973\",\"1974\",\"1975\",\"1976\",\"1977\",\"1978\",\"1979\",\"1980\",\"1981\",\"1982\",\"1983\",\"1984\",\"1985\",\"1986\",\"1987\",\"1988\",\"1989\",\"1990\",\"1991\",\"1992\",\"1993\",\"1994\",\"1995\",\"1996\",\"1997\",\"1998\",\"1999\",\"2000\",\"2001\",\"2002\",\"2003\",\"2004\",\"2005\",\"2006\",\"2007\",\"2008\",\"2009\",\"2010\",\"2011\",\"2012\",\"2013\"],\"xaxis\":\"x\",\"y\":[5.013599999999999,6.284166666666667,6.341416666666667,7.024363636363637,6.039333333333334,6.268166666666667,5.43425,5.364727272727273,8.136833333333334,5.715,5.519083333333334,6.018583333333333,5.512416666666667,6.2785,6.413916666666666,6.0515,6.023000000000001,6.5874999999999995,6.257083333333333,5.93975,6.1048333333333344,5.907166666666666,5.7828333333333335,5.857500000000001,5.997583333333334,6.473083333333332,6.515583333333333,6.095583333333334,5.959666666666667,6.414083333333333,6.535166666666666,5.609333333333333,5.865166666666667,5.448083333333333,6.444583333333333,5.8015,6.244,6.410416666666666,6.759166666666666,6.415500000000001,6.465833333333333,6.158999999999999,6.371583333333334,6.286333333333334,6.588166666666667,6.6451666666666656,6.505,6.347416666666667,6.181583333333333,6.414416666666667,6.667416666666667,6.383500000000001,6.352833333333333,6.39825,6.026916666666666,5.804833333333334,5.9645,6.114750000000001,6.197166666666668,6.336416666666666,6.31175,6.464333333333333,6.359333333333333,6.060833333333334,6.108333333333333,6.57825,6.035833333333334,6.38625,6.228083333333334,6.562666666666666,6.603416666666667,6.444166666666667,6.5375000000000005,6.744666666666666,6.1745833333333335,6.350833333333334,5.7555000000000005,6.2218333333333335,6.308666666666666,6.286583333333333,6.3812500000000005,6.0715,6.297000000000001,6.076083333333333,6.138416666666667,6.8187500000000005,6.49275,6.349833333333333,6.161416666666667,6.196833333333333,6.607,6.590333333333334,6.50075,6.677333333333333,6.563666666666666,6.704250000000001,6.555666666666667,6.754083333333334,6.667749999999999,6.7746666666666675,6.424083333333333,6.468666666666667,6.3775,6.9055833333333325,6.6299166666666665,6.362833333333334,6.636166666666667,6.111583333333333,6.511083333333333,6.87175,7.0264999999999995,6.961666666666666,7.3455,7.096,7.050916666666667,6.5305,6.8388333333333335,7.354083333333333,6.773833333333333,7.1003333333333325,6.9755,6.641166666666667,6.8694999999999995,6.640916666666667,7.022333333333333,6.3709999999999996,6.701666666666667,6.299333333333333,6.388000000000001,7.033583333333333,7.039666666666666,6.890916666666667,7.050583333333333,6.703666666666667,7.052499999999999,6.746083333333334,6.799916666666667,6.962,6.402583333333333,6.727,6.4559999999999995,6.5681666666666665,6.84625,6.814416666666667,7.209583333333334,6.659416666666666,7.1009166666666665,6.471166666666666,6.851333333333334,7.048166666666667,7.074083333333333,6.950083333333333,6.926416666666667,7.14975,6.925083333333334,6.5179166666666655,6.7402500000000005,6.870166666666666,7.249,7.220833333333332,7.23975,7.636,7.097166666666666,6.858416666666667,6.919416666666667,7.4959999999999996,7.2115833333333335,6.962666666666667,7.367333333333334,8.051833333333333,7.84025,7.238083333333333,7.596416666666666,7.7956666666666665,7.521999999999999,7.71275,7.4135,7.948,8.12675,7.566083333333334,7.8095,7.548416666666667,7.357083333333333,7.077083333333333,9.295],\"yaxis\":\"y\",\"type\":\"scattergl\"},{\"hovertemplate\":\"Country=Japan<br>variable=AverageTemperature<br>years=%{x}<br>value=%{y}<extra></extra>\",\"legendgroup\":\"Japan\",\"line\":{\"color\":\"#FFA15A\",\"dash\":\"solid\"},\"marker\":{\"symbol\":\"circle\"},\"mode\":\"lines\",\"name\":\"Japan\",\"showlegend\":true,\"x\":[\"1841\",\"1842\",\"1843\",\"1844\",\"1845\",\"1846\",\"1847\",\"1848\",\"1849\",\"1850\",\"1851\",\"1852\",\"1853\",\"1854\",\"1855\",\"1856\",\"1857\",\"1858\",\"1859\",\"1860\",\"1861\",\"1862\",\"1863\",\"1864\",\"1865\",\"1866\",\"1867\",\"1868\",\"1869\",\"1870\",\"1871\",\"1872\",\"1873\",\"1874\",\"1875\",\"1876\",\"1877\",\"1878\",\"1879\",\"1880\",\"1881\",\"1882\",\"1883\",\"1884\",\"1885\",\"1886\",\"1887\",\"1888\",\"1889\",\"1890\",\"1891\",\"1892\",\"1893\",\"1894\",\"1895\",\"1896\",\"1897\",\"1898\",\"1899\",\"1900\",\"1901\",\"1902\",\"1903\",\"1904\",\"1905\",\"1906\",\"1907\",\"1908\",\"1909\",\"1910\",\"1911\",\"1912\",\"1913\",\"1914\",\"1915\",\"1916\",\"1917\",\"1918\",\"1919\",\"1920\",\"1921\",\"1922\",\"1923\",\"1924\",\"1925\",\"1926\",\"1927\",\"1928\",\"1929\",\"1930\",\"1931\",\"1932\",\"1933\",\"1934\",\"1935\",\"1936\",\"1937\",\"1938\",\"1939\",\"1940\",\"1941\",\"1942\",\"1943\",\"1944\",\"1945\",\"1946\",\"1947\",\"1948\",\"1949\",\"1950\",\"1951\",\"1952\",\"1953\",\"1954\",\"1955\",\"1956\",\"1957\",\"1958\",\"1959\",\"1960\",\"1961\",\"1962\",\"1963\",\"1964\",\"1965\",\"1966\",\"1967\",\"1968\",\"1969\",\"1970\",\"1971\",\"1972\",\"1973\",\"1974\",\"1975\",\"1976\",\"1977\",\"1978\",\"1979\",\"1980\",\"1981\",\"1982\",\"1983\",\"1984\",\"1985\",\"1986\",\"1987\",\"1988\",\"1989\",\"1990\",\"1991\",\"1992\",\"1993\",\"1994\",\"1995\",\"1996\",\"1997\",\"1998\",\"1999\",\"2000\",\"2001\",\"2002\",\"2003\",\"2004\",\"2005\",\"2006\",\"2007\",\"2008\",\"2009\",\"2010\",\"2011\",\"2012\",\"2013\"],\"xaxis\":\"x\",\"y\":[11.019499999999999,11.445749999999999,11.627249999999998,11.216166666666666,11.3805,11.824333333333334,11.659666666666666,11.600416666666668,11.604999999999999,11.116,11.117583333333334,11.117833333333332,11.257666666666665,11.692166666666665,12.040666666666667,11.493083333333333,11.400333333333334,11.686583333333333,11.55625,11.096083333333333,11.179333333333332,11.17575,11.808416666666666,11.442750000000002,11.723999999999998,11.225166666666667,11.719333333333333,11.644,11.522333333333334,11.574833333333332,11.529583333333333,11.460833333333333,10.987333333333334,11.7465,11.686583333333333,11.95225,12.229750000000001,11.66275,12.078249999999999,11.860583333333333,11.585416666666667,11.740250000000001,11.40825,10.535333333333332,11.009166666666667,11.921999999999999,11.677833333333332,11.622750000000002,11.066,12.84225,11.825166666666666,11.536333333333333,11.207666666666666,12.44825,11.57325,11.681416666666665,11.216000000000001,11.900666666666666,11.828000000000001,11.473666666666666,11.680166666666667,11.52375,11.843333333333334,11.770166666666666,11.597416666666668,11.183916666666667,11.403166666666666,11.095999999999998,11.38875,11.378916666666667,11.980083333333333,11.453249999999999,10.986833333333331,12.487166666666667,12.061083333333334,12.545333333333334,11.412916666666668,11.609166666666667,11.951333333333332,12.213500000000002,11.57175,12.078416666666667,11.908499999999998,11.642416666666668,11.758583333333334,11.302416666666666,11.7355,12.057916666666666,11.774916666666668,12.29275,11.489083333333333,11.982750000000001,11.953166666666666,11.49875,11.893083333333331,11.5475,12.211166666666665,12.081166666666666,12.084083333333334,11.987249999999998,11.9185,12.002166666666668,11.994833333333334,11.692166666666667,11.138833333333332,12.360666666666667,11.333583333333332,12.795916666666665,12.102583333333333,12.589500000000001,12.146666666666668,11.939666666666668,11.964666666666666,12.223999999999998,12.729,12.019416666666666,12.055333333333332,12.57,12.958166666666665,12.599833333333335,13.045499999999999,12.466166666666666,12.29325,12.34975,11.687916666666666,12.134416666666667,12.266333333333334,12.190416666666666,11.848999999999998,11.929,11.983416666666665,12.592166666666666,12.41475,11.7905,12.336999999999998,11.7475,12.19825,12.505333333333333,12.842583333333332,11.795083333333332,11.629416666666666,12.336333333333334,12.121916666666666,11.659916666666666,12.281333333333334,11.691416666666667,12.543833333333332,11.967666666666666,12.91175,13.590583333333333,12.783166666666666,12.484250000000001,12.055166666666667,13.229750000000001,12.475416666666666,12.082833333333333,12.752416666666667,13.244750000000002,13.080083333333334,12.833833333333333,12.450000000000001,12.837333333333333,12.507,13.435666666666668,12.555916666666667,12.757083333333334,13.192166666666667,12.874916666666666,12.933833333333332,13.215583333333333,12.73775,12.565666666666667,12.96475],\"yaxis\":\"y\",\"type\":\"scattergl\"},{\"hovertemplate\":\"Country=Australia<br>variable=AverageTemperature<br>years=%{x}<br>value=%{y}<extra></extra>\",\"legendgroup\":\"Australia\",\"line\":{\"color\":\"#19d3f3\",\"dash\":\"solid\"},\"marker\":{\"symbol\":\"circle\"},\"mode\":\"lines\",\"name\":\"Australia\",\"showlegend\":true,\"x\":[\"1852\",\"1853\",\"1854\",\"1855\",\"1856\",\"1857\",\"1858\",\"1859\",\"1860\",\"1861\",\"1862\",\"1863\",\"1864\",\"1865\",\"1866\",\"1867\",\"1868\",\"1869\",\"1870\",\"1871\",\"1872\",\"1873\",\"1874\",\"1875\",\"1876\",\"1877\",\"1878\",\"1879\",\"1880\",\"1881\",\"1882\",\"1883\",\"1884\",\"1885\",\"1886\",\"1887\",\"1888\",\"1889\",\"1890\",\"1891\",\"1892\",\"1893\",\"1894\",\"1895\",\"1896\",\"1897\",\"1898\",\"1899\",\"1900\",\"1901\",\"1902\",\"1903\",\"1904\",\"1905\",\"1906\",\"1907\",\"1908\",\"1909\",\"1910\",\"1911\",\"1912\",\"1913\",\"1914\",\"1915\",\"1916\",\"1917\",\"1918\",\"1919\",\"1920\",\"1921\",\"1922\",\"1923\",\"1924\",\"1925\",\"1926\",\"1927\",\"1928\",\"1929\",\"1930\",\"1931\",\"1932\",\"1933\",\"1934\",\"1935\",\"1936\",\"1937\",\"1938\",\"1939\",\"1940\",\"1941\",\"1942\",\"1943\",\"1944\",\"1945\",\"1946\",\"1947\",\"1948\",\"1949\",\"1950\",\"1951\",\"1952\",\"1953\",\"1954\",\"1955\",\"1956\",\"1957\",\"1958\",\"1959\",\"1960\",\"1961\",\"1962\",\"1963\",\"1964\",\"1965\",\"1966\",\"1967\",\"1968\",\"1969\",\"1970\",\"1971\",\"1972\",\"1973\",\"1974\",\"1975\",\"1976\",\"1977\",\"1978\",\"1979\",\"1980\",\"1981\",\"1982\",\"1983\",\"1984\",\"1985\",\"1986\",\"1987\",\"1988\",\"1989\",\"1990\",\"1991\",\"1992\",\"1993\",\"1994\",\"1995\",\"1996\",\"1997\",\"1998\",\"1999\",\"2000\",\"2001\",\"2002\",\"2003\",\"2004\",\"2005\",\"2006\",\"2007\",\"2008\",\"2009\",\"2010\",\"2011\",\"2012\",\"2013\"],\"xaxis\":\"x\",\"y\":[20.1885,20.95825,20.28477777777778,20.798636363636362,21.148333333333333,20.966416666666667,21.329833333333333,21.188916666666668,21.2455,21.1975,21.155416666666667,21.309,21.04425,21.217833333333335,21.417,21.643833333333333,21.44758333333333,21.521583333333336,21.42833333333333,21.459666666666667,21.206916666666668,21.15758333333333,21.126166666666666,21.054416666666665,21.087333333333333,21.641083333333338,22.380666666666666,21.18466666666667,21.66125,21.7925,21.64741666666667,21.520666666666667,21.549833333333336,21.421916666666664,21.450166666666664,21.155,21.954916666666666,22.174083333333332,21.479916666666668,20.834,21.541749999999997,21.646416666666667,20.917416666666664,21.233083333333333,21.3965,21.8175,21.570916666666665,21.186916666666665,21.766583333333333,21.582583333333332,21.597916666666666,21.176750000000002,20.970833333333335,21.1775,21.885,21.2945,20.8645,21.05275,21.569083333333335,21.347916666666666,21.826166666666666,21.187833333333334,22.186333333333334,22.144833333333334,21.504416666666668,20.7715,21.369333333333334,21.82858333333333,21.324416666666668,21.680083333333332,21.449749999999998,21.536833333333334,21.212583333333335,21.097833333333334,21.702583333333333,21.397833333333335,22.01908333333333,21.10125,21.640833333333333,21.239083333333333,21.459666666666667,21.386499999999998,21.50708333333333,21.39741666666667,21.716333333333335,21.52733333333333,22.08875,21.34,21.681583333333336,21.36283333333333,21.926416666666668,21.31716666666667,21.53016666666667,21.604083333333335,21.24125,21.59025,21.459500000000002,20.984916666666667,21.322916666666668,21.557000000000002,21.487,21.47458333333333,21.558666666666667,21.563083333333335,21.006,21.902666666666665,21.997249999999998,22.098166666666668,21.2105,21.964250000000003,21.802916666666665,21.697833333333335,21.65075,22.092083333333335,21.361,21.625416666666666,21.462166666666665,21.847583333333333,21.775750000000002,21.65433333333333,22.012083333333333,22.41275,21.238083333333332,21.692666666666668,21.193416666666668,21.8925,21.605166666666666,22.252333333333336,22.586166666666667,22.164083333333334,21.9105,22.261083333333332,21.516916666666663,22.04341666666667,22.093249999999998,22.07241666666667,22.63008333333333,21.86283333333333,22.35575,22.48741666666667,21.932583333333337,22.16016666666667,22.03025,21.955166666666667,22.325333333333333,22.086,22.664833333333334,22.0645,21.709666666666667,21.79275,22.46083333333333,22.44033333333333,22.286916666666666,22.896833333333333,22.264416666666666,22.48675,22.225916666666667,22.690583333333333,22.078166666666664,21.767,22.0245,22.142875],\"yaxis\":\"y\",\"type\":\"scattergl\"}],                        {\"template\":{\"data\":{\"barpolar\":[{\"marker\":{\"line\":{\"color\":\"rgb(17,17,17)\",\"width\":0.5},\"pattern\":{\"fillmode\":\"overlay\",\"size\":10,\"solidity\":0.2}},\"type\":\"barpolar\"}],\"bar\":[{\"error_x\":{\"color\":\"#f2f5fa\"},\"error_y\":{\"color\":\"#f2f5fa\"},\"marker\":{\"line\":{\"color\":\"rgb(17,17,17)\",\"width\":0.5},\"pattern\":{\"fillmode\":\"overlay\",\"size\":10,\"solidity\":0.2}},\"type\":\"bar\"}],\"carpet\":[{\"aaxis\":{\"endlinecolor\":\"#A2B1C6\",\"gridcolor\":\"#506784\",\"linecolor\":\"#506784\",\"minorgridcolor\":\"#506784\",\"startlinecolor\":\"#A2B1C6\"},\"baxis\":{\"endlinecolor\":\"#A2B1C6\",\"gridcolor\":\"#506784\",\"linecolor\":\"#506784\",\"minorgridcolor\":\"#506784\",\"startlinecolor\":\"#A2B1C6\"},\"type\":\"carpet\"}],\"choropleth\":[{\"colorbar\":{\"outlinewidth\":0,\"ticks\":\"\"},\"type\":\"choropleth\"}],\"contourcarpet\":[{\"colorbar\":{\"outlinewidth\":0,\"ticks\":\"\"},\"type\":\"contourcarpet\"}],\"contour\":[{\"colorbar\":{\"outlinewidth\":0,\"ticks\":\"\"},\"colorscale\":[[0.0,\"#0d0887\"],[0.1111111111111111,\"#46039f\"],[0.2222222222222222,\"#7201a8\"],[0.3333333333333333,\"#9c179e\"],[0.4444444444444444,\"#bd3786\"],[0.5555555555555556,\"#d8576b\"],[0.6666666666666666,\"#ed7953\"],[0.7777777777777778,\"#fb9f3a\"],[0.8888888888888888,\"#fdca26\"],[1.0,\"#f0f921\"]],\"type\":\"contour\"}],\"heatmapgl\":[{\"colorbar\":{\"outlinewidth\":0,\"ticks\":\"\"},\"colorscale\":[[0.0,\"#0d0887\"],[0.1111111111111111,\"#46039f\"],[0.2222222222222222,\"#7201a8\"],[0.3333333333333333,\"#9c179e\"],[0.4444444444444444,\"#bd3786\"],[0.5555555555555556,\"#d8576b\"],[0.6666666666666666,\"#ed7953\"],[0.7777777777777778,\"#fb9f3a\"],[0.8888888888888888,\"#fdca26\"],[1.0,\"#f0f921\"]],\"type\":\"heatmapgl\"}],\"heatmap\":[{\"colorbar\":{\"outlinewidth\":0,\"ticks\":\"\"},\"colorscale\":[[0.0,\"#0d0887\"],[0.1111111111111111,\"#46039f\"],[0.2222222222222222,\"#7201a8\"],[0.3333333333333333,\"#9c179e\"],[0.4444444444444444,\"#bd3786\"],[0.5555555555555556,\"#d8576b\"],[0.6666666666666666,\"#ed7953\"],[0.7777777777777778,\"#fb9f3a\"],[0.8888888888888888,\"#fdca26\"],[1.0,\"#f0f921\"]],\"type\":\"heatmap\"}],\"histogram2dcontour\":[{\"colorbar\":{\"outlinewidth\":0,\"ticks\":\"\"},\"colorscale\":[[0.0,\"#0d0887\"],[0.1111111111111111,\"#46039f\"],[0.2222222222222222,\"#7201a8\"],[0.3333333333333333,\"#9c179e\"],[0.4444444444444444,\"#bd3786\"],[0.5555555555555556,\"#d8576b\"],[0.6666666666666666,\"#ed7953\"],[0.7777777777777778,\"#fb9f3a\"],[0.8888888888888888,\"#fdca26\"],[1.0,\"#f0f921\"]],\"type\":\"histogram2dcontour\"}],\"histogram2d\":[{\"colorbar\":{\"outlinewidth\":0,\"ticks\":\"\"},\"colorscale\":[[0.0,\"#0d0887\"],[0.1111111111111111,\"#46039f\"],[0.2222222222222222,\"#7201a8\"],[0.3333333333333333,\"#9c179e\"],[0.4444444444444444,\"#bd3786\"],[0.5555555555555556,\"#d8576b\"],[0.6666666666666666,\"#ed7953\"],[0.7777777777777778,\"#fb9f3a\"],[0.8888888888888888,\"#fdca26\"],[1.0,\"#f0f921\"]],\"type\":\"histogram2d\"}],\"histogram\":[{\"marker\":{\"pattern\":{\"fillmode\":\"overlay\",\"size\":10,\"solidity\":0.2}},\"type\":\"histogram\"}],\"mesh3d\":[{\"colorbar\":{\"outlinewidth\":0,\"ticks\":\"\"},\"type\":\"mesh3d\"}],\"parcoords\":[{\"line\":{\"colorbar\":{\"outlinewidth\":0,\"ticks\":\"\"}},\"type\":\"parcoords\"}],\"pie\":[{\"automargin\":true,\"type\":\"pie\"}],\"scatter3d\":[{\"line\":{\"colorbar\":{\"outlinewidth\":0,\"ticks\":\"\"}},\"marker\":{\"colorbar\":{\"outlinewidth\":0,\"ticks\":\"\"}},\"type\":\"scatter3d\"}],\"scattercarpet\":[{\"marker\":{\"colorbar\":{\"outlinewidth\":0,\"ticks\":\"\"}},\"type\":\"scattercarpet\"}],\"scattergeo\":[{\"marker\":{\"colorbar\":{\"outlinewidth\":0,\"ticks\":\"\"}},\"type\":\"scattergeo\"}],\"scattergl\":[{\"marker\":{\"line\":{\"color\":\"#283442\"}},\"type\":\"scattergl\"}],\"scattermapbox\":[{\"marker\":{\"colorbar\":{\"outlinewidth\":0,\"ticks\":\"\"}},\"type\":\"scattermapbox\"}],\"scatterpolargl\":[{\"marker\":{\"colorbar\":{\"outlinewidth\":0,\"ticks\":\"\"}},\"type\":\"scatterpolargl\"}],\"scatterpolar\":[{\"marker\":{\"colorbar\":{\"outlinewidth\":0,\"ticks\":\"\"}},\"type\":\"scatterpolar\"}],\"scatter\":[{\"marker\":{\"line\":{\"color\":\"#283442\"}},\"type\":\"scatter\"}],\"scatterternary\":[{\"marker\":{\"colorbar\":{\"outlinewidth\":0,\"ticks\":\"\"}},\"type\":\"scatterternary\"}],\"surface\":[{\"colorbar\":{\"outlinewidth\":0,\"ticks\":\"\"},\"colorscale\":[[0.0,\"#0d0887\"],[0.1111111111111111,\"#46039f\"],[0.2222222222222222,\"#7201a8\"],[0.3333333333333333,\"#9c179e\"],[0.4444444444444444,\"#bd3786\"],[0.5555555555555556,\"#d8576b\"],[0.6666666666666666,\"#ed7953\"],[0.7777777777777778,\"#fb9f3a\"],[0.8888888888888888,\"#fdca26\"],[1.0,\"#f0f921\"]],\"type\":\"surface\"}],\"table\":[{\"cells\":{\"fill\":{\"color\":\"#506784\"},\"line\":{\"color\":\"rgb(17,17,17)\"}},\"header\":{\"fill\":{\"color\":\"#2a3f5f\"},\"line\":{\"color\":\"rgb(17,17,17)\"}},\"type\":\"table\"}]},\"layout\":{\"annotationdefaults\":{\"arrowcolor\":\"#f2f5fa\",\"arrowhead\":0,\"arrowwidth\":1},\"autotypenumbers\":\"strict\",\"coloraxis\":{\"colorbar\":{\"outlinewidth\":0,\"ticks\":\"\"}},\"colorscale\":{\"diverging\":[[0,\"#8e0152\"],[0.1,\"#c51b7d\"],[0.2,\"#de77ae\"],[0.3,\"#f1b6da\"],[0.4,\"#fde0ef\"],[0.5,\"#f7f7f7\"],[0.6,\"#e6f5d0\"],[0.7,\"#b8e186\"],[0.8,\"#7fbc41\"],[0.9,\"#4d9221\"],[1,\"#276419\"]],\"sequential\":[[0.0,\"#0d0887\"],[0.1111111111111111,\"#46039f\"],[0.2222222222222222,\"#7201a8\"],[0.3333333333333333,\"#9c179e\"],[0.4444444444444444,\"#bd3786\"],[0.5555555555555556,\"#d8576b\"],[0.6666666666666666,\"#ed7953\"],[0.7777777777777778,\"#fb9f3a\"],[0.8888888888888888,\"#fdca26\"],[1.0,\"#f0f921\"]],\"sequentialminus\":[[0.0,\"#0d0887\"],[0.1111111111111111,\"#46039f\"],[0.2222222222222222,\"#7201a8\"],[0.3333333333333333,\"#9c179e\"],[0.4444444444444444,\"#bd3786\"],[0.5555555555555556,\"#d8576b\"],[0.6666666666666666,\"#ed7953\"],[0.7777777777777778,\"#fb9f3a\"],[0.8888888888888888,\"#fdca26\"],[1.0,\"#f0f921\"]]},\"colorway\":[\"#636efa\",\"#EF553B\",\"#00cc96\",\"#ab63fa\",\"#FFA15A\",\"#19d3f3\",\"#FF6692\",\"#B6E880\",\"#FF97FF\",\"#FECB52\"],\"font\":{\"color\":\"#f2f5fa\"},\"geo\":{\"bgcolor\":\"rgb(17,17,17)\",\"lakecolor\":\"rgb(17,17,17)\",\"landcolor\":\"rgb(17,17,17)\",\"showlakes\":true,\"showland\":true,\"subunitcolor\":\"#506784\"},\"hoverlabel\":{\"align\":\"left\"},\"hovermode\":\"closest\",\"mapbox\":{\"style\":\"dark\"},\"paper_bgcolor\":\"rgb(17,17,17)\",\"plot_bgcolor\":\"rgb(17,17,17)\",\"polar\":{\"angularaxis\":{\"gridcolor\":\"#506784\",\"linecolor\":\"#506784\",\"ticks\":\"\"},\"bgcolor\":\"rgb(17,17,17)\",\"radialaxis\":{\"gridcolor\":\"#506784\",\"linecolor\":\"#506784\",\"ticks\":\"\"}},\"scene\":{\"xaxis\":{\"backgroundcolor\":\"rgb(17,17,17)\",\"gridcolor\":\"#506784\",\"gridwidth\":2,\"linecolor\":\"#506784\",\"showbackground\":true,\"ticks\":\"\",\"zerolinecolor\":\"#C8D4E3\"},\"yaxis\":{\"backgroundcolor\":\"rgb(17,17,17)\",\"gridcolor\":\"#506784\",\"gridwidth\":2,\"linecolor\":\"#506784\",\"showbackground\":true,\"ticks\":\"\",\"zerolinecolor\":\"#C8D4E3\"},\"zaxis\":{\"backgroundcolor\":\"rgb(17,17,17)\",\"gridcolor\":\"#506784\",\"gridwidth\":2,\"linecolor\":\"#506784\",\"showbackground\":true,\"ticks\":\"\",\"zerolinecolor\":\"#C8D4E3\"}},\"shapedefaults\":{\"line\":{\"color\":\"#f2f5fa\"}},\"sliderdefaults\":{\"bgcolor\":\"#C8D4E3\",\"bordercolor\":\"rgb(17,17,17)\",\"borderwidth\":1,\"tickwidth\":0},\"ternary\":{\"aaxis\":{\"gridcolor\":\"#506784\",\"linecolor\":\"#506784\",\"ticks\":\"\"},\"baxis\":{\"gridcolor\":\"#506784\",\"linecolor\":\"#506784\",\"ticks\":\"\"},\"bgcolor\":\"rgb(17,17,17)\",\"caxis\":{\"gridcolor\":\"#506784\",\"linecolor\":\"#506784\",\"ticks\":\"\"}},\"title\":{\"x\":0.05},\"updatemenudefaults\":{\"bgcolor\":\"#506784\",\"borderwidth\":0},\"xaxis\":{\"automargin\":true,\"gridcolor\":\"#283442\",\"linecolor\":\"#506784\",\"ticks\":\"\",\"title\":{\"standoff\":15},\"zerolinecolor\":\"#283442\",\"zerolinewidth\":2},\"yaxis\":{\"automargin\":true,\"gridcolor\":\"#283442\",\"linecolor\":\"#506784\",\"ticks\":\"\",\"title\":{\"standoff\":15},\"zerolinecolor\":\"#283442\",\"zerolinewidth\":2}}},\"xaxis\":{\"anchor\":\"y\",\"domain\":[0.0,1.0],\"title\":{\"text\":\"years\"}},\"yaxis\":{\"anchor\":\"x\",\"domain\":[0.0,1.0],\"title\":{\"text\":\"value\"}},\"legend\":{\"title\":{\"text\":\"Country\"},\"tracegroupgap\":0},\"title\":{\"text\":\"Average Land Temperature in World\"}},                        {\"responsive\": true}                    ).then(function(){\n",
       "                            \n",
       "var gd = document.getElementById('c9acfb0d-7e5c-490e-b9a6-0c6b454d5e55');\n",
       "var x = new MutationObserver(function (mutations, observer) {{\n",
       "        var display = window.getComputedStyle(gd).display;\n",
       "        if (!display || display === 'none') {{\n",
       "            console.log([gd, 'removed!']);\n",
       "            Plotly.purge(gd);\n",
       "            observer.disconnect();\n",
       "        }}\n",
       "}});\n",
       "\n",
       "// Listen for the removal of the full notebook cells\n",
       "var notebookContainer = gd.closest('#notebook-container');\n",
       "if (notebookContainer) {{\n",
       "    x.observe(notebookContainer, {childList: true});\n",
       "}}\n",
       "\n",
       "// Listen for the clearing of the current output cell\n",
       "var outputEl = gd.closest('.output');\n",
       "if (outputEl) {{\n",
       "    x.observe(outputEl, {childList: true});\n",
       "}}\n",
       "\n",
       "                        })                };                });            </script>        </div>"
      ]
     },
     "metadata": {},
     "output_type": "display_data"
    }
   ],
   "source": [
    "import plotly.express as px\n",
    "fig=px.line(avg_temp,x=\"years\",y=[\"AverageTemperature\"],color='Country',title=\"Average Land Temperature in World\",template=\"plotly_dark\")\n",
    "fig.show()"
   ]
  },
  {
   "cell_type": "markdown",
   "metadata": {},
   "source": [
    "### Conclusion-->> We will see that  there has been a global increase trend in temperature, particularly over the last 30 years. This is due to the violent activities of a humankind. "
   ]
  },
  {
   "cell_type": "markdown",
   "metadata": {},
   "source": [
    "## Analyse Average Temperature Of Major Zimbabwean Cities By Month"
   ]
  },
  {
   "cell_type": "code",
   "execution_count": 37,
   "metadata": {},
   "outputs": [
    {
     "data": {
      "text/html": [
       "<div>\n",
       "<style scoped>\n",
       "    .dataframe tbody tr th:only-of-type {\n",
       "        vertical-align: middle;\n",
       "    }\n",
       "\n",
       "    .dataframe tbody tr th {\n",
       "        vertical-align: top;\n",
       "    }\n",
       "\n",
       "    .dataframe thead th {\n",
       "        text-align: right;\n",
       "    }\n",
       "</style>\n",
       "<table border=\"1\" class=\"dataframe\">\n",
       "  <thead>\n",
       "    <tr style=\"text-align: right;\">\n",
       "      <th></th>\n",
       "      <th>dt</th>\n",
       "      <th>AverageTemperature</th>\n",
       "      <th>AverageTemperatureUncertainty</th>\n",
       "      <th>City</th>\n",
       "      <th>Country</th>\n",
       "      <th>Latitude</th>\n",
       "      <th>Longitude</th>\n",
       "    </tr>\n",
       "  </thead>\n",
       "  <tbody>\n",
       "    <tr>\n",
       "      <th>0</th>\n",
       "      <td>1743-11-01</td>\n",
       "      <td>6.068</td>\n",
       "      <td>1.737</td>\n",
       "      <td>Århus</td>\n",
       "      <td>Denmark</td>\n",
       "      <td>57.05N</td>\n",
       "      <td>10.33E</td>\n",
       "    </tr>\n",
       "    <tr>\n",
       "      <th>1</th>\n",
       "      <td>1743-12-01</td>\n",
       "      <td>NaN</td>\n",
       "      <td>NaN</td>\n",
       "      <td>Århus</td>\n",
       "      <td>Denmark</td>\n",
       "      <td>57.05N</td>\n",
       "      <td>10.33E</td>\n",
       "    </tr>\n",
       "    <tr>\n",
       "      <th>2</th>\n",
       "      <td>1744-01-01</td>\n",
       "      <td>NaN</td>\n",
       "      <td>NaN</td>\n",
       "      <td>Århus</td>\n",
       "      <td>Denmark</td>\n",
       "      <td>57.05N</td>\n",
       "      <td>10.33E</td>\n",
       "    </tr>\n",
       "    <tr>\n",
       "      <th>3</th>\n",
       "      <td>1744-02-01</td>\n",
       "      <td>NaN</td>\n",
       "      <td>NaN</td>\n",
       "      <td>Århus</td>\n",
       "      <td>Denmark</td>\n",
       "      <td>57.05N</td>\n",
       "      <td>10.33E</td>\n",
       "    </tr>\n",
       "    <tr>\n",
       "      <th>4</th>\n",
       "      <td>1744-03-01</td>\n",
       "      <td>NaN</td>\n",
       "      <td>NaN</td>\n",
       "      <td>Århus</td>\n",
       "      <td>Denmark</td>\n",
       "      <td>57.05N</td>\n",
       "      <td>10.33E</td>\n",
       "    </tr>\n",
       "  </tbody>\n",
       "</table>\n",
       "</div>"
      ],
      "text/plain": [
       "           dt  AverageTemperature  AverageTemperatureUncertainty   City  \\\n",
       "0  1743-11-01               6.068                          1.737  Århus   \n",
       "1  1743-12-01                 NaN                            NaN  Århus   \n",
       "2  1744-01-01                 NaN                            NaN  Århus   \n",
       "3  1744-02-01                 NaN                            NaN  Århus   \n",
       "4  1744-03-01                 NaN                            NaN  Århus   \n",
       "\n",
       "   Country Latitude Longitude  \n",
       "0  Denmark   57.05N    10.33E  \n",
       "1  Denmark   57.05N    10.33E  \n",
       "2  Denmark   57.05N    10.33E  \n",
       "3  Denmark   57.05N    10.33E  \n",
       "4  Denmark   57.05N    10.33E  "
      ]
     },
     "execution_count": 37,
     "metadata": {},
     "output_type": "execute_result"
    }
   ],
   "source": [
    "cities=pd.read_csv('C:/Users/beemu/Downloads/GlobalLandTemperaturesByCity.csv')\n",
    "cities.head()"
   ]
  },
  {
   "cell_type": "code",
   "execution_count": 38,
   "metadata": {},
   "outputs": [
    {
     "data": {
      "text/plain": [
       "(8599212, 7)"
      ]
     },
     "execution_count": 38,
     "metadata": {},
     "output_type": "execute_result"
    }
   ],
   "source": [
    "cities.shape"
   ]
  },
  {
   "cell_type": "code",
   "execution_count": 39,
   "metadata": {},
   "outputs": [],
   "source": [
    "zim=cities[cities['Country']=='Zimbabwe']"
   ]
  },
  {
   "cell_type": "code",
   "execution_count": 40,
   "metadata": {},
   "outputs": [
    {
     "data": {
      "text/plain": [
       "array(['Bulawayo', 'Chitungwiza', 'Gweru', 'Harare', 'Kadoma', 'Kwekwe',\n",
       "       'Mutare'], dtype=object)"
      ]
     },
     "execution_count": 40,
     "metadata": {},
     "output_type": "execute_result"
    }
   ],
   "source": [
    "zim['City'].unique()"
   ]
  },
  {
   "cell_type": "code",
   "execution_count": 41,
   "metadata": {},
   "outputs": [],
   "source": [
    "Cities=['Bulawayo', 'Chitungwiza', 'Gweru', 'Harare', 'Kadoma', 'Kwekwe',\n",
    "       'Mutare']"
   ]
  },
  {
   "cell_type": "code",
   "execution_count": 42,
   "metadata": {},
   "outputs": [],
   "source": [
    "cities=zim[zim['City'].isin(Cities)]"
   ]
  },
  {
   "cell_type": "code",
   "execution_count": 43,
   "metadata": {},
   "outputs": [
    {
     "data": {
      "text/plain": [
       "(13755, 7)"
      ]
     },
     "execution_count": 43,
     "metadata": {},
     "output_type": "execute_result"
    }
   ],
   "source": [
    "cities.shape"
   ]
  },
  {
   "cell_type": "code",
   "execution_count": 44,
   "metadata": {},
   "outputs": [
    {
     "data": {
      "text/html": [
       "<div>\n",
       "<style scoped>\n",
       "    .dataframe tbody tr th:only-of-type {\n",
       "        vertical-align: middle;\n",
       "    }\n",
       "\n",
       "    .dataframe tbody tr th {\n",
       "        vertical-align: top;\n",
       "    }\n",
       "\n",
       "    .dataframe thead th {\n",
       "        text-align: right;\n",
       "    }\n",
       "</style>\n",
       "<table border=\"1\" class=\"dataframe\">\n",
       "  <thead>\n",
       "    <tr style=\"text-align: right;\">\n",
       "      <th></th>\n",
       "      <th>dt</th>\n",
       "      <th>AverageTemperature</th>\n",
       "      <th>AverageTemperatureUncertainty</th>\n",
       "      <th>City</th>\n",
       "      <th>Country</th>\n",
       "      <th>Latitude</th>\n",
       "      <th>Longitude</th>\n",
       "    </tr>\n",
       "  </thead>\n",
       "  <tbody>\n",
       "    <tr>\n",
       "      <th>1204125</th>\n",
       "      <td>1850-01-01</td>\n",
       "      <td>21.047</td>\n",
       "      <td>1.729</td>\n",
       "      <td>Bulawayo</td>\n",
       "      <td>Zimbabwe</td>\n",
       "      <td>20.09S</td>\n",
       "      <td>29.00E</td>\n",
       "    </tr>\n",
       "    <tr>\n",
       "      <th>1204126</th>\n",
       "      <td>1850-02-01</td>\n",
       "      <td>22.329</td>\n",
       "      <td>1.811</td>\n",
       "      <td>Bulawayo</td>\n",
       "      <td>Zimbabwe</td>\n",
       "      <td>20.09S</td>\n",
       "      <td>29.00E</td>\n",
       "    </tr>\n",
       "    <tr>\n",
       "      <th>1204127</th>\n",
       "      <td>1850-03-01</td>\n",
       "      <td>21.082</td>\n",
       "      <td>2.273</td>\n",
       "      <td>Bulawayo</td>\n",
       "      <td>Zimbabwe</td>\n",
       "      <td>20.09S</td>\n",
       "      <td>29.00E</td>\n",
       "    </tr>\n",
       "    <tr>\n",
       "      <th>1204128</th>\n",
       "      <td>1850-04-01</td>\n",
       "      <td>18.458</td>\n",
       "      <td>1.937</td>\n",
       "      <td>Bulawayo</td>\n",
       "      <td>Zimbabwe</td>\n",
       "      <td>20.09S</td>\n",
       "      <td>29.00E</td>\n",
       "    </tr>\n",
       "    <tr>\n",
       "      <th>1204129</th>\n",
       "      <td>1850-05-01</td>\n",
       "      <td>15.542</td>\n",
       "      <td>1.664</td>\n",
       "      <td>Bulawayo</td>\n",
       "      <td>Zimbabwe</td>\n",
       "      <td>20.09S</td>\n",
       "      <td>29.00E</td>\n",
       "    </tr>\n",
       "  </tbody>\n",
       "</table>\n",
       "</div>"
      ],
      "text/plain": [
       "                 dt  AverageTemperature  AverageTemperatureUncertainty  \\\n",
       "1204125  1850-01-01              21.047                          1.729   \n",
       "1204126  1850-02-01              22.329                          1.811   \n",
       "1204127  1850-03-01              21.082                          2.273   \n",
       "1204128  1850-04-01              18.458                          1.937   \n",
       "1204129  1850-05-01              15.542                          1.664   \n",
       "\n",
       "             City   Country Latitude Longitude  \n",
       "1204125  Bulawayo  Zimbabwe   20.09S    29.00E  \n",
       "1204126  Bulawayo  Zimbabwe   20.09S    29.00E  \n",
       "1204127  Bulawayo  Zimbabwe   20.09S    29.00E  \n",
       "1204128  Bulawayo  Zimbabwe   20.09S    29.00E  \n",
       "1204129  Bulawayo  Zimbabwe   20.09S    29.00E  "
      ]
     },
     "execution_count": 44,
     "metadata": {},
     "output_type": "execute_result"
    }
   ],
   "source": [
    "cities.head()"
   ]
  },
  {
   "cell_type": "code",
   "execution_count": 45,
   "metadata": {},
   "outputs": [],
   "source": [
    "## remove N & E from lat & Lon\n",
    "cities['Latitude']=cities['Latitude'].str.strip('S')\n",
    "cities['Longitude']=cities['Longitude'].str.strip('E')"
   ]
  },
  {
   "cell_type": "code",
   "execution_count": 46,
   "metadata": {},
   "outputs": [
    {
     "data": {
      "text/html": [
       "<div>\n",
       "<style scoped>\n",
       "    .dataframe tbody tr th:only-of-type {\n",
       "        vertical-align: middle;\n",
       "    }\n",
       "\n",
       "    .dataframe tbody tr th {\n",
       "        vertical-align: top;\n",
       "    }\n",
       "\n",
       "    .dataframe thead th {\n",
       "        text-align: right;\n",
       "    }\n",
       "</style>\n",
       "<table border=\"1\" class=\"dataframe\">\n",
       "  <thead>\n",
       "    <tr style=\"text-align: right;\">\n",
       "      <th></th>\n",
       "      <th>dt</th>\n",
       "      <th>AverageTemperature</th>\n",
       "      <th>AverageTemperatureUncertainty</th>\n",
       "      <th>City</th>\n",
       "      <th>Country</th>\n",
       "      <th>Latitude</th>\n",
       "      <th>Longitude</th>\n",
       "    </tr>\n",
       "  </thead>\n",
       "  <tbody>\n",
       "    <tr>\n",
       "      <th>1204125</th>\n",
       "      <td>1850-01-01</td>\n",
       "      <td>21.047</td>\n",
       "      <td>1.729</td>\n",
       "      <td>Bulawayo</td>\n",
       "      <td>Zimbabwe</td>\n",
       "      <td>20.09</td>\n",
       "      <td>29.00</td>\n",
       "    </tr>\n",
       "    <tr>\n",
       "      <th>1204126</th>\n",
       "      <td>1850-02-01</td>\n",
       "      <td>22.329</td>\n",
       "      <td>1.811</td>\n",
       "      <td>Bulawayo</td>\n",
       "      <td>Zimbabwe</td>\n",
       "      <td>20.09</td>\n",
       "      <td>29.00</td>\n",
       "    </tr>\n",
       "    <tr>\n",
       "      <th>1204127</th>\n",
       "      <td>1850-03-01</td>\n",
       "      <td>21.082</td>\n",
       "      <td>2.273</td>\n",
       "      <td>Bulawayo</td>\n",
       "      <td>Zimbabwe</td>\n",
       "      <td>20.09</td>\n",
       "      <td>29.00</td>\n",
       "    </tr>\n",
       "    <tr>\n",
       "      <th>1204128</th>\n",
       "      <td>1850-04-01</td>\n",
       "      <td>18.458</td>\n",
       "      <td>1.937</td>\n",
       "      <td>Bulawayo</td>\n",
       "      <td>Zimbabwe</td>\n",
       "      <td>20.09</td>\n",
       "      <td>29.00</td>\n",
       "    </tr>\n",
       "    <tr>\n",
       "      <th>1204129</th>\n",
       "      <td>1850-05-01</td>\n",
       "      <td>15.542</td>\n",
       "      <td>1.664</td>\n",
       "      <td>Bulawayo</td>\n",
       "      <td>Zimbabwe</td>\n",
       "      <td>20.09</td>\n",
       "      <td>29.00</td>\n",
       "    </tr>\n",
       "  </tbody>\n",
       "</table>\n",
       "</div>"
      ],
      "text/plain": [
       "                 dt  AverageTemperature  AverageTemperatureUncertainty  \\\n",
       "1204125  1850-01-01              21.047                          1.729   \n",
       "1204126  1850-02-01              22.329                          1.811   \n",
       "1204127  1850-03-01              21.082                          2.273   \n",
       "1204128  1850-04-01              18.458                          1.937   \n",
       "1204129  1850-05-01              15.542                          1.664   \n",
       "\n",
       "             City   Country Latitude Longitude  \n",
       "1204125  Bulawayo  Zimbabwe    20.09     29.00  \n",
       "1204126  Bulawayo  Zimbabwe    20.09     29.00  \n",
       "1204127  Bulawayo  Zimbabwe    20.09     29.00  \n",
       "1204128  Bulawayo  Zimbabwe    20.09     29.00  \n",
       "1204129  Bulawayo  Zimbabwe    20.09     29.00  "
      ]
     },
     "execution_count": 46,
     "metadata": {},
     "output_type": "execute_result"
    }
   ],
   "source": [
    "cities.head()"
   ]
  },
  {
   "cell_type": "code",
   "execution_count": 58,
   "metadata": {},
   "outputs": [],
   "source": [
    "cities['dt']=pd.to_datetime(cities['dt'])"
   ]
  },
  {
   "cell_type": "code",
   "execution_count": 59,
   "metadata": {},
   "outputs": [],
   "source": [
    "cities['Month']=cities['dt'].dt.month\n",
    "cities.drop('dt',axis=1,inplace=True)"
   ]
  },
  {
   "cell_type": "code",
   "execution_count": 60,
   "metadata": {},
   "outputs": [
    {
     "data": {
      "text/html": [
       "<div>\n",
       "<style scoped>\n",
       "    .dataframe tbody tr th:only-of-type {\n",
       "        vertical-align: middle;\n",
       "    }\n",
       "\n",
       "    .dataframe tbody tr th {\n",
       "        vertical-align: top;\n",
       "    }\n",
       "\n",
       "    .dataframe thead th {\n",
       "        text-align: right;\n",
       "    }\n",
       "</style>\n",
       "<table border=\"1\" class=\"dataframe\">\n",
       "  <thead>\n",
       "    <tr style=\"text-align: right;\">\n",
       "      <th></th>\n",
       "      <th>AverageTemperature</th>\n",
       "      <th>AverageTemperatureUncertainty</th>\n",
       "      <th>City</th>\n",
       "      <th>Country</th>\n",
       "      <th>Latitude</th>\n",
       "      <th>Longitude</th>\n",
       "      <th>Month</th>\n",
       "    </tr>\n",
       "  </thead>\n",
       "  <tbody>\n",
       "    <tr>\n",
       "      <th>1204125</th>\n",
       "      <td>21.047</td>\n",
       "      <td>1.729</td>\n",
       "      <td>Bulawayo</td>\n",
       "      <td>Zimbabwe</td>\n",
       "      <td>20.09</td>\n",
       "      <td>29.00</td>\n",
       "      <td>1</td>\n",
       "    </tr>\n",
       "    <tr>\n",
       "      <th>1204126</th>\n",
       "      <td>22.329</td>\n",
       "      <td>1.811</td>\n",
       "      <td>Bulawayo</td>\n",
       "      <td>Zimbabwe</td>\n",
       "      <td>20.09</td>\n",
       "      <td>29.00</td>\n",
       "      <td>2</td>\n",
       "    </tr>\n",
       "    <tr>\n",
       "      <th>1204127</th>\n",
       "      <td>21.082</td>\n",
       "      <td>2.273</td>\n",
       "      <td>Bulawayo</td>\n",
       "      <td>Zimbabwe</td>\n",
       "      <td>20.09</td>\n",
       "      <td>29.00</td>\n",
       "      <td>3</td>\n",
       "    </tr>\n",
       "    <tr>\n",
       "      <th>1204128</th>\n",
       "      <td>18.458</td>\n",
       "      <td>1.937</td>\n",
       "      <td>Bulawayo</td>\n",
       "      <td>Zimbabwe</td>\n",
       "      <td>20.09</td>\n",
       "      <td>29.00</td>\n",
       "      <td>4</td>\n",
       "    </tr>\n",
       "    <tr>\n",
       "      <th>1204129</th>\n",
       "      <td>15.542</td>\n",
       "      <td>1.664</td>\n",
       "      <td>Bulawayo</td>\n",
       "      <td>Zimbabwe</td>\n",
       "      <td>20.09</td>\n",
       "      <td>29.00</td>\n",
       "      <td>5</td>\n",
       "    </tr>\n",
       "  </tbody>\n",
       "</table>\n",
       "</div>"
      ],
      "text/plain": [
       "         AverageTemperature  AverageTemperatureUncertainty      City  \\\n",
       "1204125              21.047                          1.729  Bulawayo   \n",
       "1204126              22.329                          1.811  Bulawayo   \n",
       "1204127              21.082                          2.273  Bulawayo   \n",
       "1204128              18.458                          1.937  Bulawayo   \n",
       "1204129              15.542                          1.664  Bulawayo   \n",
       "\n",
       "          Country Latitude Longitude  Month  \n",
       "1204125  Zimbabwe    20.09     29.00      1  \n",
       "1204126  Zimbabwe    20.09     29.00      2  \n",
       "1204127  Zimbabwe    20.09     29.00      3  \n",
       "1204128  Zimbabwe    20.09     29.00      4  \n",
       "1204129  Zimbabwe    20.09     29.00      5  "
      ]
     },
     "execution_count": 60,
     "metadata": {},
     "output_type": "execute_result"
    }
   ],
   "source": [
    "cities.head()"
   ]
  },
  {
   "cell_type": "code",
   "execution_count": 61,
   "metadata": {},
   "outputs": [
    {
     "data": {
      "text/html": [
       "<div>\n",
       "<style scoped>\n",
       "    .dataframe tbody tr th:only-of-type {\n",
       "        vertical-align: middle;\n",
       "    }\n",
       "\n",
       "    .dataframe tbody tr th {\n",
       "        vertical-align: top;\n",
       "    }\n",
       "\n",
       "    .dataframe thead th {\n",
       "        text-align: right;\n",
       "    }\n",
       "</style>\n",
       "<table border=\"1\" class=\"dataframe\">\n",
       "  <thead>\n",
       "    <tr style=\"text-align: right;\">\n",
       "      <th></th>\n",
       "      <th></th>\n",
       "      <th>AverageTemperature</th>\n",
       "    </tr>\n",
       "    <tr>\n",
       "      <th>Month</th>\n",
       "      <th>City</th>\n",
       "      <th></th>\n",
       "    </tr>\n",
       "  </thead>\n",
       "  <tbody>\n",
       "    <tr>\n",
       "      <th rowspan=\"7\" valign=\"top\">1</th>\n",
       "      <th>Bulawayo</th>\n",
       "      <td>22.383918</td>\n",
       "    </tr>\n",
       "    <tr>\n",
       "      <th>Chitungwiza</th>\n",
       "      <td>22.050872</td>\n",
       "    </tr>\n",
       "    <tr>\n",
       "      <th>Gweru</th>\n",
       "      <td>22.383918</td>\n",
       "    </tr>\n",
       "    <tr>\n",
       "      <th>Harare</th>\n",
       "      <td>22.050872</td>\n",
       "    </tr>\n",
       "    <tr>\n",
       "      <th>Kadoma</th>\n",
       "      <td>22.050872</td>\n",
       "    </tr>\n",
       "    <tr>\n",
       "      <th>Kwekwe</th>\n",
       "      <td>22.050872</td>\n",
       "    </tr>\n",
       "    <tr>\n",
       "      <th>Mutare</th>\n",
       "      <td>21.001333</td>\n",
       "    </tr>\n",
       "    <tr>\n",
       "      <th rowspan=\"7\" valign=\"top\">2</th>\n",
       "      <th>Bulawayo</th>\n",
       "      <td>22.078766</td>\n",
       "    </tr>\n",
       "    <tr>\n",
       "      <th>Chitungwiza</th>\n",
       "      <td>22.068695</td>\n",
       "    </tr>\n",
       "    <tr>\n",
       "      <th>Gweru</th>\n",
       "      <td>22.078766</td>\n",
       "    </tr>\n",
       "    <tr>\n",
       "      <th>Harare</th>\n",
       "      <td>22.068695</td>\n",
       "    </tr>\n",
       "    <tr>\n",
       "      <th>Kadoma</th>\n",
       "      <td>22.068695</td>\n",
       "    </tr>\n",
       "    <tr>\n",
       "      <th>Kwekwe</th>\n",
       "      <td>22.068695</td>\n",
       "    </tr>\n",
       "    <tr>\n",
       "      <th>Mutare</th>\n",
       "      <td>20.874702</td>\n",
       "    </tr>\n",
       "    <tr>\n",
       "      <th rowspan=\"7\" valign=\"top\">3</th>\n",
       "      <th>Bulawayo</th>\n",
       "      <td>21.323000</td>\n",
       "    </tr>\n",
       "    <tr>\n",
       "      <th>Chitungwiza</th>\n",
       "      <td>21.723241</td>\n",
       "    </tr>\n",
       "    <tr>\n",
       "      <th>Gweru</th>\n",
       "      <td>21.323000</td>\n",
       "    </tr>\n",
       "    <tr>\n",
       "      <th>Harare</th>\n",
       "      <td>21.723241</td>\n",
       "    </tr>\n",
       "    <tr>\n",
       "      <th>Kadoma</th>\n",
       "      <td>21.723241</td>\n",
       "    </tr>\n",
       "    <tr>\n",
       "      <th>Kwekwe</th>\n",
       "      <td>21.723241</td>\n",
       "    </tr>\n",
       "    <tr>\n",
       "      <th>Mutare</th>\n",
       "      <td>20.253539</td>\n",
       "    </tr>\n",
       "    <tr>\n",
       "      <th rowspan=\"7\" valign=\"top\">4</th>\n",
       "      <th>Bulawayo</th>\n",
       "      <td>19.493956</td>\n",
       "    </tr>\n",
       "    <tr>\n",
       "      <th>Chitungwiza</th>\n",
       "      <td>20.195170</td>\n",
       "    </tr>\n",
       "    <tr>\n",
       "      <th>Gweru</th>\n",
       "      <td>19.493956</td>\n",
       "    </tr>\n",
       "    <tr>\n",
       "      <th>Harare</th>\n",
       "      <td>20.195170</td>\n",
       "    </tr>\n",
       "    <tr>\n",
       "      <th>Kadoma</th>\n",
       "      <td>20.195170</td>\n",
       "    </tr>\n",
       "    <tr>\n",
       "      <th>Kwekwe</th>\n",
       "      <td>20.195170</td>\n",
       "    </tr>\n",
       "    <tr>\n",
       "      <th>Mutare</th>\n",
       "      <td>18.550113</td>\n",
       "    </tr>\n",
       "    <tr>\n",
       "      <th rowspan=\"7\" valign=\"top\">5</th>\n",
       "      <th>Bulawayo</th>\n",
       "      <td>17.001608</td>\n",
       "    </tr>\n",
       "    <tr>\n",
       "      <th>Chitungwiza</th>\n",
       "      <td>17.880149</td>\n",
       "    </tr>\n",
       "    <tr>\n",
       "      <th>Gweru</th>\n",
       "      <td>17.001608</td>\n",
       "    </tr>\n",
       "    <tr>\n",
       "      <th>Harare</th>\n",
       "      <td>17.880149</td>\n",
       "    </tr>\n",
       "    <tr>\n",
       "      <th>Kadoma</th>\n",
       "      <td>17.880149</td>\n",
       "    </tr>\n",
       "    <tr>\n",
       "      <th>Kwekwe</th>\n",
       "      <td>17.880149</td>\n",
       "    </tr>\n",
       "    <tr>\n",
       "      <th>Mutare</th>\n",
       "      <td>16.183993</td>\n",
       "    </tr>\n",
       "    <tr>\n",
       "      <th rowspan=\"7\" valign=\"top\">6</th>\n",
       "      <th>Bulawayo</th>\n",
       "      <td>14.592646</td>\n",
       "    </tr>\n",
       "    <tr>\n",
       "      <th>Chitungwiza</th>\n",
       "      <td>15.621745</td>\n",
       "    </tr>\n",
       "    <tr>\n",
       "      <th>Gweru</th>\n",
       "      <td>14.592646</td>\n",
       "    </tr>\n",
       "    <tr>\n",
       "      <th>Harare</th>\n",
       "      <td>15.621745</td>\n",
       "    </tr>\n",
       "    <tr>\n",
       "      <th>Kadoma</th>\n",
       "      <td>15.621745</td>\n",
       "    </tr>\n",
       "    <tr>\n",
       "      <th>Kwekwe</th>\n",
       "      <td>15.621745</td>\n",
       "    </tr>\n",
       "    <tr>\n",
       "      <th>Mutare</th>\n",
       "      <td>13.912291</td>\n",
       "    </tr>\n",
       "    <tr>\n",
       "      <th rowspan=\"7\" valign=\"top\">7</th>\n",
       "      <th>Bulawayo</th>\n",
       "      <td>14.448038</td>\n",
       "    </tr>\n",
       "    <tr>\n",
       "      <th>Chitungwiza</th>\n",
       "      <td>15.356366</td>\n",
       "    </tr>\n",
       "    <tr>\n",
       "      <th>Gweru</th>\n",
       "      <td>14.448038</td>\n",
       "    </tr>\n",
       "    <tr>\n",
       "      <th>Harare</th>\n",
       "      <td>15.356366</td>\n",
       "    </tr>\n",
       "    <tr>\n",
       "      <th>Kadoma</th>\n",
       "      <td>15.356366</td>\n",
       "    </tr>\n",
       "    <tr>\n",
       "      <th>Kwekwe</th>\n",
       "      <td>15.356366</td>\n",
       "    </tr>\n",
       "    <tr>\n",
       "      <th>Mutare</th>\n",
       "      <td>13.603549</td>\n",
       "    </tr>\n",
       "    <tr>\n",
       "      <th rowspan=\"7\" valign=\"top\">8</th>\n",
       "      <th>Bulawayo</th>\n",
       "      <td>16.891376</td>\n",
       "    </tr>\n",
       "    <tr>\n",
       "      <th>Chitungwiza</th>\n",
       "      <td>17.656071</td>\n",
       "    </tr>\n",
       "    <tr>\n",
       "      <th>Gweru</th>\n",
       "      <td>16.891376</td>\n",
       "    </tr>\n",
       "    <tr>\n",
       "      <th>Harare</th>\n",
       "      <td>17.656071</td>\n",
       "    </tr>\n",
       "    <tr>\n",
       "      <th>Kadoma</th>\n",
       "      <td>17.656071</td>\n",
       "    </tr>\n",
       "    <tr>\n",
       "      <th>Kwekwe</th>\n",
       "      <td>17.656071</td>\n",
       "    </tr>\n",
       "    <tr>\n",
       "      <th>Mutare</th>\n",
       "      <td>15.781716</td>\n",
       "    </tr>\n",
       "    <tr>\n",
       "      <th rowspan=\"7\" valign=\"top\">9</th>\n",
       "      <th>Bulawayo</th>\n",
       "      <td>20.425239</td>\n",
       "    </tr>\n",
       "    <tr>\n",
       "      <th>Chitungwiza</th>\n",
       "      <td>21.192214</td>\n",
       "    </tr>\n",
       "    <tr>\n",
       "      <th>Gweru</th>\n",
       "      <td>20.425239</td>\n",
       "    </tr>\n",
       "    <tr>\n",
       "      <th>Harare</th>\n",
       "      <td>21.192214</td>\n",
       "    </tr>\n",
       "    <tr>\n",
       "      <th>Kadoma</th>\n",
       "      <td>21.192214</td>\n",
       "    </tr>\n",
       "    <tr>\n",
       "      <th>Kwekwe</th>\n",
       "      <td>21.192214</td>\n",
       "    </tr>\n",
       "    <tr>\n",
       "      <th>Mutare</th>\n",
       "      <td>19.047993</td>\n",
       "    </tr>\n",
       "    <tr>\n",
       "      <th rowspan=\"7\" valign=\"top\">10</th>\n",
       "      <th>Bulawayo</th>\n",
       "      <td>22.604481</td>\n",
       "    </tr>\n",
       "    <tr>\n",
       "      <th>Chitungwiza</th>\n",
       "      <td>23.356336</td>\n",
       "    </tr>\n",
       "    <tr>\n",
       "      <th>Gweru</th>\n",
       "      <td>22.604481</td>\n",
       "    </tr>\n",
       "    <tr>\n",
       "      <th>Harare</th>\n",
       "      <td>23.356336</td>\n",
       "    </tr>\n",
       "    <tr>\n",
       "      <th>Kadoma</th>\n",
       "      <td>23.356336</td>\n",
       "    </tr>\n",
       "    <tr>\n",
       "      <th>Kwekwe</th>\n",
       "      <td>23.356336</td>\n",
       "    </tr>\n",
       "    <tr>\n",
       "      <th>Mutare</th>\n",
       "      <td>21.122514</td>\n",
       "    </tr>\n",
       "    <tr>\n",
       "      <th rowspan=\"7\" valign=\"top\">11</th>\n",
       "      <th>Bulawayo</th>\n",
       "      <td>22.891750</td>\n",
       "    </tr>\n",
       "    <tr>\n",
       "      <th>Chitungwiza</th>\n",
       "      <td>23.278504</td>\n",
       "    </tr>\n",
       "    <tr>\n",
       "      <th>Gweru</th>\n",
       "      <td>22.891750</td>\n",
       "    </tr>\n",
       "    <tr>\n",
       "      <th>Harare</th>\n",
       "      <td>23.278504</td>\n",
       "    </tr>\n",
       "    <tr>\n",
       "      <th>Kadoma</th>\n",
       "      <td>23.278504</td>\n",
       "    </tr>\n",
       "    <tr>\n",
       "      <th>Kwekwe</th>\n",
       "      <td>23.278504</td>\n",
       "    </tr>\n",
       "    <tr>\n",
       "      <th>Mutare</th>\n",
       "      <td>21.495035</td>\n",
       "    </tr>\n",
       "    <tr>\n",
       "      <th rowspan=\"7\" valign=\"top\">12</th>\n",
       "      <th>Bulawayo</th>\n",
       "      <td>22.393032</td>\n",
       "    </tr>\n",
       "    <tr>\n",
       "      <th>Chitungwiza</th>\n",
       "      <td>22.192536</td>\n",
       "    </tr>\n",
       "    <tr>\n",
       "      <th>Gweru</th>\n",
       "      <td>22.393032</td>\n",
       "    </tr>\n",
       "    <tr>\n",
       "      <th>Harare</th>\n",
       "      <td>22.192536</td>\n",
       "    </tr>\n",
       "    <tr>\n",
       "      <th>Kadoma</th>\n",
       "      <td>22.192536</td>\n",
       "    </tr>\n",
       "    <tr>\n",
       "      <th>Kwekwe</th>\n",
       "      <td>22.192536</td>\n",
       "    </tr>\n",
       "    <tr>\n",
       "      <th>Mutare</th>\n",
       "      <td>20.932707</td>\n",
       "    </tr>\n",
       "  </tbody>\n",
       "</table>\n",
       "</div>"
      ],
      "text/plain": [
       "                   AverageTemperature\n",
       "Month City                           \n",
       "1     Bulawayo              22.383918\n",
       "      Chitungwiza           22.050872\n",
       "      Gweru                 22.383918\n",
       "      Harare                22.050872\n",
       "      Kadoma                22.050872\n",
       "      Kwekwe                22.050872\n",
       "      Mutare                21.001333\n",
       "2     Bulawayo              22.078766\n",
       "      Chitungwiza           22.068695\n",
       "      Gweru                 22.078766\n",
       "      Harare                22.068695\n",
       "      Kadoma                22.068695\n",
       "      Kwekwe                22.068695\n",
       "      Mutare                20.874702\n",
       "3     Bulawayo              21.323000\n",
       "      Chitungwiza           21.723241\n",
       "      Gweru                 21.323000\n",
       "      Harare                21.723241\n",
       "      Kadoma                21.723241\n",
       "      Kwekwe                21.723241\n",
       "      Mutare                20.253539\n",
       "4     Bulawayo              19.493956\n",
       "      Chitungwiza           20.195170\n",
       "      Gweru                 19.493956\n",
       "      Harare                20.195170\n",
       "      Kadoma                20.195170\n",
       "      Kwekwe                20.195170\n",
       "      Mutare                18.550113\n",
       "5     Bulawayo              17.001608\n",
       "      Chitungwiza           17.880149\n",
       "      Gweru                 17.001608\n",
       "      Harare                17.880149\n",
       "      Kadoma                17.880149\n",
       "      Kwekwe                17.880149\n",
       "      Mutare                16.183993\n",
       "6     Bulawayo              14.592646\n",
       "      Chitungwiza           15.621745\n",
       "      Gweru                 14.592646\n",
       "      Harare                15.621745\n",
       "      Kadoma                15.621745\n",
       "      Kwekwe                15.621745\n",
       "      Mutare                13.912291\n",
       "7     Bulawayo              14.448038\n",
       "      Chitungwiza           15.356366\n",
       "      Gweru                 14.448038\n",
       "      Harare                15.356366\n",
       "      Kadoma                15.356366\n",
       "      Kwekwe                15.356366\n",
       "      Mutare                13.603549\n",
       "8     Bulawayo              16.891376\n",
       "      Chitungwiza           17.656071\n",
       "      Gweru                 16.891376\n",
       "      Harare                17.656071\n",
       "      Kadoma                17.656071\n",
       "      Kwekwe                17.656071\n",
       "      Mutare                15.781716\n",
       "9     Bulawayo              20.425239\n",
       "      Chitungwiza           21.192214\n",
       "      Gweru                 20.425239\n",
       "      Harare                21.192214\n",
       "      Kadoma                21.192214\n",
       "      Kwekwe                21.192214\n",
       "      Mutare                19.047993\n",
       "10    Bulawayo              22.604481\n",
       "      Chitungwiza           23.356336\n",
       "      Gweru                 22.604481\n",
       "      Harare                23.356336\n",
       "      Kadoma                23.356336\n",
       "      Kwekwe                23.356336\n",
       "      Mutare                21.122514\n",
       "11    Bulawayo              22.891750\n",
       "      Chitungwiza           23.278504\n",
       "      Gweru                 22.891750\n",
       "      Harare                23.278504\n",
       "      Kadoma                23.278504\n",
       "      Kwekwe                23.278504\n",
       "      Mutare                21.495035\n",
       "12    Bulawayo              22.393032\n",
       "      Chitungwiza           22.192536\n",
       "      Gweru                 22.393032\n",
       "      Harare                22.192536\n",
       "      Kadoma                22.192536\n",
       "      Kwekwe                22.192536\n",
       "      Mutare                20.932707"
      ]
     },
     "execution_count": 61,
     "metadata": {},
     "output_type": "execute_result"
    }
   ],
   "source": [
    "cities.groupby(['Month','City'])['AverageTemperature'].mean().to_frame()"
   ]
  },
  {
   "cell_type": "code",
   "execution_count": 62,
   "metadata": {},
   "outputs": [
    {
     "data": {
      "text/html": [
       "<div>\n",
       "<style scoped>\n",
       "    .dataframe tbody tr th:only-of-type {\n",
       "        vertical-align: middle;\n",
       "    }\n",
       "\n",
       "    .dataframe tbody tr th {\n",
       "        vertical-align: top;\n",
       "    }\n",
       "\n",
       "    .dataframe thead th {\n",
       "        text-align: right;\n",
       "    }\n",
       "</style>\n",
       "<table border=\"1\" class=\"dataframe\">\n",
       "  <thead>\n",
       "    <tr style=\"text-align: right;\">\n",
       "      <th></th>\n",
       "      <th>month</th>\n",
       "      <th>City</th>\n",
       "      <th>Mean_temp</th>\n",
       "    </tr>\n",
       "  </thead>\n",
       "  <tbody>\n",
       "    <tr>\n",
       "      <th>0</th>\n",
       "      <td>1</td>\n",
       "      <td>Bulawayo</td>\n",
       "      <td>22.383918</td>\n",
       "    </tr>\n",
       "    <tr>\n",
       "      <th>1</th>\n",
       "      <td>1</td>\n",
       "      <td>Chitungwiza</td>\n",
       "      <td>22.050872</td>\n",
       "    </tr>\n",
       "    <tr>\n",
       "      <th>2</th>\n",
       "      <td>1</td>\n",
       "      <td>Gweru</td>\n",
       "      <td>22.383918</td>\n",
       "    </tr>\n",
       "    <tr>\n",
       "      <th>3</th>\n",
       "      <td>1</td>\n",
       "      <td>Harare</td>\n",
       "      <td>22.050872</td>\n",
       "    </tr>\n",
       "    <tr>\n",
       "      <th>4</th>\n",
       "      <td>1</td>\n",
       "      <td>Kadoma</td>\n",
       "      <td>22.050872</td>\n",
       "    </tr>\n",
       "  </tbody>\n",
       "</table>\n",
       "</div>"
      ],
      "text/plain": [
       "   month         City  Mean_temp\n",
       "0      1     Bulawayo  22.383918\n",
       "1      1  Chitungwiza  22.050872\n",
       "2      1        Gweru  22.383918\n",
       "3      1       Harare  22.050872\n",
       "4      1       Kadoma  22.050872"
      ]
     },
     "execution_count": 62,
     "metadata": {},
     "output_type": "execute_result"
    }
   ],
   "source": [
    "cities_temp=cities.groupby(['Month','City'])['AverageTemperature'].mean().to_frame().reset_index()\n",
    "cities_temp.columns=['month','City','Mean_temp']\n",
    "cities_temp.head()"
   ]
  },
  {
   "cell_type": "code",
   "execution_count": 63,
   "metadata": {},
   "outputs": [
    {
     "data": {
      "text/html": [
       "<div>\n",
       "<style scoped>\n",
       "    .dataframe tbody tr th:only-of-type {\n",
       "        vertical-align: middle;\n",
       "    }\n",
       "\n",
       "    .dataframe tbody tr th {\n",
       "        vertical-align: top;\n",
       "    }\n",
       "\n",
       "    .dataframe thead th {\n",
       "        text-align: right;\n",
       "    }\n",
       "</style>\n",
       "<table border=\"1\" class=\"dataframe\">\n",
       "  <thead>\n",
       "    <tr style=\"text-align: right;\">\n",
       "      <th></th>\n",
       "      <th>month</th>\n",
       "      <th>City</th>\n",
       "      <th>Mean_temp</th>\n",
       "      <th>AverageTemperature</th>\n",
       "      <th>AverageTemperatureUncertainty</th>\n",
       "      <th>Country</th>\n",
       "      <th>Latitude</th>\n",
       "      <th>Longitude</th>\n",
       "      <th>Month</th>\n",
       "    </tr>\n",
       "  </thead>\n",
       "  <tbody>\n",
       "    <tr>\n",
       "      <th>0</th>\n",
       "      <td>1</td>\n",
       "      <td>Bulawayo</td>\n",
       "      <td>22.383918</td>\n",
       "      <td>21.047</td>\n",
       "      <td>1.729</td>\n",
       "      <td>Zimbabwe</td>\n",
       "      <td>20.09</td>\n",
       "      <td>29.00</td>\n",
       "      <td>1</td>\n",
       "    </tr>\n",
       "    <tr>\n",
       "      <th>1</th>\n",
       "      <td>1</td>\n",
       "      <td>Bulawayo</td>\n",
       "      <td>22.383918</td>\n",
       "      <td>22.329</td>\n",
       "      <td>1.811</td>\n",
       "      <td>Zimbabwe</td>\n",
       "      <td>20.09</td>\n",
       "      <td>29.00</td>\n",
       "      <td>2</td>\n",
       "    </tr>\n",
       "    <tr>\n",
       "      <th>2</th>\n",
       "      <td>1</td>\n",
       "      <td>Bulawayo</td>\n",
       "      <td>22.383918</td>\n",
       "      <td>21.082</td>\n",
       "      <td>2.273</td>\n",
       "      <td>Zimbabwe</td>\n",
       "      <td>20.09</td>\n",
       "      <td>29.00</td>\n",
       "      <td>3</td>\n",
       "    </tr>\n",
       "    <tr>\n",
       "      <th>3</th>\n",
       "      <td>1</td>\n",
       "      <td>Bulawayo</td>\n",
       "      <td>22.383918</td>\n",
       "      <td>18.458</td>\n",
       "      <td>1.937</td>\n",
       "      <td>Zimbabwe</td>\n",
       "      <td>20.09</td>\n",
       "      <td>29.00</td>\n",
       "      <td>4</td>\n",
       "    </tr>\n",
       "    <tr>\n",
       "      <th>4</th>\n",
       "      <td>1</td>\n",
       "      <td>Bulawayo</td>\n",
       "      <td>22.383918</td>\n",
       "      <td>15.542</td>\n",
       "      <td>1.664</td>\n",
       "      <td>Zimbabwe</td>\n",
       "      <td>20.09</td>\n",
       "      <td>29.00</td>\n",
       "      <td>5</td>\n",
       "    </tr>\n",
       "  </tbody>\n",
       "</table>\n",
       "</div>"
      ],
      "text/plain": [
       "   month      City  Mean_temp  AverageTemperature  \\\n",
       "0      1  Bulawayo  22.383918              21.047   \n",
       "1      1  Bulawayo  22.383918              22.329   \n",
       "2      1  Bulawayo  22.383918              21.082   \n",
       "3      1  Bulawayo  22.383918              18.458   \n",
       "4      1  Bulawayo  22.383918              15.542   \n",
       "\n",
       "   AverageTemperatureUncertainty   Country Latitude Longitude  Month  \n",
       "0                          1.729  Zimbabwe    20.09     29.00      1  \n",
       "1                          1.811  Zimbabwe    20.09     29.00      2  \n",
       "2                          2.273  Zimbabwe    20.09     29.00      3  \n",
       "3                          1.937  Zimbabwe    20.09     29.00      4  \n",
       "4                          1.664  Zimbabwe    20.09     29.00      5  "
      ]
     },
     "execution_count": 63,
     "metadata": {},
     "output_type": "execute_result"
    }
   ],
   "source": [
    "df=cities_temp.merge(cities,on='City',how='left')\n",
    "df.head()"
   ]
  },
  {
   "cell_type": "code",
   "execution_count": 64,
   "metadata": {},
   "outputs": [],
   "source": [
    "data=df.drop_duplicates(subset=['month','City'])"
   ]
  },
  {
   "cell_type": "code",
   "execution_count": 65,
   "metadata": {},
   "outputs": [
    {
     "data": {
      "text/html": [
       "<div>\n",
       "<style scoped>\n",
       "    .dataframe tbody tr th:only-of-type {\n",
       "        vertical-align: middle;\n",
       "    }\n",
       "\n",
       "    .dataframe tbody tr th {\n",
       "        vertical-align: top;\n",
       "    }\n",
       "\n",
       "    .dataframe thead th {\n",
       "        text-align: right;\n",
       "    }\n",
       "</style>\n",
       "<table border=\"1\" class=\"dataframe\">\n",
       "  <thead>\n",
       "    <tr style=\"text-align: right;\">\n",
       "      <th></th>\n",
       "      <th>month</th>\n",
       "      <th>City</th>\n",
       "      <th>Mean_temp</th>\n",
       "      <th>AverageTemperature</th>\n",
       "      <th>AverageTemperatureUncertainty</th>\n",
       "      <th>Country</th>\n",
       "      <th>Latitude</th>\n",
       "      <th>Longitude</th>\n",
       "      <th>Month</th>\n",
       "    </tr>\n",
       "  </thead>\n",
       "  <tbody>\n",
       "    <tr>\n",
       "      <th>0</th>\n",
       "      <td>1</td>\n",
       "      <td>Bulawayo</td>\n",
       "      <td>22.383918</td>\n",
       "      <td>21.047</td>\n",
       "      <td>1.729</td>\n",
       "      <td>Zimbabwe</td>\n",
       "      <td>20.09</td>\n",
       "      <td>29.00</td>\n",
       "      <td>1</td>\n",
       "    </tr>\n",
       "    <tr>\n",
       "      <th>1965</th>\n",
       "      <td>1</td>\n",
       "      <td>Chitungwiza</td>\n",
       "      <td>22.050872</td>\n",
       "      <td>20.699</td>\n",
       "      <td>1.552</td>\n",
       "      <td>Zimbabwe</td>\n",
       "      <td>18.48</td>\n",
       "      <td>30.42</td>\n",
       "      <td>1</td>\n",
       "    </tr>\n",
       "    <tr>\n",
       "      <th>3930</th>\n",
       "      <td>1</td>\n",
       "      <td>Gweru</td>\n",
       "      <td>22.383918</td>\n",
       "      <td>21.047</td>\n",
       "      <td>1.729</td>\n",
       "      <td>Zimbabwe</td>\n",
       "      <td>20.09</td>\n",
       "      <td>29.00</td>\n",
       "      <td>1</td>\n",
       "    </tr>\n",
       "    <tr>\n",
       "      <th>5895</th>\n",
       "      <td>1</td>\n",
       "      <td>Harare</td>\n",
       "      <td>22.050872</td>\n",
       "      <td>20.699</td>\n",
       "      <td>1.552</td>\n",
       "      <td>Zimbabwe</td>\n",
       "      <td>18.48</td>\n",
       "      <td>30.42</td>\n",
       "      <td>1</td>\n",
       "    </tr>\n",
       "    <tr>\n",
       "      <th>7860</th>\n",
       "      <td>1</td>\n",
       "      <td>Kadoma</td>\n",
       "      <td>22.050872</td>\n",
       "      <td>20.699</td>\n",
       "      <td>1.552</td>\n",
       "      <td>Zimbabwe</td>\n",
       "      <td>18.48</td>\n",
       "      <td>30.42</td>\n",
       "      <td>1</td>\n",
       "    </tr>\n",
       "  </tbody>\n",
       "</table>\n",
       "</div>"
      ],
      "text/plain": [
       "      month         City  Mean_temp  AverageTemperature  \\\n",
       "0         1     Bulawayo  22.383918              21.047   \n",
       "1965      1  Chitungwiza  22.050872              20.699   \n",
       "3930      1        Gweru  22.383918              21.047   \n",
       "5895      1       Harare  22.050872              20.699   \n",
       "7860      1       Kadoma  22.050872              20.699   \n",
       "\n",
       "      AverageTemperatureUncertainty   Country Latitude Longitude  Month  \n",
       "0                             1.729  Zimbabwe    20.09     29.00      1  \n",
       "1965                          1.552  Zimbabwe    18.48     30.42      1  \n",
       "3930                          1.729  Zimbabwe    20.09     29.00      1  \n",
       "5895                          1.552  Zimbabwe    18.48     30.42      1  \n",
       "7860                          1.552  Zimbabwe    18.48     30.42      1  "
      ]
     },
     "execution_count": 65,
     "metadata": {},
     "output_type": "execute_result"
    }
   ],
   "source": [
    "data.head()"
   ]
  },
  {
   "cell_type": "code",
   "execution_count": 66,
   "metadata": {},
   "outputs": [
    {
     "data": {
      "text/html": [
       "<div>\n",
       "<style scoped>\n",
       "    .dataframe tbody tr th:only-of-type {\n",
       "        vertical-align: middle;\n",
       "    }\n",
       "\n",
       "    .dataframe tbody tr th {\n",
       "        vertical-align: top;\n",
       "    }\n",
       "\n",
       "    .dataframe thead th {\n",
       "        text-align: right;\n",
       "    }\n",
       "</style>\n",
       "<table border=\"1\" class=\"dataframe\">\n",
       "  <thead>\n",
       "    <tr style=\"text-align: right;\">\n",
       "      <th></th>\n",
       "      <th>month</th>\n",
       "      <th>City</th>\n",
       "      <th>Mean_temp</th>\n",
       "      <th>Country</th>\n",
       "      <th>Latitude</th>\n",
       "      <th>Longitude</th>\n",
       "    </tr>\n",
       "  </thead>\n",
       "  <tbody>\n",
       "    <tr>\n",
       "      <th>0</th>\n",
       "      <td>1</td>\n",
       "      <td>Bulawayo</td>\n",
       "      <td>22.383918</td>\n",
       "      <td>Zimbabwe</td>\n",
       "      <td>20.09</td>\n",
       "      <td>29.00</td>\n",
       "    </tr>\n",
       "    <tr>\n",
       "      <th>1965</th>\n",
       "      <td>1</td>\n",
       "      <td>Chitungwiza</td>\n",
       "      <td>22.050872</td>\n",
       "      <td>Zimbabwe</td>\n",
       "      <td>18.48</td>\n",
       "      <td>30.42</td>\n",
       "    </tr>\n",
       "    <tr>\n",
       "      <th>3930</th>\n",
       "      <td>1</td>\n",
       "      <td>Gweru</td>\n",
       "      <td>22.383918</td>\n",
       "      <td>Zimbabwe</td>\n",
       "      <td>20.09</td>\n",
       "      <td>29.00</td>\n",
       "    </tr>\n",
       "    <tr>\n",
       "      <th>5895</th>\n",
       "      <td>1</td>\n",
       "      <td>Harare</td>\n",
       "      <td>22.050872</td>\n",
       "      <td>Zimbabwe</td>\n",
       "      <td>18.48</td>\n",
       "      <td>30.42</td>\n",
       "    </tr>\n",
       "    <tr>\n",
       "      <th>7860</th>\n",
       "      <td>1</td>\n",
       "      <td>Kadoma</td>\n",
       "      <td>22.050872</td>\n",
       "      <td>Zimbabwe</td>\n",
       "      <td>18.48</td>\n",
       "      <td>30.42</td>\n",
       "    </tr>\n",
       "  </tbody>\n",
       "</table>\n",
       "</div>"
      ],
      "text/plain": [
       "      month         City  Mean_temp   Country Latitude Longitude\n",
       "0         1     Bulawayo  22.383918  Zimbabwe    20.09     29.00\n",
       "1965      1  Chitungwiza  22.050872  Zimbabwe    18.48     30.42\n",
       "3930      1        Gweru  22.383918  Zimbabwe    20.09     29.00\n",
       "5895      1       Harare  22.050872  Zimbabwe    18.48     30.42\n",
       "7860      1       Kadoma  22.050872  Zimbabwe    18.48     30.42"
      ]
     },
     "execution_count": 66,
     "metadata": {},
     "output_type": "execute_result"
    }
   ],
   "source": [
    "data2=data[['month','City','Mean_temp','Country','Latitude','Longitude']]\n",
    "data2.head()"
   ]
  },
  {
   "cell_type": "code",
   "execution_count": 68,
   "metadata": {},
   "outputs": [],
   "source": [
    "trace = go.Heatmap(z=data2['Mean_temp'],\n",
    "                   x=data2['month'],\n",
    "                   y=data2['City'],\n",
    "                  colorscale='Viridis')"
   ]
  },
  {
   "cell_type": "code",
   "execution_count": 69,
   "metadata": {},
   "outputs": [],
   "source": [
    "data=[trace]\n",
    "layout = go.Layout(\n",
    "    title='Average Temperature Of Major Cities By Month',\n",
    ")"
   ]
  },
  {
   "cell_type": "code",
   "execution_count": 70,
   "metadata": {},
   "outputs": [
    {
     "data": {
      "application/vnd.plotly.v1+json": {
       "config": {
        "plotlyServerURL": "https://plot.ly"
       },
       "data": [
        {
         "colorscale": [
          [
           0,
           "#440154"
          ],
          [
           0.1111111111111111,
           "#482878"
          ],
          [
           0.2222222222222222,
           "#3e4989"
          ],
          [
           0.3333333333333333,
           "#31688e"
          ],
          [
           0.4444444444444444,
           "#26828e"
          ],
          [
           0.5555555555555556,
           "#1f9e89"
          ],
          [
           0.6666666666666666,
           "#35b779"
          ],
          [
           0.7777777777777778,
           "#6ece58"
          ],
          [
           0.8888888888888888,
           "#b5de2b"
          ],
          [
           1,
           "#fde725"
          ]
         ],
         "type": "heatmap",
         "x": [
          1,
          1,
          1,
          1,
          1,
          1,
          1,
          2,
          2,
          2,
          2,
          2,
          2,
          2,
          3,
          3,
          3,
          3,
          3,
          3,
          3,
          4,
          4,
          4,
          4,
          4,
          4,
          4,
          5,
          5,
          5,
          5,
          5,
          5,
          5,
          6,
          6,
          6,
          6,
          6,
          6,
          6,
          7,
          7,
          7,
          7,
          7,
          7,
          7,
          8,
          8,
          8,
          8,
          8,
          8,
          8,
          9,
          9,
          9,
          9,
          9,
          9,
          9,
          10,
          10,
          10,
          10,
          10,
          10,
          10,
          11,
          11,
          11,
          11,
          11,
          11,
          11,
          12,
          12,
          12,
          12,
          12,
          12,
          12
         ],
         "y": [
          "Bulawayo",
          "Chitungwiza",
          "Gweru",
          "Harare",
          "Kadoma",
          "Kwekwe",
          "Mutare",
          "Bulawayo",
          "Chitungwiza",
          "Gweru",
          "Harare",
          "Kadoma",
          "Kwekwe",
          "Mutare",
          "Bulawayo",
          "Chitungwiza",
          "Gweru",
          "Harare",
          "Kadoma",
          "Kwekwe",
          "Mutare",
          "Bulawayo",
          "Chitungwiza",
          "Gweru",
          "Harare",
          "Kadoma",
          "Kwekwe",
          "Mutare",
          "Bulawayo",
          "Chitungwiza",
          "Gweru",
          "Harare",
          "Kadoma",
          "Kwekwe",
          "Mutare",
          "Bulawayo",
          "Chitungwiza",
          "Gweru",
          "Harare",
          "Kadoma",
          "Kwekwe",
          "Mutare",
          "Bulawayo",
          "Chitungwiza",
          "Gweru",
          "Harare",
          "Kadoma",
          "Kwekwe",
          "Mutare",
          "Bulawayo",
          "Chitungwiza",
          "Gweru",
          "Harare",
          "Kadoma",
          "Kwekwe",
          "Mutare",
          "Bulawayo",
          "Chitungwiza",
          "Gweru",
          "Harare",
          "Kadoma",
          "Kwekwe",
          "Mutare",
          "Bulawayo",
          "Chitungwiza",
          "Gweru",
          "Harare",
          "Kadoma",
          "Kwekwe",
          "Mutare",
          "Bulawayo",
          "Chitungwiza",
          "Gweru",
          "Harare",
          "Kadoma",
          "Kwekwe",
          "Mutare",
          "Bulawayo",
          "Chitungwiza",
          "Gweru",
          "Harare",
          "Kadoma",
          "Kwekwe",
          "Mutare"
         ],
         "z": [
          22.383917721518987,
          22.050872340425535,
          22.383917721518987,
          22.050872340425535,
          22.050872340425535,
          22.050872340425535,
          21.001333333333335,
          22.07876582278481,
          22.068695035460994,
          22.07876582278481,
          22.068695035460994,
          22.068695035460994,
          22.068695035460994,
          20.874702127659575,
          21.323,
          21.72324113475177,
          21.323,
          21.72324113475177,
          21.72324113475177,
          21.72324113475177,
          20.253539007092197,
          19.493955696202534,
          20.19517021276596,
          19.493955696202534,
          20.19517021276596,
          20.19517021276596,
          20.19517021276596,
          18.550113475177305,
          17.00160759493671,
          17.880148936170215,
          17.00160759493671,
          17.880148936170215,
          17.880148936170215,
          17.880148936170215,
          16.183992907801418,
          14.592645569620252,
          15.621744680851066,
          14.592645569620252,
          15.621744680851066,
          15.621744680851066,
          15.621744680851066,
          13.912290780141845,
          14.448037974683544,
          15.356366197183098,
          14.448037974683544,
          15.356366197183098,
          15.356366197183098,
          15.356366197183098,
          13.603549295774647,
          16.891375796178345,
          17.65607092198582,
          16.891375796178345,
          17.65607092198582,
          17.65607092198582,
          17.65607092198582,
          15.781716312056739,
          20.42523870967742,
          21.192214285714286,
          20.42523870967742,
          21.192214285714286,
          21.192214285714286,
          21.192214285714286,
          19.04799285714286,
          22.60448076923077,
          23.356335714285716,
          22.60448076923077,
          23.356335714285716,
          23.356335714285716,
          23.356335714285716,
          21.122514285714285,
          22.89175,
          23.27850354609929,
          22.89175,
          23.27850354609929,
          23.27850354609929,
          23.27850354609929,
          21.49503546099291,
          22.393032258064515,
          22.192535714285714,
          22.393032258064515,
          22.192535714285714,
          22.192535714285714,
          22.192535714285714,
          20.932707142857144
         ]
        }
       ],
       "layout": {
        "template": {
         "data": {
          "bar": [
           {
            "error_x": {
             "color": "#2a3f5f"
            },
            "error_y": {
             "color": "#2a3f5f"
            },
            "marker": {
             "line": {
              "color": "#E5ECF6",
              "width": 0.5
             },
             "pattern": {
              "fillmode": "overlay",
              "size": 10,
              "solidity": 0.2
             }
            },
            "type": "bar"
           }
          ],
          "barpolar": [
           {
            "marker": {
             "line": {
              "color": "#E5ECF6",
              "width": 0.5
             },
             "pattern": {
              "fillmode": "overlay",
              "size": 10,
              "solidity": 0.2
             }
            },
            "type": "barpolar"
           }
          ],
          "carpet": [
           {
            "aaxis": {
             "endlinecolor": "#2a3f5f",
             "gridcolor": "white",
             "linecolor": "white",
             "minorgridcolor": "white",
             "startlinecolor": "#2a3f5f"
            },
            "baxis": {
             "endlinecolor": "#2a3f5f",
             "gridcolor": "white",
             "linecolor": "white",
             "minorgridcolor": "white",
             "startlinecolor": "#2a3f5f"
            },
            "type": "carpet"
           }
          ],
          "choropleth": [
           {
            "colorbar": {
             "outlinewidth": 0,
             "ticks": ""
            },
            "type": "choropleth"
           }
          ],
          "contour": [
           {
            "colorbar": {
             "outlinewidth": 0,
             "ticks": ""
            },
            "colorscale": [
             [
              0,
              "#0d0887"
             ],
             [
              0.1111111111111111,
              "#46039f"
             ],
             [
              0.2222222222222222,
              "#7201a8"
             ],
             [
              0.3333333333333333,
              "#9c179e"
             ],
             [
              0.4444444444444444,
              "#bd3786"
             ],
             [
              0.5555555555555556,
              "#d8576b"
             ],
             [
              0.6666666666666666,
              "#ed7953"
             ],
             [
              0.7777777777777778,
              "#fb9f3a"
             ],
             [
              0.8888888888888888,
              "#fdca26"
             ],
             [
              1,
              "#f0f921"
             ]
            ],
            "type": "contour"
           }
          ],
          "contourcarpet": [
           {
            "colorbar": {
             "outlinewidth": 0,
             "ticks": ""
            },
            "type": "contourcarpet"
           }
          ],
          "heatmap": [
           {
            "colorbar": {
             "outlinewidth": 0,
             "ticks": ""
            },
            "colorscale": [
             [
              0,
              "#0d0887"
             ],
             [
              0.1111111111111111,
              "#46039f"
             ],
             [
              0.2222222222222222,
              "#7201a8"
             ],
             [
              0.3333333333333333,
              "#9c179e"
             ],
             [
              0.4444444444444444,
              "#bd3786"
             ],
             [
              0.5555555555555556,
              "#d8576b"
             ],
             [
              0.6666666666666666,
              "#ed7953"
             ],
             [
              0.7777777777777778,
              "#fb9f3a"
             ],
             [
              0.8888888888888888,
              "#fdca26"
             ],
             [
              1,
              "#f0f921"
             ]
            ],
            "type": "heatmap"
           }
          ],
          "heatmapgl": [
           {
            "colorbar": {
             "outlinewidth": 0,
             "ticks": ""
            },
            "colorscale": [
             [
              0,
              "#0d0887"
             ],
             [
              0.1111111111111111,
              "#46039f"
             ],
             [
              0.2222222222222222,
              "#7201a8"
             ],
             [
              0.3333333333333333,
              "#9c179e"
             ],
             [
              0.4444444444444444,
              "#bd3786"
             ],
             [
              0.5555555555555556,
              "#d8576b"
             ],
             [
              0.6666666666666666,
              "#ed7953"
             ],
             [
              0.7777777777777778,
              "#fb9f3a"
             ],
             [
              0.8888888888888888,
              "#fdca26"
             ],
             [
              1,
              "#f0f921"
             ]
            ],
            "type": "heatmapgl"
           }
          ],
          "histogram": [
           {
            "marker": {
             "pattern": {
              "fillmode": "overlay",
              "size": 10,
              "solidity": 0.2
             }
            },
            "type": "histogram"
           }
          ],
          "histogram2d": [
           {
            "colorbar": {
             "outlinewidth": 0,
             "ticks": ""
            },
            "colorscale": [
             [
              0,
              "#0d0887"
             ],
             [
              0.1111111111111111,
              "#46039f"
             ],
             [
              0.2222222222222222,
              "#7201a8"
             ],
             [
              0.3333333333333333,
              "#9c179e"
             ],
             [
              0.4444444444444444,
              "#bd3786"
             ],
             [
              0.5555555555555556,
              "#d8576b"
             ],
             [
              0.6666666666666666,
              "#ed7953"
             ],
             [
              0.7777777777777778,
              "#fb9f3a"
             ],
             [
              0.8888888888888888,
              "#fdca26"
             ],
             [
              1,
              "#f0f921"
             ]
            ],
            "type": "histogram2d"
           }
          ],
          "histogram2dcontour": [
           {
            "colorbar": {
             "outlinewidth": 0,
             "ticks": ""
            },
            "colorscale": [
             [
              0,
              "#0d0887"
             ],
             [
              0.1111111111111111,
              "#46039f"
             ],
             [
              0.2222222222222222,
              "#7201a8"
             ],
             [
              0.3333333333333333,
              "#9c179e"
             ],
             [
              0.4444444444444444,
              "#bd3786"
             ],
             [
              0.5555555555555556,
              "#d8576b"
             ],
             [
              0.6666666666666666,
              "#ed7953"
             ],
             [
              0.7777777777777778,
              "#fb9f3a"
             ],
             [
              0.8888888888888888,
              "#fdca26"
             ],
             [
              1,
              "#f0f921"
             ]
            ],
            "type": "histogram2dcontour"
           }
          ],
          "mesh3d": [
           {
            "colorbar": {
             "outlinewidth": 0,
             "ticks": ""
            },
            "type": "mesh3d"
           }
          ],
          "parcoords": [
           {
            "line": {
             "colorbar": {
              "outlinewidth": 0,
              "ticks": ""
             }
            },
            "type": "parcoords"
           }
          ],
          "pie": [
           {
            "automargin": true,
            "type": "pie"
           }
          ],
          "scatter": [
           {
            "marker": {
             "colorbar": {
              "outlinewidth": 0,
              "ticks": ""
             }
            },
            "type": "scatter"
           }
          ],
          "scatter3d": [
           {
            "line": {
             "colorbar": {
              "outlinewidth": 0,
              "ticks": ""
             }
            },
            "marker": {
             "colorbar": {
              "outlinewidth": 0,
              "ticks": ""
             }
            },
            "type": "scatter3d"
           }
          ],
          "scattercarpet": [
           {
            "marker": {
             "colorbar": {
              "outlinewidth": 0,
              "ticks": ""
             }
            },
            "type": "scattercarpet"
           }
          ],
          "scattergeo": [
           {
            "marker": {
             "colorbar": {
              "outlinewidth": 0,
              "ticks": ""
             }
            },
            "type": "scattergeo"
           }
          ],
          "scattergl": [
           {
            "marker": {
             "colorbar": {
              "outlinewidth": 0,
              "ticks": ""
             }
            },
            "type": "scattergl"
           }
          ],
          "scattermapbox": [
           {
            "marker": {
             "colorbar": {
              "outlinewidth": 0,
              "ticks": ""
             }
            },
            "type": "scattermapbox"
           }
          ],
          "scatterpolar": [
           {
            "marker": {
             "colorbar": {
              "outlinewidth": 0,
              "ticks": ""
             }
            },
            "type": "scatterpolar"
           }
          ],
          "scatterpolargl": [
           {
            "marker": {
             "colorbar": {
              "outlinewidth": 0,
              "ticks": ""
             }
            },
            "type": "scatterpolargl"
           }
          ],
          "scatterternary": [
           {
            "marker": {
             "colorbar": {
              "outlinewidth": 0,
              "ticks": ""
             }
            },
            "type": "scatterternary"
           }
          ],
          "surface": [
           {
            "colorbar": {
             "outlinewidth": 0,
             "ticks": ""
            },
            "colorscale": [
             [
              0,
              "#0d0887"
             ],
             [
              0.1111111111111111,
              "#46039f"
             ],
             [
              0.2222222222222222,
              "#7201a8"
             ],
             [
              0.3333333333333333,
              "#9c179e"
             ],
             [
              0.4444444444444444,
              "#bd3786"
             ],
             [
              0.5555555555555556,
              "#d8576b"
             ],
             [
              0.6666666666666666,
              "#ed7953"
             ],
             [
              0.7777777777777778,
              "#fb9f3a"
             ],
             [
              0.8888888888888888,
              "#fdca26"
             ],
             [
              1,
              "#f0f921"
             ]
            ],
            "type": "surface"
           }
          ],
          "table": [
           {
            "cells": {
             "fill": {
              "color": "#EBF0F8"
             },
             "line": {
              "color": "white"
             }
            },
            "header": {
             "fill": {
              "color": "#C8D4E3"
             },
             "line": {
              "color": "white"
             }
            },
            "type": "table"
           }
          ]
         },
         "layout": {
          "annotationdefaults": {
           "arrowcolor": "#2a3f5f",
           "arrowhead": 0,
           "arrowwidth": 1
          },
          "autotypenumbers": "strict",
          "coloraxis": {
           "colorbar": {
            "outlinewidth": 0,
            "ticks": ""
           }
          },
          "colorscale": {
           "diverging": [
            [
             0,
             "#8e0152"
            ],
            [
             0.1,
             "#c51b7d"
            ],
            [
             0.2,
             "#de77ae"
            ],
            [
             0.3,
             "#f1b6da"
            ],
            [
             0.4,
             "#fde0ef"
            ],
            [
             0.5,
             "#f7f7f7"
            ],
            [
             0.6,
             "#e6f5d0"
            ],
            [
             0.7,
             "#b8e186"
            ],
            [
             0.8,
             "#7fbc41"
            ],
            [
             0.9,
             "#4d9221"
            ],
            [
             1,
             "#276419"
            ]
           ],
           "sequential": [
            [
             0,
             "#0d0887"
            ],
            [
             0.1111111111111111,
             "#46039f"
            ],
            [
             0.2222222222222222,
             "#7201a8"
            ],
            [
             0.3333333333333333,
             "#9c179e"
            ],
            [
             0.4444444444444444,
             "#bd3786"
            ],
            [
             0.5555555555555556,
             "#d8576b"
            ],
            [
             0.6666666666666666,
             "#ed7953"
            ],
            [
             0.7777777777777778,
             "#fb9f3a"
            ],
            [
             0.8888888888888888,
             "#fdca26"
            ],
            [
             1,
             "#f0f921"
            ]
           ],
           "sequentialminus": [
            [
             0,
             "#0d0887"
            ],
            [
             0.1111111111111111,
             "#46039f"
            ],
            [
             0.2222222222222222,
             "#7201a8"
            ],
            [
             0.3333333333333333,
             "#9c179e"
            ],
            [
             0.4444444444444444,
             "#bd3786"
            ],
            [
             0.5555555555555556,
             "#d8576b"
            ],
            [
             0.6666666666666666,
             "#ed7953"
            ],
            [
             0.7777777777777778,
             "#fb9f3a"
            ],
            [
             0.8888888888888888,
             "#fdca26"
            ],
            [
             1,
             "#f0f921"
            ]
           ]
          },
          "colorway": [
           "#636efa",
           "#EF553B",
           "#00cc96",
           "#ab63fa",
           "#FFA15A",
           "#19d3f3",
           "#FF6692",
           "#B6E880",
           "#FF97FF",
           "#FECB52"
          ],
          "font": {
           "color": "#2a3f5f"
          },
          "geo": {
           "bgcolor": "white",
           "lakecolor": "white",
           "landcolor": "#E5ECF6",
           "showlakes": true,
           "showland": true,
           "subunitcolor": "white"
          },
          "hoverlabel": {
           "align": "left"
          },
          "hovermode": "closest",
          "mapbox": {
           "style": "light"
          },
          "paper_bgcolor": "white",
          "plot_bgcolor": "#E5ECF6",
          "polar": {
           "angularaxis": {
            "gridcolor": "white",
            "linecolor": "white",
            "ticks": ""
           },
           "bgcolor": "#E5ECF6",
           "radialaxis": {
            "gridcolor": "white",
            "linecolor": "white",
            "ticks": ""
           }
          },
          "scene": {
           "xaxis": {
            "backgroundcolor": "#E5ECF6",
            "gridcolor": "white",
            "gridwidth": 2,
            "linecolor": "white",
            "showbackground": true,
            "ticks": "",
            "zerolinecolor": "white"
           },
           "yaxis": {
            "backgroundcolor": "#E5ECF6",
            "gridcolor": "white",
            "gridwidth": 2,
            "linecolor": "white",
            "showbackground": true,
            "ticks": "",
            "zerolinecolor": "white"
           },
           "zaxis": {
            "backgroundcolor": "#E5ECF6",
            "gridcolor": "white",
            "gridwidth": 2,
            "linecolor": "white",
            "showbackground": true,
            "ticks": "",
            "zerolinecolor": "white"
           }
          },
          "shapedefaults": {
           "line": {
            "color": "#2a3f5f"
           }
          },
          "ternary": {
           "aaxis": {
            "gridcolor": "white",
            "linecolor": "white",
            "ticks": ""
           },
           "baxis": {
            "gridcolor": "white",
            "linecolor": "white",
            "ticks": ""
           },
           "bgcolor": "#E5ECF6",
           "caxis": {
            "gridcolor": "white",
            "linecolor": "white",
            "ticks": ""
           }
          },
          "title": {
           "x": 0.05
          },
          "xaxis": {
           "automargin": true,
           "gridcolor": "white",
           "linecolor": "white",
           "ticks": "",
           "title": {
            "standoff": 15
           },
           "zerolinecolor": "white",
           "zerolinewidth": 2
          },
          "yaxis": {
           "automargin": true,
           "gridcolor": "white",
           "linecolor": "white",
           "ticks": "",
           "title": {
            "standoff": 15
           },
           "zerolinecolor": "white",
           "zerolinewidth": 2
          }
         }
        },
        "title": {
         "text": "Average Temperature Of Major Cities By Month"
        }
       }
      },
      "text/html": [
       "<div>                            <div id=\"991d11ec-4f5e-4328-aab7-46361e6ec0fc\" class=\"plotly-graph-div\" style=\"height:525px; width:100%;\"></div>            <script type=\"text/javascript\">                require([\"plotly\"], function(Plotly) {                    window.PLOTLYENV=window.PLOTLYENV || {};                                    if (document.getElementById(\"991d11ec-4f5e-4328-aab7-46361e6ec0fc\")) {                    Plotly.newPlot(                        \"991d11ec-4f5e-4328-aab7-46361e6ec0fc\",                        [{\"colorscale\":[[0.0,\"#440154\"],[0.1111111111111111,\"#482878\"],[0.2222222222222222,\"#3e4989\"],[0.3333333333333333,\"#31688e\"],[0.4444444444444444,\"#26828e\"],[0.5555555555555556,\"#1f9e89\"],[0.6666666666666666,\"#35b779\"],[0.7777777777777778,\"#6ece58\"],[0.8888888888888888,\"#b5de2b\"],[1.0,\"#fde725\"]],\"x\":[1,1,1,1,1,1,1,2,2,2,2,2,2,2,3,3,3,3,3,3,3,4,4,4,4,4,4,4,5,5,5,5,5,5,5,6,6,6,6,6,6,6,7,7,7,7,7,7,7,8,8,8,8,8,8,8,9,9,9,9,9,9,9,10,10,10,10,10,10,10,11,11,11,11,11,11,11,12,12,12,12,12,12,12],\"y\":[\"Bulawayo\",\"Chitungwiza\",\"Gweru\",\"Harare\",\"Kadoma\",\"Kwekwe\",\"Mutare\",\"Bulawayo\",\"Chitungwiza\",\"Gweru\",\"Harare\",\"Kadoma\",\"Kwekwe\",\"Mutare\",\"Bulawayo\",\"Chitungwiza\",\"Gweru\",\"Harare\",\"Kadoma\",\"Kwekwe\",\"Mutare\",\"Bulawayo\",\"Chitungwiza\",\"Gweru\",\"Harare\",\"Kadoma\",\"Kwekwe\",\"Mutare\",\"Bulawayo\",\"Chitungwiza\",\"Gweru\",\"Harare\",\"Kadoma\",\"Kwekwe\",\"Mutare\",\"Bulawayo\",\"Chitungwiza\",\"Gweru\",\"Harare\",\"Kadoma\",\"Kwekwe\",\"Mutare\",\"Bulawayo\",\"Chitungwiza\",\"Gweru\",\"Harare\",\"Kadoma\",\"Kwekwe\",\"Mutare\",\"Bulawayo\",\"Chitungwiza\",\"Gweru\",\"Harare\",\"Kadoma\",\"Kwekwe\",\"Mutare\",\"Bulawayo\",\"Chitungwiza\",\"Gweru\",\"Harare\",\"Kadoma\",\"Kwekwe\",\"Mutare\",\"Bulawayo\",\"Chitungwiza\",\"Gweru\",\"Harare\",\"Kadoma\",\"Kwekwe\",\"Mutare\",\"Bulawayo\",\"Chitungwiza\",\"Gweru\",\"Harare\",\"Kadoma\",\"Kwekwe\",\"Mutare\",\"Bulawayo\",\"Chitungwiza\",\"Gweru\",\"Harare\",\"Kadoma\",\"Kwekwe\",\"Mutare\"],\"z\":[22.383917721518987,22.050872340425535,22.383917721518987,22.050872340425535,22.050872340425535,22.050872340425535,21.001333333333335,22.07876582278481,22.068695035460994,22.07876582278481,22.068695035460994,22.068695035460994,22.068695035460994,20.874702127659575,21.323,21.72324113475177,21.323,21.72324113475177,21.72324113475177,21.72324113475177,20.253539007092197,19.493955696202534,20.19517021276596,19.493955696202534,20.19517021276596,20.19517021276596,20.19517021276596,18.550113475177305,17.00160759493671,17.880148936170215,17.00160759493671,17.880148936170215,17.880148936170215,17.880148936170215,16.183992907801418,14.592645569620252,15.621744680851066,14.592645569620252,15.621744680851066,15.621744680851066,15.621744680851066,13.912290780141845,14.448037974683544,15.356366197183098,14.448037974683544,15.356366197183098,15.356366197183098,15.356366197183098,13.603549295774647,16.891375796178345,17.65607092198582,16.891375796178345,17.65607092198582,17.65607092198582,17.65607092198582,15.781716312056739,20.42523870967742,21.192214285714286,20.42523870967742,21.192214285714286,21.192214285714286,21.192214285714286,19.04799285714286,22.60448076923077,23.356335714285716,22.60448076923077,23.356335714285716,23.356335714285716,23.356335714285716,21.122514285714285,22.89175,23.27850354609929,22.89175,23.27850354609929,23.27850354609929,23.27850354609929,21.49503546099291,22.393032258064515,22.192535714285714,22.393032258064515,22.192535714285714,22.192535714285714,22.192535714285714,20.932707142857144],\"type\":\"heatmap\"}],                        {\"title\":{\"text\":\"Average Temperature Of Major Cities By Month\"},\"template\":{\"data\":{\"bar\":[{\"error_x\":{\"color\":\"#2a3f5f\"},\"error_y\":{\"color\":\"#2a3f5f\"},\"marker\":{\"line\":{\"color\":\"#E5ECF6\",\"width\":0.5},\"pattern\":{\"fillmode\":\"overlay\",\"size\":10,\"solidity\":0.2}},\"type\":\"bar\"}],\"barpolar\":[{\"marker\":{\"line\":{\"color\":\"#E5ECF6\",\"width\":0.5},\"pattern\":{\"fillmode\":\"overlay\",\"size\":10,\"solidity\":0.2}},\"type\":\"barpolar\"}],\"carpet\":[{\"aaxis\":{\"endlinecolor\":\"#2a3f5f\",\"gridcolor\":\"white\",\"linecolor\":\"white\",\"minorgridcolor\":\"white\",\"startlinecolor\":\"#2a3f5f\"},\"baxis\":{\"endlinecolor\":\"#2a3f5f\",\"gridcolor\":\"white\",\"linecolor\":\"white\",\"minorgridcolor\":\"white\",\"startlinecolor\":\"#2a3f5f\"},\"type\":\"carpet\"}],\"choropleth\":[{\"colorbar\":{\"outlinewidth\":0,\"ticks\":\"\"},\"type\":\"choropleth\"}],\"contour\":[{\"colorbar\":{\"outlinewidth\":0,\"ticks\":\"\"},\"colorscale\":[[0.0,\"#0d0887\"],[0.1111111111111111,\"#46039f\"],[0.2222222222222222,\"#7201a8\"],[0.3333333333333333,\"#9c179e\"],[0.4444444444444444,\"#bd3786\"],[0.5555555555555556,\"#d8576b\"],[0.6666666666666666,\"#ed7953\"],[0.7777777777777778,\"#fb9f3a\"],[0.8888888888888888,\"#fdca26\"],[1.0,\"#f0f921\"]],\"type\":\"contour\"}],\"contourcarpet\":[{\"colorbar\":{\"outlinewidth\":0,\"ticks\":\"\"},\"type\":\"contourcarpet\"}],\"heatmap\":[{\"colorbar\":{\"outlinewidth\":0,\"ticks\":\"\"},\"colorscale\":[[0.0,\"#0d0887\"],[0.1111111111111111,\"#46039f\"],[0.2222222222222222,\"#7201a8\"],[0.3333333333333333,\"#9c179e\"],[0.4444444444444444,\"#bd3786\"],[0.5555555555555556,\"#d8576b\"],[0.6666666666666666,\"#ed7953\"],[0.7777777777777778,\"#fb9f3a\"],[0.8888888888888888,\"#fdca26\"],[1.0,\"#f0f921\"]],\"type\":\"heatmap\"}],\"heatmapgl\":[{\"colorbar\":{\"outlinewidth\":0,\"ticks\":\"\"},\"colorscale\":[[0.0,\"#0d0887\"],[0.1111111111111111,\"#46039f\"],[0.2222222222222222,\"#7201a8\"],[0.3333333333333333,\"#9c179e\"],[0.4444444444444444,\"#bd3786\"],[0.5555555555555556,\"#d8576b\"],[0.6666666666666666,\"#ed7953\"],[0.7777777777777778,\"#fb9f3a\"],[0.8888888888888888,\"#fdca26\"],[1.0,\"#f0f921\"]],\"type\":\"heatmapgl\"}],\"histogram\":[{\"marker\":{\"pattern\":{\"fillmode\":\"overlay\",\"size\":10,\"solidity\":0.2}},\"type\":\"histogram\"}],\"histogram2d\":[{\"colorbar\":{\"outlinewidth\":0,\"ticks\":\"\"},\"colorscale\":[[0.0,\"#0d0887\"],[0.1111111111111111,\"#46039f\"],[0.2222222222222222,\"#7201a8\"],[0.3333333333333333,\"#9c179e\"],[0.4444444444444444,\"#bd3786\"],[0.5555555555555556,\"#d8576b\"],[0.6666666666666666,\"#ed7953\"],[0.7777777777777778,\"#fb9f3a\"],[0.8888888888888888,\"#fdca26\"],[1.0,\"#f0f921\"]],\"type\":\"histogram2d\"}],\"histogram2dcontour\":[{\"colorbar\":{\"outlinewidth\":0,\"ticks\":\"\"},\"colorscale\":[[0.0,\"#0d0887\"],[0.1111111111111111,\"#46039f\"],[0.2222222222222222,\"#7201a8\"],[0.3333333333333333,\"#9c179e\"],[0.4444444444444444,\"#bd3786\"],[0.5555555555555556,\"#d8576b\"],[0.6666666666666666,\"#ed7953\"],[0.7777777777777778,\"#fb9f3a\"],[0.8888888888888888,\"#fdca26\"],[1.0,\"#f0f921\"]],\"type\":\"histogram2dcontour\"}],\"mesh3d\":[{\"colorbar\":{\"outlinewidth\":0,\"ticks\":\"\"},\"type\":\"mesh3d\"}],\"parcoords\":[{\"line\":{\"colorbar\":{\"outlinewidth\":0,\"ticks\":\"\"}},\"type\":\"parcoords\"}],\"pie\":[{\"automargin\":true,\"type\":\"pie\"}],\"scatter\":[{\"marker\":{\"colorbar\":{\"outlinewidth\":0,\"ticks\":\"\"}},\"type\":\"scatter\"}],\"scatter3d\":[{\"line\":{\"colorbar\":{\"outlinewidth\":0,\"ticks\":\"\"}},\"marker\":{\"colorbar\":{\"outlinewidth\":0,\"ticks\":\"\"}},\"type\":\"scatter3d\"}],\"scattercarpet\":[{\"marker\":{\"colorbar\":{\"outlinewidth\":0,\"ticks\":\"\"}},\"type\":\"scattercarpet\"}],\"scattergeo\":[{\"marker\":{\"colorbar\":{\"outlinewidth\":0,\"ticks\":\"\"}},\"type\":\"scattergeo\"}],\"scattergl\":[{\"marker\":{\"colorbar\":{\"outlinewidth\":0,\"ticks\":\"\"}},\"type\":\"scattergl\"}],\"scattermapbox\":[{\"marker\":{\"colorbar\":{\"outlinewidth\":0,\"ticks\":\"\"}},\"type\":\"scattermapbox\"}],\"scatterpolar\":[{\"marker\":{\"colorbar\":{\"outlinewidth\":0,\"ticks\":\"\"}},\"type\":\"scatterpolar\"}],\"scatterpolargl\":[{\"marker\":{\"colorbar\":{\"outlinewidth\":0,\"ticks\":\"\"}},\"type\":\"scatterpolargl\"}],\"scatterternary\":[{\"marker\":{\"colorbar\":{\"outlinewidth\":0,\"ticks\":\"\"}},\"type\":\"scatterternary\"}],\"surface\":[{\"colorbar\":{\"outlinewidth\":0,\"ticks\":\"\"},\"colorscale\":[[0.0,\"#0d0887\"],[0.1111111111111111,\"#46039f\"],[0.2222222222222222,\"#7201a8\"],[0.3333333333333333,\"#9c179e\"],[0.4444444444444444,\"#bd3786\"],[0.5555555555555556,\"#d8576b\"],[0.6666666666666666,\"#ed7953\"],[0.7777777777777778,\"#fb9f3a\"],[0.8888888888888888,\"#fdca26\"],[1.0,\"#f0f921\"]],\"type\":\"surface\"}],\"table\":[{\"cells\":{\"fill\":{\"color\":\"#EBF0F8\"},\"line\":{\"color\":\"white\"}},\"header\":{\"fill\":{\"color\":\"#C8D4E3\"},\"line\":{\"color\":\"white\"}},\"type\":\"table\"}]},\"layout\":{\"annotationdefaults\":{\"arrowcolor\":\"#2a3f5f\",\"arrowhead\":0,\"arrowwidth\":1},\"autotypenumbers\":\"strict\",\"coloraxis\":{\"colorbar\":{\"outlinewidth\":0,\"ticks\":\"\"}},\"colorscale\":{\"diverging\":[[0,\"#8e0152\"],[0.1,\"#c51b7d\"],[0.2,\"#de77ae\"],[0.3,\"#f1b6da\"],[0.4,\"#fde0ef\"],[0.5,\"#f7f7f7\"],[0.6,\"#e6f5d0\"],[0.7,\"#b8e186\"],[0.8,\"#7fbc41\"],[0.9,\"#4d9221\"],[1,\"#276419\"]],\"sequential\":[[0.0,\"#0d0887\"],[0.1111111111111111,\"#46039f\"],[0.2222222222222222,\"#7201a8\"],[0.3333333333333333,\"#9c179e\"],[0.4444444444444444,\"#bd3786\"],[0.5555555555555556,\"#d8576b\"],[0.6666666666666666,\"#ed7953\"],[0.7777777777777778,\"#fb9f3a\"],[0.8888888888888888,\"#fdca26\"],[1.0,\"#f0f921\"]],\"sequentialminus\":[[0.0,\"#0d0887\"],[0.1111111111111111,\"#46039f\"],[0.2222222222222222,\"#7201a8\"],[0.3333333333333333,\"#9c179e\"],[0.4444444444444444,\"#bd3786\"],[0.5555555555555556,\"#d8576b\"],[0.6666666666666666,\"#ed7953\"],[0.7777777777777778,\"#fb9f3a\"],[0.8888888888888888,\"#fdca26\"],[1.0,\"#f0f921\"]]},\"colorway\":[\"#636efa\",\"#EF553B\",\"#00cc96\",\"#ab63fa\",\"#FFA15A\",\"#19d3f3\",\"#FF6692\",\"#B6E880\",\"#FF97FF\",\"#FECB52\"],\"font\":{\"color\":\"#2a3f5f\"},\"geo\":{\"bgcolor\":\"white\",\"lakecolor\":\"white\",\"landcolor\":\"#E5ECF6\",\"showlakes\":true,\"showland\":true,\"subunitcolor\":\"white\"},\"hoverlabel\":{\"align\":\"left\"},\"hovermode\":\"closest\",\"mapbox\":{\"style\":\"light\"},\"paper_bgcolor\":\"white\",\"plot_bgcolor\":\"#E5ECF6\",\"polar\":{\"angularaxis\":{\"gridcolor\":\"white\",\"linecolor\":\"white\",\"ticks\":\"\"},\"bgcolor\":\"#E5ECF6\",\"radialaxis\":{\"gridcolor\":\"white\",\"linecolor\":\"white\",\"ticks\":\"\"}},\"scene\":{\"xaxis\":{\"backgroundcolor\":\"#E5ECF6\",\"gridcolor\":\"white\",\"gridwidth\":2,\"linecolor\":\"white\",\"showbackground\":true,\"ticks\":\"\",\"zerolinecolor\":\"white\"},\"yaxis\":{\"backgroundcolor\":\"#E5ECF6\",\"gridcolor\":\"white\",\"gridwidth\":2,\"linecolor\":\"white\",\"showbackground\":true,\"ticks\":\"\",\"zerolinecolor\":\"white\"},\"zaxis\":{\"backgroundcolor\":\"#E5ECF6\",\"gridcolor\":\"white\",\"gridwidth\":2,\"linecolor\":\"white\",\"showbackground\":true,\"ticks\":\"\",\"zerolinecolor\":\"white\"}},\"shapedefaults\":{\"line\":{\"color\":\"#2a3f5f\"}},\"ternary\":{\"aaxis\":{\"gridcolor\":\"white\",\"linecolor\":\"white\",\"ticks\":\"\"},\"baxis\":{\"gridcolor\":\"white\",\"linecolor\":\"white\",\"ticks\":\"\"},\"bgcolor\":\"#E5ECF6\",\"caxis\":{\"gridcolor\":\"white\",\"linecolor\":\"white\",\"ticks\":\"\"}},\"title\":{\"x\":0.05},\"xaxis\":{\"automargin\":true,\"gridcolor\":\"white\",\"linecolor\":\"white\",\"ticks\":\"\",\"title\":{\"standoff\":15},\"zerolinecolor\":\"white\",\"zerolinewidth\":2},\"yaxis\":{\"automargin\":true,\"gridcolor\":\"white\",\"linecolor\":\"white\",\"ticks\":\"\",\"title\":{\"standoff\":15},\"zerolinecolor\":\"white\",\"zerolinewidth\":2}}}},                        {\"responsive\": true}                    ).then(function(){\n",
       "                            \n",
       "var gd = document.getElementById('991d11ec-4f5e-4328-aab7-46361e6ec0fc');\n",
       "var x = new MutationObserver(function (mutations, observer) {{\n",
       "        var display = window.getComputedStyle(gd).display;\n",
       "        if (!display || display === 'none') {{\n",
       "            console.log([gd, 'removed!']);\n",
       "            Plotly.purge(gd);\n",
       "            observer.disconnect();\n",
       "        }}\n",
       "}});\n",
       "\n",
       "// Listen for the removal of the full notebook cells\n",
       "var notebookContainer = gd.closest('#notebook-container');\n",
       "if (notebookContainer) {{\n",
       "    x.observe(notebookContainer, {childList: true});\n",
       "}}\n",
       "\n",
       "// Listen for the clearing of the current output cell\n",
       "var outputEl = gd.closest('.output');\n",
       "if (outputEl) {{\n",
       "    x.observe(outputEl, {childList: true});\n",
       "}}\n",
       "\n",
       "                        })                };                });            </script>        </div>"
      ]
     },
     "metadata": {},
     "output_type": "display_data"
    }
   ],
   "source": [
    "fig = go.Figure(data=data, layout=layout)\n",
    "fig.show()"
   ]
  },
  {
   "cell_type": "markdown",
   "metadata": {},
   "source": [
    "## lets try to visualise temperature on a Map"
   ]
  },
  {
   "cell_type": "code",
   "execution_count": 71,
   "metadata": {},
   "outputs": [
    {
     "data": {
      "text/html": [
       "<div>\n",
       "<style scoped>\n",
       "    .dataframe tbody tr th:only-of-type {\n",
       "        vertical-align: middle;\n",
       "    }\n",
       "\n",
       "    .dataframe tbody tr th {\n",
       "        vertical-align: top;\n",
       "    }\n",
       "\n",
       "    .dataframe thead th {\n",
       "        text-align: right;\n",
       "    }\n",
       "</style>\n",
       "<table border=\"1\" class=\"dataframe\">\n",
       "  <thead>\n",
       "    <tr style=\"text-align: right;\">\n",
       "      <th></th>\n",
       "      <th>month</th>\n",
       "      <th>City</th>\n",
       "      <th>Mean_temp</th>\n",
       "      <th>Country</th>\n",
       "      <th>Latitude</th>\n",
       "      <th>Longitude</th>\n",
       "    </tr>\n",
       "  </thead>\n",
       "  <tbody>\n",
       "    <tr>\n",
       "      <th>0</th>\n",
       "      <td>1</td>\n",
       "      <td>Bulawayo</td>\n",
       "      <td>22.383918</td>\n",
       "      <td>Zimbabwe</td>\n",
       "      <td>20.09</td>\n",
       "      <td>29.00</td>\n",
       "    </tr>\n",
       "    <tr>\n",
       "      <th>1965</th>\n",
       "      <td>1</td>\n",
       "      <td>Chitungwiza</td>\n",
       "      <td>22.050872</td>\n",
       "      <td>Zimbabwe</td>\n",
       "      <td>18.48</td>\n",
       "      <td>30.42</td>\n",
       "    </tr>\n",
       "    <tr>\n",
       "      <th>3930</th>\n",
       "      <td>1</td>\n",
       "      <td>Gweru</td>\n",
       "      <td>22.383918</td>\n",
       "      <td>Zimbabwe</td>\n",
       "      <td>20.09</td>\n",
       "      <td>29.00</td>\n",
       "    </tr>\n",
       "    <tr>\n",
       "      <th>5895</th>\n",
       "      <td>1</td>\n",
       "      <td>Harare</td>\n",
       "      <td>22.050872</td>\n",
       "      <td>Zimbabwe</td>\n",
       "      <td>18.48</td>\n",
       "      <td>30.42</td>\n",
       "    </tr>\n",
       "    <tr>\n",
       "      <th>7860</th>\n",
       "      <td>1</td>\n",
       "      <td>Kadoma</td>\n",
       "      <td>22.050872</td>\n",
       "      <td>Zimbabwe</td>\n",
       "      <td>18.48</td>\n",
       "      <td>30.42</td>\n",
       "    </tr>\n",
       "  </tbody>\n",
       "</table>\n",
       "</div>"
      ],
      "text/plain": [
       "      month         City  Mean_temp   Country Latitude Longitude\n",
       "0         1     Bulawayo  22.383918  Zimbabwe    20.09     29.00\n",
       "1965      1  Chitungwiza  22.050872  Zimbabwe    18.48     30.42\n",
       "3930      1        Gweru  22.383918  Zimbabwe    20.09     29.00\n",
       "5895      1       Harare  22.050872  Zimbabwe    18.48     30.42\n",
       "7860      1       Kadoma  22.050872  Zimbabwe    18.48     30.42"
      ]
     },
     "execution_count": 71,
     "metadata": {},
     "output_type": "execute_result"
    }
   ],
   "source": [
    "data2.head()"
   ]
  },
  {
   "cell_type": "code",
   "execution_count": 72,
   "metadata": {},
   "outputs": [
    {
     "data": {
      "text/plain": [
       "(84, 6)"
      ]
     },
     "execution_count": 72,
     "metadata": {},
     "output_type": "execute_result"
    }
   ],
   "source": [
    "data2.shape"
   ]
  },
  {
   "cell_type": "code",
   "execution_count": 73,
   "metadata": {},
   "outputs": [],
   "source": [
    "import folium\n",
    "# Create a map\n",
    "m = folium.Map(tiles='openstreetmap', zoom_start=2)"
   ]
  },
  {
   "cell_type": "code",
   "execution_count": 74,
   "metadata": {},
   "outputs": [
    {
     "data": {
      "text/html": [
       "<div style=\"width:100%;\"><div style=\"position:relative;width:100%;height:0;padding-bottom:60%;\"><span style=\"color:#565656\">Make this Notebook Trusted to load map: File -> Trust Notebook</span><iframe src=\"about:blank\" style=\"position:absolute;width:100%;height:100%;left:0;top:0;border:none !important;\" data-html=%3C%21DOCTYPE%20html%3E%0A%3Chead%3E%20%20%20%20%0A%20%20%20%20%3Cmeta%20http-equiv%3D%22content-type%22%20content%3D%22text/html%3B%20charset%3DUTF-8%22%20/%3E%0A%20%20%20%20%0A%20%20%20%20%20%20%20%20%3Cscript%3E%0A%20%20%20%20%20%20%20%20%20%20%20%20L_NO_TOUCH%20%3D%20false%3B%0A%20%20%20%20%20%20%20%20%20%20%20%20L_DISABLE_3D%20%3D%20false%3B%0A%20%20%20%20%20%20%20%20%3C/script%3E%0A%20%20%20%20%0A%20%20%20%20%3Cstyle%3Ehtml%2C%20body%20%7Bwidth%3A%20100%25%3Bheight%3A%20100%25%3Bmargin%3A%200%3Bpadding%3A%200%3B%7D%3C/style%3E%0A%20%20%20%20%3Cstyle%3E%23map%20%7Bposition%3Aabsolute%3Btop%3A0%3Bbottom%3A0%3Bright%3A0%3Bleft%3A0%3B%7D%3C/style%3E%0A%20%20%20%20%3Cscript%20src%3D%22https%3A//cdn.jsdelivr.net/npm/leaflet%401.6.0/dist/leaflet.js%22%3E%3C/script%3E%0A%20%20%20%20%3Cscript%20src%3D%22https%3A//code.jquery.com/jquery-1.12.4.min.js%22%3E%3C/script%3E%0A%20%20%20%20%3Cscript%20src%3D%22https%3A//maxcdn.bootstrapcdn.com/bootstrap/3.2.0/js/bootstrap.min.js%22%3E%3C/script%3E%0A%20%20%20%20%3Cscript%20src%3D%22https%3A//cdnjs.cloudflare.com/ajax/libs/Leaflet.awesome-markers/2.0.2/leaflet.awesome-markers.js%22%3E%3C/script%3E%0A%20%20%20%20%3Clink%20rel%3D%22stylesheet%22%20href%3D%22https%3A//cdn.jsdelivr.net/npm/leaflet%401.6.0/dist/leaflet.css%22/%3E%0A%20%20%20%20%3Clink%20rel%3D%22stylesheet%22%20href%3D%22https%3A//maxcdn.bootstrapcdn.com/bootstrap/3.2.0/css/bootstrap.min.css%22/%3E%0A%20%20%20%20%3Clink%20rel%3D%22stylesheet%22%20href%3D%22https%3A//maxcdn.bootstrapcdn.com/bootstrap/3.2.0/css/bootstrap-theme.min.css%22/%3E%0A%20%20%20%20%3Clink%20rel%3D%22stylesheet%22%20href%3D%22https%3A//maxcdn.bootstrapcdn.com/font-awesome/4.6.3/css/font-awesome.min.css%22/%3E%0A%20%20%20%20%3Clink%20rel%3D%22stylesheet%22%20href%3D%22https%3A//cdnjs.cloudflare.com/ajax/libs/Leaflet.awesome-markers/2.0.2/leaflet.awesome-markers.css%22/%3E%0A%20%20%20%20%3Clink%20rel%3D%22stylesheet%22%20href%3D%22https%3A//cdn.jsdelivr.net/gh/python-visualization/folium/folium/templates/leaflet.awesome.rotate.min.css%22/%3E%0A%20%20%20%20%0A%20%20%20%20%20%20%20%20%20%20%20%20%3Cmeta%20name%3D%22viewport%22%20content%3D%22width%3Ddevice-width%2C%0A%20%20%20%20%20%20%20%20%20%20%20%20%20%20%20%20initial-scale%3D1.0%2C%20maximum-scale%3D1.0%2C%20user-scalable%3Dno%22%20/%3E%0A%20%20%20%20%20%20%20%20%20%20%20%20%3Cstyle%3E%0A%20%20%20%20%20%20%20%20%20%20%20%20%20%20%20%20%23map_834c4b1b29614a89a1af5adaf340706e%20%7B%0A%20%20%20%20%20%20%20%20%20%20%20%20%20%20%20%20%20%20%20%20position%3A%20relative%3B%0A%20%20%20%20%20%20%20%20%20%20%20%20%20%20%20%20%20%20%20%20width%3A%20100.0%25%3B%0A%20%20%20%20%20%20%20%20%20%20%20%20%20%20%20%20%20%20%20%20height%3A%20100.0%25%3B%0A%20%20%20%20%20%20%20%20%20%20%20%20%20%20%20%20%20%20%20%20left%3A%200.0%25%3B%0A%20%20%20%20%20%20%20%20%20%20%20%20%20%20%20%20%20%20%20%20top%3A%200.0%25%3B%0A%20%20%20%20%20%20%20%20%20%20%20%20%20%20%20%20%7D%0A%20%20%20%20%20%20%20%20%20%20%20%20%3C/style%3E%0A%20%20%20%20%20%20%20%20%0A%3C/head%3E%0A%3Cbody%3E%20%20%20%20%0A%20%20%20%20%0A%20%20%20%20%20%20%20%20%20%20%20%20%3Cdiv%20class%3D%22folium-map%22%20id%3D%22map_834c4b1b29614a89a1af5adaf340706e%22%20%3E%3C/div%3E%0A%20%20%20%20%20%20%20%20%0A%3C/body%3E%0A%3Cscript%3E%20%20%20%20%0A%20%20%20%20%0A%20%20%20%20%20%20%20%20%20%20%20%20var%20map_834c4b1b29614a89a1af5adaf340706e%20%3D%20L.map%28%0A%20%20%20%20%20%20%20%20%20%20%20%20%20%20%20%20%22map_834c4b1b29614a89a1af5adaf340706e%22%2C%0A%20%20%20%20%20%20%20%20%20%20%20%20%20%20%20%20%7B%0A%20%20%20%20%20%20%20%20%20%20%20%20%20%20%20%20%20%20%20%20center%3A%20%5B0%2C%200%5D%2C%0A%20%20%20%20%20%20%20%20%20%20%20%20%20%20%20%20%20%20%20%20crs%3A%20L.CRS.EPSG3857%2C%0A%20%20%20%20%20%20%20%20%20%20%20%20%20%20%20%20%20%20%20%20zoom%3A%201%2C%0A%20%20%20%20%20%20%20%20%20%20%20%20%20%20%20%20%20%20%20%20zoomControl%3A%20true%2C%0A%20%20%20%20%20%20%20%20%20%20%20%20%20%20%20%20%20%20%20%20preferCanvas%3A%20false%2C%0A%20%20%20%20%20%20%20%20%20%20%20%20%20%20%20%20%7D%0A%20%20%20%20%20%20%20%20%20%20%20%20%29%3B%0A%0A%20%20%20%20%20%20%20%20%20%20%20%20%0A%0A%20%20%20%20%20%20%20%20%0A%20%20%20%20%0A%20%20%20%20%20%20%20%20%20%20%20%20var%20tile_layer_b11b10a761c34fdda21bc9f5134cdba6%20%3D%20L.tileLayer%28%0A%20%20%20%20%20%20%20%20%20%20%20%20%20%20%20%20%22https%3A//%7Bs%7D.tile.openstreetmap.org/%7Bz%7D/%7Bx%7D/%7By%7D.png%22%2C%0A%20%20%20%20%20%20%20%20%20%20%20%20%20%20%20%20%7B%22attribution%22%3A%20%22Data%20by%20%5Cu0026copy%3B%20%5Cu003ca%20href%3D%5C%22http%3A//openstreetmap.org%5C%22%5Cu003eOpenStreetMap%5Cu003c/a%5Cu003e%2C%20under%20%5Cu003ca%20href%3D%5C%22http%3A//www.openstreetmap.org/copyright%5C%22%5Cu003eODbL%5Cu003c/a%5Cu003e.%22%2C%20%22detectRetina%22%3A%20false%2C%20%22maxNativeZoom%22%3A%2018%2C%20%22maxZoom%22%3A%2018%2C%20%22minZoom%22%3A%200%2C%20%22noWrap%22%3A%20false%2C%20%22opacity%22%3A%201%2C%20%22subdomains%22%3A%20%22abc%22%2C%20%22tms%22%3A%20false%7D%0A%20%20%20%20%20%20%20%20%20%20%20%20%29.addTo%28map_834c4b1b29614a89a1af5adaf340706e%29%3B%0A%20%20%20%20%20%20%20%20%0A%20%20%20%20%0A%20%20%20%20%20%20%20%20%20%20%20%20var%20marker_7838e9c32a734bc29dd49cf345564017%20%3D%20L.marker%28%0A%20%20%20%20%20%20%20%20%20%20%20%20%20%20%20%20%5B20.09%2C%2029.0%5D%2C%0A%20%20%20%20%20%20%20%20%20%20%20%20%20%20%20%20%7B%7D%0A%20%20%20%20%20%20%20%20%20%20%20%20%29.addTo%28map_834c4b1b29614a89a1af5adaf340706e%29%3B%0A%20%20%20%20%20%20%20%20%0A%20%20%20%20%0A%20%20%20%20%20%20%20%20var%20popup_7cf1bcd80a49423da62340e2c7ad0b4e%20%3D%20L.popup%28%7B%22maxWidth%22%3A%20%22100%25%22%7D%29%3B%0A%0A%20%20%20%20%20%20%20%20%0A%20%20%20%20%20%20%20%20%20%20%20%20var%20html_2b6586f8cba44e46982adaf5162062dd%20%3D%20%24%28%60%3Cdiv%20id%3D%22html_2b6586f8cba44e46982adaf5162062dd%22%20style%3D%22width%3A%20100.0%25%3B%20height%3A%20100.0%25%3B%22%3E22.383917721518987%3C/div%3E%60%29%5B0%5D%3B%0A%20%20%20%20%20%20%20%20%20%20%20%20popup_7cf1bcd80a49423da62340e2c7ad0b4e.setContent%28html_2b6586f8cba44e46982adaf5162062dd%29%3B%0A%20%20%20%20%20%20%20%20%0A%0A%20%20%20%20%20%20%20%20marker_7838e9c32a734bc29dd49cf345564017.bindPopup%28popup_7cf1bcd80a49423da62340e2c7ad0b4e%29%0A%20%20%20%20%20%20%20%20%3B%0A%0A%20%20%20%20%20%20%20%20%0A%20%20%20%20%0A%20%20%20%20%0A%20%20%20%20%20%20%20%20%20%20%20%20var%20marker_0346e683d7b5411896fddfc27bf05e73%20%3D%20L.marker%28%0A%20%20%20%20%20%20%20%20%20%20%20%20%20%20%20%20%5B18.48%2C%2030.42%5D%2C%0A%20%20%20%20%20%20%20%20%20%20%20%20%20%20%20%20%7B%7D%0A%20%20%20%20%20%20%20%20%20%20%20%20%29.addTo%28map_834c4b1b29614a89a1af5adaf340706e%29%3B%0A%20%20%20%20%20%20%20%20%0A%20%20%20%20%0A%20%20%20%20%20%20%20%20var%20popup_41f5a12c09e34bf58d1738aa8c0984e2%20%3D%20L.popup%28%7B%22maxWidth%22%3A%20%22100%25%22%7D%29%3B%0A%0A%20%20%20%20%20%20%20%20%0A%20%20%20%20%20%20%20%20%20%20%20%20var%20html_ec6bd382d67d45f8bab6c63082b84267%20%3D%20%24%28%60%3Cdiv%20id%3D%22html_ec6bd382d67d45f8bab6c63082b84267%22%20style%3D%22width%3A%20100.0%25%3B%20height%3A%20100.0%25%3B%22%3E22.050872340425535%3C/div%3E%60%29%5B0%5D%3B%0A%20%20%20%20%20%20%20%20%20%20%20%20popup_41f5a12c09e34bf58d1738aa8c0984e2.setContent%28html_ec6bd382d67d45f8bab6c63082b84267%29%3B%0A%20%20%20%20%20%20%20%20%0A%0A%20%20%20%20%20%20%20%20marker_0346e683d7b5411896fddfc27bf05e73.bindPopup%28popup_41f5a12c09e34bf58d1738aa8c0984e2%29%0A%20%20%20%20%20%20%20%20%3B%0A%0A%20%20%20%20%20%20%20%20%0A%20%20%20%20%0A%20%20%20%20%0A%20%20%20%20%20%20%20%20%20%20%20%20var%20marker_6a31e34ba8604306b74d2c1bb4e8bbfe%20%3D%20L.marker%28%0A%20%20%20%20%20%20%20%20%20%20%20%20%20%20%20%20%5B20.09%2C%2029.0%5D%2C%0A%20%20%20%20%20%20%20%20%20%20%20%20%20%20%20%20%7B%7D%0A%20%20%20%20%20%20%20%20%20%20%20%20%29.addTo%28map_834c4b1b29614a89a1af5adaf340706e%29%3B%0A%20%20%20%20%20%20%20%20%0A%20%20%20%20%0A%20%20%20%20%20%20%20%20var%20popup_b0b94be43de4459c8ac7053e485d41f8%20%3D%20L.popup%28%7B%22maxWidth%22%3A%20%22100%25%22%7D%29%3B%0A%0A%20%20%20%20%20%20%20%20%0A%20%20%20%20%20%20%20%20%20%20%20%20var%20html_337c5970a0484113a94c1f2af6fefa6e%20%3D%20%24%28%60%3Cdiv%20id%3D%22html_337c5970a0484113a94c1f2af6fefa6e%22%20style%3D%22width%3A%20100.0%25%3B%20height%3A%20100.0%25%3B%22%3E22.383917721518987%3C/div%3E%60%29%5B0%5D%3B%0A%20%20%20%20%20%20%20%20%20%20%20%20popup_b0b94be43de4459c8ac7053e485d41f8.setContent%28html_337c5970a0484113a94c1f2af6fefa6e%29%3B%0A%20%20%20%20%20%20%20%20%0A%0A%20%20%20%20%20%20%20%20marker_6a31e34ba8604306b74d2c1bb4e8bbfe.bindPopup%28popup_b0b94be43de4459c8ac7053e485d41f8%29%0A%20%20%20%20%20%20%20%20%3B%0A%0A%20%20%20%20%20%20%20%20%0A%20%20%20%20%0A%20%20%20%20%0A%20%20%20%20%20%20%20%20%20%20%20%20var%20marker_3c86f8fb309846b9ae1e87e17f2e9ba8%20%3D%20L.marker%28%0A%20%20%20%20%20%20%20%20%20%20%20%20%20%20%20%20%5B18.48%2C%2030.42%5D%2C%0A%20%20%20%20%20%20%20%20%20%20%20%20%20%20%20%20%7B%7D%0A%20%20%20%20%20%20%20%20%20%20%20%20%29.addTo%28map_834c4b1b29614a89a1af5adaf340706e%29%3B%0A%20%20%20%20%20%20%20%20%0A%20%20%20%20%0A%20%20%20%20%20%20%20%20var%20popup_57cffddfb0c04d068049fe42be247e6b%20%3D%20L.popup%28%7B%22maxWidth%22%3A%20%22100%25%22%7D%29%3B%0A%0A%20%20%20%20%20%20%20%20%0A%20%20%20%20%20%20%20%20%20%20%20%20var%20html_bd4c86a4ce1c4807821b35f5fa3de102%20%3D%20%24%28%60%3Cdiv%20id%3D%22html_bd4c86a4ce1c4807821b35f5fa3de102%22%20style%3D%22width%3A%20100.0%25%3B%20height%3A%20100.0%25%3B%22%3E22.050872340425535%3C/div%3E%60%29%5B0%5D%3B%0A%20%20%20%20%20%20%20%20%20%20%20%20popup_57cffddfb0c04d068049fe42be247e6b.setContent%28html_bd4c86a4ce1c4807821b35f5fa3de102%29%3B%0A%20%20%20%20%20%20%20%20%0A%0A%20%20%20%20%20%20%20%20marker_3c86f8fb309846b9ae1e87e17f2e9ba8.bindPopup%28popup_57cffddfb0c04d068049fe42be247e6b%29%0A%20%20%20%20%20%20%20%20%3B%0A%0A%20%20%20%20%20%20%20%20%0A%20%20%20%20%0A%20%20%20%20%0A%20%20%20%20%20%20%20%20%20%20%20%20var%20marker_590ee5bfab68440f84f5976d57185f4b%20%3D%20L.marker%28%0A%20%20%20%20%20%20%20%20%20%20%20%20%20%20%20%20%5B18.48%2C%2030.42%5D%2C%0A%20%20%20%20%20%20%20%20%20%20%20%20%20%20%20%20%7B%7D%0A%20%20%20%20%20%20%20%20%20%20%20%20%29.addTo%28map_834c4b1b29614a89a1af5adaf340706e%29%3B%0A%20%20%20%20%20%20%20%20%0A%20%20%20%20%0A%20%20%20%20%20%20%20%20var%20popup_2a9e4627734149c2a36225ac6362fd3f%20%3D%20L.popup%28%7B%22maxWidth%22%3A%20%22100%25%22%7D%29%3B%0A%0A%20%20%20%20%20%20%20%20%0A%20%20%20%20%20%20%20%20%20%20%20%20var%20html_9a91dc81ece84fd5b4ba81df011bfcc9%20%3D%20%24%28%60%3Cdiv%20id%3D%22html_9a91dc81ece84fd5b4ba81df011bfcc9%22%20style%3D%22width%3A%20100.0%25%3B%20height%3A%20100.0%25%3B%22%3E22.050872340425535%3C/div%3E%60%29%5B0%5D%3B%0A%20%20%20%20%20%20%20%20%20%20%20%20popup_2a9e4627734149c2a36225ac6362fd3f.setContent%28html_9a91dc81ece84fd5b4ba81df011bfcc9%29%3B%0A%20%20%20%20%20%20%20%20%0A%0A%20%20%20%20%20%20%20%20marker_590ee5bfab68440f84f5976d57185f4b.bindPopup%28popup_2a9e4627734149c2a36225ac6362fd3f%29%0A%20%20%20%20%20%20%20%20%3B%0A%0A%20%20%20%20%20%20%20%20%0A%20%20%20%20%0A%20%20%20%20%0A%20%20%20%20%20%20%20%20%20%20%20%20var%20marker_5bc8c1116732403e82fce3df0a597dc7%20%3D%20L.marker%28%0A%20%20%20%20%20%20%20%20%20%20%20%20%20%20%20%20%5B18.48%2C%2030.42%5D%2C%0A%20%20%20%20%20%20%20%20%20%20%20%20%20%20%20%20%7B%7D%0A%20%20%20%20%20%20%20%20%20%20%20%20%29.addTo%28map_834c4b1b29614a89a1af5adaf340706e%29%3B%0A%20%20%20%20%20%20%20%20%0A%20%20%20%20%0A%20%20%20%20%20%20%20%20var%20popup_b187e55c5892440480b340fa9c535fd0%20%3D%20L.popup%28%7B%22maxWidth%22%3A%20%22100%25%22%7D%29%3B%0A%0A%20%20%20%20%20%20%20%20%0A%20%20%20%20%20%20%20%20%20%20%20%20var%20html_6539d066fc8b4797ae67d56af07a9748%20%3D%20%24%28%60%3Cdiv%20id%3D%22html_6539d066fc8b4797ae67d56af07a9748%22%20style%3D%22width%3A%20100.0%25%3B%20height%3A%20100.0%25%3B%22%3E22.050872340425535%3C/div%3E%60%29%5B0%5D%3B%0A%20%20%20%20%20%20%20%20%20%20%20%20popup_b187e55c5892440480b340fa9c535fd0.setContent%28html_6539d066fc8b4797ae67d56af07a9748%29%3B%0A%20%20%20%20%20%20%20%20%0A%0A%20%20%20%20%20%20%20%20marker_5bc8c1116732403e82fce3df0a597dc7.bindPopup%28popup_b187e55c5892440480b340fa9c535fd0%29%0A%20%20%20%20%20%20%20%20%3B%0A%0A%20%20%20%20%20%20%20%20%0A%20%20%20%20%0A%20%20%20%20%0A%20%20%20%20%20%20%20%20%20%20%20%20var%20marker_1972e5e698d34c1da788d2854cfffcc8%20%3D%20L.marker%28%0A%20%20%20%20%20%20%20%20%20%20%20%20%20%20%20%20%5B18.48%2C%2032.11%5D%2C%0A%20%20%20%20%20%20%20%20%20%20%20%20%20%20%20%20%7B%7D%0A%20%20%20%20%20%20%20%20%20%20%20%20%29.addTo%28map_834c4b1b29614a89a1af5adaf340706e%29%3B%0A%20%20%20%20%20%20%20%20%0A%20%20%20%20%0A%20%20%20%20%20%20%20%20var%20popup_c494949172b34eeb8e5ed98e974526e6%20%3D%20L.popup%28%7B%22maxWidth%22%3A%20%22100%25%22%7D%29%3B%0A%0A%20%20%20%20%20%20%20%20%0A%20%20%20%20%20%20%20%20%20%20%20%20var%20html_ca3d736a41e24ad9acc35fda15f04be7%20%3D%20%24%28%60%3Cdiv%20id%3D%22html_ca3d736a41e24ad9acc35fda15f04be7%22%20style%3D%22width%3A%20100.0%25%3B%20height%3A%20100.0%25%3B%22%3E21.001333333333335%3C/div%3E%60%29%5B0%5D%3B%0A%20%20%20%20%20%20%20%20%20%20%20%20popup_c494949172b34eeb8e5ed98e974526e6.setContent%28html_ca3d736a41e24ad9acc35fda15f04be7%29%3B%0A%20%20%20%20%20%20%20%20%0A%0A%20%20%20%20%20%20%20%20marker_1972e5e698d34c1da788d2854cfffcc8.bindPopup%28popup_c494949172b34eeb8e5ed98e974526e6%29%0A%20%20%20%20%20%20%20%20%3B%0A%0A%20%20%20%20%20%20%20%20%0A%20%20%20%20%0A%20%20%20%20%0A%20%20%20%20%20%20%20%20%20%20%20%20var%20marker_71fdfc8769a4416e8fbb47dc77f98666%20%3D%20L.marker%28%0A%20%20%20%20%20%20%20%20%20%20%20%20%20%20%20%20%5B20.09%2C%2029.0%5D%2C%0A%20%20%20%20%20%20%20%20%20%20%20%20%20%20%20%20%7B%7D%0A%20%20%20%20%20%20%20%20%20%20%20%20%29.addTo%28map_834c4b1b29614a89a1af5adaf340706e%29%3B%0A%20%20%20%20%20%20%20%20%0A%20%20%20%20%0A%20%20%20%20%20%20%20%20var%20popup_f855e112e6ba4f83b05da8ede6d7fda8%20%3D%20L.popup%28%7B%22maxWidth%22%3A%20%22100%25%22%7D%29%3B%0A%0A%20%20%20%20%20%20%20%20%0A%20%20%20%20%20%20%20%20%20%20%20%20var%20html_108691f3b7414a00be2ab56333e0a9fc%20%3D%20%24%28%60%3Cdiv%20id%3D%22html_108691f3b7414a00be2ab56333e0a9fc%22%20style%3D%22width%3A%20100.0%25%3B%20height%3A%20100.0%25%3B%22%3E22.07876582278481%3C/div%3E%60%29%5B0%5D%3B%0A%20%20%20%20%20%20%20%20%20%20%20%20popup_f855e112e6ba4f83b05da8ede6d7fda8.setContent%28html_108691f3b7414a00be2ab56333e0a9fc%29%3B%0A%20%20%20%20%20%20%20%20%0A%0A%20%20%20%20%20%20%20%20marker_71fdfc8769a4416e8fbb47dc77f98666.bindPopup%28popup_f855e112e6ba4f83b05da8ede6d7fda8%29%0A%20%20%20%20%20%20%20%20%3B%0A%0A%20%20%20%20%20%20%20%20%0A%20%20%20%20%0A%20%20%20%20%0A%20%20%20%20%20%20%20%20%20%20%20%20var%20marker_b7efc7da23e44bbc88fc0f169f4ee8ef%20%3D%20L.marker%28%0A%20%20%20%20%20%20%20%20%20%20%20%20%20%20%20%20%5B18.48%2C%2030.42%5D%2C%0A%20%20%20%20%20%20%20%20%20%20%20%20%20%20%20%20%7B%7D%0A%20%20%20%20%20%20%20%20%20%20%20%20%29.addTo%28map_834c4b1b29614a89a1af5adaf340706e%29%3B%0A%20%20%20%20%20%20%20%20%0A%20%20%20%20%0A%20%20%20%20%20%20%20%20var%20popup_4e8d305392d84104a83c3fd6e34148a2%20%3D%20L.popup%28%7B%22maxWidth%22%3A%20%22100%25%22%7D%29%3B%0A%0A%20%20%20%20%20%20%20%20%0A%20%20%20%20%20%20%20%20%20%20%20%20var%20html_f91d01b76bde4e6e9c9ccbfcfff5945f%20%3D%20%24%28%60%3Cdiv%20id%3D%22html_f91d01b76bde4e6e9c9ccbfcfff5945f%22%20style%3D%22width%3A%20100.0%25%3B%20height%3A%20100.0%25%3B%22%3E22.068695035460994%3C/div%3E%60%29%5B0%5D%3B%0A%20%20%20%20%20%20%20%20%20%20%20%20popup_4e8d305392d84104a83c3fd6e34148a2.setContent%28html_f91d01b76bde4e6e9c9ccbfcfff5945f%29%3B%0A%20%20%20%20%20%20%20%20%0A%0A%20%20%20%20%20%20%20%20marker_b7efc7da23e44bbc88fc0f169f4ee8ef.bindPopup%28popup_4e8d305392d84104a83c3fd6e34148a2%29%0A%20%20%20%20%20%20%20%20%3B%0A%0A%20%20%20%20%20%20%20%20%0A%20%20%20%20%0A%20%20%20%20%0A%20%20%20%20%20%20%20%20%20%20%20%20var%20marker_aaad70b7f0284b6ebd2d6144e0be711d%20%3D%20L.marker%28%0A%20%20%20%20%20%20%20%20%20%20%20%20%20%20%20%20%5B20.09%2C%2029.0%5D%2C%0A%20%20%20%20%20%20%20%20%20%20%20%20%20%20%20%20%7B%7D%0A%20%20%20%20%20%20%20%20%20%20%20%20%29.addTo%28map_834c4b1b29614a89a1af5adaf340706e%29%3B%0A%20%20%20%20%20%20%20%20%0A%20%20%20%20%0A%20%20%20%20%20%20%20%20var%20popup_3176f2607a4640f48accd3854bc3b8c9%20%3D%20L.popup%28%7B%22maxWidth%22%3A%20%22100%25%22%7D%29%3B%0A%0A%20%20%20%20%20%20%20%20%0A%20%20%20%20%20%20%20%20%20%20%20%20var%20html_13f3956da93d461a8ee24a7114b19f04%20%3D%20%24%28%60%3Cdiv%20id%3D%22html_13f3956da93d461a8ee24a7114b19f04%22%20style%3D%22width%3A%20100.0%25%3B%20height%3A%20100.0%25%3B%22%3E22.07876582278481%3C/div%3E%60%29%5B0%5D%3B%0A%20%20%20%20%20%20%20%20%20%20%20%20popup_3176f2607a4640f48accd3854bc3b8c9.setContent%28html_13f3956da93d461a8ee24a7114b19f04%29%3B%0A%20%20%20%20%20%20%20%20%0A%0A%20%20%20%20%20%20%20%20marker_aaad70b7f0284b6ebd2d6144e0be711d.bindPopup%28popup_3176f2607a4640f48accd3854bc3b8c9%29%0A%20%20%20%20%20%20%20%20%3B%0A%0A%20%20%20%20%20%20%20%20%0A%20%20%20%20%0A%20%20%20%20%0A%20%20%20%20%20%20%20%20%20%20%20%20var%20marker_7c7d56b45c1d456482262c7606430058%20%3D%20L.marker%28%0A%20%20%20%20%20%20%20%20%20%20%20%20%20%20%20%20%5B18.48%2C%2030.42%5D%2C%0A%20%20%20%20%20%20%20%20%20%20%20%20%20%20%20%20%7B%7D%0A%20%20%20%20%20%20%20%20%20%20%20%20%29.addTo%28map_834c4b1b29614a89a1af5adaf340706e%29%3B%0A%20%20%20%20%20%20%20%20%0A%20%20%20%20%0A%20%20%20%20%20%20%20%20var%20popup_ad62d94a5d284e9c99d66b426431c208%20%3D%20L.popup%28%7B%22maxWidth%22%3A%20%22100%25%22%7D%29%3B%0A%0A%20%20%20%20%20%20%20%20%0A%20%20%20%20%20%20%20%20%20%20%20%20var%20html_c965f7dd87ac4f71856b8ca77321c980%20%3D%20%24%28%60%3Cdiv%20id%3D%22html_c965f7dd87ac4f71856b8ca77321c980%22%20style%3D%22width%3A%20100.0%25%3B%20height%3A%20100.0%25%3B%22%3E22.068695035460994%3C/div%3E%60%29%5B0%5D%3B%0A%20%20%20%20%20%20%20%20%20%20%20%20popup_ad62d94a5d284e9c99d66b426431c208.setContent%28html_c965f7dd87ac4f71856b8ca77321c980%29%3B%0A%20%20%20%20%20%20%20%20%0A%0A%20%20%20%20%20%20%20%20marker_7c7d56b45c1d456482262c7606430058.bindPopup%28popup_ad62d94a5d284e9c99d66b426431c208%29%0A%20%20%20%20%20%20%20%20%3B%0A%0A%20%20%20%20%20%20%20%20%0A%20%20%20%20%0A%20%20%20%20%0A%20%20%20%20%20%20%20%20%20%20%20%20var%20marker_7fd3988490a0473194912229721fa8ad%20%3D%20L.marker%28%0A%20%20%20%20%20%20%20%20%20%20%20%20%20%20%20%20%5B18.48%2C%2030.42%5D%2C%0A%20%20%20%20%20%20%20%20%20%20%20%20%20%20%20%20%7B%7D%0A%20%20%20%20%20%20%20%20%20%20%20%20%29.addTo%28map_834c4b1b29614a89a1af5adaf340706e%29%3B%0A%20%20%20%20%20%20%20%20%0A%20%20%20%20%0A%20%20%20%20%20%20%20%20var%20popup_3a727440e0a84a1a8ef103f05337a22b%20%3D%20L.popup%28%7B%22maxWidth%22%3A%20%22100%25%22%7D%29%3B%0A%0A%20%20%20%20%20%20%20%20%0A%20%20%20%20%20%20%20%20%20%20%20%20var%20html_20ce8eaedd75400094a871ade6e543ec%20%3D%20%24%28%60%3Cdiv%20id%3D%22html_20ce8eaedd75400094a871ade6e543ec%22%20style%3D%22width%3A%20100.0%25%3B%20height%3A%20100.0%25%3B%22%3E22.068695035460994%3C/div%3E%60%29%5B0%5D%3B%0A%20%20%20%20%20%20%20%20%20%20%20%20popup_3a727440e0a84a1a8ef103f05337a22b.setContent%28html_20ce8eaedd75400094a871ade6e543ec%29%3B%0A%20%20%20%20%20%20%20%20%0A%0A%20%20%20%20%20%20%20%20marker_7fd3988490a0473194912229721fa8ad.bindPopup%28popup_3a727440e0a84a1a8ef103f05337a22b%29%0A%20%20%20%20%20%20%20%20%3B%0A%0A%20%20%20%20%20%20%20%20%0A%20%20%20%20%0A%20%20%20%20%0A%20%20%20%20%20%20%20%20%20%20%20%20var%20marker_711e502672d94611bc2eead905f30983%20%3D%20L.marker%28%0A%20%20%20%20%20%20%20%20%20%20%20%20%20%20%20%20%5B18.48%2C%2030.42%5D%2C%0A%20%20%20%20%20%20%20%20%20%20%20%20%20%20%20%20%7B%7D%0A%20%20%20%20%20%20%20%20%20%20%20%20%29.addTo%28map_834c4b1b29614a89a1af5adaf340706e%29%3B%0A%20%20%20%20%20%20%20%20%0A%20%20%20%20%0A%20%20%20%20%20%20%20%20var%20popup_e64a2943a0eb4c2c9735081dcd063fd0%20%3D%20L.popup%28%7B%22maxWidth%22%3A%20%22100%25%22%7D%29%3B%0A%0A%20%20%20%20%20%20%20%20%0A%20%20%20%20%20%20%20%20%20%20%20%20var%20html_aabdcb75e3684010b5ecf0750bbc381f%20%3D%20%24%28%60%3Cdiv%20id%3D%22html_aabdcb75e3684010b5ecf0750bbc381f%22%20style%3D%22width%3A%20100.0%25%3B%20height%3A%20100.0%25%3B%22%3E22.068695035460994%3C/div%3E%60%29%5B0%5D%3B%0A%20%20%20%20%20%20%20%20%20%20%20%20popup_e64a2943a0eb4c2c9735081dcd063fd0.setContent%28html_aabdcb75e3684010b5ecf0750bbc381f%29%3B%0A%20%20%20%20%20%20%20%20%0A%0A%20%20%20%20%20%20%20%20marker_711e502672d94611bc2eead905f30983.bindPopup%28popup_e64a2943a0eb4c2c9735081dcd063fd0%29%0A%20%20%20%20%20%20%20%20%3B%0A%0A%20%20%20%20%20%20%20%20%0A%20%20%20%20%0A%20%20%20%20%0A%20%20%20%20%20%20%20%20%20%20%20%20var%20marker_b5291af0f4774954b1f2121a837a1327%20%3D%20L.marker%28%0A%20%20%20%20%20%20%20%20%20%20%20%20%20%20%20%20%5B18.48%2C%2032.11%5D%2C%0A%20%20%20%20%20%20%20%20%20%20%20%20%20%20%20%20%7B%7D%0A%20%20%20%20%20%20%20%20%20%20%20%20%29.addTo%28map_834c4b1b29614a89a1af5adaf340706e%29%3B%0A%20%20%20%20%20%20%20%20%0A%20%20%20%20%0A%20%20%20%20%20%20%20%20var%20popup_62688d0149f040c6b71490f47a978105%20%3D%20L.popup%28%7B%22maxWidth%22%3A%20%22100%25%22%7D%29%3B%0A%0A%20%20%20%20%20%20%20%20%0A%20%20%20%20%20%20%20%20%20%20%20%20var%20html_3079a5b293d847b586b856a444daeaee%20%3D%20%24%28%60%3Cdiv%20id%3D%22html_3079a5b293d847b586b856a444daeaee%22%20style%3D%22width%3A%20100.0%25%3B%20height%3A%20100.0%25%3B%22%3E20.874702127659575%3C/div%3E%60%29%5B0%5D%3B%0A%20%20%20%20%20%20%20%20%20%20%20%20popup_62688d0149f040c6b71490f47a978105.setContent%28html_3079a5b293d847b586b856a444daeaee%29%3B%0A%20%20%20%20%20%20%20%20%0A%0A%20%20%20%20%20%20%20%20marker_b5291af0f4774954b1f2121a837a1327.bindPopup%28popup_62688d0149f040c6b71490f47a978105%29%0A%20%20%20%20%20%20%20%20%3B%0A%0A%20%20%20%20%20%20%20%20%0A%20%20%20%20%0A%20%20%20%20%0A%20%20%20%20%20%20%20%20%20%20%20%20var%20marker_e2e93700e7a54b38add28e32859fffbc%20%3D%20L.marker%28%0A%20%20%20%20%20%20%20%20%20%20%20%20%20%20%20%20%5B20.09%2C%2029.0%5D%2C%0A%20%20%20%20%20%20%20%20%20%20%20%20%20%20%20%20%7B%7D%0A%20%20%20%20%20%20%20%20%20%20%20%20%29.addTo%28map_834c4b1b29614a89a1af5adaf340706e%29%3B%0A%20%20%20%20%20%20%20%20%0A%20%20%20%20%0A%20%20%20%20%20%20%20%20var%20popup_0c57f10be10c4bd49bb7759f7e05f351%20%3D%20L.popup%28%7B%22maxWidth%22%3A%20%22100%25%22%7D%29%3B%0A%0A%20%20%20%20%20%20%20%20%0A%20%20%20%20%20%20%20%20%20%20%20%20var%20html_1d6ba1c3f9ae4f19938900f632366b2a%20%3D%20%24%28%60%3Cdiv%20id%3D%22html_1d6ba1c3f9ae4f19938900f632366b2a%22%20style%3D%22width%3A%20100.0%25%3B%20height%3A%20100.0%25%3B%22%3E21.323%3C/div%3E%60%29%5B0%5D%3B%0A%20%20%20%20%20%20%20%20%20%20%20%20popup_0c57f10be10c4bd49bb7759f7e05f351.setContent%28html_1d6ba1c3f9ae4f19938900f632366b2a%29%3B%0A%20%20%20%20%20%20%20%20%0A%0A%20%20%20%20%20%20%20%20marker_e2e93700e7a54b38add28e32859fffbc.bindPopup%28popup_0c57f10be10c4bd49bb7759f7e05f351%29%0A%20%20%20%20%20%20%20%20%3B%0A%0A%20%20%20%20%20%20%20%20%0A%20%20%20%20%0A%20%20%20%20%0A%20%20%20%20%20%20%20%20%20%20%20%20var%20marker_8fdba66e89dd4c65b8d353b741b2d16e%20%3D%20L.marker%28%0A%20%20%20%20%20%20%20%20%20%20%20%20%20%20%20%20%5B18.48%2C%2030.42%5D%2C%0A%20%20%20%20%20%20%20%20%20%20%20%20%20%20%20%20%7B%7D%0A%20%20%20%20%20%20%20%20%20%20%20%20%29.addTo%28map_834c4b1b29614a89a1af5adaf340706e%29%3B%0A%20%20%20%20%20%20%20%20%0A%20%20%20%20%0A%20%20%20%20%20%20%20%20var%20popup_c3401e593d3d475da15cf8a75c8692cc%20%3D%20L.popup%28%7B%22maxWidth%22%3A%20%22100%25%22%7D%29%3B%0A%0A%20%20%20%20%20%20%20%20%0A%20%20%20%20%20%20%20%20%20%20%20%20var%20html_e4385e29e43b4e36b9123ba86c609803%20%3D%20%24%28%60%3Cdiv%20id%3D%22html_e4385e29e43b4e36b9123ba86c609803%22%20style%3D%22width%3A%20100.0%25%3B%20height%3A%20100.0%25%3B%22%3E21.72324113475177%3C/div%3E%60%29%5B0%5D%3B%0A%20%20%20%20%20%20%20%20%20%20%20%20popup_c3401e593d3d475da15cf8a75c8692cc.setContent%28html_e4385e29e43b4e36b9123ba86c609803%29%3B%0A%20%20%20%20%20%20%20%20%0A%0A%20%20%20%20%20%20%20%20marker_8fdba66e89dd4c65b8d353b741b2d16e.bindPopup%28popup_c3401e593d3d475da15cf8a75c8692cc%29%0A%20%20%20%20%20%20%20%20%3B%0A%0A%20%20%20%20%20%20%20%20%0A%20%20%20%20%0A%20%20%20%20%0A%20%20%20%20%20%20%20%20%20%20%20%20var%20marker_13e2f12393b14651a56e125b9ae8b670%20%3D%20L.marker%28%0A%20%20%20%20%20%20%20%20%20%20%20%20%20%20%20%20%5B20.09%2C%2029.0%5D%2C%0A%20%20%20%20%20%20%20%20%20%20%20%20%20%20%20%20%7B%7D%0A%20%20%20%20%20%20%20%20%20%20%20%20%29.addTo%28map_834c4b1b29614a89a1af5adaf340706e%29%3B%0A%20%20%20%20%20%20%20%20%0A%20%20%20%20%0A%20%20%20%20%20%20%20%20var%20popup_4afad2df543e4f0a951b862e56e3b253%20%3D%20L.popup%28%7B%22maxWidth%22%3A%20%22100%25%22%7D%29%3B%0A%0A%20%20%20%20%20%20%20%20%0A%20%20%20%20%20%20%20%20%20%20%20%20var%20html_20e8d765a6a94c33a0f280672ce80cf6%20%3D%20%24%28%60%3Cdiv%20id%3D%22html_20e8d765a6a94c33a0f280672ce80cf6%22%20style%3D%22width%3A%20100.0%25%3B%20height%3A%20100.0%25%3B%22%3E21.323%3C/div%3E%60%29%5B0%5D%3B%0A%20%20%20%20%20%20%20%20%20%20%20%20popup_4afad2df543e4f0a951b862e56e3b253.setContent%28html_20e8d765a6a94c33a0f280672ce80cf6%29%3B%0A%20%20%20%20%20%20%20%20%0A%0A%20%20%20%20%20%20%20%20marker_13e2f12393b14651a56e125b9ae8b670.bindPopup%28popup_4afad2df543e4f0a951b862e56e3b253%29%0A%20%20%20%20%20%20%20%20%3B%0A%0A%20%20%20%20%20%20%20%20%0A%20%20%20%20%0A%20%20%20%20%0A%20%20%20%20%20%20%20%20%20%20%20%20var%20marker_da54f6231bc84c2f93f3ff0d16e3d6dc%20%3D%20L.marker%28%0A%20%20%20%20%20%20%20%20%20%20%20%20%20%20%20%20%5B18.48%2C%2030.42%5D%2C%0A%20%20%20%20%20%20%20%20%20%20%20%20%20%20%20%20%7B%7D%0A%20%20%20%20%20%20%20%20%20%20%20%20%29.addTo%28map_834c4b1b29614a89a1af5adaf340706e%29%3B%0A%20%20%20%20%20%20%20%20%0A%20%20%20%20%0A%20%20%20%20%20%20%20%20var%20popup_ca5590ddafb945649c371f6525ee0e58%20%3D%20L.popup%28%7B%22maxWidth%22%3A%20%22100%25%22%7D%29%3B%0A%0A%20%20%20%20%20%20%20%20%0A%20%20%20%20%20%20%20%20%20%20%20%20var%20html_265b845f56f54ee89fd33abd5cc97402%20%3D%20%24%28%60%3Cdiv%20id%3D%22html_265b845f56f54ee89fd33abd5cc97402%22%20style%3D%22width%3A%20100.0%25%3B%20height%3A%20100.0%25%3B%22%3E21.72324113475177%3C/div%3E%60%29%5B0%5D%3B%0A%20%20%20%20%20%20%20%20%20%20%20%20popup_ca5590ddafb945649c371f6525ee0e58.setContent%28html_265b845f56f54ee89fd33abd5cc97402%29%3B%0A%20%20%20%20%20%20%20%20%0A%0A%20%20%20%20%20%20%20%20marker_da54f6231bc84c2f93f3ff0d16e3d6dc.bindPopup%28popup_ca5590ddafb945649c371f6525ee0e58%29%0A%20%20%20%20%20%20%20%20%3B%0A%0A%20%20%20%20%20%20%20%20%0A%20%20%20%20%0A%20%20%20%20%0A%20%20%20%20%20%20%20%20%20%20%20%20var%20marker_142e11498c304d1ab93df8f54a1dcecd%20%3D%20L.marker%28%0A%20%20%20%20%20%20%20%20%20%20%20%20%20%20%20%20%5B18.48%2C%2030.42%5D%2C%0A%20%20%20%20%20%20%20%20%20%20%20%20%20%20%20%20%7B%7D%0A%20%20%20%20%20%20%20%20%20%20%20%20%29.addTo%28map_834c4b1b29614a89a1af5adaf340706e%29%3B%0A%20%20%20%20%20%20%20%20%0A%20%20%20%20%0A%20%20%20%20%20%20%20%20var%20popup_2e6653d58a5f4c2cb4d2272db188528a%20%3D%20L.popup%28%7B%22maxWidth%22%3A%20%22100%25%22%7D%29%3B%0A%0A%20%20%20%20%20%20%20%20%0A%20%20%20%20%20%20%20%20%20%20%20%20var%20html_4f01a77acbcb4edd954077977857285e%20%3D%20%24%28%60%3Cdiv%20id%3D%22html_4f01a77acbcb4edd954077977857285e%22%20style%3D%22width%3A%20100.0%25%3B%20height%3A%20100.0%25%3B%22%3E21.72324113475177%3C/div%3E%60%29%5B0%5D%3B%0A%20%20%20%20%20%20%20%20%20%20%20%20popup_2e6653d58a5f4c2cb4d2272db188528a.setContent%28html_4f01a77acbcb4edd954077977857285e%29%3B%0A%20%20%20%20%20%20%20%20%0A%0A%20%20%20%20%20%20%20%20marker_142e11498c304d1ab93df8f54a1dcecd.bindPopup%28popup_2e6653d58a5f4c2cb4d2272db188528a%29%0A%20%20%20%20%20%20%20%20%3B%0A%0A%20%20%20%20%20%20%20%20%0A%20%20%20%20%0A%20%20%20%20%0A%20%20%20%20%20%20%20%20%20%20%20%20var%20marker_fd8f888dfbf144668082194941397442%20%3D%20L.marker%28%0A%20%20%20%20%20%20%20%20%20%20%20%20%20%20%20%20%5B18.48%2C%2030.42%5D%2C%0A%20%20%20%20%20%20%20%20%20%20%20%20%20%20%20%20%7B%7D%0A%20%20%20%20%20%20%20%20%20%20%20%20%29.addTo%28map_834c4b1b29614a89a1af5adaf340706e%29%3B%0A%20%20%20%20%20%20%20%20%0A%20%20%20%20%0A%20%20%20%20%20%20%20%20var%20popup_59b08bcd80e546b889f4fc7d6c9b6e7c%20%3D%20L.popup%28%7B%22maxWidth%22%3A%20%22100%25%22%7D%29%3B%0A%0A%20%20%20%20%20%20%20%20%0A%20%20%20%20%20%20%20%20%20%20%20%20var%20html_425aeda14e2346a9b8582112fcdc2512%20%3D%20%24%28%60%3Cdiv%20id%3D%22html_425aeda14e2346a9b8582112fcdc2512%22%20style%3D%22width%3A%20100.0%25%3B%20height%3A%20100.0%25%3B%22%3E21.72324113475177%3C/div%3E%60%29%5B0%5D%3B%0A%20%20%20%20%20%20%20%20%20%20%20%20popup_59b08bcd80e546b889f4fc7d6c9b6e7c.setContent%28html_425aeda14e2346a9b8582112fcdc2512%29%3B%0A%20%20%20%20%20%20%20%20%0A%0A%20%20%20%20%20%20%20%20marker_fd8f888dfbf144668082194941397442.bindPopup%28popup_59b08bcd80e546b889f4fc7d6c9b6e7c%29%0A%20%20%20%20%20%20%20%20%3B%0A%0A%20%20%20%20%20%20%20%20%0A%20%20%20%20%0A%20%20%20%20%0A%20%20%20%20%20%20%20%20%20%20%20%20var%20marker_7ee4a80be81349909b492df75c8a876f%20%3D%20L.marker%28%0A%20%20%20%20%20%20%20%20%20%20%20%20%20%20%20%20%5B18.48%2C%2032.11%5D%2C%0A%20%20%20%20%20%20%20%20%20%20%20%20%20%20%20%20%7B%7D%0A%20%20%20%20%20%20%20%20%20%20%20%20%29.addTo%28map_834c4b1b29614a89a1af5adaf340706e%29%3B%0A%20%20%20%20%20%20%20%20%0A%20%20%20%20%0A%20%20%20%20%20%20%20%20var%20popup_9cd5fd0c36c64983a073c937573fc41c%20%3D%20L.popup%28%7B%22maxWidth%22%3A%20%22100%25%22%7D%29%3B%0A%0A%20%20%20%20%20%20%20%20%0A%20%20%20%20%20%20%20%20%20%20%20%20var%20html_d2ac6feb7b5e46feaa5ffdf7ea91ac59%20%3D%20%24%28%60%3Cdiv%20id%3D%22html_d2ac6feb7b5e46feaa5ffdf7ea91ac59%22%20style%3D%22width%3A%20100.0%25%3B%20height%3A%20100.0%25%3B%22%3E20.253539007092197%3C/div%3E%60%29%5B0%5D%3B%0A%20%20%20%20%20%20%20%20%20%20%20%20popup_9cd5fd0c36c64983a073c937573fc41c.setContent%28html_d2ac6feb7b5e46feaa5ffdf7ea91ac59%29%3B%0A%20%20%20%20%20%20%20%20%0A%0A%20%20%20%20%20%20%20%20marker_7ee4a80be81349909b492df75c8a876f.bindPopup%28popup_9cd5fd0c36c64983a073c937573fc41c%29%0A%20%20%20%20%20%20%20%20%3B%0A%0A%20%20%20%20%20%20%20%20%0A%20%20%20%20%0A%20%20%20%20%0A%20%20%20%20%20%20%20%20%20%20%20%20var%20marker_efd57a1ee5a847e88e15f53d91a8aa54%20%3D%20L.marker%28%0A%20%20%20%20%20%20%20%20%20%20%20%20%20%20%20%20%5B20.09%2C%2029.0%5D%2C%0A%20%20%20%20%20%20%20%20%20%20%20%20%20%20%20%20%7B%7D%0A%20%20%20%20%20%20%20%20%20%20%20%20%29.addTo%28map_834c4b1b29614a89a1af5adaf340706e%29%3B%0A%20%20%20%20%20%20%20%20%0A%20%20%20%20%0A%20%20%20%20%20%20%20%20var%20popup_ca781682f371472fad51666cb75e9574%20%3D%20L.popup%28%7B%22maxWidth%22%3A%20%22100%25%22%7D%29%3B%0A%0A%20%20%20%20%20%20%20%20%0A%20%20%20%20%20%20%20%20%20%20%20%20var%20html_fe90d663c0a74a00957252d5a66de948%20%3D%20%24%28%60%3Cdiv%20id%3D%22html_fe90d663c0a74a00957252d5a66de948%22%20style%3D%22width%3A%20100.0%25%3B%20height%3A%20100.0%25%3B%22%3E19.493955696202534%3C/div%3E%60%29%5B0%5D%3B%0A%20%20%20%20%20%20%20%20%20%20%20%20popup_ca781682f371472fad51666cb75e9574.setContent%28html_fe90d663c0a74a00957252d5a66de948%29%3B%0A%20%20%20%20%20%20%20%20%0A%0A%20%20%20%20%20%20%20%20marker_efd57a1ee5a847e88e15f53d91a8aa54.bindPopup%28popup_ca781682f371472fad51666cb75e9574%29%0A%20%20%20%20%20%20%20%20%3B%0A%0A%20%20%20%20%20%20%20%20%0A%20%20%20%20%0A%20%20%20%20%0A%20%20%20%20%20%20%20%20%20%20%20%20var%20marker_e575fa5409184f5aabaff810316e7780%20%3D%20L.marker%28%0A%20%20%20%20%20%20%20%20%20%20%20%20%20%20%20%20%5B18.48%2C%2030.42%5D%2C%0A%20%20%20%20%20%20%20%20%20%20%20%20%20%20%20%20%7B%7D%0A%20%20%20%20%20%20%20%20%20%20%20%20%29.addTo%28map_834c4b1b29614a89a1af5adaf340706e%29%3B%0A%20%20%20%20%20%20%20%20%0A%20%20%20%20%0A%20%20%20%20%20%20%20%20var%20popup_f97fa487aea14541975eb68e16e287cb%20%3D%20L.popup%28%7B%22maxWidth%22%3A%20%22100%25%22%7D%29%3B%0A%0A%20%20%20%20%20%20%20%20%0A%20%20%20%20%20%20%20%20%20%20%20%20var%20html_48ed6e2f126f4925b08df4f49a78d1ee%20%3D%20%24%28%60%3Cdiv%20id%3D%22html_48ed6e2f126f4925b08df4f49a78d1ee%22%20style%3D%22width%3A%20100.0%25%3B%20height%3A%20100.0%25%3B%22%3E20.19517021276596%3C/div%3E%60%29%5B0%5D%3B%0A%20%20%20%20%20%20%20%20%20%20%20%20popup_f97fa487aea14541975eb68e16e287cb.setContent%28html_48ed6e2f126f4925b08df4f49a78d1ee%29%3B%0A%20%20%20%20%20%20%20%20%0A%0A%20%20%20%20%20%20%20%20marker_e575fa5409184f5aabaff810316e7780.bindPopup%28popup_f97fa487aea14541975eb68e16e287cb%29%0A%20%20%20%20%20%20%20%20%3B%0A%0A%20%20%20%20%20%20%20%20%0A%20%20%20%20%0A%20%20%20%20%0A%20%20%20%20%20%20%20%20%20%20%20%20var%20marker_2c3323de0a314efdab4dc28feff91b73%20%3D%20L.marker%28%0A%20%20%20%20%20%20%20%20%20%20%20%20%20%20%20%20%5B20.09%2C%2029.0%5D%2C%0A%20%20%20%20%20%20%20%20%20%20%20%20%20%20%20%20%7B%7D%0A%20%20%20%20%20%20%20%20%20%20%20%20%29.addTo%28map_834c4b1b29614a89a1af5adaf340706e%29%3B%0A%20%20%20%20%20%20%20%20%0A%20%20%20%20%0A%20%20%20%20%20%20%20%20var%20popup_c87b51e9da74478db29a6c15911c94da%20%3D%20L.popup%28%7B%22maxWidth%22%3A%20%22100%25%22%7D%29%3B%0A%0A%20%20%20%20%20%20%20%20%0A%20%20%20%20%20%20%20%20%20%20%20%20var%20html_4b85c3860a05425a85db756b8375c41a%20%3D%20%24%28%60%3Cdiv%20id%3D%22html_4b85c3860a05425a85db756b8375c41a%22%20style%3D%22width%3A%20100.0%25%3B%20height%3A%20100.0%25%3B%22%3E19.493955696202534%3C/div%3E%60%29%5B0%5D%3B%0A%20%20%20%20%20%20%20%20%20%20%20%20popup_c87b51e9da74478db29a6c15911c94da.setContent%28html_4b85c3860a05425a85db756b8375c41a%29%3B%0A%20%20%20%20%20%20%20%20%0A%0A%20%20%20%20%20%20%20%20marker_2c3323de0a314efdab4dc28feff91b73.bindPopup%28popup_c87b51e9da74478db29a6c15911c94da%29%0A%20%20%20%20%20%20%20%20%3B%0A%0A%20%20%20%20%20%20%20%20%0A%20%20%20%20%0A%20%20%20%20%0A%20%20%20%20%20%20%20%20%20%20%20%20var%20marker_3001fd9297914565ba55b13c167e7116%20%3D%20L.marker%28%0A%20%20%20%20%20%20%20%20%20%20%20%20%20%20%20%20%5B18.48%2C%2030.42%5D%2C%0A%20%20%20%20%20%20%20%20%20%20%20%20%20%20%20%20%7B%7D%0A%20%20%20%20%20%20%20%20%20%20%20%20%29.addTo%28map_834c4b1b29614a89a1af5adaf340706e%29%3B%0A%20%20%20%20%20%20%20%20%0A%20%20%20%20%0A%20%20%20%20%20%20%20%20var%20popup_805bebc838ad4afe82627113bbfc9000%20%3D%20L.popup%28%7B%22maxWidth%22%3A%20%22100%25%22%7D%29%3B%0A%0A%20%20%20%20%20%20%20%20%0A%20%20%20%20%20%20%20%20%20%20%20%20var%20html_f9de6de8e3654d73b82de51b41e5e3df%20%3D%20%24%28%60%3Cdiv%20id%3D%22html_f9de6de8e3654d73b82de51b41e5e3df%22%20style%3D%22width%3A%20100.0%25%3B%20height%3A%20100.0%25%3B%22%3E20.19517021276596%3C/div%3E%60%29%5B0%5D%3B%0A%20%20%20%20%20%20%20%20%20%20%20%20popup_805bebc838ad4afe82627113bbfc9000.setContent%28html_f9de6de8e3654d73b82de51b41e5e3df%29%3B%0A%20%20%20%20%20%20%20%20%0A%0A%20%20%20%20%20%20%20%20marker_3001fd9297914565ba55b13c167e7116.bindPopup%28popup_805bebc838ad4afe82627113bbfc9000%29%0A%20%20%20%20%20%20%20%20%3B%0A%0A%20%20%20%20%20%20%20%20%0A%20%20%20%20%0A%20%20%20%20%0A%20%20%20%20%20%20%20%20%20%20%20%20var%20marker_30f6db81ec904996ba4f0f9dbf6e5051%20%3D%20L.marker%28%0A%20%20%20%20%20%20%20%20%20%20%20%20%20%20%20%20%5B18.48%2C%2030.42%5D%2C%0A%20%20%20%20%20%20%20%20%20%20%20%20%20%20%20%20%7B%7D%0A%20%20%20%20%20%20%20%20%20%20%20%20%29.addTo%28map_834c4b1b29614a89a1af5adaf340706e%29%3B%0A%20%20%20%20%20%20%20%20%0A%20%20%20%20%0A%20%20%20%20%20%20%20%20var%20popup_74c69da3e9844fc08b6d2bc69bec6fb5%20%3D%20L.popup%28%7B%22maxWidth%22%3A%20%22100%25%22%7D%29%3B%0A%0A%20%20%20%20%20%20%20%20%0A%20%20%20%20%20%20%20%20%20%20%20%20var%20html_0ae949ded2b1458284f06c0397e1bca0%20%3D%20%24%28%60%3Cdiv%20id%3D%22html_0ae949ded2b1458284f06c0397e1bca0%22%20style%3D%22width%3A%20100.0%25%3B%20height%3A%20100.0%25%3B%22%3E20.19517021276596%3C/div%3E%60%29%5B0%5D%3B%0A%20%20%20%20%20%20%20%20%20%20%20%20popup_74c69da3e9844fc08b6d2bc69bec6fb5.setContent%28html_0ae949ded2b1458284f06c0397e1bca0%29%3B%0A%20%20%20%20%20%20%20%20%0A%0A%20%20%20%20%20%20%20%20marker_30f6db81ec904996ba4f0f9dbf6e5051.bindPopup%28popup_74c69da3e9844fc08b6d2bc69bec6fb5%29%0A%20%20%20%20%20%20%20%20%3B%0A%0A%20%20%20%20%20%20%20%20%0A%20%20%20%20%0A%20%20%20%20%0A%20%20%20%20%20%20%20%20%20%20%20%20var%20marker_3120d5f2577c42469173ce3d4c4ba454%20%3D%20L.marker%28%0A%20%20%20%20%20%20%20%20%20%20%20%20%20%20%20%20%5B18.48%2C%2030.42%5D%2C%0A%20%20%20%20%20%20%20%20%20%20%20%20%20%20%20%20%7B%7D%0A%20%20%20%20%20%20%20%20%20%20%20%20%29.addTo%28map_834c4b1b29614a89a1af5adaf340706e%29%3B%0A%20%20%20%20%20%20%20%20%0A%20%20%20%20%0A%20%20%20%20%20%20%20%20var%20popup_daddae582a514640b0a1a3c2aee66ffd%20%3D%20L.popup%28%7B%22maxWidth%22%3A%20%22100%25%22%7D%29%3B%0A%0A%20%20%20%20%20%20%20%20%0A%20%20%20%20%20%20%20%20%20%20%20%20var%20html_0b49a71678e844d2a3989f7a5b32e68f%20%3D%20%24%28%60%3Cdiv%20id%3D%22html_0b49a71678e844d2a3989f7a5b32e68f%22%20style%3D%22width%3A%20100.0%25%3B%20height%3A%20100.0%25%3B%22%3E20.19517021276596%3C/div%3E%60%29%5B0%5D%3B%0A%20%20%20%20%20%20%20%20%20%20%20%20popup_daddae582a514640b0a1a3c2aee66ffd.setContent%28html_0b49a71678e844d2a3989f7a5b32e68f%29%3B%0A%20%20%20%20%20%20%20%20%0A%0A%20%20%20%20%20%20%20%20marker_3120d5f2577c42469173ce3d4c4ba454.bindPopup%28popup_daddae582a514640b0a1a3c2aee66ffd%29%0A%20%20%20%20%20%20%20%20%3B%0A%0A%20%20%20%20%20%20%20%20%0A%20%20%20%20%0A%20%20%20%20%0A%20%20%20%20%20%20%20%20%20%20%20%20var%20marker_fab5d072132e4a8faf7b5da4bbd703ef%20%3D%20L.marker%28%0A%20%20%20%20%20%20%20%20%20%20%20%20%20%20%20%20%5B18.48%2C%2032.11%5D%2C%0A%20%20%20%20%20%20%20%20%20%20%20%20%20%20%20%20%7B%7D%0A%20%20%20%20%20%20%20%20%20%20%20%20%29.addTo%28map_834c4b1b29614a89a1af5adaf340706e%29%3B%0A%20%20%20%20%20%20%20%20%0A%20%20%20%20%0A%20%20%20%20%20%20%20%20var%20popup_7e77927a01f14972b0ddee37b13fea4f%20%3D%20L.popup%28%7B%22maxWidth%22%3A%20%22100%25%22%7D%29%3B%0A%0A%20%20%20%20%20%20%20%20%0A%20%20%20%20%20%20%20%20%20%20%20%20var%20html_0c8e5d8339a6406db10a6ba9a91a197b%20%3D%20%24%28%60%3Cdiv%20id%3D%22html_0c8e5d8339a6406db10a6ba9a91a197b%22%20style%3D%22width%3A%20100.0%25%3B%20height%3A%20100.0%25%3B%22%3E18.550113475177305%3C/div%3E%60%29%5B0%5D%3B%0A%20%20%20%20%20%20%20%20%20%20%20%20popup_7e77927a01f14972b0ddee37b13fea4f.setContent%28html_0c8e5d8339a6406db10a6ba9a91a197b%29%3B%0A%20%20%20%20%20%20%20%20%0A%0A%20%20%20%20%20%20%20%20marker_fab5d072132e4a8faf7b5da4bbd703ef.bindPopup%28popup_7e77927a01f14972b0ddee37b13fea4f%29%0A%20%20%20%20%20%20%20%20%3B%0A%0A%20%20%20%20%20%20%20%20%0A%20%20%20%20%0A%20%20%20%20%0A%20%20%20%20%20%20%20%20%20%20%20%20var%20marker_f5c5c96dd3ba4c4481d0cf90600cff6e%20%3D%20L.marker%28%0A%20%20%20%20%20%20%20%20%20%20%20%20%20%20%20%20%5B20.09%2C%2029.0%5D%2C%0A%20%20%20%20%20%20%20%20%20%20%20%20%20%20%20%20%7B%7D%0A%20%20%20%20%20%20%20%20%20%20%20%20%29.addTo%28map_834c4b1b29614a89a1af5adaf340706e%29%3B%0A%20%20%20%20%20%20%20%20%0A%20%20%20%20%0A%20%20%20%20%20%20%20%20var%20popup_aa9ab0c5da6b49c4a2e5672bd20ae85e%20%3D%20L.popup%28%7B%22maxWidth%22%3A%20%22100%25%22%7D%29%3B%0A%0A%20%20%20%20%20%20%20%20%0A%20%20%20%20%20%20%20%20%20%20%20%20var%20html_23dd003f1a29429290acca056d99a9a1%20%3D%20%24%28%60%3Cdiv%20id%3D%22html_23dd003f1a29429290acca056d99a9a1%22%20style%3D%22width%3A%20100.0%25%3B%20height%3A%20100.0%25%3B%22%3E17.00160759493671%3C/div%3E%60%29%5B0%5D%3B%0A%20%20%20%20%20%20%20%20%20%20%20%20popup_aa9ab0c5da6b49c4a2e5672bd20ae85e.setContent%28html_23dd003f1a29429290acca056d99a9a1%29%3B%0A%20%20%20%20%20%20%20%20%0A%0A%20%20%20%20%20%20%20%20marker_f5c5c96dd3ba4c4481d0cf90600cff6e.bindPopup%28popup_aa9ab0c5da6b49c4a2e5672bd20ae85e%29%0A%20%20%20%20%20%20%20%20%3B%0A%0A%20%20%20%20%20%20%20%20%0A%20%20%20%20%0A%20%20%20%20%0A%20%20%20%20%20%20%20%20%20%20%20%20var%20marker_7423f00c135f4819b963b17b8b98f564%20%3D%20L.marker%28%0A%20%20%20%20%20%20%20%20%20%20%20%20%20%20%20%20%5B18.48%2C%2030.42%5D%2C%0A%20%20%20%20%20%20%20%20%20%20%20%20%20%20%20%20%7B%7D%0A%20%20%20%20%20%20%20%20%20%20%20%20%29.addTo%28map_834c4b1b29614a89a1af5adaf340706e%29%3B%0A%20%20%20%20%20%20%20%20%0A%20%20%20%20%0A%20%20%20%20%20%20%20%20var%20popup_596b4ad7dc444d19b9ee834161baec6a%20%3D%20L.popup%28%7B%22maxWidth%22%3A%20%22100%25%22%7D%29%3B%0A%0A%20%20%20%20%20%20%20%20%0A%20%20%20%20%20%20%20%20%20%20%20%20var%20html_9ae654b81c2c4aa7ac2e1098c8b26ca6%20%3D%20%24%28%60%3Cdiv%20id%3D%22html_9ae654b81c2c4aa7ac2e1098c8b26ca6%22%20style%3D%22width%3A%20100.0%25%3B%20height%3A%20100.0%25%3B%22%3E17.880148936170215%3C/div%3E%60%29%5B0%5D%3B%0A%20%20%20%20%20%20%20%20%20%20%20%20popup_596b4ad7dc444d19b9ee834161baec6a.setContent%28html_9ae654b81c2c4aa7ac2e1098c8b26ca6%29%3B%0A%20%20%20%20%20%20%20%20%0A%0A%20%20%20%20%20%20%20%20marker_7423f00c135f4819b963b17b8b98f564.bindPopup%28popup_596b4ad7dc444d19b9ee834161baec6a%29%0A%20%20%20%20%20%20%20%20%3B%0A%0A%20%20%20%20%20%20%20%20%0A%20%20%20%20%0A%20%20%20%20%0A%20%20%20%20%20%20%20%20%20%20%20%20var%20marker_b6e18161563a42d19d90c1ea1a41ec8f%20%3D%20L.marker%28%0A%20%20%20%20%20%20%20%20%20%20%20%20%20%20%20%20%5B20.09%2C%2029.0%5D%2C%0A%20%20%20%20%20%20%20%20%20%20%20%20%20%20%20%20%7B%7D%0A%20%20%20%20%20%20%20%20%20%20%20%20%29.addTo%28map_834c4b1b29614a89a1af5adaf340706e%29%3B%0A%20%20%20%20%20%20%20%20%0A%20%20%20%20%0A%20%20%20%20%20%20%20%20var%20popup_01e714bf3f0b4b79a993659850b38606%20%3D%20L.popup%28%7B%22maxWidth%22%3A%20%22100%25%22%7D%29%3B%0A%0A%20%20%20%20%20%20%20%20%0A%20%20%20%20%20%20%20%20%20%20%20%20var%20html_f4f89ac28fb3490e92665c302a60857e%20%3D%20%24%28%60%3Cdiv%20id%3D%22html_f4f89ac28fb3490e92665c302a60857e%22%20style%3D%22width%3A%20100.0%25%3B%20height%3A%20100.0%25%3B%22%3E17.00160759493671%3C/div%3E%60%29%5B0%5D%3B%0A%20%20%20%20%20%20%20%20%20%20%20%20popup_01e714bf3f0b4b79a993659850b38606.setContent%28html_f4f89ac28fb3490e92665c302a60857e%29%3B%0A%20%20%20%20%20%20%20%20%0A%0A%20%20%20%20%20%20%20%20marker_b6e18161563a42d19d90c1ea1a41ec8f.bindPopup%28popup_01e714bf3f0b4b79a993659850b38606%29%0A%20%20%20%20%20%20%20%20%3B%0A%0A%20%20%20%20%20%20%20%20%0A%20%20%20%20%0A%20%20%20%20%0A%20%20%20%20%20%20%20%20%20%20%20%20var%20marker_0f8ac91caba04b628ddc9d62d5527bcd%20%3D%20L.marker%28%0A%20%20%20%20%20%20%20%20%20%20%20%20%20%20%20%20%5B18.48%2C%2030.42%5D%2C%0A%20%20%20%20%20%20%20%20%20%20%20%20%20%20%20%20%7B%7D%0A%20%20%20%20%20%20%20%20%20%20%20%20%29.addTo%28map_834c4b1b29614a89a1af5adaf340706e%29%3B%0A%20%20%20%20%20%20%20%20%0A%20%20%20%20%0A%20%20%20%20%20%20%20%20var%20popup_07ed2e5a7c7f4a3dad7268686eb18b75%20%3D%20L.popup%28%7B%22maxWidth%22%3A%20%22100%25%22%7D%29%3B%0A%0A%20%20%20%20%20%20%20%20%0A%20%20%20%20%20%20%20%20%20%20%20%20var%20html_45bc71ad2ce6439d875f47bf9766b93b%20%3D%20%24%28%60%3Cdiv%20id%3D%22html_45bc71ad2ce6439d875f47bf9766b93b%22%20style%3D%22width%3A%20100.0%25%3B%20height%3A%20100.0%25%3B%22%3E17.880148936170215%3C/div%3E%60%29%5B0%5D%3B%0A%20%20%20%20%20%20%20%20%20%20%20%20popup_07ed2e5a7c7f4a3dad7268686eb18b75.setContent%28html_45bc71ad2ce6439d875f47bf9766b93b%29%3B%0A%20%20%20%20%20%20%20%20%0A%0A%20%20%20%20%20%20%20%20marker_0f8ac91caba04b628ddc9d62d5527bcd.bindPopup%28popup_07ed2e5a7c7f4a3dad7268686eb18b75%29%0A%20%20%20%20%20%20%20%20%3B%0A%0A%20%20%20%20%20%20%20%20%0A%20%20%20%20%0A%20%20%20%20%0A%20%20%20%20%20%20%20%20%20%20%20%20var%20marker_1578b15ae59e4b34a31c1bb46c201e56%20%3D%20L.marker%28%0A%20%20%20%20%20%20%20%20%20%20%20%20%20%20%20%20%5B18.48%2C%2030.42%5D%2C%0A%20%20%20%20%20%20%20%20%20%20%20%20%20%20%20%20%7B%7D%0A%20%20%20%20%20%20%20%20%20%20%20%20%29.addTo%28map_834c4b1b29614a89a1af5adaf340706e%29%3B%0A%20%20%20%20%20%20%20%20%0A%20%20%20%20%0A%20%20%20%20%20%20%20%20var%20popup_6d71140700f64223b9b6f278fee3e760%20%3D%20L.popup%28%7B%22maxWidth%22%3A%20%22100%25%22%7D%29%3B%0A%0A%20%20%20%20%20%20%20%20%0A%20%20%20%20%20%20%20%20%20%20%20%20var%20html_587b1c8e7e844bcea053d09796aa5f76%20%3D%20%24%28%60%3Cdiv%20id%3D%22html_587b1c8e7e844bcea053d09796aa5f76%22%20style%3D%22width%3A%20100.0%25%3B%20height%3A%20100.0%25%3B%22%3E17.880148936170215%3C/div%3E%60%29%5B0%5D%3B%0A%20%20%20%20%20%20%20%20%20%20%20%20popup_6d71140700f64223b9b6f278fee3e760.setContent%28html_587b1c8e7e844bcea053d09796aa5f76%29%3B%0A%20%20%20%20%20%20%20%20%0A%0A%20%20%20%20%20%20%20%20marker_1578b15ae59e4b34a31c1bb46c201e56.bindPopup%28popup_6d71140700f64223b9b6f278fee3e760%29%0A%20%20%20%20%20%20%20%20%3B%0A%0A%20%20%20%20%20%20%20%20%0A%20%20%20%20%0A%20%20%20%20%0A%20%20%20%20%20%20%20%20%20%20%20%20var%20marker_acf3a12e70db4e49bc103d27fd58b162%20%3D%20L.marker%28%0A%20%20%20%20%20%20%20%20%20%20%20%20%20%20%20%20%5B18.48%2C%2030.42%5D%2C%0A%20%20%20%20%20%20%20%20%20%20%20%20%20%20%20%20%7B%7D%0A%20%20%20%20%20%20%20%20%20%20%20%20%29.addTo%28map_834c4b1b29614a89a1af5adaf340706e%29%3B%0A%20%20%20%20%20%20%20%20%0A%20%20%20%20%0A%20%20%20%20%20%20%20%20var%20popup_49400819b6d6401f92ece617baa68164%20%3D%20L.popup%28%7B%22maxWidth%22%3A%20%22100%25%22%7D%29%3B%0A%0A%20%20%20%20%20%20%20%20%0A%20%20%20%20%20%20%20%20%20%20%20%20var%20html_b25a6dc3c94746ccb12d69123a6a6aa5%20%3D%20%24%28%60%3Cdiv%20id%3D%22html_b25a6dc3c94746ccb12d69123a6a6aa5%22%20style%3D%22width%3A%20100.0%25%3B%20height%3A%20100.0%25%3B%22%3E17.880148936170215%3C/div%3E%60%29%5B0%5D%3B%0A%20%20%20%20%20%20%20%20%20%20%20%20popup_49400819b6d6401f92ece617baa68164.setContent%28html_b25a6dc3c94746ccb12d69123a6a6aa5%29%3B%0A%20%20%20%20%20%20%20%20%0A%0A%20%20%20%20%20%20%20%20marker_acf3a12e70db4e49bc103d27fd58b162.bindPopup%28popup_49400819b6d6401f92ece617baa68164%29%0A%20%20%20%20%20%20%20%20%3B%0A%0A%20%20%20%20%20%20%20%20%0A%20%20%20%20%0A%20%20%20%20%0A%20%20%20%20%20%20%20%20%20%20%20%20var%20marker_6b64472571344b9094737b686e22b9b5%20%3D%20L.marker%28%0A%20%20%20%20%20%20%20%20%20%20%20%20%20%20%20%20%5B18.48%2C%2032.11%5D%2C%0A%20%20%20%20%20%20%20%20%20%20%20%20%20%20%20%20%7B%7D%0A%20%20%20%20%20%20%20%20%20%20%20%20%29.addTo%28map_834c4b1b29614a89a1af5adaf340706e%29%3B%0A%20%20%20%20%20%20%20%20%0A%20%20%20%20%0A%20%20%20%20%20%20%20%20var%20popup_0c7dfa92d8814635bacfe988ea59e93f%20%3D%20L.popup%28%7B%22maxWidth%22%3A%20%22100%25%22%7D%29%3B%0A%0A%20%20%20%20%20%20%20%20%0A%20%20%20%20%20%20%20%20%20%20%20%20var%20html_df36e976d2894735a9880ffe9e4cab8e%20%3D%20%24%28%60%3Cdiv%20id%3D%22html_df36e976d2894735a9880ffe9e4cab8e%22%20style%3D%22width%3A%20100.0%25%3B%20height%3A%20100.0%25%3B%22%3E16.183992907801418%3C/div%3E%60%29%5B0%5D%3B%0A%20%20%20%20%20%20%20%20%20%20%20%20popup_0c7dfa92d8814635bacfe988ea59e93f.setContent%28html_df36e976d2894735a9880ffe9e4cab8e%29%3B%0A%20%20%20%20%20%20%20%20%0A%0A%20%20%20%20%20%20%20%20marker_6b64472571344b9094737b686e22b9b5.bindPopup%28popup_0c7dfa92d8814635bacfe988ea59e93f%29%0A%20%20%20%20%20%20%20%20%3B%0A%0A%20%20%20%20%20%20%20%20%0A%20%20%20%20%0A%20%20%20%20%0A%20%20%20%20%20%20%20%20%20%20%20%20var%20marker_b937bbeac4e0478a8f8373e140bf4f40%20%3D%20L.marker%28%0A%20%20%20%20%20%20%20%20%20%20%20%20%20%20%20%20%5B20.09%2C%2029.0%5D%2C%0A%20%20%20%20%20%20%20%20%20%20%20%20%20%20%20%20%7B%7D%0A%20%20%20%20%20%20%20%20%20%20%20%20%29.addTo%28map_834c4b1b29614a89a1af5adaf340706e%29%3B%0A%20%20%20%20%20%20%20%20%0A%20%20%20%20%0A%20%20%20%20%20%20%20%20var%20popup_89f568d77aaf49d1963f9a468bd6fbb3%20%3D%20L.popup%28%7B%22maxWidth%22%3A%20%22100%25%22%7D%29%3B%0A%0A%20%20%20%20%20%20%20%20%0A%20%20%20%20%20%20%20%20%20%20%20%20var%20html_ad4565c8386d4c1cb82e2a77541fa447%20%3D%20%24%28%60%3Cdiv%20id%3D%22html_ad4565c8386d4c1cb82e2a77541fa447%22%20style%3D%22width%3A%20100.0%25%3B%20height%3A%20100.0%25%3B%22%3E14.592645569620252%3C/div%3E%60%29%5B0%5D%3B%0A%20%20%20%20%20%20%20%20%20%20%20%20popup_89f568d77aaf49d1963f9a468bd6fbb3.setContent%28html_ad4565c8386d4c1cb82e2a77541fa447%29%3B%0A%20%20%20%20%20%20%20%20%0A%0A%20%20%20%20%20%20%20%20marker_b937bbeac4e0478a8f8373e140bf4f40.bindPopup%28popup_89f568d77aaf49d1963f9a468bd6fbb3%29%0A%20%20%20%20%20%20%20%20%3B%0A%0A%20%20%20%20%20%20%20%20%0A%20%20%20%20%0A%20%20%20%20%0A%20%20%20%20%20%20%20%20%20%20%20%20var%20marker_5a0411287c904d55b091272146e9ccff%20%3D%20L.marker%28%0A%20%20%20%20%20%20%20%20%20%20%20%20%20%20%20%20%5B18.48%2C%2030.42%5D%2C%0A%20%20%20%20%20%20%20%20%20%20%20%20%20%20%20%20%7B%7D%0A%20%20%20%20%20%20%20%20%20%20%20%20%29.addTo%28map_834c4b1b29614a89a1af5adaf340706e%29%3B%0A%20%20%20%20%20%20%20%20%0A%20%20%20%20%0A%20%20%20%20%20%20%20%20var%20popup_1bce8a5586c9446186c236dd9161b560%20%3D%20L.popup%28%7B%22maxWidth%22%3A%20%22100%25%22%7D%29%3B%0A%0A%20%20%20%20%20%20%20%20%0A%20%20%20%20%20%20%20%20%20%20%20%20var%20html_372f1e56ef7f40a5a1ef7daa2dd1cbbf%20%3D%20%24%28%60%3Cdiv%20id%3D%22html_372f1e56ef7f40a5a1ef7daa2dd1cbbf%22%20style%3D%22width%3A%20100.0%25%3B%20height%3A%20100.0%25%3B%22%3E15.621744680851066%3C/div%3E%60%29%5B0%5D%3B%0A%20%20%20%20%20%20%20%20%20%20%20%20popup_1bce8a5586c9446186c236dd9161b560.setContent%28html_372f1e56ef7f40a5a1ef7daa2dd1cbbf%29%3B%0A%20%20%20%20%20%20%20%20%0A%0A%20%20%20%20%20%20%20%20marker_5a0411287c904d55b091272146e9ccff.bindPopup%28popup_1bce8a5586c9446186c236dd9161b560%29%0A%20%20%20%20%20%20%20%20%3B%0A%0A%20%20%20%20%20%20%20%20%0A%20%20%20%20%0A%20%20%20%20%0A%20%20%20%20%20%20%20%20%20%20%20%20var%20marker_31e78b1c14e541528ceee173694091b9%20%3D%20L.marker%28%0A%20%20%20%20%20%20%20%20%20%20%20%20%20%20%20%20%5B20.09%2C%2029.0%5D%2C%0A%20%20%20%20%20%20%20%20%20%20%20%20%20%20%20%20%7B%7D%0A%20%20%20%20%20%20%20%20%20%20%20%20%29.addTo%28map_834c4b1b29614a89a1af5adaf340706e%29%3B%0A%20%20%20%20%20%20%20%20%0A%20%20%20%20%0A%20%20%20%20%20%20%20%20var%20popup_f9552173b2e040f7a48247cde8d0bb65%20%3D%20L.popup%28%7B%22maxWidth%22%3A%20%22100%25%22%7D%29%3B%0A%0A%20%20%20%20%20%20%20%20%0A%20%20%20%20%20%20%20%20%20%20%20%20var%20html_10283b9198614ae4932e458296f12871%20%3D%20%24%28%60%3Cdiv%20id%3D%22html_10283b9198614ae4932e458296f12871%22%20style%3D%22width%3A%20100.0%25%3B%20height%3A%20100.0%25%3B%22%3E14.592645569620252%3C/div%3E%60%29%5B0%5D%3B%0A%20%20%20%20%20%20%20%20%20%20%20%20popup_f9552173b2e040f7a48247cde8d0bb65.setContent%28html_10283b9198614ae4932e458296f12871%29%3B%0A%20%20%20%20%20%20%20%20%0A%0A%20%20%20%20%20%20%20%20marker_31e78b1c14e541528ceee173694091b9.bindPopup%28popup_f9552173b2e040f7a48247cde8d0bb65%29%0A%20%20%20%20%20%20%20%20%3B%0A%0A%20%20%20%20%20%20%20%20%0A%20%20%20%20%0A%20%20%20%20%0A%20%20%20%20%20%20%20%20%20%20%20%20var%20marker_9e4cd32c4ac64b6a9595ae851bd6022b%20%3D%20L.marker%28%0A%20%20%20%20%20%20%20%20%20%20%20%20%20%20%20%20%5B18.48%2C%2030.42%5D%2C%0A%20%20%20%20%20%20%20%20%20%20%20%20%20%20%20%20%7B%7D%0A%20%20%20%20%20%20%20%20%20%20%20%20%29.addTo%28map_834c4b1b29614a89a1af5adaf340706e%29%3B%0A%20%20%20%20%20%20%20%20%0A%20%20%20%20%0A%20%20%20%20%20%20%20%20var%20popup_8381d499e5104a15bf03fdee83c5fcb8%20%3D%20L.popup%28%7B%22maxWidth%22%3A%20%22100%25%22%7D%29%3B%0A%0A%20%20%20%20%20%20%20%20%0A%20%20%20%20%20%20%20%20%20%20%20%20var%20html_ffde61a0a8234b46a1aa84c8d5e6e613%20%3D%20%24%28%60%3Cdiv%20id%3D%22html_ffde61a0a8234b46a1aa84c8d5e6e613%22%20style%3D%22width%3A%20100.0%25%3B%20height%3A%20100.0%25%3B%22%3E15.621744680851066%3C/div%3E%60%29%5B0%5D%3B%0A%20%20%20%20%20%20%20%20%20%20%20%20popup_8381d499e5104a15bf03fdee83c5fcb8.setContent%28html_ffde61a0a8234b46a1aa84c8d5e6e613%29%3B%0A%20%20%20%20%20%20%20%20%0A%0A%20%20%20%20%20%20%20%20marker_9e4cd32c4ac64b6a9595ae851bd6022b.bindPopup%28popup_8381d499e5104a15bf03fdee83c5fcb8%29%0A%20%20%20%20%20%20%20%20%3B%0A%0A%20%20%20%20%20%20%20%20%0A%20%20%20%20%0A%20%20%20%20%0A%20%20%20%20%20%20%20%20%20%20%20%20var%20marker_855b8f34ebe94fbabe5b1e922c955e11%20%3D%20L.marker%28%0A%20%20%20%20%20%20%20%20%20%20%20%20%20%20%20%20%5B18.48%2C%2030.42%5D%2C%0A%20%20%20%20%20%20%20%20%20%20%20%20%20%20%20%20%7B%7D%0A%20%20%20%20%20%20%20%20%20%20%20%20%29.addTo%28map_834c4b1b29614a89a1af5adaf340706e%29%3B%0A%20%20%20%20%20%20%20%20%0A%20%20%20%20%0A%20%20%20%20%20%20%20%20var%20popup_6acdccb11a714d56949a97440b4e654e%20%3D%20L.popup%28%7B%22maxWidth%22%3A%20%22100%25%22%7D%29%3B%0A%0A%20%20%20%20%20%20%20%20%0A%20%20%20%20%20%20%20%20%20%20%20%20var%20html_80d929afad204e778ca2ae65244d3aee%20%3D%20%24%28%60%3Cdiv%20id%3D%22html_80d929afad204e778ca2ae65244d3aee%22%20style%3D%22width%3A%20100.0%25%3B%20height%3A%20100.0%25%3B%22%3E15.621744680851066%3C/div%3E%60%29%5B0%5D%3B%0A%20%20%20%20%20%20%20%20%20%20%20%20popup_6acdccb11a714d56949a97440b4e654e.setContent%28html_80d929afad204e778ca2ae65244d3aee%29%3B%0A%20%20%20%20%20%20%20%20%0A%0A%20%20%20%20%20%20%20%20marker_855b8f34ebe94fbabe5b1e922c955e11.bindPopup%28popup_6acdccb11a714d56949a97440b4e654e%29%0A%20%20%20%20%20%20%20%20%3B%0A%0A%20%20%20%20%20%20%20%20%0A%20%20%20%20%0A%20%20%20%20%0A%20%20%20%20%20%20%20%20%20%20%20%20var%20marker_e7300119aeb7454e9db2553a06c3b4bb%20%3D%20L.marker%28%0A%20%20%20%20%20%20%20%20%20%20%20%20%20%20%20%20%5B18.48%2C%2030.42%5D%2C%0A%20%20%20%20%20%20%20%20%20%20%20%20%20%20%20%20%7B%7D%0A%20%20%20%20%20%20%20%20%20%20%20%20%29.addTo%28map_834c4b1b29614a89a1af5adaf340706e%29%3B%0A%20%20%20%20%20%20%20%20%0A%20%20%20%20%0A%20%20%20%20%20%20%20%20var%20popup_c5ee2bda116447ca88aa044ed17fe274%20%3D%20L.popup%28%7B%22maxWidth%22%3A%20%22100%25%22%7D%29%3B%0A%0A%20%20%20%20%20%20%20%20%0A%20%20%20%20%20%20%20%20%20%20%20%20var%20html_92a82aece6574cdf915d68a72550f6b1%20%3D%20%24%28%60%3Cdiv%20id%3D%22html_92a82aece6574cdf915d68a72550f6b1%22%20style%3D%22width%3A%20100.0%25%3B%20height%3A%20100.0%25%3B%22%3E15.621744680851066%3C/div%3E%60%29%5B0%5D%3B%0A%20%20%20%20%20%20%20%20%20%20%20%20popup_c5ee2bda116447ca88aa044ed17fe274.setContent%28html_92a82aece6574cdf915d68a72550f6b1%29%3B%0A%20%20%20%20%20%20%20%20%0A%0A%20%20%20%20%20%20%20%20marker_e7300119aeb7454e9db2553a06c3b4bb.bindPopup%28popup_c5ee2bda116447ca88aa044ed17fe274%29%0A%20%20%20%20%20%20%20%20%3B%0A%0A%20%20%20%20%20%20%20%20%0A%20%20%20%20%0A%20%20%20%20%0A%20%20%20%20%20%20%20%20%20%20%20%20var%20marker_65b49972b0bc4a7e937f575d0ef0a49a%20%3D%20L.marker%28%0A%20%20%20%20%20%20%20%20%20%20%20%20%20%20%20%20%5B18.48%2C%2032.11%5D%2C%0A%20%20%20%20%20%20%20%20%20%20%20%20%20%20%20%20%7B%7D%0A%20%20%20%20%20%20%20%20%20%20%20%20%29.addTo%28map_834c4b1b29614a89a1af5adaf340706e%29%3B%0A%20%20%20%20%20%20%20%20%0A%20%20%20%20%0A%20%20%20%20%20%20%20%20var%20popup_b81c317aa6ed4cc09b9091d452e3cc79%20%3D%20L.popup%28%7B%22maxWidth%22%3A%20%22100%25%22%7D%29%3B%0A%0A%20%20%20%20%20%20%20%20%0A%20%20%20%20%20%20%20%20%20%20%20%20var%20html_df35562083c4451da0aeb83e58e863d6%20%3D%20%24%28%60%3Cdiv%20id%3D%22html_df35562083c4451da0aeb83e58e863d6%22%20style%3D%22width%3A%20100.0%25%3B%20height%3A%20100.0%25%3B%22%3E13.912290780141845%3C/div%3E%60%29%5B0%5D%3B%0A%20%20%20%20%20%20%20%20%20%20%20%20popup_b81c317aa6ed4cc09b9091d452e3cc79.setContent%28html_df35562083c4451da0aeb83e58e863d6%29%3B%0A%20%20%20%20%20%20%20%20%0A%0A%20%20%20%20%20%20%20%20marker_65b49972b0bc4a7e937f575d0ef0a49a.bindPopup%28popup_b81c317aa6ed4cc09b9091d452e3cc79%29%0A%20%20%20%20%20%20%20%20%3B%0A%0A%20%20%20%20%20%20%20%20%0A%20%20%20%20%0A%20%20%20%20%0A%20%20%20%20%20%20%20%20%20%20%20%20var%20marker_b0df38139ccb4fe88434f2b7f3ce50d0%20%3D%20L.marker%28%0A%20%20%20%20%20%20%20%20%20%20%20%20%20%20%20%20%5B20.09%2C%2029.0%5D%2C%0A%20%20%20%20%20%20%20%20%20%20%20%20%20%20%20%20%7B%7D%0A%20%20%20%20%20%20%20%20%20%20%20%20%29.addTo%28map_834c4b1b29614a89a1af5adaf340706e%29%3B%0A%20%20%20%20%20%20%20%20%0A%20%20%20%20%0A%20%20%20%20%20%20%20%20var%20popup_0b2a281f14b14085bc1c65f14eee1edf%20%3D%20L.popup%28%7B%22maxWidth%22%3A%20%22100%25%22%7D%29%3B%0A%0A%20%20%20%20%20%20%20%20%0A%20%20%20%20%20%20%20%20%20%20%20%20var%20html_09dddc8dc46143f3ac716475851b12d5%20%3D%20%24%28%60%3Cdiv%20id%3D%22html_09dddc8dc46143f3ac716475851b12d5%22%20style%3D%22width%3A%20100.0%25%3B%20height%3A%20100.0%25%3B%22%3E14.448037974683544%3C/div%3E%60%29%5B0%5D%3B%0A%20%20%20%20%20%20%20%20%20%20%20%20popup_0b2a281f14b14085bc1c65f14eee1edf.setContent%28html_09dddc8dc46143f3ac716475851b12d5%29%3B%0A%20%20%20%20%20%20%20%20%0A%0A%20%20%20%20%20%20%20%20marker_b0df38139ccb4fe88434f2b7f3ce50d0.bindPopup%28popup_0b2a281f14b14085bc1c65f14eee1edf%29%0A%20%20%20%20%20%20%20%20%3B%0A%0A%20%20%20%20%20%20%20%20%0A%20%20%20%20%0A%20%20%20%20%0A%20%20%20%20%20%20%20%20%20%20%20%20var%20marker_6758b8bd98874745814c955762657915%20%3D%20L.marker%28%0A%20%20%20%20%20%20%20%20%20%20%20%20%20%20%20%20%5B18.48%2C%2030.42%5D%2C%0A%20%20%20%20%20%20%20%20%20%20%20%20%20%20%20%20%7B%7D%0A%20%20%20%20%20%20%20%20%20%20%20%20%29.addTo%28map_834c4b1b29614a89a1af5adaf340706e%29%3B%0A%20%20%20%20%20%20%20%20%0A%20%20%20%20%0A%20%20%20%20%20%20%20%20var%20popup_2bea5b34dae3401583286721a8c3fc81%20%3D%20L.popup%28%7B%22maxWidth%22%3A%20%22100%25%22%7D%29%3B%0A%0A%20%20%20%20%20%20%20%20%0A%20%20%20%20%20%20%20%20%20%20%20%20var%20html_bd0f0baca8ad4e028f6fd86af24d9154%20%3D%20%24%28%60%3Cdiv%20id%3D%22html_bd0f0baca8ad4e028f6fd86af24d9154%22%20style%3D%22width%3A%20100.0%25%3B%20height%3A%20100.0%25%3B%22%3E15.356366197183098%3C/div%3E%60%29%5B0%5D%3B%0A%20%20%20%20%20%20%20%20%20%20%20%20popup_2bea5b34dae3401583286721a8c3fc81.setContent%28html_bd0f0baca8ad4e028f6fd86af24d9154%29%3B%0A%20%20%20%20%20%20%20%20%0A%0A%20%20%20%20%20%20%20%20marker_6758b8bd98874745814c955762657915.bindPopup%28popup_2bea5b34dae3401583286721a8c3fc81%29%0A%20%20%20%20%20%20%20%20%3B%0A%0A%20%20%20%20%20%20%20%20%0A%20%20%20%20%0A%20%20%20%20%0A%20%20%20%20%20%20%20%20%20%20%20%20var%20marker_7918d62369984d4d8f4d979d14d02b8b%20%3D%20L.marker%28%0A%20%20%20%20%20%20%20%20%20%20%20%20%20%20%20%20%5B20.09%2C%2029.0%5D%2C%0A%20%20%20%20%20%20%20%20%20%20%20%20%20%20%20%20%7B%7D%0A%20%20%20%20%20%20%20%20%20%20%20%20%29.addTo%28map_834c4b1b29614a89a1af5adaf340706e%29%3B%0A%20%20%20%20%20%20%20%20%0A%20%20%20%20%0A%20%20%20%20%20%20%20%20var%20popup_03315af99433489e8ecc5bdecf8616c3%20%3D%20L.popup%28%7B%22maxWidth%22%3A%20%22100%25%22%7D%29%3B%0A%0A%20%20%20%20%20%20%20%20%0A%20%20%20%20%20%20%20%20%20%20%20%20var%20html_a233f25c7a3e4de5a6f3c8f8226d0b07%20%3D%20%24%28%60%3Cdiv%20id%3D%22html_a233f25c7a3e4de5a6f3c8f8226d0b07%22%20style%3D%22width%3A%20100.0%25%3B%20height%3A%20100.0%25%3B%22%3E14.448037974683544%3C/div%3E%60%29%5B0%5D%3B%0A%20%20%20%20%20%20%20%20%20%20%20%20popup_03315af99433489e8ecc5bdecf8616c3.setContent%28html_a233f25c7a3e4de5a6f3c8f8226d0b07%29%3B%0A%20%20%20%20%20%20%20%20%0A%0A%20%20%20%20%20%20%20%20marker_7918d62369984d4d8f4d979d14d02b8b.bindPopup%28popup_03315af99433489e8ecc5bdecf8616c3%29%0A%20%20%20%20%20%20%20%20%3B%0A%0A%20%20%20%20%20%20%20%20%0A%20%20%20%20%0A%20%20%20%20%0A%20%20%20%20%20%20%20%20%20%20%20%20var%20marker_254eeb0d73af4f548111a49ca5932353%20%3D%20L.marker%28%0A%20%20%20%20%20%20%20%20%20%20%20%20%20%20%20%20%5B18.48%2C%2030.42%5D%2C%0A%20%20%20%20%20%20%20%20%20%20%20%20%20%20%20%20%7B%7D%0A%20%20%20%20%20%20%20%20%20%20%20%20%29.addTo%28map_834c4b1b29614a89a1af5adaf340706e%29%3B%0A%20%20%20%20%20%20%20%20%0A%20%20%20%20%0A%20%20%20%20%20%20%20%20var%20popup_66aee7f2ecf64bd7ba146e1f8f6e7bb4%20%3D%20L.popup%28%7B%22maxWidth%22%3A%20%22100%25%22%7D%29%3B%0A%0A%20%20%20%20%20%20%20%20%0A%20%20%20%20%20%20%20%20%20%20%20%20var%20html_ca5435d725cb45e3937e9577a2587c74%20%3D%20%24%28%60%3Cdiv%20id%3D%22html_ca5435d725cb45e3937e9577a2587c74%22%20style%3D%22width%3A%20100.0%25%3B%20height%3A%20100.0%25%3B%22%3E15.356366197183098%3C/div%3E%60%29%5B0%5D%3B%0A%20%20%20%20%20%20%20%20%20%20%20%20popup_66aee7f2ecf64bd7ba146e1f8f6e7bb4.setContent%28html_ca5435d725cb45e3937e9577a2587c74%29%3B%0A%20%20%20%20%20%20%20%20%0A%0A%20%20%20%20%20%20%20%20marker_254eeb0d73af4f548111a49ca5932353.bindPopup%28popup_66aee7f2ecf64bd7ba146e1f8f6e7bb4%29%0A%20%20%20%20%20%20%20%20%3B%0A%0A%20%20%20%20%20%20%20%20%0A%20%20%20%20%0A%20%20%20%20%0A%20%20%20%20%20%20%20%20%20%20%20%20var%20marker_aed64656be404950b8659d8cc938a6e2%20%3D%20L.marker%28%0A%20%20%20%20%20%20%20%20%20%20%20%20%20%20%20%20%5B18.48%2C%2030.42%5D%2C%0A%20%20%20%20%20%20%20%20%20%20%20%20%20%20%20%20%7B%7D%0A%20%20%20%20%20%20%20%20%20%20%20%20%29.addTo%28map_834c4b1b29614a89a1af5adaf340706e%29%3B%0A%20%20%20%20%20%20%20%20%0A%20%20%20%20%0A%20%20%20%20%20%20%20%20var%20popup_57697ab12a0b428f99aa830c9bca798f%20%3D%20L.popup%28%7B%22maxWidth%22%3A%20%22100%25%22%7D%29%3B%0A%0A%20%20%20%20%20%20%20%20%0A%20%20%20%20%20%20%20%20%20%20%20%20var%20html_23411de12597411693bbac45daba7544%20%3D%20%24%28%60%3Cdiv%20id%3D%22html_23411de12597411693bbac45daba7544%22%20style%3D%22width%3A%20100.0%25%3B%20height%3A%20100.0%25%3B%22%3E15.356366197183098%3C/div%3E%60%29%5B0%5D%3B%0A%20%20%20%20%20%20%20%20%20%20%20%20popup_57697ab12a0b428f99aa830c9bca798f.setContent%28html_23411de12597411693bbac45daba7544%29%3B%0A%20%20%20%20%20%20%20%20%0A%0A%20%20%20%20%20%20%20%20marker_aed64656be404950b8659d8cc938a6e2.bindPopup%28popup_57697ab12a0b428f99aa830c9bca798f%29%0A%20%20%20%20%20%20%20%20%3B%0A%0A%20%20%20%20%20%20%20%20%0A%20%20%20%20%0A%20%20%20%20%0A%20%20%20%20%20%20%20%20%20%20%20%20var%20marker_678c59dfe10540d1aca443a2884f3e54%20%3D%20L.marker%28%0A%20%20%20%20%20%20%20%20%20%20%20%20%20%20%20%20%5B18.48%2C%2030.42%5D%2C%0A%20%20%20%20%20%20%20%20%20%20%20%20%20%20%20%20%7B%7D%0A%20%20%20%20%20%20%20%20%20%20%20%20%29.addTo%28map_834c4b1b29614a89a1af5adaf340706e%29%3B%0A%20%20%20%20%20%20%20%20%0A%20%20%20%20%0A%20%20%20%20%20%20%20%20var%20popup_6e4dff2d1dda467faa18e01c825f4f3d%20%3D%20L.popup%28%7B%22maxWidth%22%3A%20%22100%25%22%7D%29%3B%0A%0A%20%20%20%20%20%20%20%20%0A%20%20%20%20%20%20%20%20%20%20%20%20var%20html_9204e5349df6487c9d1122414c07c00c%20%3D%20%24%28%60%3Cdiv%20id%3D%22html_9204e5349df6487c9d1122414c07c00c%22%20style%3D%22width%3A%20100.0%25%3B%20height%3A%20100.0%25%3B%22%3E15.356366197183098%3C/div%3E%60%29%5B0%5D%3B%0A%20%20%20%20%20%20%20%20%20%20%20%20popup_6e4dff2d1dda467faa18e01c825f4f3d.setContent%28html_9204e5349df6487c9d1122414c07c00c%29%3B%0A%20%20%20%20%20%20%20%20%0A%0A%20%20%20%20%20%20%20%20marker_678c59dfe10540d1aca443a2884f3e54.bindPopup%28popup_6e4dff2d1dda467faa18e01c825f4f3d%29%0A%20%20%20%20%20%20%20%20%3B%0A%0A%20%20%20%20%20%20%20%20%0A%20%20%20%20%0A%20%20%20%20%0A%20%20%20%20%20%20%20%20%20%20%20%20var%20marker_fc9f744237a446c799b1c77b1fa5d1f3%20%3D%20L.marker%28%0A%20%20%20%20%20%20%20%20%20%20%20%20%20%20%20%20%5B18.48%2C%2032.11%5D%2C%0A%20%20%20%20%20%20%20%20%20%20%20%20%20%20%20%20%7B%7D%0A%20%20%20%20%20%20%20%20%20%20%20%20%29.addTo%28map_834c4b1b29614a89a1af5adaf340706e%29%3B%0A%20%20%20%20%20%20%20%20%0A%20%20%20%20%0A%20%20%20%20%20%20%20%20var%20popup_7880dbc1bb4e4d54958b68ee40907a70%20%3D%20L.popup%28%7B%22maxWidth%22%3A%20%22100%25%22%7D%29%3B%0A%0A%20%20%20%20%20%20%20%20%0A%20%20%20%20%20%20%20%20%20%20%20%20var%20html_436c0756c8504652a7abf632c7844683%20%3D%20%24%28%60%3Cdiv%20id%3D%22html_436c0756c8504652a7abf632c7844683%22%20style%3D%22width%3A%20100.0%25%3B%20height%3A%20100.0%25%3B%22%3E13.603549295774647%3C/div%3E%60%29%5B0%5D%3B%0A%20%20%20%20%20%20%20%20%20%20%20%20popup_7880dbc1bb4e4d54958b68ee40907a70.setContent%28html_436c0756c8504652a7abf632c7844683%29%3B%0A%20%20%20%20%20%20%20%20%0A%0A%20%20%20%20%20%20%20%20marker_fc9f744237a446c799b1c77b1fa5d1f3.bindPopup%28popup_7880dbc1bb4e4d54958b68ee40907a70%29%0A%20%20%20%20%20%20%20%20%3B%0A%0A%20%20%20%20%20%20%20%20%0A%20%20%20%20%0A%20%20%20%20%0A%20%20%20%20%20%20%20%20%20%20%20%20var%20marker_499a45075d5943a9aee1b1432b95fcc5%20%3D%20L.marker%28%0A%20%20%20%20%20%20%20%20%20%20%20%20%20%20%20%20%5B20.09%2C%2029.0%5D%2C%0A%20%20%20%20%20%20%20%20%20%20%20%20%20%20%20%20%7B%7D%0A%20%20%20%20%20%20%20%20%20%20%20%20%29.addTo%28map_834c4b1b29614a89a1af5adaf340706e%29%3B%0A%20%20%20%20%20%20%20%20%0A%20%20%20%20%0A%20%20%20%20%20%20%20%20var%20popup_c5f5ce5193f640b280a90b8be2f8f108%20%3D%20L.popup%28%7B%22maxWidth%22%3A%20%22100%25%22%7D%29%3B%0A%0A%20%20%20%20%20%20%20%20%0A%20%20%20%20%20%20%20%20%20%20%20%20var%20html_21a68401e20244f2a78fb881b7e9a72c%20%3D%20%24%28%60%3Cdiv%20id%3D%22html_21a68401e20244f2a78fb881b7e9a72c%22%20style%3D%22width%3A%20100.0%25%3B%20height%3A%20100.0%25%3B%22%3E16.891375796178345%3C/div%3E%60%29%5B0%5D%3B%0A%20%20%20%20%20%20%20%20%20%20%20%20popup_c5f5ce5193f640b280a90b8be2f8f108.setContent%28html_21a68401e20244f2a78fb881b7e9a72c%29%3B%0A%20%20%20%20%20%20%20%20%0A%0A%20%20%20%20%20%20%20%20marker_499a45075d5943a9aee1b1432b95fcc5.bindPopup%28popup_c5f5ce5193f640b280a90b8be2f8f108%29%0A%20%20%20%20%20%20%20%20%3B%0A%0A%20%20%20%20%20%20%20%20%0A%20%20%20%20%0A%20%20%20%20%0A%20%20%20%20%20%20%20%20%20%20%20%20var%20marker_96b3b7cbfd3549c88a96a9d58f82c916%20%3D%20L.marker%28%0A%20%20%20%20%20%20%20%20%20%20%20%20%20%20%20%20%5B18.48%2C%2030.42%5D%2C%0A%20%20%20%20%20%20%20%20%20%20%20%20%20%20%20%20%7B%7D%0A%20%20%20%20%20%20%20%20%20%20%20%20%29.addTo%28map_834c4b1b29614a89a1af5adaf340706e%29%3B%0A%20%20%20%20%20%20%20%20%0A%20%20%20%20%0A%20%20%20%20%20%20%20%20var%20popup_6d40ede24b8b40998f0a485e6aaf5ea1%20%3D%20L.popup%28%7B%22maxWidth%22%3A%20%22100%25%22%7D%29%3B%0A%0A%20%20%20%20%20%20%20%20%0A%20%20%20%20%20%20%20%20%20%20%20%20var%20html_2e90a16c605744b5816ca9585816f786%20%3D%20%24%28%60%3Cdiv%20id%3D%22html_2e90a16c605744b5816ca9585816f786%22%20style%3D%22width%3A%20100.0%25%3B%20height%3A%20100.0%25%3B%22%3E17.65607092198582%3C/div%3E%60%29%5B0%5D%3B%0A%20%20%20%20%20%20%20%20%20%20%20%20popup_6d40ede24b8b40998f0a485e6aaf5ea1.setContent%28html_2e90a16c605744b5816ca9585816f786%29%3B%0A%20%20%20%20%20%20%20%20%0A%0A%20%20%20%20%20%20%20%20marker_96b3b7cbfd3549c88a96a9d58f82c916.bindPopup%28popup_6d40ede24b8b40998f0a485e6aaf5ea1%29%0A%20%20%20%20%20%20%20%20%3B%0A%0A%20%20%20%20%20%20%20%20%0A%20%20%20%20%0A%20%20%20%20%0A%20%20%20%20%20%20%20%20%20%20%20%20var%20marker_25a2e99fa6fc49b893077c38d5d299bb%20%3D%20L.marker%28%0A%20%20%20%20%20%20%20%20%20%20%20%20%20%20%20%20%5B20.09%2C%2029.0%5D%2C%0A%20%20%20%20%20%20%20%20%20%20%20%20%20%20%20%20%7B%7D%0A%20%20%20%20%20%20%20%20%20%20%20%20%29.addTo%28map_834c4b1b29614a89a1af5adaf340706e%29%3B%0A%20%20%20%20%20%20%20%20%0A%20%20%20%20%0A%20%20%20%20%20%20%20%20var%20popup_adb4a2fa45b241c1b9cb68223ad5b072%20%3D%20L.popup%28%7B%22maxWidth%22%3A%20%22100%25%22%7D%29%3B%0A%0A%20%20%20%20%20%20%20%20%0A%20%20%20%20%20%20%20%20%20%20%20%20var%20html_a23b9013a0ae4083bef2e7b7f1294abd%20%3D%20%24%28%60%3Cdiv%20id%3D%22html_a23b9013a0ae4083bef2e7b7f1294abd%22%20style%3D%22width%3A%20100.0%25%3B%20height%3A%20100.0%25%3B%22%3E16.891375796178345%3C/div%3E%60%29%5B0%5D%3B%0A%20%20%20%20%20%20%20%20%20%20%20%20popup_adb4a2fa45b241c1b9cb68223ad5b072.setContent%28html_a23b9013a0ae4083bef2e7b7f1294abd%29%3B%0A%20%20%20%20%20%20%20%20%0A%0A%20%20%20%20%20%20%20%20marker_25a2e99fa6fc49b893077c38d5d299bb.bindPopup%28popup_adb4a2fa45b241c1b9cb68223ad5b072%29%0A%20%20%20%20%20%20%20%20%3B%0A%0A%20%20%20%20%20%20%20%20%0A%20%20%20%20%0A%20%20%20%20%0A%20%20%20%20%20%20%20%20%20%20%20%20var%20marker_a7b3c30209664136a6b4aba3217f2c4d%20%3D%20L.marker%28%0A%20%20%20%20%20%20%20%20%20%20%20%20%20%20%20%20%5B18.48%2C%2030.42%5D%2C%0A%20%20%20%20%20%20%20%20%20%20%20%20%20%20%20%20%7B%7D%0A%20%20%20%20%20%20%20%20%20%20%20%20%29.addTo%28map_834c4b1b29614a89a1af5adaf340706e%29%3B%0A%20%20%20%20%20%20%20%20%0A%20%20%20%20%0A%20%20%20%20%20%20%20%20var%20popup_bf698dc1ddf645f691d1c612c6290a12%20%3D%20L.popup%28%7B%22maxWidth%22%3A%20%22100%25%22%7D%29%3B%0A%0A%20%20%20%20%20%20%20%20%0A%20%20%20%20%20%20%20%20%20%20%20%20var%20html_f52081b5c24a4c889fdf9ee4a7a2f468%20%3D%20%24%28%60%3Cdiv%20id%3D%22html_f52081b5c24a4c889fdf9ee4a7a2f468%22%20style%3D%22width%3A%20100.0%25%3B%20height%3A%20100.0%25%3B%22%3E17.65607092198582%3C/div%3E%60%29%5B0%5D%3B%0A%20%20%20%20%20%20%20%20%20%20%20%20popup_bf698dc1ddf645f691d1c612c6290a12.setContent%28html_f52081b5c24a4c889fdf9ee4a7a2f468%29%3B%0A%20%20%20%20%20%20%20%20%0A%0A%20%20%20%20%20%20%20%20marker_a7b3c30209664136a6b4aba3217f2c4d.bindPopup%28popup_bf698dc1ddf645f691d1c612c6290a12%29%0A%20%20%20%20%20%20%20%20%3B%0A%0A%20%20%20%20%20%20%20%20%0A%20%20%20%20%0A%20%20%20%20%0A%20%20%20%20%20%20%20%20%20%20%20%20var%20marker_0cb810e0396747fea2454b3ffc1feccf%20%3D%20L.marker%28%0A%20%20%20%20%20%20%20%20%20%20%20%20%20%20%20%20%5B18.48%2C%2030.42%5D%2C%0A%20%20%20%20%20%20%20%20%20%20%20%20%20%20%20%20%7B%7D%0A%20%20%20%20%20%20%20%20%20%20%20%20%29.addTo%28map_834c4b1b29614a89a1af5adaf340706e%29%3B%0A%20%20%20%20%20%20%20%20%0A%20%20%20%20%0A%20%20%20%20%20%20%20%20var%20popup_93b85ea6ee4840e1be86d4153c8bef00%20%3D%20L.popup%28%7B%22maxWidth%22%3A%20%22100%25%22%7D%29%3B%0A%0A%20%20%20%20%20%20%20%20%0A%20%20%20%20%20%20%20%20%20%20%20%20var%20html_0ae6df2d422c457bac9f288db66dc450%20%3D%20%24%28%60%3Cdiv%20id%3D%22html_0ae6df2d422c457bac9f288db66dc450%22%20style%3D%22width%3A%20100.0%25%3B%20height%3A%20100.0%25%3B%22%3E17.65607092198582%3C/div%3E%60%29%5B0%5D%3B%0A%20%20%20%20%20%20%20%20%20%20%20%20popup_93b85ea6ee4840e1be86d4153c8bef00.setContent%28html_0ae6df2d422c457bac9f288db66dc450%29%3B%0A%20%20%20%20%20%20%20%20%0A%0A%20%20%20%20%20%20%20%20marker_0cb810e0396747fea2454b3ffc1feccf.bindPopup%28popup_93b85ea6ee4840e1be86d4153c8bef00%29%0A%20%20%20%20%20%20%20%20%3B%0A%0A%20%20%20%20%20%20%20%20%0A%20%20%20%20%0A%20%20%20%20%0A%20%20%20%20%20%20%20%20%20%20%20%20var%20marker_893f76c6d7d74d6c98a4d271cc574b93%20%3D%20L.marker%28%0A%20%20%20%20%20%20%20%20%20%20%20%20%20%20%20%20%5B18.48%2C%2030.42%5D%2C%0A%20%20%20%20%20%20%20%20%20%20%20%20%20%20%20%20%7B%7D%0A%20%20%20%20%20%20%20%20%20%20%20%20%29.addTo%28map_834c4b1b29614a89a1af5adaf340706e%29%3B%0A%20%20%20%20%20%20%20%20%0A%20%20%20%20%0A%20%20%20%20%20%20%20%20var%20popup_66c0d7fdf3094827aa904ccd9a8775c7%20%3D%20L.popup%28%7B%22maxWidth%22%3A%20%22100%25%22%7D%29%3B%0A%0A%20%20%20%20%20%20%20%20%0A%20%20%20%20%20%20%20%20%20%20%20%20var%20html_448ef632975349b6b8a7b6a4836fea24%20%3D%20%24%28%60%3Cdiv%20id%3D%22html_448ef632975349b6b8a7b6a4836fea24%22%20style%3D%22width%3A%20100.0%25%3B%20height%3A%20100.0%25%3B%22%3E17.65607092198582%3C/div%3E%60%29%5B0%5D%3B%0A%20%20%20%20%20%20%20%20%20%20%20%20popup_66c0d7fdf3094827aa904ccd9a8775c7.setContent%28html_448ef632975349b6b8a7b6a4836fea24%29%3B%0A%20%20%20%20%20%20%20%20%0A%0A%20%20%20%20%20%20%20%20marker_893f76c6d7d74d6c98a4d271cc574b93.bindPopup%28popup_66c0d7fdf3094827aa904ccd9a8775c7%29%0A%20%20%20%20%20%20%20%20%3B%0A%0A%20%20%20%20%20%20%20%20%0A%20%20%20%20%0A%20%20%20%20%0A%20%20%20%20%20%20%20%20%20%20%20%20var%20marker_b8733a83df144ba5b6a5edd1312c7089%20%3D%20L.marker%28%0A%20%20%20%20%20%20%20%20%20%20%20%20%20%20%20%20%5B18.48%2C%2032.11%5D%2C%0A%20%20%20%20%20%20%20%20%20%20%20%20%20%20%20%20%7B%7D%0A%20%20%20%20%20%20%20%20%20%20%20%20%29.addTo%28map_834c4b1b29614a89a1af5adaf340706e%29%3B%0A%20%20%20%20%20%20%20%20%0A%20%20%20%20%0A%20%20%20%20%20%20%20%20var%20popup_fb1a4d00a033422fa44bc13c910fa8bc%20%3D%20L.popup%28%7B%22maxWidth%22%3A%20%22100%25%22%7D%29%3B%0A%0A%20%20%20%20%20%20%20%20%0A%20%20%20%20%20%20%20%20%20%20%20%20var%20html_7baf9bef8e794d8da1c55e5511f610db%20%3D%20%24%28%60%3Cdiv%20id%3D%22html_7baf9bef8e794d8da1c55e5511f610db%22%20style%3D%22width%3A%20100.0%25%3B%20height%3A%20100.0%25%3B%22%3E15.781716312056739%3C/div%3E%60%29%5B0%5D%3B%0A%20%20%20%20%20%20%20%20%20%20%20%20popup_fb1a4d00a033422fa44bc13c910fa8bc.setContent%28html_7baf9bef8e794d8da1c55e5511f610db%29%3B%0A%20%20%20%20%20%20%20%20%0A%0A%20%20%20%20%20%20%20%20marker_b8733a83df144ba5b6a5edd1312c7089.bindPopup%28popup_fb1a4d00a033422fa44bc13c910fa8bc%29%0A%20%20%20%20%20%20%20%20%3B%0A%0A%20%20%20%20%20%20%20%20%0A%20%20%20%20%0A%20%20%20%20%0A%20%20%20%20%20%20%20%20%20%20%20%20var%20marker_c1fc20de989d4876b00b8b3d96a50a7d%20%3D%20L.marker%28%0A%20%20%20%20%20%20%20%20%20%20%20%20%20%20%20%20%5B20.09%2C%2029.0%5D%2C%0A%20%20%20%20%20%20%20%20%20%20%20%20%20%20%20%20%7B%7D%0A%20%20%20%20%20%20%20%20%20%20%20%20%29.addTo%28map_834c4b1b29614a89a1af5adaf340706e%29%3B%0A%20%20%20%20%20%20%20%20%0A%20%20%20%20%0A%20%20%20%20%20%20%20%20var%20popup_77295d196db24cfcbf509c7337c30a96%20%3D%20L.popup%28%7B%22maxWidth%22%3A%20%22100%25%22%7D%29%3B%0A%0A%20%20%20%20%20%20%20%20%0A%20%20%20%20%20%20%20%20%20%20%20%20var%20html_d65224908e0f4dfbb1061710264252c4%20%3D%20%24%28%60%3Cdiv%20id%3D%22html_d65224908e0f4dfbb1061710264252c4%22%20style%3D%22width%3A%20100.0%25%3B%20height%3A%20100.0%25%3B%22%3E20.42523870967742%3C/div%3E%60%29%5B0%5D%3B%0A%20%20%20%20%20%20%20%20%20%20%20%20popup_77295d196db24cfcbf509c7337c30a96.setContent%28html_d65224908e0f4dfbb1061710264252c4%29%3B%0A%20%20%20%20%20%20%20%20%0A%0A%20%20%20%20%20%20%20%20marker_c1fc20de989d4876b00b8b3d96a50a7d.bindPopup%28popup_77295d196db24cfcbf509c7337c30a96%29%0A%20%20%20%20%20%20%20%20%3B%0A%0A%20%20%20%20%20%20%20%20%0A%20%20%20%20%0A%20%20%20%20%0A%20%20%20%20%20%20%20%20%20%20%20%20var%20marker_40cdfe88eda544b8969320691eaf4ef8%20%3D%20L.marker%28%0A%20%20%20%20%20%20%20%20%20%20%20%20%20%20%20%20%5B18.48%2C%2030.42%5D%2C%0A%20%20%20%20%20%20%20%20%20%20%20%20%20%20%20%20%7B%7D%0A%20%20%20%20%20%20%20%20%20%20%20%20%29.addTo%28map_834c4b1b29614a89a1af5adaf340706e%29%3B%0A%20%20%20%20%20%20%20%20%0A%20%20%20%20%0A%20%20%20%20%20%20%20%20var%20popup_c9bf6389bd44461eba79058c50fbbf47%20%3D%20L.popup%28%7B%22maxWidth%22%3A%20%22100%25%22%7D%29%3B%0A%0A%20%20%20%20%20%20%20%20%0A%20%20%20%20%20%20%20%20%20%20%20%20var%20html_e9ed37d7dac343dab596330c387fdc3e%20%3D%20%24%28%60%3Cdiv%20id%3D%22html_e9ed37d7dac343dab596330c387fdc3e%22%20style%3D%22width%3A%20100.0%25%3B%20height%3A%20100.0%25%3B%22%3E21.192214285714286%3C/div%3E%60%29%5B0%5D%3B%0A%20%20%20%20%20%20%20%20%20%20%20%20popup_c9bf6389bd44461eba79058c50fbbf47.setContent%28html_e9ed37d7dac343dab596330c387fdc3e%29%3B%0A%20%20%20%20%20%20%20%20%0A%0A%20%20%20%20%20%20%20%20marker_40cdfe88eda544b8969320691eaf4ef8.bindPopup%28popup_c9bf6389bd44461eba79058c50fbbf47%29%0A%20%20%20%20%20%20%20%20%3B%0A%0A%20%20%20%20%20%20%20%20%0A%20%20%20%20%0A%20%20%20%20%0A%20%20%20%20%20%20%20%20%20%20%20%20var%20marker_b495612002a1416ba6dcf0c99afb96a8%20%3D%20L.marker%28%0A%20%20%20%20%20%20%20%20%20%20%20%20%20%20%20%20%5B20.09%2C%2029.0%5D%2C%0A%20%20%20%20%20%20%20%20%20%20%20%20%20%20%20%20%7B%7D%0A%20%20%20%20%20%20%20%20%20%20%20%20%29.addTo%28map_834c4b1b29614a89a1af5adaf340706e%29%3B%0A%20%20%20%20%20%20%20%20%0A%20%20%20%20%0A%20%20%20%20%20%20%20%20var%20popup_1f71a1cf9a1245c8ab19f1e5d825f5c5%20%3D%20L.popup%28%7B%22maxWidth%22%3A%20%22100%25%22%7D%29%3B%0A%0A%20%20%20%20%20%20%20%20%0A%20%20%20%20%20%20%20%20%20%20%20%20var%20html_e1aeb1b7598b43c3a35d389ac7c5651e%20%3D%20%24%28%60%3Cdiv%20id%3D%22html_e1aeb1b7598b43c3a35d389ac7c5651e%22%20style%3D%22width%3A%20100.0%25%3B%20height%3A%20100.0%25%3B%22%3E20.42523870967742%3C/div%3E%60%29%5B0%5D%3B%0A%20%20%20%20%20%20%20%20%20%20%20%20popup_1f71a1cf9a1245c8ab19f1e5d825f5c5.setContent%28html_e1aeb1b7598b43c3a35d389ac7c5651e%29%3B%0A%20%20%20%20%20%20%20%20%0A%0A%20%20%20%20%20%20%20%20marker_b495612002a1416ba6dcf0c99afb96a8.bindPopup%28popup_1f71a1cf9a1245c8ab19f1e5d825f5c5%29%0A%20%20%20%20%20%20%20%20%3B%0A%0A%20%20%20%20%20%20%20%20%0A%20%20%20%20%0A%20%20%20%20%0A%20%20%20%20%20%20%20%20%20%20%20%20var%20marker_59829adcaa014182b93645d8bf589952%20%3D%20L.marker%28%0A%20%20%20%20%20%20%20%20%20%20%20%20%20%20%20%20%5B18.48%2C%2030.42%5D%2C%0A%20%20%20%20%20%20%20%20%20%20%20%20%20%20%20%20%7B%7D%0A%20%20%20%20%20%20%20%20%20%20%20%20%29.addTo%28map_834c4b1b29614a89a1af5adaf340706e%29%3B%0A%20%20%20%20%20%20%20%20%0A%20%20%20%20%0A%20%20%20%20%20%20%20%20var%20popup_6646f4780b25484ea02d458e20a51ac3%20%3D%20L.popup%28%7B%22maxWidth%22%3A%20%22100%25%22%7D%29%3B%0A%0A%20%20%20%20%20%20%20%20%0A%20%20%20%20%20%20%20%20%20%20%20%20var%20html_f9f713ed65a34cc0b0bdf5b706b3685c%20%3D%20%24%28%60%3Cdiv%20id%3D%22html_f9f713ed65a34cc0b0bdf5b706b3685c%22%20style%3D%22width%3A%20100.0%25%3B%20height%3A%20100.0%25%3B%22%3E21.192214285714286%3C/div%3E%60%29%5B0%5D%3B%0A%20%20%20%20%20%20%20%20%20%20%20%20popup_6646f4780b25484ea02d458e20a51ac3.setContent%28html_f9f713ed65a34cc0b0bdf5b706b3685c%29%3B%0A%20%20%20%20%20%20%20%20%0A%0A%20%20%20%20%20%20%20%20marker_59829adcaa014182b93645d8bf589952.bindPopup%28popup_6646f4780b25484ea02d458e20a51ac3%29%0A%20%20%20%20%20%20%20%20%3B%0A%0A%20%20%20%20%20%20%20%20%0A%20%20%20%20%0A%20%20%20%20%0A%20%20%20%20%20%20%20%20%20%20%20%20var%20marker_b67241571c854672b39eb8a6e145b827%20%3D%20L.marker%28%0A%20%20%20%20%20%20%20%20%20%20%20%20%20%20%20%20%5B18.48%2C%2030.42%5D%2C%0A%20%20%20%20%20%20%20%20%20%20%20%20%20%20%20%20%7B%7D%0A%20%20%20%20%20%20%20%20%20%20%20%20%29.addTo%28map_834c4b1b29614a89a1af5adaf340706e%29%3B%0A%20%20%20%20%20%20%20%20%0A%20%20%20%20%0A%20%20%20%20%20%20%20%20var%20popup_6a4924fcda5f4dd19c0868e41121fffe%20%3D%20L.popup%28%7B%22maxWidth%22%3A%20%22100%25%22%7D%29%3B%0A%0A%20%20%20%20%20%20%20%20%0A%20%20%20%20%20%20%20%20%20%20%20%20var%20html_8441a68cb7094f6ab7a5e6495e353279%20%3D%20%24%28%60%3Cdiv%20id%3D%22html_8441a68cb7094f6ab7a5e6495e353279%22%20style%3D%22width%3A%20100.0%25%3B%20height%3A%20100.0%25%3B%22%3E21.192214285714286%3C/div%3E%60%29%5B0%5D%3B%0A%20%20%20%20%20%20%20%20%20%20%20%20popup_6a4924fcda5f4dd19c0868e41121fffe.setContent%28html_8441a68cb7094f6ab7a5e6495e353279%29%3B%0A%20%20%20%20%20%20%20%20%0A%0A%20%20%20%20%20%20%20%20marker_b67241571c854672b39eb8a6e145b827.bindPopup%28popup_6a4924fcda5f4dd19c0868e41121fffe%29%0A%20%20%20%20%20%20%20%20%3B%0A%0A%20%20%20%20%20%20%20%20%0A%20%20%20%20%0A%20%20%20%20%0A%20%20%20%20%20%20%20%20%20%20%20%20var%20marker_91cb1114a0494c53bd4747697f4afec5%20%3D%20L.marker%28%0A%20%20%20%20%20%20%20%20%20%20%20%20%20%20%20%20%5B18.48%2C%2030.42%5D%2C%0A%20%20%20%20%20%20%20%20%20%20%20%20%20%20%20%20%7B%7D%0A%20%20%20%20%20%20%20%20%20%20%20%20%29.addTo%28map_834c4b1b29614a89a1af5adaf340706e%29%3B%0A%20%20%20%20%20%20%20%20%0A%20%20%20%20%0A%20%20%20%20%20%20%20%20var%20popup_fc27b078736f4c53aeefcb8dc67c0e26%20%3D%20L.popup%28%7B%22maxWidth%22%3A%20%22100%25%22%7D%29%3B%0A%0A%20%20%20%20%20%20%20%20%0A%20%20%20%20%20%20%20%20%20%20%20%20var%20html_cb66e2ce4ef44d06b550050af45904d1%20%3D%20%24%28%60%3Cdiv%20id%3D%22html_cb66e2ce4ef44d06b550050af45904d1%22%20style%3D%22width%3A%20100.0%25%3B%20height%3A%20100.0%25%3B%22%3E21.192214285714286%3C/div%3E%60%29%5B0%5D%3B%0A%20%20%20%20%20%20%20%20%20%20%20%20popup_fc27b078736f4c53aeefcb8dc67c0e26.setContent%28html_cb66e2ce4ef44d06b550050af45904d1%29%3B%0A%20%20%20%20%20%20%20%20%0A%0A%20%20%20%20%20%20%20%20marker_91cb1114a0494c53bd4747697f4afec5.bindPopup%28popup_fc27b078736f4c53aeefcb8dc67c0e26%29%0A%20%20%20%20%20%20%20%20%3B%0A%0A%20%20%20%20%20%20%20%20%0A%20%20%20%20%0A%20%20%20%20%0A%20%20%20%20%20%20%20%20%20%20%20%20var%20marker_90e85058c37f45f19f55aad542efeddc%20%3D%20L.marker%28%0A%20%20%20%20%20%20%20%20%20%20%20%20%20%20%20%20%5B18.48%2C%2032.11%5D%2C%0A%20%20%20%20%20%20%20%20%20%20%20%20%20%20%20%20%7B%7D%0A%20%20%20%20%20%20%20%20%20%20%20%20%29.addTo%28map_834c4b1b29614a89a1af5adaf340706e%29%3B%0A%20%20%20%20%20%20%20%20%0A%20%20%20%20%0A%20%20%20%20%20%20%20%20var%20popup_616a8076595e4b168f357ec70596d01a%20%3D%20L.popup%28%7B%22maxWidth%22%3A%20%22100%25%22%7D%29%3B%0A%0A%20%20%20%20%20%20%20%20%0A%20%20%20%20%20%20%20%20%20%20%20%20var%20html_42d4b8e738c14f248e9cd483710fa758%20%3D%20%24%28%60%3Cdiv%20id%3D%22html_42d4b8e738c14f248e9cd483710fa758%22%20style%3D%22width%3A%20100.0%25%3B%20height%3A%20100.0%25%3B%22%3E19.04799285714286%3C/div%3E%60%29%5B0%5D%3B%0A%20%20%20%20%20%20%20%20%20%20%20%20popup_616a8076595e4b168f357ec70596d01a.setContent%28html_42d4b8e738c14f248e9cd483710fa758%29%3B%0A%20%20%20%20%20%20%20%20%0A%0A%20%20%20%20%20%20%20%20marker_90e85058c37f45f19f55aad542efeddc.bindPopup%28popup_616a8076595e4b168f357ec70596d01a%29%0A%20%20%20%20%20%20%20%20%3B%0A%0A%20%20%20%20%20%20%20%20%0A%20%20%20%20%0A%20%20%20%20%0A%20%20%20%20%20%20%20%20%20%20%20%20var%20marker_c43fd901952e4a679d24bf3707b4665e%20%3D%20L.marker%28%0A%20%20%20%20%20%20%20%20%20%20%20%20%20%20%20%20%5B20.09%2C%2029.0%5D%2C%0A%20%20%20%20%20%20%20%20%20%20%20%20%20%20%20%20%7B%7D%0A%20%20%20%20%20%20%20%20%20%20%20%20%29.addTo%28map_834c4b1b29614a89a1af5adaf340706e%29%3B%0A%20%20%20%20%20%20%20%20%0A%20%20%20%20%0A%20%20%20%20%20%20%20%20var%20popup_3900be2b98ae4e84a954aa793ece473f%20%3D%20L.popup%28%7B%22maxWidth%22%3A%20%22100%25%22%7D%29%3B%0A%0A%20%20%20%20%20%20%20%20%0A%20%20%20%20%20%20%20%20%20%20%20%20var%20html_a599d7099ac64589886f23855f337559%20%3D%20%24%28%60%3Cdiv%20id%3D%22html_a599d7099ac64589886f23855f337559%22%20style%3D%22width%3A%20100.0%25%3B%20height%3A%20100.0%25%3B%22%3E22.60448076923077%3C/div%3E%60%29%5B0%5D%3B%0A%20%20%20%20%20%20%20%20%20%20%20%20popup_3900be2b98ae4e84a954aa793ece473f.setContent%28html_a599d7099ac64589886f23855f337559%29%3B%0A%20%20%20%20%20%20%20%20%0A%0A%20%20%20%20%20%20%20%20marker_c43fd901952e4a679d24bf3707b4665e.bindPopup%28popup_3900be2b98ae4e84a954aa793ece473f%29%0A%20%20%20%20%20%20%20%20%3B%0A%0A%20%20%20%20%20%20%20%20%0A%20%20%20%20%0A%20%20%20%20%0A%20%20%20%20%20%20%20%20%20%20%20%20var%20marker_fd593d2a9cf04dfdbdb3f2265f899f9b%20%3D%20L.marker%28%0A%20%20%20%20%20%20%20%20%20%20%20%20%20%20%20%20%5B18.48%2C%2030.42%5D%2C%0A%20%20%20%20%20%20%20%20%20%20%20%20%20%20%20%20%7B%7D%0A%20%20%20%20%20%20%20%20%20%20%20%20%29.addTo%28map_834c4b1b29614a89a1af5adaf340706e%29%3B%0A%20%20%20%20%20%20%20%20%0A%20%20%20%20%0A%20%20%20%20%20%20%20%20var%20popup_f9ab6d314f2a4a0d908f7ef7c973f72d%20%3D%20L.popup%28%7B%22maxWidth%22%3A%20%22100%25%22%7D%29%3B%0A%0A%20%20%20%20%20%20%20%20%0A%20%20%20%20%20%20%20%20%20%20%20%20var%20html_cce8b38ec1ed43049fa0b983c9509788%20%3D%20%24%28%60%3Cdiv%20id%3D%22html_cce8b38ec1ed43049fa0b983c9509788%22%20style%3D%22width%3A%20100.0%25%3B%20height%3A%20100.0%25%3B%22%3E23.356335714285716%3C/div%3E%60%29%5B0%5D%3B%0A%20%20%20%20%20%20%20%20%20%20%20%20popup_f9ab6d314f2a4a0d908f7ef7c973f72d.setContent%28html_cce8b38ec1ed43049fa0b983c9509788%29%3B%0A%20%20%20%20%20%20%20%20%0A%0A%20%20%20%20%20%20%20%20marker_fd593d2a9cf04dfdbdb3f2265f899f9b.bindPopup%28popup_f9ab6d314f2a4a0d908f7ef7c973f72d%29%0A%20%20%20%20%20%20%20%20%3B%0A%0A%20%20%20%20%20%20%20%20%0A%20%20%20%20%0A%20%20%20%20%0A%20%20%20%20%20%20%20%20%20%20%20%20var%20marker_2ec53f91dda94790af8c4fd6fbf997cb%20%3D%20L.marker%28%0A%20%20%20%20%20%20%20%20%20%20%20%20%20%20%20%20%5B20.09%2C%2029.0%5D%2C%0A%20%20%20%20%20%20%20%20%20%20%20%20%20%20%20%20%7B%7D%0A%20%20%20%20%20%20%20%20%20%20%20%20%29.addTo%28map_834c4b1b29614a89a1af5adaf340706e%29%3B%0A%20%20%20%20%20%20%20%20%0A%20%20%20%20%0A%20%20%20%20%20%20%20%20var%20popup_99023ca3c2f44c009f29dc70aa7fe59b%20%3D%20L.popup%28%7B%22maxWidth%22%3A%20%22100%25%22%7D%29%3B%0A%0A%20%20%20%20%20%20%20%20%0A%20%20%20%20%20%20%20%20%20%20%20%20var%20html_98497e3f9802466c92b3fbd68dec837d%20%3D%20%24%28%60%3Cdiv%20id%3D%22html_98497e3f9802466c92b3fbd68dec837d%22%20style%3D%22width%3A%20100.0%25%3B%20height%3A%20100.0%25%3B%22%3E22.60448076923077%3C/div%3E%60%29%5B0%5D%3B%0A%20%20%20%20%20%20%20%20%20%20%20%20popup_99023ca3c2f44c009f29dc70aa7fe59b.setContent%28html_98497e3f9802466c92b3fbd68dec837d%29%3B%0A%20%20%20%20%20%20%20%20%0A%0A%20%20%20%20%20%20%20%20marker_2ec53f91dda94790af8c4fd6fbf997cb.bindPopup%28popup_99023ca3c2f44c009f29dc70aa7fe59b%29%0A%20%20%20%20%20%20%20%20%3B%0A%0A%20%20%20%20%20%20%20%20%0A%20%20%20%20%0A%20%20%20%20%0A%20%20%20%20%20%20%20%20%20%20%20%20var%20marker_a46e37ec605843b1a1558d865438fd5c%20%3D%20L.marker%28%0A%20%20%20%20%20%20%20%20%20%20%20%20%20%20%20%20%5B18.48%2C%2030.42%5D%2C%0A%20%20%20%20%20%20%20%20%20%20%20%20%20%20%20%20%7B%7D%0A%20%20%20%20%20%20%20%20%20%20%20%20%29.addTo%28map_834c4b1b29614a89a1af5adaf340706e%29%3B%0A%20%20%20%20%20%20%20%20%0A%20%20%20%20%0A%20%20%20%20%20%20%20%20var%20popup_8530cdce89a74140a234b40a68975836%20%3D%20L.popup%28%7B%22maxWidth%22%3A%20%22100%25%22%7D%29%3B%0A%0A%20%20%20%20%20%20%20%20%0A%20%20%20%20%20%20%20%20%20%20%20%20var%20html_9774e7fa8d9847d29f20a4e04278709d%20%3D%20%24%28%60%3Cdiv%20id%3D%22html_9774e7fa8d9847d29f20a4e04278709d%22%20style%3D%22width%3A%20100.0%25%3B%20height%3A%20100.0%25%3B%22%3E23.356335714285716%3C/div%3E%60%29%5B0%5D%3B%0A%20%20%20%20%20%20%20%20%20%20%20%20popup_8530cdce89a74140a234b40a68975836.setContent%28html_9774e7fa8d9847d29f20a4e04278709d%29%3B%0A%20%20%20%20%20%20%20%20%0A%0A%20%20%20%20%20%20%20%20marker_a46e37ec605843b1a1558d865438fd5c.bindPopup%28popup_8530cdce89a74140a234b40a68975836%29%0A%20%20%20%20%20%20%20%20%3B%0A%0A%20%20%20%20%20%20%20%20%0A%20%20%20%20%0A%20%20%20%20%0A%20%20%20%20%20%20%20%20%20%20%20%20var%20marker_044bb7c346e341b88af4fead9949a746%20%3D%20L.marker%28%0A%20%20%20%20%20%20%20%20%20%20%20%20%20%20%20%20%5B18.48%2C%2030.42%5D%2C%0A%20%20%20%20%20%20%20%20%20%20%20%20%20%20%20%20%7B%7D%0A%20%20%20%20%20%20%20%20%20%20%20%20%29.addTo%28map_834c4b1b29614a89a1af5adaf340706e%29%3B%0A%20%20%20%20%20%20%20%20%0A%20%20%20%20%0A%20%20%20%20%20%20%20%20var%20popup_581dd62cf27b4068a772c33d40c6e8aa%20%3D%20L.popup%28%7B%22maxWidth%22%3A%20%22100%25%22%7D%29%3B%0A%0A%20%20%20%20%20%20%20%20%0A%20%20%20%20%20%20%20%20%20%20%20%20var%20html_07ab15a1c6354d26b34d8a483a6ce3cb%20%3D%20%24%28%60%3Cdiv%20id%3D%22html_07ab15a1c6354d26b34d8a483a6ce3cb%22%20style%3D%22width%3A%20100.0%25%3B%20height%3A%20100.0%25%3B%22%3E23.356335714285716%3C/div%3E%60%29%5B0%5D%3B%0A%20%20%20%20%20%20%20%20%20%20%20%20popup_581dd62cf27b4068a772c33d40c6e8aa.setContent%28html_07ab15a1c6354d26b34d8a483a6ce3cb%29%3B%0A%20%20%20%20%20%20%20%20%0A%0A%20%20%20%20%20%20%20%20marker_044bb7c346e341b88af4fead9949a746.bindPopup%28popup_581dd62cf27b4068a772c33d40c6e8aa%29%0A%20%20%20%20%20%20%20%20%3B%0A%0A%20%20%20%20%20%20%20%20%0A%20%20%20%20%0A%20%20%20%20%0A%20%20%20%20%20%20%20%20%20%20%20%20var%20marker_c52bb1661cc3427cb95d899e4499d993%20%3D%20L.marker%28%0A%20%20%20%20%20%20%20%20%20%20%20%20%20%20%20%20%5B18.48%2C%2030.42%5D%2C%0A%20%20%20%20%20%20%20%20%20%20%20%20%20%20%20%20%7B%7D%0A%20%20%20%20%20%20%20%20%20%20%20%20%29.addTo%28map_834c4b1b29614a89a1af5adaf340706e%29%3B%0A%20%20%20%20%20%20%20%20%0A%20%20%20%20%0A%20%20%20%20%20%20%20%20var%20popup_850155c6d7c740c195ec3e163d27ce6b%20%3D%20L.popup%28%7B%22maxWidth%22%3A%20%22100%25%22%7D%29%3B%0A%0A%20%20%20%20%20%20%20%20%0A%20%20%20%20%20%20%20%20%20%20%20%20var%20html_cea0bd81566744518befa0c7b8ed1cae%20%3D%20%24%28%60%3Cdiv%20id%3D%22html_cea0bd81566744518befa0c7b8ed1cae%22%20style%3D%22width%3A%20100.0%25%3B%20height%3A%20100.0%25%3B%22%3E23.356335714285716%3C/div%3E%60%29%5B0%5D%3B%0A%20%20%20%20%20%20%20%20%20%20%20%20popup_850155c6d7c740c195ec3e163d27ce6b.setContent%28html_cea0bd81566744518befa0c7b8ed1cae%29%3B%0A%20%20%20%20%20%20%20%20%0A%0A%20%20%20%20%20%20%20%20marker_c52bb1661cc3427cb95d899e4499d993.bindPopup%28popup_850155c6d7c740c195ec3e163d27ce6b%29%0A%20%20%20%20%20%20%20%20%3B%0A%0A%20%20%20%20%20%20%20%20%0A%20%20%20%20%0A%20%20%20%20%0A%20%20%20%20%20%20%20%20%20%20%20%20var%20marker_e65b84ee10024bd99f481b58aa67786e%20%3D%20L.marker%28%0A%20%20%20%20%20%20%20%20%20%20%20%20%20%20%20%20%5B18.48%2C%2032.11%5D%2C%0A%20%20%20%20%20%20%20%20%20%20%20%20%20%20%20%20%7B%7D%0A%20%20%20%20%20%20%20%20%20%20%20%20%29.addTo%28map_834c4b1b29614a89a1af5adaf340706e%29%3B%0A%20%20%20%20%20%20%20%20%0A%20%20%20%20%0A%20%20%20%20%20%20%20%20var%20popup_35a35b1fd8bb4c35b79039b47b3b7499%20%3D%20L.popup%28%7B%22maxWidth%22%3A%20%22100%25%22%7D%29%3B%0A%0A%20%20%20%20%20%20%20%20%0A%20%20%20%20%20%20%20%20%20%20%20%20var%20html_81f5243019cb40359dd3146a7148af54%20%3D%20%24%28%60%3Cdiv%20id%3D%22html_81f5243019cb40359dd3146a7148af54%22%20style%3D%22width%3A%20100.0%25%3B%20height%3A%20100.0%25%3B%22%3E21.122514285714285%3C/div%3E%60%29%5B0%5D%3B%0A%20%20%20%20%20%20%20%20%20%20%20%20popup_35a35b1fd8bb4c35b79039b47b3b7499.setContent%28html_81f5243019cb40359dd3146a7148af54%29%3B%0A%20%20%20%20%20%20%20%20%0A%0A%20%20%20%20%20%20%20%20marker_e65b84ee10024bd99f481b58aa67786e.bindPopup%28popup_35a35b1fd8bb4c35b79039b47b3b7499%29%0A%20%20%20%20%20%20%20%20%3B%0A%0A%20%20%20%20%20%20%20%20%0A%20%20%20%20%0A%20%20%20%20%0A%20%20%20%20%20%20%20%20%20%20%20%20var%20marker_b99b4beddabc421c87bebebf7382d7fb%20%3D%20L.marker%28%0A%20%20%20%20%20%20%20%20%20%20%20%20%20%20%20%20%5B20.09%2C%2029.0%5D%2C%0A%20%20%20%20%20%20%20%20%20%20%20%20%20%20%20%20%7B%7D%0A%20%20%20%20%20%20%20%20%20%20%20%20%29.addTo%28map_834c4b1b29614a89a1af5adaf340706e%29%3B%0A%20%20%20%20%20%20%20%20%0A%20%20%20%20%0A%20%20%20%20%20%20%20%20var%20popup_a1374045c2654e68b4d2caee89a6f997%20%3D%20L.popup%28%7B%22maxWidth%22%3A%20%22100%25%22%7D%29%3B%0A%0A%20%20%20%20%20%20%20%20%0A%20%20%20%20%20%20%20%20%20%20%20%20var%20html_a4d729a7daa44c849244f1fc73b57f75%20%3D%20%24%28%60%3Cdiv%20id%3D%22html_a4d729a7daa44c849244f1fc73b57f75%22%20style%3D%22width%3A%20100.0%25%3B%20height%3A%20100.0%25%3B%22%3E22.89175%3C/div%3E%60%29%5B0%5D%3B%0A%20%20%20%20%20%20%20%20%20%20%20%20popup_a1374045c2654e68b4d2caee89a6f997.setContent%28html_a4d729a7daa44c849244f1fc73b57f75%29%3B%0A%20%20%20%20%20%20%20%20%0A%0A%20%20%20%20%20%20%20%20marker_b99b4beddabc421c87bebebf7382d7fb.bindPopup%28popup_a1374045c2654e68b4d2caee89a6f997%29%0A%20%20%20%20%20%20%20%20%3B%0A%0A%20%20%20%20%20%20%20%20%0A%20%20%20%20%0A%20%20%20%20%0A%20%20%20%20%20%20%20%20%20%20%20%20var%20marker_e0d882a423f04270b0db1d180a3ee5f4%20%3D%20L.marker%28%0A%20%20%20%20%20%20%20%20%20%20%20%20%20%20%20%20%5B18.48%2C%2030.42%5D%2C%0A%20%20%20%20%20%20%20%20%20%20%20%20%20%20%20%20%7B%7D%0A%20%20%20%20%20%20%20%20%20%20%20%20%29.addTo%28map_834c4b1b29614a89a1af5adaf340706e%29%3B%0A%20%20%20%20%20%20%20%20%0A%20%20%20%20%0A%20%20%20%20%20%20%20%20var%20popup_4920677806fd43deaf2450709dc7a79b%20%3D%20L.popup%28%7B%22maxWidth%22%3A%20%22100%25%22%7D%29%3B%0A%0A%20%20%20%20%20%20%20%20%0A%20%20%20%20%20%20%20%20%20%20%20%20var%20html_3cf9b213c7d34b69af9301892844d637%20%3D%20%24%28%60%3Cdiv%20id%3D%22html_3cf9b213c7d34b69af9301892844d637%22%20style%3D%22width%3A%20100.0%25%3B%20height%3A%20100.0%25%3B%22%3E23.27850354609929%3C/div%3E%60%29%5B0%5D%3B%0A%20%20%20%20%20%20%20%20%20%20%20%20popup_4920677806fd43deaf2450709dc7a79b.setContent%28html_3cf9b213c7d34b69af9301892844d637%29%3B%0A%20%20%20%20%20%20%20%20%0A%0A%20%20%20%20%20%20%20%20marker_e0d882a423f04270b0db1d180a3ee5f4.bindPopup%28popup_4920677806fd43deaf2450709dc7a79b%29%0A%20%20%20%20%20%20%20%20%3B%0A%0A%20%20%20%20%20%20%20%20%0A%20%20%20%20%0A%20%20%20%20%0A%20%20%20%20%20%20%20%20%20%20%20%20var%20marker_7ab0aa99e74048358ac8760c91a620bd%20%3D%20L.marker%28%0A%20%20%20%20%20%20%20%20%20%20%20%20%20%20%20%20%5B20.09%2C%2029.0%5D%2C%0A%20%20%20%20%20%20%20%20%20%20%20%20%20%20%20%20%7B%7D%0A%20%20%20%20%20%20%20%20%20%20%20%20%29.addTo%28map_834c4b1b29614a89a1af5adaf340706e%29%3B%0A%20%20%20%20%20%20%20%20%0A%20%20%20%20%0A%20%20%20%20%20%20%20%20var%20popup_c02376b2ed2e4f869c75ba964a53d577%20%3D%20L.popup%28%7B%22maxWidth%22%3A%20%22100%25%22%7D%29%3B%0A%0A%20%20%20%20%20%20%20%20%0A%20%20%20%20%20%20%20%20%20%20%20%20var%20html_e65077f71d3147f7a217920c2d53fd69%20%3D%20%24%28%60%3Cdiv%20id%3D%22html_e65077f71d3147f7a217920c2d53fd69%22%20style%3D%22width%3A%20100.0%25%3B%20height%3A%20100.0%25%3B%22%3E22.89175%3C/div%3E%60%29%5B0%5D%3B%0A%20%20%20%20%20%20%20%20%20%20%20%20popup_c02376b2ed2e4f869c75ba964a53d577.setContent%28html_e65077f71d3147f7a217920c2d53fd69%29%3B%0A%20%20%20%20%20%20%20%20%0A%0A%20%20%20%20%20%20%20%20marker_7ab0aa99e74048358ac8760c91a620bd.bindPopup%28popup_c02376b2ed2e4f869c75ba964a53d577%29%0A%20%20%20%20%20%20%20%20%3B%0A%0A%20%20%20%20%20%20%20%20%0A%20%20%20%20%0A%20%20%20%20%0A%20%20%20%20%20%20%20%20%20%20%20%20var%20marker_976134778d884bc2965cedcdc670b22a%20%3D%20L.marker%28%0A%20%20%20%20%20%20%20%20%20%20%20%20%20%20%20%20%5B18.48%2C%2030.42%5D%2C%0A%20%20%20%20%20%20%20%20%20%20%20%20%20%20%20%20%7B%7D%0A%20%20%20%20%20%20%20%20%20%20%20%20%29.addTo%28map_834c4b1b29614a89a1af5adaf340706e%29%3B%0A%20%20%20%20%20%20%20%20%0A%20%20%20%20%0A%20%20%20%20%20%20%20%20var%20popup_4d30dc266a1b48e6a9d643504dd56f3c%20%3D%20L.popup%28%7B%22maxWidth%22%3A%20%22100%25%22%7D%29%3B%0A%0A%20%20%20%20%20%20%20%20%0A%20%20%20%20%20%20%20%20%20%20%20%20var%20html_88bc090767464a3b8f8e56f577c1ca18%20%3D%20%24%28%60%3Cdiv%20id%3D%22html_88bc090767464a3b8f8e56f577c1ca18%22%20style%3D%22width%3A%20100.0%25%3B%20height%3A%20100.0%25%3B%22%3E23.27850354609929%3C/div%3E%60%29%5B0%5D%3B%0A%20%20%20%20%20%20%20%20%20%20%20%20popup_4d30dc266a1b48e6a9d643504dd56f3c.setContent%28html_88bc090767464a3b8f8e56f577c1ca18%29%3B%0A%20%20%20%20%20%20%20%20%0A%0A%20%20%20%20%20%20%20%20marker_976134778d884bc2965cedcdc670b22a.bindPopup%28popup_4d30dc266a1b48e6a9d643504dd56f3c%29%0A%20%20%20%20%20%20%20%20%3B%0A%0A%20%20%20%20%20%20%20%20%0A%20%20%20%20%0A%20%20%20%20%0A%20%20%20%20%20%20%20%20%20%20%20%20var%20marker_5635b44b604c48b2bcf318649b9e5be8%20%3D%20L.marker%28%0A%20%20%20%20%20%20%20%20%20%20%20%20%20%20%20%20%5B18.48%2C%2030.42%5D%2C%0A%20%20%20%20%20%20%20%20%20%20%20%20%20%20%20%20%7B%7D%0A%20%20%20%20%20%20%20%20%20%20%20%20%29.addTo%28map_834c4b1b29614a89a1af5adaf340706e%29%3B%0A%20%20%20%20%20%20%20%20%0A%20%20%20%20%0A%20%20%20%20%20%20%20%20var%20popup_0c7f727ac4c0470e9b30ddca11db97e5%20%3D%20L.popup%28%7B%22maxWidth%22%3A%20%22100%25%22%7D%29%3B%0A%0A%20%20%20%20%20%20%20%20%0A%20%20%20%20%20%20%20%20%20%20%20%20var%20html_80b98876234747f4a40d3328a887bc27%20%3D%20%24%28%60%3Cdiv%20id%3D%22html_80b98876234747f4a40d3328a887bc27%22%20style%3D%22width%3A%20100.0%25%3B%20height%3A%20100.0%25%3B%22%3E23.27850354609929%3C/div%3E%60%29%5B0%5D%3B%0A%20%20%20%20%20%20%20%20%20%20%20%20popup_0c7f727ac4c0470e9b30ddca11db97e5.setContent%28html_80b98876234747f4a40d3328a887bc27%29%3B%0A%20%20%20%20%20%20%20%20%0A%0A%20%20%20%20%20%20%20%20marker_5635b44b604c48b2bcf318649b9e5be8.bindPopup%28popup_0c7f727ac4c0470e9b30ddca11db97e5%29%0A%20%20%20%20%20%20%20%20%3B%0A%0A%20%20%20%20%20%20%20%20%0A%20%20%20%20%0A%20%20%20%20%0A%20%20%20%20%20%20%20%20%20%20%20%20var%20marker_f7d584336f3f4b71aaa5a1a985b2e5be%20%3D%20L.marker%28%0A%20%20%20%20%20%20%20%20%20%20%20%20%20%20%20%20%5B18.48%2C%2030.42%5D%2C%0A%20%20%20%20%20%20%20%20%20%20%20%20%20%20%20%20%7B%7D%0A%20%20%20%20%20%20%20%20%20%20%20%20%29.addTo%28map_834c4b1b29614a89a1af5adaf340706e%29%3B%0A%20%20%20%20%20%20%20%20%0A%20%20%20%20%0A%20%20%20%20%20%20%20%20var%20popup_dcf545c7977e41619221fbe48d8a4961%20%3D%20L.popup%28%7B%22maxWidth%22%3A%20%22100%25%22%7D%29%3B%0A%0A%20%20%20%20%20%20%20%20%0A%20%20%20%20%20%20%20%20%20%20%20%20var%20html_3bbfb6e5050e4309aeae076067493eb7%20%3D%20%24%28%60%3Cdiv%20id%3D%22html_3bbfb6e5050e4309aeae076067493eb7%22%20style%3D%22width%3A%20100.0%25%3B%20height%3A%20100.0%25%3B%22%3E23.27850354609929%3C/div%3E%60%29%5B0%5D%3B%0A%20%20%20%20%20%20%20%20%20%20%20%20popup_dcf545c7977e41619221fbe48d8a4961.setContent%28html_3bbfb6e5050e4309aeae076067493eb7%29%3B%0A%20%20%20%20%20%20%20%20%0A%0A%20%20%20%20%20%20%20%20marker_f7d584336f3f4b71aaa5a1a985b2e5be.bindPopup%28popup_dcf545c7977e41619221fbe48d8a4961%29%0A%20%20%20%20%20%20%20%20%3B%0A%0A%20%20%20%20%20%20%20%20%0A%20%20%20%20%0A%20%20%20%20%0A%20%20%20%20%20%20%20%20%20%20%20%20var%20marker_6acd211ffd0c438cb6061248514e2437%20%3D%20L.marker%28%0A%20%20%20%20%20%20%20%20%20%20%20%20%20%20%20%20%5B18.48%2C%2032.11%5D%2C%0A%20%20%20%20%20%20%20%20%20%20%20%20%20%20%20%20%7B%7D%0A%20%20%20%20%20%20%20%20%20%20%20%20%29.addTo%28map_834c4b1b29614a89a1af5adaf340706e%29%3B%0A%20%20%20%20%20%20%20%20%0A%20%20%20%20%0A%20%20%20%20%20%20%20%20var%20popup_95c3ff70a5fa4ac49f67940ae95fabe6%20%3D%20L.popup%28%7B%22maxWidth%22%3A%20%22100%25%22%7D%29%3B%0A%0A%20%20%20%20%20%20%20%20%0A%20%20%20%20%20%20%20%20%20%20%20%20var%20html_b1143a8370ec40e6b88a294407ca2bb6%20%3D%20%24%28%60%3Cdiv%20id%3D%22html_b1143a8370ec40e6b88a294407ca2bb6%22%20style%3D%22width%3A%20100.0%25%3B%20height%3A%20100.0%25%3B%22%3E21.49503546099291%3C/div%3E%60%29%5B0%5D%3B%0A%20%20%20%20%20%20%20%20%20%20%20%20popup_95c3ff70a5fa4ac49f67940ae95fabe6.setContent%28html_b1143a8370ec40e6b88a294407ca2bb6%29%3B%0A%20%20%20%20%20%20%20%20%0A%0A%20%20%20%20%20%20%20%20marker_6acd211ffd0c438cb6061248514e2437.bindPopup%28popup_95c3ff70a5fa4ac49f67940ae95fabe6%29%0A%20%20%20%20%20%20%20%20%3B%0A%0A%20%20%20%20%20%20%20%20%0A%20%20%20%20%0A%20%20%20%20%0A%20%20%20%20%20%20%20%20%20%20%20%20var%20marker_abb3d89905d243ebbad391a8dc908220%20%3D%20L.marker%28%0A%20%20%20%20%20%20%20%20%20%20%20%20%20%20%20%20%5B20.09%2C%2029.0%5D%2C%0A%20%20%20%20%20%20%20%20%20%20%20%20%20%20%20%20%7B%7D%0A%20%20%20%20%20%20%20%20%20%20%20%20%29.addTo%28map_834c4b1b29614a89a1af5adaf340706e%29%3B%0A%20%20%20%20%20%20%20%20%0A%20%20%20%20%0A%20%20%20%20%20%20%20%20var%20popup_cd6de522823d44c8bd395c05956a0da6%20%3D%20L.popup%28%7B%22maxWidth%22%3A%20%22100%25%22%7D%29%3B%0A%0A%20%20%20%20%20%20%20%20%0A%20%20%20%20%20%20%20%20%20%20%20%20var%20html_5b0add90326b4a38965ca4774e09be8c%20%3D%20%24%28%60%3Cdiv%20id%3D%22html_5b0add90326b4a38965ca4774e09be8c%22%20style%3D%22width%3A%20100.0%25%3B%20height%3A%20100.0%25%3B%22%3E22.393032258064515%3C/div%3E%60%29%5B0%5D%3B%0A%20%20%20%20%20%20%20%20%20%20%20%20popup_cd6de522823d44c8bd395c05956a0da6.setContent%28html_5b0add90326b4a38965ca4774e09be8c%29%3B%0A%20%20%20%20%20%20%20%20%0A%0A%20%20%20%20%20%20%20%20marker_abb3d89905d243ebbad391a8dc908220.bindPopup%28popup_cd6de522823d44c8bd395c05956a0da6%29%0A%20%20%20%20%20%20%20%20%3B%0A%0A%20%20%20%20%20%20%20%20%0A%20%20%20%20%0A%20%20%20%20%0A%20%20%20%20%20%20%20%20%20%20%20%20var%20marker_f4fce606161c48be993212d3ef7c9748%20%3D%20L.marker%28%0A%20%20%20%20%20%20%20%20%20%20%20%20%20%20%20%20%5B18.48%2C%2030.42%5D%2C%0A%20%20%20%20%20%20%20%20%20%20%20%20%20%20%20%20%7B%7D%0A%20%20%20%20%20%20%20%20%20%20%20%20%29.addTo%28map_834c4b1b29614a89a1af5adaf340706e%29%3B%0A%20%20%20%20%20%20%20%20%0A%20%20%20%20%0A%20%20%20%20%20%20%20%20var%20popup_24810ceac718417d804bf45fd62c8d17%20%3D%20L.popup%28%7B%22maxWidth%22%3A%20%22100%25%22%7D%29%3B%0A%0A%20%20%20%20%20%20%20%20%0A%20%20%20%20%20%20%20%20%20%20%20%20var%20html_5d9beb4b169e478fa99c39861f34cbe1%20%3D%20%24%28%60%3Cdiv%20id%3D%22html_5d9beb4b169e478fa99c39861f34cbe1%22%20style%3D%22width%3A%20100.0%25%3B%20height%3A%20100.0%25%3B%22%3E22.192535714285714%3C/div%3E%60%29%5B0%5D%3B%0A%20%20%20%20%20%20%20%20%20%20%20%20popup_24810ceac718417d804bf45fd62c8d17.setContent%28html_5d9beb4b169e478fa99c39861f34cbe1%29%3B%0A%20%20%20%20%20%20%20%20%0A%0A%20%20%20%20%20%20%20%20marker_f4fce606161c48be993212d3ef7c9748.bindPopup%28popup_24810ceac718417d804bf45fd62c8d17%29%0A%20%20%20%20%20%20%20%20%3B%0A%0A%20%20%20%20%20%20%20%20%0A%20%20%20%20%0A%20%20%20%20%0A%20%20%20%20%20%20%20%20%20%20%20%20var%20marker_cd3289208f214a0c8dfaaaabcc3d95f0%20%3D%20L.marker%28%0A%20%20%20%20%20%20%20%20%20%20%20%20%20%20%20%20%5B20.09%2C%2029.0%5D%2C%0A%20%20%20%20%20%20%20%20%20%20%20%20%20%20%20%20%7B%7D%0A%20%20%20%20%20%20%20%20%20%20%20%20%29.addTo%28map_834c4b1b29614a89a1af5adaf340706e%29%3B%0A%20%20%20%20%20%20%20%20%0A%20%20%20%20%0A%20%20%20%20%20%20%20%20var%20popup_0be58911c87943a5a5a0855700c936bf%20%3D%20L.popup%28%7B%22maxWidth%22%3A%20%22100%25%22%7D%29%3B%0A%0A%20%20%20%20%20%20%20%20%0A%20%20%20%20%20%20%20%20%20%20%20%20var%20html_b20cf87cfea3468caa9aafa82732dc83%20%3D%20%24%28%60%3Cdiv%20id%3D%22html_b20cf87cfea3468caa9aafa82732dc83%22%20style%3D%22width%3A%20100.0%25%3B%20height%3A%20100.0%25%3B%22%3E22.393032258064515%3C/div%3E%60%29%5B0%5D%3B%0A%20%20%20%20%20%20%20%20%20%20%20%20popup_0be58911c87943a5a5a0855700c936bf.setContent%28html_b20cf87cfea3468caa9aafa82732dc83%29%3B%0A%20%20%20%20%20%20%20%20%0A%0A%20%20%20%20%20%20%20%20marker_cd3289208f214a0c8dfaaaabcc3d95f0.bindPopup%28popup_0be58911c87943a5a5a0855700c936bf%29%0A%20%20%20%20%20%20%20%20%3B%0A%0A%20%20%20%20%20%20%20%20%0A%20%20%20%20%0A%20%20%20%20%0A%20%20%20%20%20%20%20%20%20%20%20%20var%20marker_67759a7658304d05ada749f142843579%20%3D%20L.marker%28%0A%20%20%20%20%20%20%20%20%20%20%20%20%20%20%20%20%5B18.48%2C%2030.42%5D%2C%0A%20%20%20%20%20%20%20%20%20%20%20%20%20%20%20%20%7B%7D%0A%20%20%20%20%20%20%20%20%20%20%20%20%29.addTo%28map_834c4b1b29614a89a1af5adaf340706e%29%3B%0A%20%20%20%20%20%20%20%20%0A%20%20%20%20%0A%20%20%20%20%20%20%20%20var%20popup_961c95a601734255b525d6b509aeaaa5%20%3D%20L.popup%28%7B%22maxWidth%22%3A%20%22100%25%22%7D%29%3B%0A%0A%20%20%20%20%20%20%20%20%0A%20%20%20%20%20%20%20%20%20%20%20%20var%20html_c8405d12fe964b2aacec44b259cd885b%20%3D%20%24%28%60%3Cdiv%20id%3D%22html_c8405d12fe964b2aacec44b259cd885b%22%20style%3D%22width%3A%20100.0%25%3B%20height%3A%20100.0%25%3B%22%3E22.192535714285714%3C/div%3E%60%29%5B0%5D%3B%0A%20%20%20%20%20%20%20%20%20%20%20%20popup_961c95a601734255b525d6b509aeaaa5.setContent%28html_c8405d12fe964b2aacec44b259cd885b%29%3B%0A%20%20%20%20%20%20%20%20%0A%0A%20%20%20%20%20%20%20%20marker_67759a7658304d05ada749f142843579.bindPopup%28popup_961c95a601734255b525d6b509aeaaa5%29%0A%20%20%20%20%20%20%20%20%3B%0A%0A%20%20%20%20%20%20%20%20%0A%20%20%20%20%0A%20%20%20%20%0A%20%20%20%20%20%20%20%20%20%20%20%20var%20marker_7aa2178c98c44ad491e70ade1353f272%20%3D%20L.marker%28%0A%20%20%20%20%20%20%20%20%20%20%20%20%20%20%20%20%5B18.48%2C%2030.42%5D%2C%0A%20%20%20%20%20%20%20%20%20%20%20%20%20%20%20%20%7B%7D%0A%20%20%20%20%20%20%20%20%20%20%20%20%29.addTo%28map_834c4b1b29614a89a1af5adaf340706e%29%3B%0A%20%20%20%20%20%20%20%20%0A%20%20%20%20%0A%20%20%20%20%20%20%20%20var%20popup_6d8eae7e6a854c92ac696e4d1387e39d%20%3D%20L.popup%28%7B%22maxWidth%22%3A%20%22100%25%22%7D%29%3B%0A%0A%20%20%20%20%20%20%20%20%0A%20%20%20%20%20%20%20%20%20%20%20%20var%20html_91c8bcb7f6ae485db4d097fce5f1a009%20%3D%20%24%28%60%3Cdiv%20id%3D%22html_91c8bcb7f6ae485db4d097fce5f1a009%22%20style%3D%22width%3A%20100.0%25%3B%20height%3A%20100.0%25%3B%22%3E22.192535714285714%3C/div%3E%60%29%5B0%5D%3B%0A%20%20%20%20%20%20%20%20%20%20%20%20popup_6d8eae7e6a854c92ac696e4d1387e39d.setContent%28html_91c8bcb7f6ae485db4d097fce5f1a009%29%3B%0A%20%20%20%20%20%20%20%20%0A%0A%20%20%20%20%20%20%20%20marker_7aa2178c98c44ad491e70ade1353f272.bindPopup%28popup_6d8eae7e6a854c92ac696e4d1387e39d%29%0A%20%20%20%20%20%20%20%20%3B%0A%0A%20%20%20%20%20%20%20%20%0A%20%20%20%20%0A%20%20%20%20%0A%20%20%20%20%20%20%20%20%20%20%20%20var%20marker_8f861e30f1e4421a8eb6eb4c40348268%20%3D%20L.marker%28%0A%20%20%20%20%20%20%20%20%20%20%20%20%20%20%20%20%5B18.48%2C%2030.42%5D%2C%0A%20%20%20%20%20%20%20%20%20%20%20%20%20%20%20%20%7B%7D%0A%20%20%20%20%20%20%20%20%20%20%20%20%29.addTo%28map_834c4b1b29614a89a1af5adaf340706e%29%3B%0A%20%20%20%20%20%20%20%20%0A%20%20%20%20%0A%20%20%20%20%20%20%20%20var%20popup_507c1458d0554a998b8efdd879328525%20%3D%20L.popup%28%7B%22maxWidth%22%3A%20%22100%25%22%7D%29%3B%0A%0A%20%20%20%20%20%20%20%20%0A%20%20%20%20%20%20%20%20%20%20%20%20var%20html_b388269ba3ea4bcaa0adadc4d4bbe239%20%3D%20%24%28%60%3Cdiv%20id%3D%22html_b388269ba3ea4bcaa0adadc4d4bbe239%22%20style%3D%22width%3A%20100.0%25%3B%20height%3A%20100.0%25%3B%22%3E22.192535714285714%3C/div%3E%60%29%5B0%5D%3B%0A%20%20%20%20%20%20%20%20%20%20%20%20popup_507c1458d0554a998b8efdd879328525.setContent%28html_b388269ba3ea4bcaa0adadc4d4bbe239%29%3B%0A%20%20%20%20%20%20%20%20%0A%0A%20%20%20%20%20%20%20%20marker_8f861e30f1e4421a8eb6eb4c40348268.bindPopup%28popup_507c1458d0554a998b8efdd879328525%29%0A%20%20%20%20%20%20%20%20%3B%0A%0A%20%20%20%20%20%20%20%20%0A%20%20%20%20%0A%20%20%20%20%0A%20%20%20%20%20%20%20%20%20%20%20%20var%20marker_b5c844a5251d4dc18ad68e7789374572%20%3D%20L.marker%28%0A%20%20%20%20%20%20%20%20%20%20%20%20%20%20%20%20%5B18.48%2C%2032.11%5D%2C%0A%20%20%20%20%20%20%20%20%20%20%20%20%20%20%20%20%7B%7D%0A%20%20%20%20%20%20%20%20%20%20%20%20%29.addTo%28map_834c4b1b29614a89a1af5adaf340706e%29%3B%0A%20%20%20%20%20%20%20%20%0A%20%20%20%20%0A%20%20%20%20%20%20%20%20var%20popup_0ec5462b621a4d04a97d719cadf506cf%20%3D%20L.popup%28%7B%22maxWidth%22%3A%20%22100%25%22%7D%29%3B%0A%0A%20%20%20%20%20%20%20%20%0A%20%20%20%20%20%20%20%20%20%20%20%20var%20html_bdf95b85c917416ea776868d95e8bf5c%20%3D%20%24%28%60%3Cdiv%20id%3D%22html_bdf95b85c917416ea776868d95e8bf5c%22%20style%3D%22width%3A%20100.0%25%3B%20height%3A%20100.0%25%3B%22%3E20.932707142857144%3C/div%3E%60%29%5B0%5D%3B%0A%20%20%20%20%20%20%20%20%20%20%20%20popup_0ec5462b621a4d04a97d719cadf506cf.setContent%28html_bdf95b85c917416ea776868d95e8bf5c%29%3B%0A%20%20%20%20%20%20%20%20%0A%0A%20%20%20%20%20%20%20%20marker_b5c844a5251d4dc18ad68e7789374572.bindPopup%28popup_0ec5462b621a4d04a97d719cadf506cf%29%0A%20%20%20%20%20%20%20%20%3B%0A%0A%20%20%20%20%20%20%20%20%0A%20%20%20%20%0A%3C/script%3E onload=\"this.contentDocument.open();this.contentDocument.write(    decodeURIComponent(this.getAttribute('data-html')));this.contentDocument.close();\" allowfullscreen webkitallowfullscreen mozallowfullscreen></iframe></div></div>"
      ],
      "text/plain": [
       "<folium.folium.Map at 0x27aa0a3f670>"
      ]
     },
     "execution_count": 74,
     "metadata": {},
     "output_type": "execute_result"
    }
   ],
   "source": [
    "# Add points to the map\n",
    "for id,row in data2.iterrows():\n",
    "    folium.Marker(location=[row['Latitude'],row['Longitude']], popup=row['Mean_temp']).add_to(m)\n",
    "\n",
    "# Display the map\n",
    "m"
   ]
  },
  {
   "cell_type": "code",
   "execution_count": null,
   "metadata": {},
   "outputs": [],
   "source": []
  },
  {
   "cell_type": "code",
   "execution_count": null,
   "metadata": {},
   "outputs": [],
   "source": []
  }
 ],
 "metadata": {
  "kernelspec": {
   "display_name": "Python 3 (ipykernel)",
   "language": "python",
   "name": "python3"
  },
  "language_info": {
   "codemirror_mode": {
    "name": "ipython",
    "version": 3
   },
   "file_extension": ".py",
   "mimetype": "text/x-python",
   "name": "python",
   "nbconvert_exporter": "python",
   "pygments_lexer": "ipython3",
   "version": "3.9.7"
  }
 },
 "nbformat": 4,
 "nbformat_minor": 2
}
